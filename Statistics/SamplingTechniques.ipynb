{
  "nbformat": 4,
  "nbformat_minor": 0,
  "metadata": {
    "colab": {
      "provenance": []
    },
    "kernelspec": {
      "name": "python3",
      "display_name": "Python 3"
    },
    "language_info": {
      "name": "python"
    }
  },
  "cells": [
    {
      "cell_type": "markdown",
      "source": [
        "# Sampling Techniques Assignment"
      ],
      "metadata": {
        "id": "c4Tst0Fy7KkV"
      }
    },
    {
      "cell_type": "markdown",
      "source": [
        "## 1. Create a Simple Random Sampling Code for Flight Details\n",
        "\n",
        "\n",
        "---\n",
        "\n",
        "\n",
        "   * Customer Name\n",
        "   * Seat Number(s)\n",
        "   * Number of Family Member(s)\n"
      ],
      "metadata": {
        "id": "bII-86Rp7i-3"
      }
    },
    {
      "cell_type": "code",
      "source": [
        "#\n",
        "# Import Required Libraries\n",
        "#\n",
        "import pandas as pd"
      ],
      "metadata": {
        "id": "I8G18QWaGkUN"
      },
      "execution_count": null,
      "outputs": []
    },
    {
      "cell_type": "code",
      "source": [
        "#\n",
        "# Create a dictionary of relevant details\n",
        "#\n",
        "dictFlightDetails = {\n",
        "                      'customerName':[\n",
        "                                       'John Johnson',\n",
        "                                       'Joseph Hernandez',\n",
        "                                       'Jessica Rodriguez',\n",
        "                                       'Patricia Hernandez',\n",
        "                                       'John Hernandez',\n",
        "                                       'Karen Smith',\n",
        "                                       'Linda Smith',\n",
        "                                       'Sarah Jackson',\n",
        "                                       'Mary Johnson',\n",
        "                                       'Jessica Williams',\n",
        "                                       'Mary Williams',\n",
        "                                       'Charles Johnson',\n",
        "                                       'James Anderson',\n",
        "                                       'Robert Taylor',\n",
        "                                       'Mary Rodriguez',\n",
        "                                       'Jennifer Anderson',\n",
        "                                       'Barbara Hernandez',\n",
        "                                       'Susan Lopez',\n",
        "                                       'Joseph Brown',\n",
        "                                       'Patricia Lopez'\n",
        "                                     ],\n",
        "                      'seatNumbers':[\n",
        "                                      ['4E', '18F', '4C', '9D', '1A'],\n",
        "                                      ['15B', '20D', '15C', '11A', '3C'],\n",
        "                                      ['20C', '9B'],\n",
        "                                      ['11D', '17D'],\n",
        "                                      ['5B'],\n",
        "                                      ['16C', '7A', '17B', '10E', '7C'],\n",
        "                                      ['10B'],\n",
        "                                      ['2E', '4B', '16F', '1F'],\n",
        "                                      ['20F', '6D'],\n",
        "                                      ['6C', '5F'],\n",
        "                                      ['13B', '2F', '3D', '13E', '15F'],\n",
        "                                      ['3B', '9A', '1D', '18A'],\n",
        "                                      ['3E', '16A'],\n",
        "                                      ['20B', '7B', '13D', '15D'],\n",
        "                                      ['19F'],\n",
        "                                      ['9C', '11E', '7E', '14A'],\n",
        "                                      ['1C', '6A', '13C', '10D'],\n",
        "                                      ['3F', '16E', '5C', '18C', '14E'],\n",
        "                                      ['18B'],\n",
        "                                      ['2D', '4F']\n",
        "                                    ],\n",
        "                      'numFamilyMembers':[\n",
        "                                           5,\n",
        "                                           5,\n",
        "                                           2,\n",
        "                                           2,\n",
        "                                           1,\n",
        "                                           5,\n",
        "                                           1,\n",
        "                                           4,\n",
        "                                           2,\n",
        "                                           2,\n",
        "                                           5,\n",
        "                                           4,\n",
        "                                           2,\n",
        "                                           4,\n",
        "                                           1,\n",
        "                                           4,\n",
        "                                           4,\n",
        "                                           5,\n",
        "                                           1,\n",
        "                                           2\n",
        "                                         ]\n",
        "                    }\n",
        "\n",
        "print(dictFlightDetails)"
      ],
      "metadata": {
        "id": "-R3Wt_wyEZDH"
      },
      "execution_count": null,
      "outputs": []
    },
    {
      "cell_type": "code",
      "source": [
        "#\n",
        "# Create a DataFrame using the Dictionary\n",
        "#\n",
        "dfFlightDetails = pd.DataFrame(dictFlightDetails)\n",
        "print(dfFlightDetails)"
      ],
      "metadata": {
        "id": "-ks8jh41GvaF"
      },
      "execution_count": null,
      "outputs": []
    },
    {
      "cell_type": "code",
      "source": [
        "#\n",
        "# Get Samples\n",
        "#\n",
        "dfFlightDetails.sample(5)"
      ],
      "metadata": {
        "id": "Wo6mX7NoHPRF"
      },
      "execution_count": null,
      "outputs": []
    },
    {
      "cell_type": "markdown",
      "source": [
        "## 2. Create a Stratified Sampling about Sports Person\n",
        "\n",
        "\n",
        "---\n",
        "\n",
        "\n",
        "   * Person Name\n",
        "   * Category\n",
        "   * Cash Award"
      ],
      "metadata": {
        "id": "Gg97GBIKnRG4"
      }
    },
    {
      "cell_type": "code",
      "source": [
        "#\n",
        "# Create a dictionary of relevant details\n",
        "# Use the same names as above\n",
        "#\n",
        "dictPlayerDetails = {\n",
        "                      'playerName':[\n",
        "                                     'John Johnson',\n",
        "                                     'Joseph Hernandez',\n",
        "                                     'Jessica Rodriguez',\n",
        "                                     'Patricia Hernandez',\n",
        "                                     'John Hernandez',\n",
        "                                     'Karen Smith',\n",
        "                                     'Linda Smith',\n",
        "                                     'Sarah Jackson',\n",
        "                                     'Mary Johnson',\n",
        "                                     'Jessica Williams',\n",
        "                                     'Mary Williams',\n",
        "                                     'Charles Johnson',\n",
        "                                     'James Anderson',\n",
        "                                     'Robert Taylor',\n",
        "                                     'Mary Rodriguez',\n",
        "                                     'Jennifer Anderson',\n",
        "                                     'Barbara Hernandez',\n",
        "                                     'Susan Lopez',\n",
        "                                     'Joseph Brown',\n",
        "                                     'Patricia Lopez'\n",
        "                                   ],\n",
        "                      'Category': [\n",
        "                                    'Silver',\n",
        "                                    'Silver',\n",
        "                                    'Gold',\n",
        "                                    'Bronze',\n",
        "                                    'Silver',\n",
        "                                    'Gold',\n",
        "                                    'Bronze',\n",
        "                                    'Gold',\n",
        "                                    'Bronze',\n",
        "                                    'Silver',\n",
        "                                    'Silver',\n",
        "                                    'Bronze',\n",
        "                                    'Silver',\n",
        "                                    'Silver',\n",
        "                                    'Bronze',\n",
        "                                    'Silver',\n",
        "                                    'Silver',\n",
        "                                    'Silver',\n",
        "                                    'Silver',\n",
        "                                    'Silver'\n",
        "                                  ],\n",
        "                      'cashAward':[\n",
        "                                    550000,\n",
        "                                    999000,\n",
        "                                    1277000,\n",
        "                                    386000,\n",
        "                                    560000,\n",
        "                                    1373000,\n",
        "                                    453000,\n",
        "                                    1324000,\n",
        "                                    395000,\n",
        "                                    995000,\n",
        "                                    513000,\n",
        "                                    252000,\n",
        "                                    911000,\n",
        "                                    568000,\n",
        "                                    345000,\n",
        "                                    782000,\n",
        "                                    562000,\n",
        "                                    778000,\n",
        "                                    740000,\n",
        "                                    812000\n",
        "                                  ]\n",
        "                    }\n",
        "\n",
        "print(dictPlayerDetails)"
      ],
      "metadata": {
        "id": "GMyxWqB50Dw2"
      },
      "execution_count": null,
      "outputs": []
    },
    {
      "cell_type": "code",
      "source": [
        "#\n",
        "# Create a DataFrame using the Dictionary\n",
        "#\n",
        "dfPlayerDetails = pd.DataFrame(dictPlayerDetails)\n",
        "print(dfPlayerDetails)"
      ],
      "metadata": {
        "id": "qCti64TC9e56"
      },
      "execution_count": null,
      "outputs": []
    },
    {
      "cell_type": "code",
      "source": [
        "#\n",
        "# Get Samples\n",
        "#\n",
        "# dfPlayerDetails.groupby('Category').apply(lambda x:x.sample(4))\n",
        "dfPlayerDetails.groupby('Category').apply(lambda x: x.sample(min(len(x), 5)))"
      ],
      "metadata": {
        "id": "OTtH1aa29v79"
      },
      "execution_count": null,
      "outputs": []
    }
  ]
}