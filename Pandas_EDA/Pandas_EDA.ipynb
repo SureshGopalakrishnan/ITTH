{
  "nbformat": 4,
  "nbformat_minor": 0,
  "metadata": {
    "colab": {
      "provenance": [],
      "toc_visible": true
    },
    "kernelspec": {
      "name": "python3",
      "display_name": "Python 3"
    },
    "language_info": {
      "name": "python"
    }
  },
  "cells": [
    {
      "cell_type": "markdown",
      "source": [
        "# **Exploratory Data Analysis of Hotel Booking Data**\n",
        "\n",
        "This project performs a comprehensive exploratory data analysis (EDA) on a real-world hotel booking dataset. The goal is to uncover key insights into booking trends and customer behavior, with a specific focus on identifying the factors that influence booking cancellations.\n",
        "\n",
        "The initial steps in this analysis will include:\n",
        "- **Data Inspection**  \n",
        "Checking for missing values, data types, and a statistical summary.\n",
        "- **Data Cleaning**  \n",
        "Handling missing data and preparing columns for analysis.\n",
        "- **Feature Engineering**  \n",
        "Creating new, useful variables from the existing data."
      ],
      "metadata": {
        "id": "ZgNe9ncadHWu"
      }
    },
    {
      "cell_type": "markdown",
      "source": [
        "First, let's get a handle on what each of these columns means. I've used **Google Search** to find detailed descriptions of the variables. This is a crucial first step in any data analysis project, as it ensures you understand the context of your data before you start working with it.\n",
        "\n",
        "\n",
        "---\n",
        "\n",
        "\n",
        "\n",
        "| Column Name | Description | Data Type |\n",
        "| :--- | :--- | :--- |\n",
        "| `hotel` | Type of hotel: \"Resort Hotel\" or \"City Hotel\" | Categorical |\n",
        "| `is_canceled` | Whether the booking was canceled (1) or not (0) | Binary |\n",
        "| `lead_time` | Number of days between booking and arrival | Numerical (Integer) |\n",
        "| `arrival_date_year` | Year of arrival date | Numerical (Integer) |\n",
        "| `arrival_date_month` | Month of arrival date | Categorical |\n",
        "| `arrival_date_week_number` | Week number of arrival date | Numerical (Integer) |\n",
        "| `arrival_date_day_of_month` | Day of the month of arrival date | Numerical (Integer) |\n",
        "| `stays_in_weekend_nights` | Number of weekend nights (Saturday/Sunday) | Numerical (Integer) |\n",
        "| `stays_in_week_nights` | Number of weeknights (Monday-Friday) | Numerical (Integer) |\n",
        "| `adults` | Number of adults | Numerical (Integer) |\n",
        "| `children` | Number of children | Numerical (Integer) |\n",
        "| `babies` | Number of babies | Numerical (Integer) |\n",
        "| `meal` | Type of meal booked | Categorical |\n",
        "| `country` | Country of origin of the guest (as a code) | Categorical |\n",
        "| `market_segment` | Market segment designation, like \"Online TA\" or \"Groups\" | Categorical |\n",
        "| `distribution_channel` | Booking distribution channel, like \"Direct\" or \"Corporate\" | Categorical |\n",
        "| `is_repeated_guest` | Whether the guest is a repeated guest (1) or not (0) | Binary |\n",
        "| `previous_cancellations` | Number of previous bookings canceled by the customer | Numerical (Integer) |\n",
        "| `previous_bookings_not_canceled` | Number of previous bookings not canceled | Numerical (Integer) |\n",
        "| `reserved_room_type` | Code of the room type reserved | Categorical |\n",
        "| `assigned_room_type` | Code of the room type assigned at check-in | Categorical |\n",
        "| `booking_changes` | Number of changes made to the booking | Numerical (Integer) |\n",
        "| `deposit_type` | Type of deposit made: \"No Deposit,\" \"Non Refund,\" or \"Refundable\" | Categorical |\n",
        "| `agent` | ID of the travel agency that made the booking | Categorical/ID |\n",
        "| `company` | ID of the company that made the booking | Categorical/ID |\n",
        "| `days_in_waiting_list` | Number of days on the waiting list before booking confirmed | Numerical (Integer) |\n",
        "| `customer_type` | Type of booking, like \"Transient\" or \"Group\" | Categorical |\n",
        "| `adr` | Average Daily Rate (total lodging divided by number of nights) | Numerical (Float) |\n",
        "| `required_car_parking_spaces` | Number of car parking spaces requested | Numerical (Integer) |\n",
        "| `total_of_special_requests` | Number of special requests made | Numerical (Integer) |\n",
        "| `reservation_status` | Last status of the reservation | Categorical |\n",
        "| `reservation_status_date` | Date of the last status | Date |"
      ],
      "metadata": {
        "id": "-XR2BgquddUB"
      }
    },
    {
      "cell_type": "code",
      "execution_count": null,
      "metadata": {
        "id": "6Rtfe5KaRtkq"
      },
      "outputs": [],
      "source": [
        "#\n",
        "# Import Libraries\n",
        "#\n",
        "import pandas as pd\n",
        "import numpy as np\n",
        "import seaborn as sns\n",
        "import matplotlib.pyplot as plt\n",
        "import calendar\n",
        "\n",
        "#\n",
        "# Google Collab from upload Dataset into Drive\n",
        "# We can also mount Google Drive and use it as a Local Drive\n",
        "#\n",
        "from google.colab import files"
      ]
    },
    {
      "cell_type": "code",
      "source": [
        "#\n",
        "# Suppress scientific notation for clarity in output\n",
        "#\n",
        "# pd.set_option('display.float_format', lambda x: '%.2f' % x)\n",
        "pd.set_option('display.float_format', '{:.2f}'.format)\n",
        "np.set_printoptions(suppress = True, precision = 2)"
      ],
      "metadata": {
        "id": "fZqTM-93h3S4"
      },
      "execution_count": null,
      "outputs": []
    },
    {
      "cell_type": "code",
      "source": [
        "#\n",
        "# Upload Data File into Google Colab Worksheet\n",
        "# /content/hotel_bookings.csv\n",
        "#\n",
        "uploadOutput = files.upload()"
      ],
      "metadata": {
        "id": "aWDQYtjIiHOM"
      },
      "execution_count": null,
      "outputs": []
    },
    {
      "cell_type": "markdown",
      "source": [
        "# **Load Data**\n",
        "\n",
        "Loads the dataset from a CSV file and prepares it for analysis"
      ],
      "metadata": {
        "id": "Z7PbHPyqimU4"
      }
    },
    {
      "cell_type": "code",
      "source": [
        "#\n",
        "# Read the File into a Data Frame and do initial checks\n",
        "#\n",
        "fileName = 'hotel_bookings.csv'\n",
        "\n",
        "print(\"Loading dataset from '{}'...\".format(fileName))\n",
        "try:\n",
        "  df = pd.read_csv(fileName)\n",
        "  print(\"Dataset loaded successfully.\")\n",
        "\n",
        "  #\n",
        "  # Print DataFrame Information\n",
        "  #\n",
        "  print(\"\")\n",
        "  print(\"DataFrame Information\")\n",
        "  print(\"=====================\")\n",
        "  print(df.info())\n",
        "\n",
        "  #\n",
        "  # Print DataFrame Statistical Details\n",
        "  #\n",
        "  print(\"\")\n",
        "  print(\"DataFrame Statistical Details\")\n",
        "  print(\"=============================\")\n",
        "  print(df.describe())\n",
        "\n",
        "  #\n",
        "  # Print First 5 Rows of the DataFrame\n",
        "  #\n",
        "  print(\"\")\n",
        "  print(\"First 5 rows of the DataFrame\")\n",
        "  print(\"=============================\")\n",
        "  print(df.head())\n",
        "except FileNotFoundError:\n",
        "  print(f\"Error: The file '{fileName}' was not found.\")"
      ],
      "metadata": {
        "id": "XiSTvYp8id0I"
      },
      "execution_count": null,
      "outputs": []
    },
    {
      "cell_type": "code",
      "source": [
        "#\n",
        "# Get the Columns from the Data Frame\n",
        "#\n",
        "df.columns"
      ],
      "metadata": {
        "id": "fm2AK9t2jdvB"
      },
      "execution_count": null,
      "outputs": []
    },
    {
      "cell_type": "code",
      "source": [
        "#\n",
        "# Get Shape of the Data Frame\n",
        "#\n",
        "df.shape"
      ],
      "metadata": {
        "id": "K9J8v6OVpGG6"
      },
      "execution_count": null,
      "outputs": []
    },
    {
      "cell_type": "code",
      "source": [
        "#\n",
        "# Get Missing Values\n",
        "#\n",
        "df.isna().sum().sort_values(ascending = False)"
      ],
      "metadata": {
        "id": "h-CnPTj8oqDv"
      },
      "execution_count": null,
      "outputs": []
    },
    {
      "cell_type": "code",
      "source": [
        "#\n",
        "# Get Missing Values\n",
        "#\n",
        "# df.isnull().sum()[df.isnull().sum() > 0]\n",
        "df.isnull().sum()[df.isnull().sum() > 0].sort_values(ascending = False)"
      ],
      "metadata": {
        "id": "94LF7K_Sp1mq"
      },
      "execution_count": null,
      "outputs": []
    },
    {
      "cell_type": "code",
      "source": [
        "#\n",
        "# Get Missing Values - In terms of Average\n",
        "#\n",
        "# df.isnull().mean()[df.isnull().mean() > 0]\n",
        "df.isnull().mean()[df.isnull().mean() > 0].sort_values(ascending = False)"
      ],
      "metadata": {
        "id": "amqnqSMkqdan"
      },
      "execution_count": null,
      "outputs": []
    },
    {
      "cell_type": "code",
      "source": [
        "#\n",
        "# Get Rows that has Missing Values\n",
        "#\n",
        "missingValueRows = df[df.isna().any(axis = 1)]\n",
        "print(missingValueRows)"
      ],
      "metadata": {
        "id": "RbYG27V_cj64"
      },
      "execution_count": null,
      "outputs": []
    },
    {
      "cell_type": "markdown",
      "source": [
        "**Observation on Missing Values**\n",
        "\n",
        "Although the column `company` has 112,593 missing values, this represents less than 1% of the total dataset. Therefore, we plan to address this by implementing a suitable imputation strategy."
      ],
      "metadata": {
        "id": "DqRhjg5rqtq2"
      }
    },
    {
      "cell_type": "code",
      "source": [
        "#\n",
        "# Check for duplicate Rows\n",
        "#\n",
        "duplicateRowCount = df.duplicated().sum()\n",
        "print(f\"Number of duplicate rows: {duplicateRowCount}\")"
      ],
      "metadata": {
        "id": "t0lKny3xroYo"
      },
      "execution_count": null,
      "outputs": []
    },
    {
      "cell_type": "code",
      "source": [
        "#\n",
        "# Remove Duplicate Rows\n",
        "#\n",
        "\n",
        "#\n",
        "# Take a copy of the original Data Frame before deleting duplicate rows\n",
        "#\n",
        "df_WithDuplicateRows = df.copy()\n",
        "df.drop_duplicates(inplace=True)"
      ],
      "metadata": {
        "id": "RpZeIXc0izM6"
      },
      "execution_count": null,
      "outputs": []
    },
    {
      "cell_type": "code",
      "source": [
        "#\n",
        "# Check for logically invalid entries\n",
        "#\n",
        "\n",
        "#\n",
        "# Count bookings with no guests\n",
        "#\n",
        "# print(df[['adults', 'children', 'babies']][(df['adults'] == 0) & (df['children'] == 0) & (df['babies'] == 0)])\n",
        "noGuestsCount = df[(df['adults'] == 0) & (df['children'] == 0) & (df['babies'] == 0)].shape[0]\n",
        "print(f\"Number of bookings with no guests: {noGuestsCount}\")\n",
        "\n",
        "# Count bookings with a zero ADR\n",
        "zeroADRCount = df[df['adr'] == 0].shape[0]\n",
        "print(f\"Number of bookings with a zero Average Daily Rate (ADR): {zeroADRCount}\")"
      ],
      "metadata": {
        "id": "SUCujaMNjJ-w"
      },
      "execution_count": null,
      "outputs": []
    },
    {
      "cell_type": "markdown",
      "source": [
        "# **Data Cleansing and Feature Engineering**\n",
        "\n",
        "This section handles missing values, removes invalid entries, and creates new, useful features for a more effective exploratory data analysis"
      ],
      "metadata": {
        "id": "S1cEfirolVgv"
      }
    },
    {
      "cell_type": "markdown",
      "source": [
        "### **Handle Missing Values**"
      ],
      "metadata": {
        "id": "30HVaA-wy8-U"
      }
    },
    {
      "cell_type": "code",
      "source": [
        "#\n",
        "# Handling Missing Values\n",
        "#\n",
        "\n",
        "#\n",
        "# For 'company' and 'agent', we will replace NaN values with 0\n",
        "# These columns are IDs, and 0 is a good placeholder for \"no company/agent\"\n",
        "#\n",
        "df[['company', 'agent']] = df[['company', 'agent']].fillna(0)\n",
        "print(\"Columns 'company' and 'agent' missing values filled with 0\")\n",
        "\n",
        "#\n",
        "# Comparing 0 vs. Median Imputation\n",
        "# Imputing with 0\n",
        "# This is a domain-specific or logical imputation\n",
        "# It relies on your knowledge of the business context—that a lack of data for\n",
        "# children means there are no children.\n",
        "# This approach is simple, accurate in this context, and doesn't distort the\n",
        "# data distribution\n",
        "#\n",
        "#\n",
        "# Imputing with Median\n",
        "# This is a purely statistical imputation.\n",
        "# It assumes that the missing data is missing at random, and the best guess\n",
        "# for the missing value is the most common or central value of the data we have\n",
        "# While it's a safe statistical method, for a column like children where 0 is a\n",
        "# meaningful category in itself, using the median can sometimes be less\n",
        "# intuitive\n",
        "#\n",
        "\n",
        "#\n",
        "# For 'children', we will fill the few missing values with the median\n",
        "# The median is robust to outliers and is a sensible choice here\n",
        "#\n",
        "# df[['children']] = df[['children']].fillna(df[['children']].median())\n",
        "# print(\"Column 'children' missing values filled with the median\")\n",
        "#\n",
        "\n",
        "#\n",
        "# For 'children', we will fill the few missing values with 0.\n",
        "# This is a domain-specific, logical assumption that a blank value means\n",
        "# no children were booked, which is a more accurate approach than a statistical\n",
        "# imputation like using the median.\n",
        "#\n",
        "# df['children'].fillna(0, inplace = True)\n",
        "# Using inplace = True raises the below Warning\n",
        "#\n",
        "# /tmp/ipython-input-948976368.py:45: FutureWarning: A value is trying to be set on a copy of a DataFrame or Series through chained assignment using an inplace method.\n",
        "# The behavior will change in pandas 3.0.\n",
        "# This inplace method will never work because the intermediate object on which\n",
        "# we are setting values always behaves as a copy.\n",
        "#\n",
        "# For example, when doing 'df[col].method(value, inplace=True)',\n",
        "# try using 'df.method({col: value}, inplace=True)' or\n",
        "# df[col] = df[col].method(value) instead, to perform the operation inplace on the original object.\n",
        "#\n",
        "#   df['children'].fillna(0, inplace = True)\n",
        "#\n",
        "\n",
        "# df[['children']] = df[['children']].fillna(0) # Can use this as well\n",
        "df.fillna({'children': 0}, inplace = True)\n",
        "print(\"Column 'children' missing values filled with 0.\")\n",
        "\n",
        "#\n",
        "# For the 'country' column, we will replace the missing values with 'UNKNOWN'\n",
        "# This is a more accurate approach than filling with the mode, which could be misleading\n",
        "#\n",
        "df[['country']] = df[['country']].fillna('UNKNOWN')\n",
        "print(\"Column 'country' missing values filled with 'UNKNOWN'\")\n",
        "\n",
        "#\n",
        "# Check again for any remaining Missing Values\n",
        "#\n",
        "print(\"\\nFinal check for Missing Values\")\n",
        "# df.isnull().sum()[df.isnull().sum() > 0]\n",
        "df.isnull().sum()[df.isnull().sum() > 0].sort_values(ascending = False)"
      ],
      "metadata": {
        "id": "Cyl5QQ9GmM_4"
      },
      "execution_count": null,
      "outputs": []
    },
    {
      "cell_type": "markdown",
      "source": [
        "### **Handle Logical Inconsistencies**"
      ],
      "metadata": {
        "id": "45mGZid4zEVs"
      }
    },
    {
      "cell_type": "code",
      "source": [
        "#\n",
        "# Handling Logical Inconsistencies\n",
        "#\n",
        "\n",
        "#\n",
        "# We will remove rows where the total number of guests is zero (0 adults, 0 children, 0 babies).\n",
        "# These are likely invalid entries and should not be included in the analysis.\n",
        "#\n",
        "initialShape = df.shape\n",
        "# df.drop(df[df['adults'] == 0].index, inplace = True)\n",
        "df = df.drop(df[df['adults'] == 0].index)\n",
        "print(f\"Removed rows with zero adults. Shape before: {initialShape}, Shape now: {df.shape}\")\n",
        "\n",
        "#\n",
        "# We will also remove rows where the Average Daily Rate (ADR) is zero.\n",
        "# This is a financial metric, and a value of 0 is not a valid data point.\n",
        "#\n",
        "initialShape = df.shape\n",
        "# df.drop(df[df['adr'] == 0].index, inplace = True)\n",
        "df = df.drop(df[df['adr'] == 0].index)\n",
        "print(f\"Removed rows with zero ADR. Shape before: {initialShape}, Shape now: {df.shape}\")"
      ],
      "metadata": {
        "id": "p4uGV2nprerb"
      },
      "execution_count": null,
      "outputs": []
    },
    {
      "cell_type": "markdown",
      "source": [
        "### **Feature Engineering**\n",
        "\n",
        "Mapping month names to numbers for the conversion\n",
        "using Dictionary Comprehension\n",
        "\n",
        "\n",
        "\n",
        "---\n",
        "\n",
        "\n",
        "\n",
        "Convert month names to numbers\n",
        "\n",
        "\n",
        "\n",
        "---\n",
        "\n",
        "\n",
        "\n",
        "This creates a dictionary to map full month names to their numerical representation.  \n",
        "\n",
        "The `enumerate` function provides an index `i` and value `name` for each item in the list.  \n",
        "\n",
        "The `if i` condition cleverly skips the empty string at index 0, resulting in a dictionary like: {'January': 1, 'February': 2, ...}.  \n",
        "\n",
        "The `.map()` method then applies this dictionary to the 'arrival_date_month' column, transforming the month names into their corresponding numbers."
      ],
      "metadata": {
        "id": "C3xt_FyqzIhL"
      }
    },
    {
      "cell_type": "code",
      "source": [
        "#\n",
        "# Feature Engineering\n",
        "#\n",
        "\n",
        "#\n",
        "# Create a new column 'total_guests' by combining adults, children, and babies.\n",
        "#\n",
        "df['total_guests'] = df['adults'] + df['children'] + df['babies']\n",
        "print(\"New feature 'total_guests' created.\")\n",
        "\n",
        "#\n",
        "# Create a 'total_nights' column by combining weekend and weeknight stays.\n",
        "# This gives a single, clear metric for the length of the stay.\n",
        "#\n",
        "df['total_nights'] = df['stays_in_weekend_nights'] + df['stays_in_week_nights']\n",
        "print(\"New feature 'total_nights' created.\")\n",
        "\n",
        "#\n",
        "# Create a new datetime column from the separate date fields.\n",
        "# This is essential for any time-based analysis and visualization.\n",
        "# Note: You may need to convert the 'arrival_date_month' to a number first.\n",
        "#\n",
        "\n",
        "#\n",
        "# Mapping month names to numbers for the conversion\n",
        "# Dictionary Comprehension\n",
        "#\n",
        "# Convert month names to numbers\n",
        "#\n",
        "# This creates a dictionary to map full month names to their numerical representation.\n",
        "# The `enumerate` function provides an index `i` and value `name` for each item in the list.\n",
        "# The `if i` condition cleverly skips the empty string at index 0,\n",
        "# resulting in a dictionary like: {'January': 1, 'February': 2, ...}.\n",
        "# The `.map()` method then applies this dictionary to the 'arrival_date_month' column,\n",
        "# transforming the month names into their corresponding numbers.\n",
        "#\n",
        "monthToNumber = {name: i for i, name in enumerate(calendar.month_name) if i}\n",
        "df['arrival_date_month'] = df['arrival_date_month'].map(monthToNumber)\n",
        "\n",
        "df['arrival_date'] = pd.to_datetime(\n",
        "                                     df['arrival_date_year'].astype(str) + '-' +\n",
        "                                     df['arrival_date_month'].astype(str) + '-' +\n",
        "                                     df['arrival_date_day_of_month'].astype(str)\n",
        "                                   )\n",
        "\n",
        "print(\"New feature 'arrival_date' created.\")"
      ],
      "metadata": {
        "id": "MqSBeKXEye_h"
      },
      "execution_count": null,
      "outputs": []
    },
    {
      "cell_type": "code",
      "source": [
        "#\n",
        "# Display the first few rows with the new features to confirm changes.\n",
        "#\n",
        "print(\"\")\n",
        "print(\"DataFrame head after cleaning and feature engineering:\")\n",
        "# print(df[['total_guests', 'total_nights', 'arrival_date', 'adr', 'country']].head())\n",
        "df.head()"
      ],
      "metadata": {
        "id": "El9hxU6X3Ls7"
      },
      "execution_count": null,
      "outputs": []
    },
    {
      "cell_type": "markdown",
      "source": [
        "# **Data Visualization**\n",
        "\n",
        "Data visualization transforms complex data into visual formats like graphs and charts to make it easier to understand patterns, trends, and outliers, leading to faster, more informed decisions and improved communication of insights"
      ],
      "metadata": {
        "id": "hTgMppyy4GhD"
      }
    },
    {
      "cell_type": "markdown",
      "source": [
        "## **Cancellation Rate by Hotel Type**"
      ],
      "metadata": {
        "id": "lC8lkaO2didW"
      }
    },
    {
      "cell_type": "code",
      "source": [
        "#\n",
        "# Cancellation Rate by Hotel Type\n",
        "#\n",
        "# We'll use a bar plot to compare the cancellation rates between the two hotel types\n",
        "# A bar plot is ideal for comparing a single metric across different categories\n",
        "# We group the data by 'hotel' and then calculate the mean of the 'is_canceled' column\n",
        "#\n",
        "plt.figure(figsize = (8, 6))\n",
        "\n",
        "#\n",
        "# The 'sns.barplot' function is used to create the bar chart.\n",
        "#\n",
        "# 'x' axis: We pass 'df['hotel'].unique()' to get the distinct hotel types for the bars.\n",
        "# 'y' axis: We calculate the mean cancellation rate for each hotel type.\n",
        "# 'df.groupby('hotel')' groups the DataFrame by the 'hotel' column.\n",
        "# '['is_canceled'].mean()' then computes the average of the 'is_canceled'\n",
        "# column for each group. This average represents the cancellation rate.\n",
        "#\n",
        "sns.barplot(\n",
        "             x = df['hotel'].unique(),\n",
        "             y=df.groupby('hotel')['is_canceled'].mean()\n",
        "           )\n",
        "\n",
        "plt.title('Cancellation Rate by Hotel Type', fontsize = 16)\n",
        "plt.xlabel('Hotel Type')\n",
        "plt.ylabel('Cancellation Rate')\n",
        "plt.show()"
      ],
      "metadata": {
        "id": "a-ypQlq_4q7K"
      },
      "execution_count": null,
      "outputs": []
    },
    {
      "cell_type": "markdown",
      "source": [
        "## **Observation**  \n",
        "\n",
        "Based on the bar plot, it appears that **Resort Hotels have a higher cancellation rate than City Hotels**. While both types of hotels experience cancellations, the difference is visually quite clear.\n",
        "\n",
        "This is an interesting finding. It suggests that the factors influencing a guest's decision to cancel might be different for a leisure-focused resort compared to a business or short-stay city hotel.\n",
        "\n",
        "To dig deeper, we could try to answer some follow-up questions\n",
        "\n",
        "* Do resort hotel guests book further in advance, giving them more time to change their plans?\n",
        "\n",
        "* Are there specific months or seasons where resort cancellations are higher?\n",
        "\n",
        "* Do certain market segments (e.g., \"Groups\" or \"Direct\") have a disproportionately high cancellation rate for resorts?"
      ],
      "metadata": {
        "id": "OBM6b2E69gi5"
      }
    },
    {
      "cell_type": "markdown",
      "source": [
        "**Why use a KDE plot?**  \n",
        "\n",
        "A **KDE (Kernel Density Estimate)** plot is a powerful tool for visualizing the distribution of a continuous variable. It's similar to a histogram but presents the data as a smooth curve, making it easier to see the overall shape of the distribution without the \"binning\" effect of a histogram. We use a KDE plot for this analysis for a few key reasons:\n",
        "\n",
        "**Direct Comparison**  \n",
        "By plotting both Resort and City Hotels on the same graph, we can directly compare their distributions.\n",
        "\n",
        "**Highlighting Peaks**  \n",
        "The smooth curve clearly shows where the majority of cancellations occur. This is especially useful for seeing subtle differences in peaks, such as the one we'll discuss below.\n",
        "\n",
        "**Overall Shape**  \n",
        "It provides a clear visual summary of the data, helping us understand the full range of lead times for cancellations."
      ],
      "metadata": {
        "id": "xa7Hq2NqPCDm"
      }
    },
    {
      "cell_type": "markdown",
      "source": [
        "## **Lead Time Distribution for Cancelled Bookings**"
      ],
      "metadata": {
        "id": "4ZsZ_AaXdqe2"
      }
    },
    {
      "cell_type": "code",
      "source": [
        "#\n",
        "# Lead Time Distribution for Cancelled Bookings\n",
        "#\n",
        "# We'll use a KDE (Kernel Density Estimate) plot to visualize the distribution\n",
        "# of 'lead_time' for cancelled bookings, separated by hotel type. This helps us\n",
        "# see if guests who cancel resort bookings tend to book much further in advance.\n",
        "#\n",
        "plt.figure(figsize=(12, 6))\n",
        "sns.kdeplot(\n",
        "             data        = df[df['is_canceled'] == 1],\n",
        "             x           = 'lead_time',\n",
        "             hue         = 'hotel',\n",
        "             fill        = True,\n",
        "             common_norm = False,\n",
        "           )\n",
        "plt.title('Lead Time Distribution for Cancelled Bookings', fontsize = 16)\n",
        "plt.xlabel('Lead Time (Days)')\n",
        "plt.ylabel('Density')\n",
        "plt.xlim(0, 400) # Limit the x-axis for better readability\n",
        "plt.show()"
      ],
      "metadata": {
        "id": "YIfWPver9q1T"
      },
      "execution_count": null,
      "outputs": []
    },
    {
      "cell_type": "markdown",
      "source": [
        "## **Observation**\n",
        "**Lead Time Distribution Analysis**  \n",
        "\n",
        "The plot shows a **clear and distinct difference** in the lead time for cancellations between the two hotel types.\n",
        "\n",
        "**City Hotels** have a high density of cancellations at a very short lead time, peaking sharply around **0-25 days** before arrival. This suggests that a significant number of city hotel cancellations are last-minute.\n",
        "\n",
        "**Resort Hotels** have a much broader and flatter distribution of cancellations. While they still have a peak in the short-term, their density remains high for bookings made much further in advance, even out to **100-200 days** or more.\n",
        "\n",
        "The takeaway here is that **resort guests do, in fact, book further in advance and cancel further in advance**. This supports our initial hypothesis and is a key factor contributing to their higher overall cancellation rate. Guests booking a long-term vacation at a resort have more time for their plans to change, and thus, more time to cancel their booking."
      ],
      "metadata": {
        "id": "VZodV01jPWF_"
      }
    },
    {
      "cell_type": "markdown",
      "source": [
        "## **Monthly Cancellation Rate by Hotel Type**"
      ],
      "metadata": {
        "id": "5zRi1J-Fdx_s"
      }
    },
    {
      "cell_type": "code",
      "source": [
        "#\n",
        "# Monthly Cancellation Rate by Hotel Type\n",
        "#\n",
        "# A line plot is a good way to show how the cancellation rate changes over the year\n",
        "# for each hotel type, allowing for a direct comparison of their seasonal patterns.\n",
        "#\n",
        "plt.figure(figsize=(12, 6))\n",
        "\n",
        "#\n",
        "# We group by both 'hotel' and 'arrival_date_month' and then take the mean of\n",
        "# 'is_canceled' to get the cancellation rate for each month and hotel type\n",
        "#\n",
        "cancellationByMonth = df.groupby(['hotel', 'arrival_date_month'])['is_canceled'].mean().reset_index()\n",
        "sns.lineplot(\n",
        "              data   = cancellationByMonth,\n",
        "              x      = 'arrival_date_month',\n",
        "              y      = 'is_canceled',\n",
        "              hue    = 'hotel',\n",
        "              marker = 'o'\n",
        "            )\n",
        "plt.title('Monthly Cancellation Rate by Hotel Type', fontsize = 16)\n",
        "plt.xlabel('Month')\n",
        "plt.ylabel('Cancellation Rate')\n",
        "plt.xticks(range(1, 13), calendar.month_abbr[1:]) # Use short month names for x-axis labels\n",
        "# plt.xticks(range(1, 13), calendar.month_name[1:]) # Use full month names for x-axis labels\n",
        "plt.grid(True)\n",
        "plt.show()"
      ],
      "metadata": {
        "id": "lpoVh65sM9DG"
      },
      "execution_count": null,
      "outputs": []
    },
    {
      "cell_type": "markdown",
      "source": [
        "## **Obsevation**\n",
        "\n",
        "**Monthly Cancellation Rate Analysis**  \n",
        "\n",
        "The line plot reveals a significant seasonal pattern for both hotel types, but with different magnitudes and peak periods.\n",
        "\n",
        "**City Hotels** have a consistently higher cancellation rate throughout the year compared to Resort Hotels, with their rates fluctuating between approximately 26% and 34%. They experience their highest cancellation peaks during **April and August**, which are often popular travel months. Their lowest point is in **February**, a period of low travel.\n",
        "\n",
        "**Resort Hotels** have a much more pronounced seasonal swing. Their cancellation rate is at its lowest in the cooler months, specifically **January and February**, but it rises sharply as the weather warms, reaching its highest point in **June, July, and August**. This aligns perfectly with the peak summer vacation season. Their cancellation rate is highest when demand for vacation spots is at its peak.\n",
        "\n",
        "The key inference is that while City Hotels see a high cancellation rate throughout the year, Resort Hotels see a dramatic increase in cancellations during their peak season. This is likely due to the nature of resort vacations—people book months in advance for their summer getaways, but then their plans change or they find a better deal. The data clearly shows that the peak season for resort bookings is also the peak season for their cancellations."
      ],
      "metadata": {
        "id": "_5r0_887Ya2k"
      }
    },
    {
      "cell_type": "markdown",
      "source": [
        "## **Cancellation Rate by Market Segment for Each Hotel**"
      ],
      "metadata": {
        "id": "yh-VVuyBd5gh"
      }
    },
    {
      "cell_type": "code",
      "source": [
        "#\n",
        "# Cancellation Rate by Market Segment for Each Hotel\n",
        "#\n",
        "# We use a bar plot to compare the cancellation rate across different market segments.\n",
        "# The 'hue' parameter in seaborn separates the bars by 'hotel' type.\n",
        "#\n",
        "plt.figure(figsize=(14, 7))\n",
        "sns.barplot(\n",
        "             data = df.groupby(['market_segment', 'hotel'])['is_canceled'].mean().reset_index(),\n",
        "             x    = 'market_segment',\n",
        "             y    = 'is_canceled',\n",
        "             hue  = 'hotel'\n",
        ")\n",
        "plt.title('Cancellation Rate by Market Segment for Each Hotel Type', fontsize = 16)\n",
        "plt.xlabel('Market Segment')\n",
        "plt.ylabel('Cancellation Rate')\n",
        "plt.xticks(rotation = 45, ha = 'right')\n",
        "plt.tight_layout()\n",
        "plt.show()"
      ],
      "metadata": {
        "id": "ZQwcUnYWM8zw"
      },
      "execution_count": null,
      "outputs": []
    },
    {
      "cell_type": "markdown",
      "source": [
        "## **Observation**  \n",
        "\n",
        "**Interpreting the Bar Chart**  \n",
        "\n",
        "The bar chart's key insight is the stark difference in cancellation behavior across various market segments and hotel types. The height of each bar represents the average cancellation rate for that specific combination.\n",
        "\n",
        "**Online Travel Agents (Online TA) is the riskiest segment**  \n",
        "Bookings coming from online travel agencies have a very high cancellation rate for both City and Resort hotels. This could be because customers are \"shopping around\" online, booking a room they might not be sure about, and then canceling later.\n",
        "\n",
        "**The \"Complimentary\" segment has the lowest cancellation rate** on the entire chart. This makes a lot of sense, as these bookings are likely for a free stay (e.g., promotional bookings, staff stays, or rewards). Since there's no financial commitment, there's very little reason to cancel.\n",
        "\n",
        "**In contrast, while \"Corporate\" bookings are very reliable**, they can still be canceled due to last-minute business changes, so their cancellation rate is slightly, but consistently, higher than \"Complimentary\" bookings.\n",
        "\n",
        "**City Hotels generally have a higher cancellation rate**  \n",
        "For nearly every market segment, the blue bars (City Hotel) are taller than the orange bars (Resort Hotel). This suggests that City Hotel bookings, perhaps due to their nature (business travel, short stays), are more likely to be canceled than resort vacations, which are often planned well in advance. The only exception is the Groups segment, where Resort Hotels show a slightly higher cancellation rate, likely due to the complexity of managing a large group's travel plans.\n",
        "\n",
        "**The \"Undefined\" segment is a problem**  \n",
        "The \"Undefined\" market segment has a cancellation rate of 100% for City Hotels and a very high rate for Resort Hotels. . This suggests a data cleaning or collection issue. This data should likely be investigated further or removed from the analysis, as it can skew the results and make it difficult to draw accurate conclusions about a hotel's performance."
      ],
      "metadata": {
        "id": "exttZjZUaxMO"
      }
    },
    {
      "cell_type": "markdown",
      "source": [
        "## **Number of Bookings Per Month (Seasonality Analysis)**"
      ],
      "metadata": {
        "id": "XP9D5iiieAJ0"
      }
    },
    {
      "cell_type": "code",
      "source": [
        "#\n",
        "# Number of Bookings Per Month (Seasonality Analysis)\n",
        "#\n",
        "# A line plot is perfect for showing trends over time, like monthly booking volume.\n",
        "#\n",
        "plt.figure(figsize=(10, 6))\n",
        "\n",
        "#\n",
        "# We use `sns.lineplot` to create the plot.\n",
        "#\n",
        "# 'x' axis: We get the month numbers (the indices of the value counts).\n",
        "# 'df['arrival_date_month'].value_counts()' counts the occurrences of each month.\n",
        "# '.sort_index()' ensures the months are in chronological order (1, 2, 3, etc.).\n",
        "# '.index' gets the month numbers (e.g., [1, 2, 3, ...]).\n",
        "#\n",
        "# `y` axis: We get the booking counts (the values of the value counts).\n",
        "# `.values` gets the corresponding counts for each month.\n",
        "sns.lineplot(\n",
        "              x = df['arrival_date_month'].value_counts().sort_index().index,\n",
        "              y = df['arrival_date_month'].value_counts().sort_index().values,\n",
        "            )\n",
        "plt.title('Total Bookings per Month', fontsize = 16)\n",
        "plt.xlabel('Month')\n",
        "plt.ylabel('Number of Bookings')\n",
        "plt.show()"
      ],
      "metadata": {
        "id": "zpIECAAOM8w7"
      },
      "execution_count": null,
      "outputs": []
    },
    {
      "cell_type": "markdown",
      "source": [
        "## **Observation**\n",
        "\n",
        "**The seasonal pattern in the \"Total Bookings per Month\"** chart strongly supports the inference about school holidays.\n",
        "\n",
        "The graph shows a clear and predictable trend that's very typical for the travel industry. Bookings steadily increase from the start of the year, culminating in a significant peak around months 7 and 8, which correspond to July and August. This is the heart of the summer vacation season, a time when families and students are off school, making it the most popular time for leisure travel.\n",
        "\n",
        "Following this peak, there is a steep decline in September (month 9) as schools and businesses resume normal schedules, and bookings remain at a lower level throughout the fall and winter months.\n",
        "\n",
        "This pattern suggests that hotel bookings are heavily influenced by **leisure travelers** taking advantage of the summer break, as opposed to a steady flow of business travelers. This is a crucial insight for hotel management, as it allows them to predict demand and adjust pricing and staffing accordingly"
      ],
      "metadata": {
        "id": "pj1xX9UeeEh8"
      }
    },
    {
      "cell_type": "markdown",
      "source": [
        "## **Total Bookings per Month**"
      ],
      "metadata": {
        "id": "QB7pLoXljTwP"
      }
    },
    {
      "cell_type": "code",
      "source": [
        "#\n",
        "# Total Bookings per Month\n",
        "# Creates a line plot to show the total number of bookings by month, separated by hotel type\n",
        "#\n",
        "\n",
        "#\n",
        "# Calculate the total number of bookings per month by hotel type\n",
        "#\n",
        "# This groups the DataFrame by month and hotel type, then counts the number of rows in each group\n",
        "# using .size(), and resets the index to turn it back into a DataFrame.\n",
        "#\n",
        "monthlyBookings = df.groupby(['arrival_date_month', 'hotel']).size().reset_index(name='total_bookings')\n",
        "\n",
        "#\n",
        "# Define the correct order of months to ensure the plot is chronological\n",
        "# This creates a list of full month names in chronological order\n",
        "#\n",
        "monthNames = [calendar.month_name[i] for i in range(1, 13)] # We converted catgorical month into numerical above\n",
        "\n",
        "#\n",
        "# Map the numerical month to its name\n",
        "#\n",
        "# A new column 'arrival_date_month_name' is created by applying a lambda function\n",
        "# that converts the numerical month to its corresponding name\n",
        "#\n",
        "monthlyBookings['arrival_date_month_name'] = monthlyBookings['arrival_date_month'].apply(lambda x: calendar.month_name[x])\n",
        "\n",
        "#\n",
        "# Convert the new month name column to a Categorical data type with a defined order.\n",
        "# This ensures that when Seaborn plots the data, the months appear in the correct\n",
        "# chronological sequence on the x-axis, rather than in alphabetical order\n",
        "#\n",
        "monthlyBookings['arrival_date_month_name'] = pd.Categorical(monthlyBookings['arrival_date_month_name'], categories = monthNames, ordered = True)\n",
        "\n",
        "#\n",
        "# Sort the DataFrame based on the ordered month names to prepare for plotting\n",
        "#\n",
        "monthlyBookings = monthlyBookings.sort_values('arrival_date_month_name')\n",
        "\n",
        "#\n",
        "# Create the line plot\n",
        "#\n",
        "plt.figure(figsize = (14, 8)) # Creates a new figure with a specified size\n",
        "\n",
        "#\n",
        "# sns.lineplot is a function from the Seaborn library for creating line plots\n",
        "# data   : The DataFrame containing the data to be plotted\n",
        "# x      : The column to be used for the x-axis (the ordered month names)\n",
        "# y      : The column to be used for the y-axis (the total bookings)\n",
        "# hue    : The column to use for color separation, creating a different line\n",
        "#          for each hotel type\n",
        "# marker : Adds a marker ('o' for circle) at each data point on the line\n",
        "#\n",
        "sns.lineplot(\n",
        "              data   = monthlyBookings,\n",
        "              x      = 'arrival_date_month_name',\n",
        "              y      = 'total_bookings',\n",
        "              hue    = 'hotel',\n",
        "              marker = 'o'\n",
        "            )\n",
        "\n",
        "#\n",
        "# plt.title is from Matplotlib and sets the title of the plot\n",
        "#\n",
        "plt.title('Total Bookings per Month by Hotel Type', fontsize = 18)\n",
        "\n",
        "#\n",
        "# plt.xlabel and plt.ylabel set the labels for the x and y axes\n",
        "#\n",
        "plt.xlabel('Month', fontsize = 14)\n",
        "plt.ylabel('Total Bookings', fontsize =14)\n",
        "\n",
        "#\n",
        "# plt.grid adds a grid to the plot for easier reading of values\n",
        "#\n",
        "plt.grid(True, linestyle = '--', alpha = 0.6)\n",
        "\n",
        "#\n",
        "# plt.legend sets the title for the legend, which explains what the colors\n",
        "# represent\n",
        "#\n",
        "plt.legend(title = 'Hotel Type')\n",
        "\n",
        "#\n",
        "# plt.xticks rotates the x-axis labels by 45 degrees to prevent them from\n",
        "# overlapping\n",
        "#\n",
        "plt.xticks(rotation = 45)\n",
        "\n",
        "#\n",
        "# plt.tight_layout automatically adjusts the plot parameters to give a tight\n",
        "# layout\n",
        "#\n",
        "plt.tight_layout()\n",
        "\n",
        "#\n",
        "# plt.show() displays the generated plot\n",
        "#\n",
        "plt.show()"
      ],
      "metadata": {
        "id": "2CzGkoXnM8sD"
      },
      "execution_count": null,
      "outputs": []
    },
    {
      "cell_type": "markdown",
      "source": [
        "## **Observation**\n",
        "\n",
        "**City hotels have a consistently higher total booking** volume than resort hotels throughout the year.\n",
        "\n",
        "While both types of hotels experience their peak booking seasons during the summer months (July and August), the number of bookings for city hotels remains significantly higher than the resort hotels in every single month of the year. This suggests a more stable, year-round demand for city accommodations compared to the more seasonal nature of resort stays"
      ],
      "metadata": {
        "id": "_s3ZoIrYt36g"
      }
    },
    {
      "cell_type": "code",
      "source": [
        "#\n",
        "# Monthly Cancellation Rate - Alternative Method (see above)\n",
        "# The Observation still remains the same above (Monthly Cancellation Rate by Hotel Type)\n",
        "#\n",
        "# Creates a line plot to show the monthly cancellation rate by hotel type\n",
        "#\n",
        "\n",
        "#\n",
        "# Calculate monthly cancellation rate by hotel type\n",
        "# This groups the DataFrame by month and hotel type, then calculates the mean of 'is_canceled' for each group.\n",
        "# The result is stored in the monthly_cancellations DataFrame.\n",
        "#\n",
        "monthlyCancellations = df.groupby(['arrival_date_month', 'hotel'])['is_canceled'].mean().reset_index()\n",
        "\n",
        "# Define the correct order of months to ensure the plot is chronological\n",
        "# This creates a list of full month names in chronological order.\n",
        "monthNames = [calendar.month_name[i] for i in range(1, 13)]\n",
        "\n",
        "# Map the numerical month to its name.\n",
        "# A new column 'arrival_date_month_name' is created by applying a lambda function\n",
        "# that converts the numerical month (e.g., 1) to its corresponding name (e.g., 'January').\n",
        "monthlyCancellations['arrival_date_month_name'] = monthlyCancellations['arrival_date_month'].apply(lambda x: calendar.month_name[x])\n",
        "\n",
        "# Convert the new month name column to a Categorical data type with a defined order.\n",
        "# This ensures that when Seaborn plots the data, the months appear in the correct\n",
        "# chronological sequence on the x-axis, rather than in alphabetical order.\n",
        "monthlyCancellations['arrival_date_month_name'] = pd.Categorical(monthlyCancellations['arrival_date_month_name'], categories = monthNames, ordered = True)\n",
        "\n",
        "# Sort the DataFrame based on the ordered month names to prepare for plotting.\n",
        "monthlyCancellations = monthlyCancellations.sort_values('arrival_date_month_name')\n",
        "\n",
        "#\n",
        "# Create the line plot\n",
        "#\n",
        "plt.figure(figsize = (14, 8)) # Creates a new figure with a specified size for better readability.\n",
        "\n",
        "#\n",
        "# sns.lineplot is a function from the Seaborn library for creating line plots\n",
        "# data   : The DataFrame containing the data to be plotted\n",
        "# x      : The column to be used for the x-axis (the ordered month names)\n",
        "# y      : The column to be used for the y-axis (the cancellation rate)\n",
        "# hue    : The column to use for color separation, creating a different line for each hotel type\n",
        "# marker : Adds a marker ('o' for circle) at each data point on the line\n",
        "#\n",
        "sns.lineplot(data = monthlyCancellations, x = 'arrival_date_month_name', y = 'is_canceled', hue = 'hotel', marker = 'o')\n",
        "\n",
        "# plt.title is from Matplotlib and sets the title of the plot.\n",
        "plt.title('Monthly Cancellation Rate by Hotel Type', fontsize = 18)\n",
        "\n",
        "# plt.xlabel and plt.ylabel set the labels for the x and y axes.\n",
        "plt.xlabel('Month', fontsize = 14)\n",
        "plt.ylabel('Cancellation Rate', fontsize = 14)\n",
        "\n",
        "# plt.grid adds a grid to the plot for easier reading of values.\n",
        "plt.grid(True, linestyle = '--', alpha = 0.6)\n",
        "\n",
        "# plt.legend sets the title for the legend, which explains what the colors represent.\n",
        "plt.legend(title = 'Hotel Type')\n",
        "\n",
        "# plt.xticks rotates the x-axis labels by 45 degrees to prevent them from overlapping.\n",
        "plt.xticks(rotation = 45)\n",
        "\n",
        "# plt.tight_layout automatically adjusts the plot parameters to give a tight layout.\n",
        "plt.tight_layout()\n",
        "\n",
        "# plt.show() displays the generated plot.\n",
        "plt.show()"
      ],
      "metadata": {
        "id": "JDfPTcqst3VR"
      },
      "execution_count": null,
      "outputs": []
    },
    {
      "cell_type": "markdown",
      "source": [
        "## **Top 10 Countries by Guest Count**"
      ],
      "metadata": {
        "id": "MF4w_VWXx-6t"
      }
    },
    {
      "cell_type": "code",
      "source": [
        "#\n",
        "# Top 10 Countries by Guest Count\n",
        "#\n",
        "# A bar plot is a great way to visualize the count of guests from the top\n",
        "# countries\n",
        "#\n",
        "\n",
        "#\n",
        "# We use 'value_counts()' to count the occurrences of each country and then\n",
        "# '.head(10)' to select only the top 10 most frequent countries\n",
        "#\n",
        "top10Countries = df['country'].value_counts().head(10)\n",
        "\n",
        "plt.figure(figsize=(12, 6))\n",
        "#\n",
        "# 'top_10_countries.index' provides the country names for the x-axis,\n",
        "# and 'top_10_countries.values' provides the booking counts for the y-axis\n",
        "#\n",
        "sns.barplot(x = top10Countries.index, y = top10Countries.values)\n",
        "plt.title('Top 10 Countries with Most Bookings', fontsize = 16)\n",
        "plt.xlabel('Country')\n",
        "plt.ylabel('Number of Bookings')\n",
        "plt.show()"
      ],
      "metadata": {
        "id": "GALMybVGM8XL"
      },
      "execution_count": null,
      "outputs": []
    },
    {
      "cell_type": "markdown",
      "source": [
        "## **Observation**\n",
        "The main inference is that Portugal (PRT) is by far the top country for hotel bookings, with a significantly higher number of bookings than any other country on the list.\n",
        "\n",
        "Additionally, the chart shows that the vast majority of the top booking countries are from Europe"
      ],
      "metadata": {
        "id": "nGEDshD-zUaX"
      }
    },
    {
      "cell_type": "markdown",
      "source": [
        "## **Correlation and Heat Map**\n",
        "\n",
        "This section generates a correlation heatmap for the numerical features\n",
        "of the hotel booking dataset. A correlation heatmap is a powerful\n",
        "tool to visualize the linear relationships between variables,\n",
        "which can help in feature selection and understanding the data."
      ],
      "metadata": {
        "id": "bxHiVAh53Qm7"
      }
    },
    {
      "cell_type": "code",
      "source": [
        "#\n",
        "# Select only numerical features for the correlation matrix\n",
        "#\n",
        "numericalFeatures = df.select_dtypes(include=[np.number])\n",
        "\n",
        "#\n",
        "# Calculate the correlation matrix\n",
        "#\n",
        "numericalFeatures = numericalFeatures.corr()\n",
        "\n",
        "#\n",
        "# Create a heatmap of the correlation matrix\n",
        "#\n",
        "plt.figure(figsize = (14, 12))\n",
        "sns.heatmap(numericalFeatures, annot = True, fmt = \".2f\", cmap = 'coolwarm', linewidths = .5)\n",
        "plt.title('Correlation Heatmap of Hotel Booking Features', fontsize = 18)\n",
        "plt.show()"
      ],
      "metadata": {
        "id": "akyiiidO3DOR"
      },
      "execution_count": null,
      "outputs": []
    },
    {
      "cell_type": "markdown",
      "source": [
        "## **A brief explanation of the heatmap**\n",
        "## **Heatmap Insights**\n",
        "\n",
        "\n",
        "---\n",
        "\n",
        "\n",
        "The heatmap visualizes the correlation coefficient between each pair of numerical features.  \n",
        "\n",
        "The values range from -1 to 1. A value close to 1 indicates a strong positive correlation, a value close to -1 indicates a strong negative correlation, and a value close to 0 indicates no linear correlation.  \n",
        "\n",
        "Look for values close to 1 or -1 to identify the strongest relationships."
      ],
      "metadata": {
        "id": "H3a_RApp3x-D"
      }
    },
    {
      "cell_type": "markdown",
      "source": [
        "---\n",
        "\n",
        "# **Summary and Next Steps**\n",
        "\n",
        "This project aims to provide a comprehensive exploratory data analysis of a hotel booking dataset. The analysis so far has focused on data cleaning and the creation of fundamental features, such as **`total_nights`** and **`total_guests`**. The initial visualizations have helped us understand basic relationships and trends within the data.\n",
        "\n",
        "## **Key Insights from Initial Analysis**\n",
        "- The `is_canceled` variable is the central focus, allowing us to build a model to predict booking cancellations.\n",
        "- **`total_nights`** and **`total_guests`** are crucial metrics for segmenting and understanding customer behavior.\n",
        "- Box plots of `lead_time` and `adr` against cancellation status have provided preliminary insights into the distribution differences between canceled and non-canceled bookings.\n",
        "\n",
        "---\n",
        "\n",
        "## **Possible Additional Feature Engineering**\n",
        "\n",
        "To build a more robust and predictive model, we can create additional features that capture more nuanced aspects of the booking behavior.\n",
        "\n",
        "### **Temporal Features**\n",
        "- **`booking_window`**: The time difference between the `reservation_status_date` and the `arrival_date`. This can provide insight into how far in advance a cancellation or check-in occurs.\n",
        "- **`time_of_year`**: Categorize months into seasons (e.g., 'high_season', 'low_season') to see if cancellations are seasonal.\n",
        "- **`day_of_week`**: Extract the day of the week from the arrival date to see if bookings on certain days are more prone to cancellation.\n",
        "\n",
        "### **Behavioral Features**\n",
        "- **`has_children`**: A simple binary flag (`True`/`False`) to indicate if the booking includes any children or babies. This is useful for analyzing family-specific trends.\n",
        "- **`total_previous_bookings`**: The sum of `previous_cancellations` and `previous_bookings_not_canceled` to get a complete history of the customer's booking behavior.\n",
        "- **`cancellation_ratio`**: A ratio of `previous_cancellations` to `total_previous_bookings`. This can be a strong predictor of a repeated guest's cancellation probability.\n",
        "- **`is_group_booking`**: A flag for bookings with a high number of guests, which may have different cancellation patterns.\n",
        "\n",
        "---\n",
        "\n",
        "## **Additional Visualizations**\n",
        "\n",
        "The current visualizations are a great start, but we can dive deeper into the data with more targeted plots.\n",
        "\n",
        "### **Booking Status by Market Segment**\n",
        "A stacked bar chart can reveal which market segments (`market_segment`) have the highest and lowest cancellation rates. This is a crucial insight for hotel revenue management.\n",
        "\n",
        "### **Cancellation Rate by Country**\n",
        "A world map or a bar chart showing the top 10 countries with the highest cancellation rates can highlight potential geographical trends.\n",
        "\n",
        "### **Impact of Deposit Type**\n",
        "A simple count plot or a pie chart can show the distribution of cancellations based on the `deposit_type` (`No Deposit`, `Non Refund`, `Refundable`). This is a very strong indicator, as non-refundable deposits are designed to prevent cancellations.\n",
        "\n",
        "### **Special Requests and Cancellations**\n",
        "A bar chart comparing the cancellation rates for bookings with and without special requests can help you understand if these requests are linked to more committed bookings.\n",
        "\n",
        "### **Time-Series Analysis of ADR**\n",
        "A line plot showing the `average_daily_rate` over time, segmented by `hotel` type, can reveal pricing strategies and seasonal price fluctuations.\n",
        "\n",
        "---\n",
        "This video on [Feature Engineering for Predicting Hotel Bookings](https://www.youtube.com/watch?v=7JybsRgzyYI) provides a great overview of how to decide which features to engineer and how to evaluate their impact on a machine learning model."
      ],
      "metadata": {
        "id": "SDCGaay-6h9_"
      }
    }
  ]
}