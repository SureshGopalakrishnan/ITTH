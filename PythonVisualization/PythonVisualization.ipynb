{
  "nbformat": 4,
  "nbformat_minor": 0,
  "metadata": {
    "colab": {
      "provenance": []
    },
    "kernelspec": {
      "name": "python3",
      "display_name": "Python 3"
    },
    "language_info": {
      "name": "python"
    }
  },
  "cells": [
    {
      "cell_type": "markdown",
      "source": [
        "# **Comprehensive Data Visualization of the Paris Housing Dataset**\n",
        "\n",
        "## **This script performs a full exploratory data analysis on the 'ParisHousingClass.csv' dataset.**  \n",
        "\n",
        "### It uses `pandas` for data handling and `matplotlib` and `seaborn` for generating a variety of visualizations to uncover insights and relationships within the data.\n",
        "\n",
        "**The analysis is broken down into the following sections**\n",
        "- **Univariate Analysis**  \n",
        "  Visualizes the distribution of single variables.\n",
        "- **Bivariate Analysis**  \n",
        "  Explores relationships between two variables.\n",
        "- **Correlation Analysis:**  \n",
        "  Provides a high-level overview of relationships across all numerical features.\n",
        "- **Relational Plots:**  \n",
        "  A powerful tool for examining all key relationships at once."
      ],
      "metadata": {
        "id": "_GT4MbcyEPgH"
      }
    },
    {
      "cell_type": "code",
      "execution_count": null,
      "metadata": {
        "id": "x6swvakjEIKe"
      },
      "outputs": [],
      "source": [
        "#\n",
        "# Import Libraries\n",
        "#\n",
        "import pandas as pd\n",
        "import numpy as np\n",
        "import matplotlib.pyplot as plt\n",
        "import seaborn as sns\n",
        "from google.colab import files"
      ]
    },
    {
      "cell_type": "code",
      "source": [
        "#\n",
        "# Suppress scientific notation for clarity in output\n",
        "#\n",
        "# pd.set_option('display.float_format', '{:.2f}'.format)\n",
        "pd.set_option('display.float_format', lambda x: '%.2f' % x)\n",
        "np.set_printoptions(suppress=True, precision=2)"
      ],
      "metadata": {
        "id": "g4cQRnknFFxA"
      },
      "execution_count": null,
      "outputs": []
    },
    {
      "cell_type": "code",
      "source": [
        "#\n",
        "# Upload Data File into Google Colab Worksheet\n",
        "# /content/ParisHousingClass.csv\n",
        "#\n",
        "uploadOutput = files.upload()"
      ],
      "metadata": {
        "id": "leWIuiSSGtNg"
      },
      "execution_count": null,
      "outputs": []
    },
    {
      "cell_type": "markdown",
      "source": [
        "# **Load Data**\n",
        "\n",
        "### **Loads the dataset from a CSV file and prepares it for analysis**"
      ],
      "metadata": {
        "id": "7zNUBBHHHvoq"
      }
    },
    {
      "cell_type": "code",
      "source": [
        "#\n",
        "# Read the File into a Data Frame and do initial checks\n",
        "#\n",
        "fileName = 'ParisHousingClass.csv'\n",
        "\n",
        "print(\"Loading dataset from '{}'...\".format(fileName))\n",
        "try:\n",
        "  df = pd.read_csv(fileName)\n",
        "  print(\"Dataset loaded successfully.\")\n",
        "\n",
        "  #\n",
        "  # Print DataFrame Information\n",
        "  #\n",
        "  print(\"\")\n",
        "  print(\"DataFrame Information\")\n",
        "  print(\"=====================\")\n",
        "  print(df.info())\n",
        "\n",
        "  #\n",
        "  # Print DataFrame Statistical Details\n",
        "  #\n",
        "  print(\"\")\n",
        "  print(\"DataFrame Statistical Details\")\n",
        "  print(\"=============================\")\n",
        "  print(df.describe())\n",
        "\n",
        "  #\n",
        "  # Print First 5 Rows of the DataFrame\n",
        "  #\n",
        "  print(\"\")\n",
        "  print(\"First 5 rows of the DataFrame\")\n",
        "  print(\"=============================\")\n",
        "  print(df.head())\n",
        "except FileNotFoundError:\n",
        "  print(f\"Error: The file '{fileName}' was not found.\")"
      ],
      "metadata": {
        "id": "usOJN3XgIGyJ"
      },
      "execution_count": null,
      "outputs": []
    },
    {
      "cell_type": "markdown",
      "source": [
        "# **Univariate Analysis**  \n",
        "\n",
        "### **Creates univariate plots to show the distribution of single variables**"
      ],
      "metadata": {
        "id": "rM5VFM3OKbBx"
      }
    },
    {
      "cell_type": "markdown",
      "source": [
        "## **Histogram of Price**"
      ],
      "metadata": {
        "id": "5-YiDiwGKvkR"
      }
    },
    {
      "cell_type": "code",
      "source": [
        "#\n",
        "# Create Histogram of Price\n",
        "#\n",
        "binSize = 50\n",
        "\n",
        "plt.figure(figsize = (10, 6))\n",
        "sns.histplot(df['price'], bins = binSize, color = 'skyblue') # Change the bin size to see the effect\n",
        "# sns.histplot(data=df, x='price', hue='category', bins = binSize) # Change the bin size to see the effect\n",
        "plt.title('Distribution of House Prices', fontsize = 16)\n",
        "plt.xlabel('Price', fontsize = 12)\n",
        "plt.ylabel('Frequency', fontsize = 12)\n",
        "plt.show()"
      ],
      "metadata": {
        "id": "DkSwV4q1KypF"
      },
      "execution_count": null,
      "outputs": []
    },
    {
      "cell_type": "markdown",
      "source": [
        "# **Analysis of House Price Distribution Histogram**\n",
        "\n",
        "## Dataset Context\n",
        "* **Total Records**: 10,000 houses\n",
        "* **Number of Bins**: 50 bins\n",
        "* **Price Range**: 0 to ~10 million\n",
        "* **Bin Width**: Approximately $200,000 per bin\n",
        "\n",
        "---\n",
        "\n",
        "## Key Observations\n",
        "\n",
        "### 1. **Extremely Uniform Distribution**\n",
        "The histogram shows a remarkably uniform distribution across all price ranges:\n",
        "- **Frequency Range**: 480-540 houses per bin\n",
        "- **Expected Average**: 200 houses per bin (10,000 ÷ 50)\n",
        "\n",
        "### 2. **Notable Peaks**\n",
        "Two prominent peaks are visible:\n",
        "- **Peak 1**: Around $0-$200K range (~530 frequency)\n",
        "- **Peak 2**: Around $800K-$1M range (~540 frequency)\n",
        "- **Consistent Middle**: $400K-$1.6M shows stable 480-510 frequencies\n",
        "\n",
        "### 3. **Minimal Variation**\n",
        "- **Standard deviation** appears very low across bins\n",
        "- **Range**: Only ~60 frequency difference between highest and lowest bars\n",
        "- **Pattern**: No significant drops or spikes except at the identified peaks\n",
        "\n",
        "---\n",
        "\n",
        "## Statistical Implications\n",
        "\n",
        "### Expected vs Actual Distribution\n",
        "\n",
        "| Aspect | Expected (Real Market) | Observed (This Dataset) |\n",
        "|--------|------------------------|-------------------------|\n",
        "| **Shape** | Right-skewed | Nearly uniform |\n",
        "| **Low-price homes** | High concentration | Moderate concentration |\n",
        "| **High-price homes** | Sharp decline | Consistent presence |\n",
        "| **Clustering** | Clear price clusters | Minimal clustering |\n",
        "\n",
        "---\n",
        "\n",
        "## Real-World Housing Market Comparison\n",
        "\n",
        "### Typical Housing Market Characteristics:\n",
        "1. **Right-skewed distribution** - Most homes in lower price ranges\n",
        "2. **Exponential decay** - Fewer homes at higher prices\n",
        "3. **Market clustering** - Concentration around local median prices\n",
        "4. **Price gaps** - Empty or low-frequency bins at extreme high prices\n",
        "\n",
        "### This Dataset's Unusual Features:\n",
        "- **Equal representation** across all price tiers\n",
        "- **No price deserts** - Even 8M-10M range has 460+ homes\n",
        "- **Flat distribution** - Contradicts economic housing principles\n",
        "- **Consistent supply** - Uniform availability across price spectrum\n",
        "\n",
        "### Likely Conclusion:\n",
        "This appears to be a **Pre-processed dataset** designed for:\n",
        "- **Educational purposes** in data science courses\n",
        "- **Machine learning training** with balanced classes\n",
        "- **Statistical modeling** without real-world market bias\n",
        "\n",
        "---\n",
        "\n",
        "## Summary\n",
        "\n",
        "This histogram represents an **artificially uniform distribution** of house prices that is **highly atypical** of real-world housing markets. While useful for educational purposes and algorithm testing, it should not be interpreted as representative of actual market conditions or used for real estate market analysis without significant caveats."
      ],
      "metadata": {
        "id": "TO-XMsI7Ptkw"
      }
    },
    {
      "cell_type": "markdown",
      "source": [
        "## **Histogram of Square Meters**"
      ],
      "metadata": {
        "id": "ITY1jsK_Vp6-"
      }
    },
    {
      "cell_type": "code",
      "source": [
        "#\n",
        "# Create Histogram of Square Meters\n",
        "#\n",
        "binSize = 50\n",
        "\n",
        "plt.figure(figsize = (10, 6))\n",
        "sns.histplot(df['price'], bins = binSize, color = 'coral') # Change the bin size to see the effect\n",
        "# sns.histplot(data=df, x='price', hue='category', bins = binSize) # Change the bin size to see the effect\n",
        "plt.title('Distribution of House Square Meters', fontsize = 16)\n",
        "plt.xlabel('Square Meters', fontsize = 12)\n",
        "plt.ylabel('Frequency', fontsize = 12)\n",
        "plt.show()"
      ],
      "metadata": {
        "id": "z4h-_PxaWVUR"
      },
      "execution_count": null,
      "outputs": []
    },
    {
      "cell_type": "markdown",
      "source": [
        "# Analysis of House Square Meters Distribution\n",
        "\n",
        "## What I See in This Chart\n",
        "\n",
        "Looking at this histogram, I can see:\n",
        "- All the bars are about the same height (around 200)\n",
        "- The bars go from 0 to 10,000,000 square meters\n",
        "- It looks very similar to the price chart we saw earlier\n",
        "\n",
        "## Basic Observations\n",
        "\n",
        "### The Distribution Looks Very Flat\n",
        "- Most bars are between 180-230 houses\n",
        "- There's no big peaks or valleys\n",
        "- This is pretty unusual for house data\n",
        "\n",
        "### The Numbers Seem Really Big\n",
        "The x-axis goes up to **1e7**, which means **10,000,000 square meters**. That's huge!\n",
        "\n",
        "To put this in perspective:\n",
        "- A normal house is about 150-200 square meters\n",
        "- A big house might be 400-500 square meters  \n",
        "- 10,000,000 square meters = 10 square kilometers!\n",
        "\n",
        "That's like saying some houses are the size of a small town, which doesn't make sense.\n",
        "\n",
        "## Comparing to the Price Chart\n",
        "\n",
        "Both charts look almost identical:\n",
        "- Same flat, uniform pattern\n",
        "- Same lack of clustering\n",
        "- Both have unrealistic ranges\n",
        "\n",
        "## What This Probably Means\n",
        "\n",
        "This data is likely:\n",
        "- **Made up for learning purposes** (not real house data)\n",
        "- **Has some errors** in the measurements\n",
        "- **Created to be balanced** so every range has similar numbers\n",
        "\n",
        "## Simple Conclusion\n",
        "\n",
        "This doesn't look like real house data because:\n",
        "1. Real houses don't come in sizes up to 10 km²\n",
        "2. Most houses cluster around normal sizes (like 100-300 m²)\n",
        "3. The pattern is too perfect and uniform\n",
        "\n",
        "This is probably a practice dataset for learning data analysis, not actual housing market information."
      ],
      "metadata": {
        "id": "R_Jdf-u3Zfy5"
      }
    },
    {
      "cell_type": "markdown",
      "source": [
        "## **Box plot of Price by Category**"
      ],
      "metadata": {
        "id": "wrNFLfnUZrSo"
      }
    },
    {
      "cell_type": "code",
      "source": [
        "#\n",
        "# Create Box Plot of Price by Category\n",
        "#\n",
        "plt.figure(figsize = (12, 7))\n",
        "sns.boxplot(x = 'category', y = 'price', data = df)\n",
        "plt.title('Price Distribution by Category', fontsize = 16)\n",
        "plt.xlabel('Price Category', fontsize = 12)\n",
        "plt.ylabel('Price', fontsize = 12)\n",
        "plt.show()"
      ],
      "metadata": {
        "id": "LNHAz8ntZ7CU"
      },
      "execution_count": null,
      "outputs": []
    },
    {
      "cell_type": "markdown",
      "source": [
        "# Box Plot Analysis: Price Distribution by Category\n",
        "\n",
        "## What I See in This Chart\n",
        "\n",
        "Looking at these two box plots, I can see that **both \"Basic\" and \"Luxury\" houses have almost identical price ranges**.\n",
        "\n",
        "## Simple Observations\n",
        "\n",
        "### The Boxes Look Almost Identical\n",
        "- Both boxes are about the same size\n",
        "- Both start around the same price (about 2.5 million)\n",
        "- Both end around the same price (about 7.5 million)\n",
        "- The middle line (median) is in almost the same spot for both\n",
        "\n",
        "### What This Means\n",
        "- **Basic houses**: Range from ~2.5M to 7.5M\n",
        "- **Luxury houses**: Range from ~2.5M to 7.5M\n",
        "- **No real difference** between the categories!\n",
        "\n",
        "## This is Strange Because...\n",
        "\n",
        "In the real world, we'd expect:\n",
        "- **Basic houses**: Lower prices (like 200K - 500K)\n",
        "- **Luxury houses**: Higher prices (like 800K - 2M+)\n",
        "- **Clear separation** between the two categories\n",
        "\n",
        "## What's Wrong Here?\n",
        "\n",
        "This confirms our earlier findings about the synthetic data:\n",
        "\n",
        "1. **Categories don't make sense** - Both Basic and Luxury cost the same\n",
        "2. **No price separation** - Categories are meaningless\n",
        "3. **More evidence** this is fake/practice data\n",
        "\n",
        "## Simple Conclusion\n",
        "\n",
        "The box plot shows that **\"Basic\" and \"Luxury\" categories are just random labels** in this dataset. There's no actual difference in pricing between them.\n",
        "\n",
        "This is another sign that this dataset was created for learning purposes and doesn't represent real housing market data where luxury homes would definitely cost more than basic ones!"
      ],
      "metadata": {
        "id": "oYS3v2Q_BJDQ"
      }
    },
    {
      "cell_type": "markdown",
      "source": [
        "## **Count Plot of City Part Range**"
      ],
      "metadata": {
        "id": "wqOyMy0YC4Un"
      }
    },
    {
      "cell_type": "code",
      "source": [
        "#\n",
        "# Create Count Plot of City Part Range\n",
        "#\n",
        "plt.figure(figsize = (10, 6))\n",
        "sns.countplot(x = 'cityPartRange', data = df)\n",
        "plt.title('Number of Houses per City Part', fontsize = 16)\n",
        "plt.xlabel('City Part Range', fontsize = 12)\n",
        "plt.ylabel('Count', fontsize = 12)\n",
        "plt.show()"
      ],
      "metadata": {
        "id": "bqws270pBhpq"
      },
      "execution_count": null,
      "outputs": []
    },
    {
      "cell_type": "markdown",
      "source": [
        "# Count Plot Analysis: Number of Houses per City Part\n",
        "\n",
        "## What I See in This Chart\n",
        "\n",
        "Looking at this bar chart, I can see that **all city parts have almost the same number of houses**.\n",
        "\n",
        "## Simple Observations\n",
        "\n",
        "### All Bars Look Nearly Identical\n",
        "- All bars are around **1,000 houses** each\n",
        "- City Part 5 has slightly more (around 1,050)\n",
        "- City Part 6 has slightly less (around 950)\n",
        "- But overall, they're all very similar\n",
        "\n",
        "### What This Means\n",
        "- Each city part has roughly **1,000 houses** out of 10,000 total\n",
        "- **Perfect distribution** across all 10 city parts\n",
        "- **No clustering** in popular areas\n",
        "\n",
        "## This is Unrealistic Because...\n",
        "\n",
        "In real cities, we'd expect:\n",
        "- **Popular areas**: More houses (downtown, good schools)\n",
        "- **Less popular areas**: Fewer houses (industrial, remote)\n",
        "- **Big differences** between city parts\n",
        "- **Some variation** based on geography and development\n",
        "\n",
        "## What We'd See in Real Data\n",
        "- Some city parts might have **2,000+ houses**\n",
        "- Others might have only **200-300 houses**\n",
        "- **Uneven distribution** based on:\n",
        "  - Population density\n",
        "  - Available land\n",
        "  - City planning\n",
        "  - Economic factors\n",
        "\n",
        "## Another Sign of Fake Data\n",
        "\n",
        "This adds to our growing evidence:\n",
        "\n",
        "1. **Uniform price distribution** ✓\n",
        "2. **Uniform square meters** ✓  \n",
        "3. **No difference between Basic/Luxury** ✓\n",
        "4. **Equal houses in all city parts** ✓\n",
        "\n",
        "## Simple Conclusion\n",
        "\n",
        "This chart shows **perfect artificial balance** across all city parts, which never happens in real cities.\n",
        "\n",
        "Real cities have **natural clustering** - some areas are more developed, some are more popular, and some have geographical constraints.\n",
        "\n",
        "This is more proof that our dataset is **created for learning purposes** rather than representing actual housing market data!"
      ],
      "metadata": {
        "id": "VPaamgRdI9u0"
      }
    },
    {
      "cell_type": "markdown",
      "source": [
        "## **Count Plot of Has Pool**"
      ],
      "metadata": {
        "id": "hSfKlh5OJJf9"
      }
    },
    {
      "cell_type": "code",
      "source": [
        "#\n",
        "# Create Count Plot of Has Pool\n",
        "#\n",
        "plt.figure(figsize = (8,6))\n",
        "sns.countplot(x = 'hasPool', data = df)\n",
        "plt.title('Number of Houses that has Swimming Pool', fontsize = 16)\n",
        "plt.xlabel('Has Swimming Pool', fontsize = 12)\n",
        "plt.ylabel('Count', fontsize = 12)\n",
        "plt.show()"
      ],
      "metadata": {
        "id": "ncVHm2zzJiMw"
      },
      "execution_count": null,
      "outputs": []
    },
    {
      "cell_type": "markdown",
      "source": [
        "# Count Plot Analysis: Number of Houses that have Swimming Pool\n",
        "\n",
        "## What I See in This Chart\n",
        "\n",
        "Looking at this count plot, I can see that **exactly half the houses have pools and half don't**. This continues the pattern we've been seeing!\n",
        "\n",
        "## Simple Observations\n",
        "\n",
        "### Perfect 50/50 Split\n",
        "- **Houses without pools (0)**: About 5,000 houses\n",
        "- **Houses with pools (1)**: About 5,000 houses\n",
        "- **Almost identical bar heights**\n",
        "- **Perfect balance** between the two categories\n",
        "\n",
        "### What This Means\n",
        "- Exactly **50% of houses** have swimming pools\n",
        "- Exactly **50% of houses** don't have swimming pools\n",
        "- **No natural variation** in pool ownership\n",
        "\n",
        "## This is Unrealistic Because...\n",
        "\n",
        "In real housing markets, we'd expect:\n",
        "- **Most houses DON'T have pools** (maybe 15-25% have pools)\n",
        "- **Pools are expensive** to install and maintain\n",
        "- **Climate matters** - more pools in hot areas, fewer in cold areas\n",
        "- **Income levels** - luxury areas have more pools\n",
        "- **Uneven distribution** based on geography and economics\n",
        "\n",
        "## What We'd See in Real Data\n",
        "- Maybe **2,000 houses with pools** (20%)\n",
        "- Maybe **8,000 houses without pools** (80%)\n",
        "- **Big difference** between the bar heights\n",
        "- **Variation by city part** and price range\n",
        "\n",
        "## Another Perfect Balance\n",
        "\n",
        "This adds to our growing list of artificial patterns:\n",
        "\n",
        "1. **Uniform price distribution** ✓\n",
        "2. **Uniform square meters** ✓  \n",
        "3. **No difference between Basic/Luxury** ✓\n",
        "4. **Equal houses in all city parts** ✓\n",
        "5. **Exactly 50% have pools** ✓\n",
        "\n",
        "## Simple Conclusion\n",
        "\n",
        "This chart shows **another perfect 50/50 split** that doesn't happen in real life.\n",
        "\n",
        "In reality, **swimming pools are relatively rare** because they're expensive, require maintenance, and depend on climate and income levels.\n",
        "\n",
        "This is more evidence that our dataset was **artificially created** with balanced categories rather than reflecting actual housing market patterns!"
      ],
      "metadata": {
        "id": "tqEDV2oALi7k"
      }
    },
    {
      "cell_type": "markdown",
      "source": [
        "# **Bivariate Analysis**  \n",
        "\n",
        "### **Creates bivariate plots to show the relationships between two variables**"
      ],
      "metadata": {
        "id": "Zy_ABfRELx5_"
      }
    },
    {
      "cell_type": "markdown",
      "source": [
        "## **Scatter plot of Square Meters vs. Price, colored by isNewBuilt**"
      ],
      "metadata": {
        "id": "iICzcnjXOM-k"
      }
    },
    {
      "cell_type": "code",
      "source": [
        "#\n",
        "# Create Scatter Plot of Square Meters vs. Price, colored by isNewBuilt\n",
        "#\n",
        "plt.figure(figsize = (12, 8 ))\n",
        "sns.scatterplot(x = 'squareMeters', y = 'price', hue = 'isNewBuilt', data = df)\n",
        "plt.title('House Price vs. Square Meters (Colored by New Built Status)', fontsize = 16)\n",
        "plt.xlabel('Square Meters', fontsize = 12)\n",
        "plt.ylabel('Price', fontsize = 12)\n",
        "plt.legend(title = 'New Built')\n",
        "# Both 'Existing' and 'New' shows same colour, when passing 'labels' Parameter\n",
        "# plt.legend(title = 'New Built', labels = ['Existing', 'New'])\n",
        "plt.show()"
      ],
      "metadata": {
        "id": "-SpC98K1OpkN"
      },
      "execution_count": null,
      "outputs": []
    },
    {
      "cell_type": "code",
      "source": [
        "#\n",
        "# Create Scatter Plot of Square Meters vs. Price, colored by isNewBuilt\n",
        "# Another Way to Work-Around LEGEND Issue\n",
        "#\n",
        "df['descNewBuilt'] = df['isNewBuilt'].apply(lambda x: 'Existing' if x == 0 else 'New')\n",
        "plt.figure(figsize = (12, 8 ))\n",
        "sns.scatterplot(x = 'squareMeters', y = 'price', hue = 'descNewBuilt', data = df)\n",
        "plt.title('House Price vs. Square Meters (Colored by New Built Status)', fontsize = 16)\n",
        "plt.xlabel('Square Meters', fontsize = 12)\n",
        "plt.ylabel('Price', fontsize = 12)\n",
        "plt.show()"
      ],
      "metadata": {
        "id": "kTcTK9_SZP74"
      },
      "execution_count": null,
      "outputs": []
    },
    {
      "cell_type": "markdown",
      "source": [
        "# Scatter Plot Analysis: House Price vs. Square Meters (Colored by New Built Status)\n",
        "\n",
        "## What I See in This Chart\n",
        "\n",
        "Looking at this scatter plot, I can see a **perfect straight line** going from bottom-left to top-right. This is the most artificial-looking pattern yet!\n",
        "\n",
        "## Simple Observations\n",
        "\n",
        "### Perfect Linear Relationship\n",
        "- **Perfect straight line** - no scatter at all\n",
        "- **Bigger house = Higher price** in exact proportion\n",
        "- **No variation** around the line\n",
        "- **Blue and orange dots** are perfectly mixed along the same line\n",
        "\n",
        "### Color Pattern (New Built Status)\n",
        "- **Blue dots (Existing houses)** and **Orange dots (New houses)** are scattered randomly\n",
        "- **No difference** in pricing between new and existing houses\n",
        "- **50/50 split** of colors along the entire line\n",
        "\n",
        "## This is EXTREMELY Unrealistic Because...\n",
        "\n",
        "In real housing data, we'd expect:\n",
        "- **Scattered points** around a general trend line\n",
        "- **Some variation** - houses of same size with different prices\n",
        "- **Different factors** affecting price beyond just size\n",
        "- **New houses** typically cost MORE than existing ones\n",
        "- **Market fluctuations** creating natural scatter\n",
        "\n",
        "## What Real Data Would Look Like\n",
        "- **Cloud of points** with a general upward trend\n",
        "- **New houses** (orange) mostly above existing houses (blue)\n",
        "- **Some houses** priced higher/lower due to location, condition, features\n",
        "- **Natural variation** in the relationship\n",
        "\n",
        "## This is Clearly Artificial Data\n",
        "\n",
        "This scatter plot shows:\n",
        "\n",
        "1. **Mathematical formula** - Price = Size × Some_Constant\n",
        "2. **No real-world factors** affecting price\n",
        "3. **Perfect correlation** (probably R² = 1.0)\n",
        "4. **Generated data** following a simple equation\n",
        "\n",
        "## Previous Evidence + This Chart\n",
        "\n",
        "Our growing list of artificial patterns:\n",
        "\n",
        "1. **Uniform price distribution** ✓\n",
        "2. **Uniform square meters** ✓  \n",
        "3. **No difference between Basic/Luxury** ✓\n",
        "4. **Equal houses in all city parts** ✓\n",
        "5. **Exactly 50% have pools** ✓\n",
        "6. **Perfect linear price-size relationship** ✓\n",
        "\n",
        "## Simple Conclusion\n",
        "\n",
        "This scatter plot is the **strongest evidence yet** that this dataset is completely artificial.\n",
        "\n",
        "Real housing markets have **natural variation**, **market forces**, and **multiple factors** affecting price. A perfect straight line like this only happens when someone writes a computer program that says:\n",
        "\n",
        "**\"Price = Square_Meters × 100\"** (or some similar simple formula)\n",
        "\n",
        "This is definitely **synthetic data created for educational purposes**!"
      ],
      "metadata": {
        "id": "EygZ5uxCbSNt"
      }
    },
    {
      "cell_type": "markdown",
      "source": [
        "## **Bar chart of the Average Price Per City Part Range**"
      ],
      "metadata": {
        "id": "KM9-JiQmc-Rv"
      }
    },
    {
      "cell_type": "code",
      "source": [
        "#\n",
        "# Create Bar Chart of Average Price Per City Part Range\n",
        "# Using seaborn\n",
        "#\n",
        "plt.figure(figsize = (10, 6))\n",
        "\n",
        "# averagePricePerCityPartRange = df.groupby('cityPartRange')['price'].mean() # pandas.core.frame.Series\n",
        "# The above is returning a 'Series' but 'data' Parameter expects a Data Frame.\n",
        "# Add 'reset_index()' after taking 'mean' converts this into a Data Frame\n",
        "#\n",
        "# TypeError                                 Traceback (most recent call last)\n",
        "# /tmp/ipython-input-4140187221.py in <cell line: 0>()\n",
        "#       4 plt.figure(figsize = (10, 6))\n",
        "#       5 averagePricePerCityPartRange = df.groupby('cityPartRange')['price'].mean()\n",
        "# ----> 6 sns.barplot(x = 'cityPartRange', y = 'price', data = averagePricePerCityPartRange)\n",
        "#\n",
        "# 5 frames\n",
        "# /usr/local/lib/python3.12/dist-packages/seaborn/_core/data.py in handle_data_source(data)\n",
        "#     276     elif data is not None and not isinstance(data, Mapping):\n",
        "#     277         err = f\"Data source must be a DataFrame or Mapping, not {type(data)!r}.\"\n",
        "# --> 278         raise TypeError(err)\n",
        "#     279\n",
        "#     280     return data\n",
        "#\n",
        "# TypeError: Data source must be a DataFrame or Mapping, not <class 'pandas.core.series.Series'>.\n",
        "\n",
        "averagePricePerCityPartRange = df.groupby('cityPartRange')['price'].mean().reset_index() # pandas.core.frame.DataFrame\n",
        "sns.barplot(x = 'cityPartRange', y = 'price', data = averagePricePerCityPartRange)\n",
        "plt.title('Average House Price by City Part Range', fontsize=16)\n",
        "plt.xlabel('City Part Range', fontsize=12)\n",
        "plt.ylabel('Average Price', fontsize=12)\n",
        "plt.show()"
      ],
      "metadata": {
        "id": "ctHsV7Vd229p"
      },
      "execution_count": null,
      "outputs": []
    },
    {
      "cell_type": "code",
      "source": [
        "#\n",
        "# Create Bar Chart of Average Price Per City Part Range\n",
        "# Using pyplot\n",
        "#\n",
        "plt.figure(figsize = (10, 6))\n",
        "averagePricePerCityPartRange = df.groupby('cityPartRange')['price'].mean().reset_index() # pandas.core.frame.DataFrame\n",
        "plt.bar(x = averagePricePerCityPartRange['cityPartRange'], height = averagePricePerCityPartRange['price'])\n",
        "plt.title('Average House Price by City Part Range', fontsize=16)\n",
        "plt.xlabel('City Part Range', fontsize=12)\n",
        "plt.ylabel('Average Price', fontsize=12)\n",
        "plt.show()"
      ],
      "metadata": {
        "id": "-4q6YtFT8Lnx"
      },
      "execution_count": null,
      "outputs": []
    },
    {
      "cell_type": "markdown",
      "source": [
        "# Bar Chart Analysis: Average House Price by City Part Range\n",
        "\n",
        "## What I See in This Chart\n",
        "\n",
        "Looking at this bar chart, I can see that **all city parts have almost exactly the same average house price**. The pattern continues!\n",
        "\n",
        "## Simple Observations\n",
        "\n",
        "### All Bars Look Identical\n",
        "- All bars are around **5 million dollars** average price\n",
        "- **No variation** between different city parts\n",
        "- City Part 5 might be slightly higher (around 5.1M)\n",
        "- But overall, they're all practically the same\n",
        "\n",
        "### What This Means\n",
        "- **Every city part** has the same average house price\n",
        "- **No premium locations** or cheaper areas\n",
        "- **Perfect price uniformity** across all areas\n",
        "\n",
        "## This is Completely Unrealistic Because...\n",
        "\n",
        "In real cities, we'd expect **huge differences** between areas:\n",
        "- **Downtown/Premium areas**: Maybe 8M average\n",
        "- **Good suburban areas**: Maybe 6M average  \n",
        "- **Average neighborhoods**: Maybe 4M average\n",
        "- **Less desirable areas**: Maybe 2M average\n",
        "- **Industrial/remote areas**: Maybe 1M average\n",
        "\n",
        "## What Makes Areas Different in Real Life\n",
        "- **Location desirability** (near beaches, downtown, schools)\n",
        "- **Safety and crime rates**\n",
        "- **School district quality**\n",
        "- **Transportation access**\n",
        "- **Local amenities** (parks, shopping, restaurants)\n",
        "- **Economic development**\n",
        "\n",
        "## Another Perfect Balance\n",
        "\n",
        "This adds to our overwhelming evidence:\n",
        "\n",
        "1. **Uniform price distribution** ✓\n",
        "2. **Uniform square meters** ✓  \n",
        "3. **No difference between Basic/Luxury** ✓\n",
        "4. **Equal houses in all city parts** ✓\n",
        "5. **Exactly 50% have pools** ✓\n",
        "6. **Perfect linear price-size relationship** ✓\n",
        "7. **Same average price in all city parts** ✓\n",
        "\n",
        "## Simple Conclusion\n",
        "\n",
        "This chart shows **another impossible uniformity** - all city parts have the exact same average house price.\n",
        "\n",
        "In real cities, **location is everything** in real estate. Some areas are worth 3-5x more than others based on desirability, safety, schools, and amenities.\n",
        "\n",
        "This is the **seventh chart** showing artificial balance, confirming beyond any doubt that this dataset is **completely synthetic** and created for learning purposes rather than representing any real housing market!"
      ],
      "metadata": {
        "id": "mCXEeT7jCslx"
      }
    },
    {
      "cell_type": "markdown",
      "source": [
        "## **Box Plot of Price by Storm Protector Presence**"
      ],
      "metadata": {
        "id": "5xlvY_HCC73g"
      }
    },
    {
      "cell_type": "code",
      "source": [
        "#\n",
        "# Create Box Plot of Price by Strom Protector Presence\n",
        "#\n",
        "plt.figure(figsize = (8, 6))\n",
        "sns.boxplot(x = 'hasStormProtector', y = 'price', data = df)\n",
        "plt.title('Price Distribution by Storm Protector Presence', fontsize = 16)\n",
        "plt.xlabel('Storm Protector Presence', fontsize = 12)\n",
        "plt.ylabel('Price', fontsize = 12)\n",
        "plt.show()"
      ],
      "metadata": {
        "id": "4U448xGnDB00"
      },
      "execution_count": null,
      "outputs": []
    },
    {
      "cell_type": "markdown",
      "source": [
        "# Box Plot Analysis: Price Distribution by Storm Protector Presence\n",
        "\n",
        "## What I See in This Chart\n",
        "\n",
        "Looking at these box plots, I can see that **houses with and without storm protectors have exactly the same price ranges**. The artificial pattern strikes again!\n",
        "\n",
        "## Simple Observations\n",
        "\n",
        "### Identical Box Plots\n",
        "- **Both boxes are exactly the same size and position**\n",
        "- **Same median price** (middle line around 5M)\n",
        "- **Same price range** (roughly 2.5M to 7.5M)\n",
        "- **Same quartiles** (25th and 75th percentiles)\n",
        "- **Identical whiskers** (min and max values)\n",
        "\n",
        "### What This Means\n",
        "- **Storm protectors don't affect price** at all\n",
        "- **No premium** for having storm protection\n",
        "- **Perfect price equality** between both groups\n",
        "\n",
        "## This is Unrealistic Because...\n",
        "\n",
        "In real housing markets, we'd expect:\n",
        "- **Storm protectors add value** - they're expensive safety features\n",
        "- **Higher prices** for houses with storm protection\n",
        "- **Regional differences** - more valuable in storm-prone areas\n",
        "- **Insurance benefits** - lower premiums might increase home value\n",
        "- **Clear price separation** between protected and unprotected homes\n",
        "\n",
        "## What We'd See in Real Data\n",
        "- **Houses WITH storm protectors**: Higher median price (maybe 6M)\n",
        "- **Houses WITHOUT storm protectors**: Lower median price (maybe 4.5M)\n",
        "- **Different box sizes** showing different price distributions\n",
        "- **Clear value difference** for safety features\n",
        "\n",
        "## This Follows the Exact Same Pattern\n",
        "\n",
        "Our growing list of identical artificial patterns:\n",
        "\n",
        "1. **Uniform price distribution** ✓\n",
        "2. **Uniform square meters** ✓  \n",
        "3. **No difference between Basic/Luxury** ✓\n",
        "4. **Equal houses in all city parts** ✓\n",
        "5. **Exactly 50% have pools** ✓\n",
        "6. **Perfect linear price-size relationship** ✓\n",
        "7. **Same average price in all city parts** ✓\n",
        "8. **No price difference for storm protectors** ✓\n",
        "\n",
        "## Simple Conclusion\n",
        "\n",
        "This box plot shows **another impossible scenario** - expensive safety features like storm protectors have zero impact on house prices.\n",
        "\n",
        "In real life, **storm protectors are valuable additions** that increase home value through:\n",
        "- **Safety benefits**\n",
        "- **Insurance savings**  \n",
        "- **Peace of mind**\n",
        "- **Reduced maintenance costs**\n",
        "\n",
        "This is the **eighth chart** showing artificial uniformity, adding even more proof that this dataset is **completely synthetic** and doesn't reflect any real housing market dynamics!"
      ],
      "metadata": {
        "id": "KqVxNdf4POF3"
      }
    },
    {
      "cell_type": "markdown",
      "source": [
        "# **Correlation and Relational Plots**  \n",
        "\n",
        "### **Computes and visualizes the correlation matrix of numerical features and pair plot for a high-level overview of key relationships**"
      ],
      "metadata": {
        "id": "ZRTwDK9IPzom"
      }
    },
    {
      "cell_type": "markdown",
      "source": [
        "## **Correlation matrix and heat map**"
      ],
      "metadata": {
        "id": "64O4_wo0QKwa"
      }
    },
    {
      "cell_type": "code",
      "source": [
        "#\n",
        "# Calculate Co-Relation Matrix\n",
        "#\n",
        "\n",
        "#\n",
        "# Select only the numerical columns for correlation analysis\n",
        "#\n",
        "# numericalColumns = ['squareMeters', 'numberOfRooms', 'floors', 'numPrevOwners', 'basement', 'attic', 'garage', 'price']\n",
        "numericalColumns = df.select_dtypes(include = np.number).columns.to_list()\n",
        "# print(numericalColumns)\n",
        "\n",
        "#\n",
        "# Calculate Co-Relation Matrix\n",
        "#\n",
        "correlationMatrix = df[numericalColumns].corr()\n",
        "# print(correlationMatrix)\n",
        "\n",
        "#\n",
        "# Create Heat Map\n",
        "#\n",
        "plt.figure(figsize = (10, 6))\n",
        "sns.heatmap(data = correlationMatrix, annot = True, fmt = '.2f', cmap = 'coolwarm', linewidths = 0.5)\n",
        "plt.title('Correlation Heatmap of Numerical Features', fontsize=16)\n",
        "plt.show()"
      ],
      "metadata": {
        "id": "q--wm03gRdmO"
      },
      "execution_count": null,
      "outputs": []
    },
    {
      "cell_type": "markdown",
      "source": [
        "# Correlation Heatmap Analysis: Numerical Features\n",
        "\n",
        "## What I See in This Chart\n",
        "\n",
        "Looking at this correlation heatmap, I can see that **there are almost no correlations between any variables**. This is the final proof of artificial data!\n",
        "\n",
        "## Simple Observations\n",
        "\n",
        "### Almost All Correlations Are Zero\n",
        "- **Diagonal line** shows 1.00 (each variable perfectly correlates with itself)\n",
        "- **Everything else** shows values like 0.00, 0.01, -0.01, 0.02\n",
        "- **No strong relationships** between any variables\n",
        "- **No red or dark blue colors** except on the diagonal\n",
        "\n",
        "### What This Means\n",
        "- **Price doesn't correlate with size** (should be strong positive)\n",
        "- **Number of rooms doesn't correlate with size** (should be strong positive)  \n",
        "- **No relationships** between any house features\n",
        "- **Perfect independence** between all variables\n",
        "\n",
        "## This is IMPOSSIBLE in Real Data\n",
        "\n",
        "In real housing markets, we'd expect **strong correlations** like:\n",
        "\n",
        "### Expected Strong Correlations:\n",
        "- **Size vs Price**: Should be 0.7-0.9 (bigger = more expensive)\n",
        "- **Size vs Number of Rooms**: Should be 0.6-0.8 (bigger = more rooms)\n",
        "- **Number of Rooms vs Price**: Should be 0.5-0.7 (more rooms = higher price)\n",
        "- **Pool vs Price**: Should be 0.3-0.5 (pools add value)\n",
        "- **New Built vs Price**: Should be 0.2-0.4 (new costs more)\n",
        "\n",
        "### Expected Medium Correlations:\n",
        "- **Floors vs Size**: More floors usually means bigger house\n",
        "- **Garage vs Price**: Garages add value\n",
        "- **Storm Protector vs Price**: Safety features add value\n",
        "\n",
        "## What Real Correlation Heatmaps Look Like\n",
        "- **Lots of colors** - reds, oranges, blues showing relationships\n",
        "- **Strong patterns** between related variables\n",
        "- **Logical groupings** of correlated features\n",
        "- **Clear value relationships**\n",
        "\n",
        "## The Ultimate Proof\n",
        "\n",
        "This correlation matrix shows **perfect artificial independence**:\n",
        "\n",
        "1. **Uniform price distribution** ✓\n",
        "2. **Uniform square meters** ✓  \n",
        "3. **No difference between Basic/Luxury** ✓\n",
        "4. **Equal houses in all city parts** ✓\n",
        "5. **Exactly 50% have pools** ✓\n",
        "6. **Perfect linear price-size relationship** ✓\n",
        "7. **Same average price in all city parts** ✓\n",
        "8. **No price difference for storm protectors** ✓\n",
        "9. **Zero correlations between all variables** ✓\n",
        "\n",
        "## Simple Conclusion\n",
        "\n",
        "This correlation heatmap is the **final smoking gun**.\n",
        "\n",
        "Real housing data has **natural relationships** - bigger houses cost more, more rooms mean bigger houses, luxury features add value. These relationships create correlations.\n",
        "\n",
        "But this dataset shows **zero relationships**, which means the data was generated with **completely independent random variables** - exactly what happens when someone creates synthetic data without considering real-world relationships.\n",
        "\n",
        "This is **conclusive proof** that the dataset is 100% artificial and created purely for educational exercises!"
      ],
      "metadata": {
        "id": "Vdx9umWRWOde"
      }
    },
    {
      "cell_type": "markdown",
      "source": [
        "## **Pair plot**"
      ],
      "metadata": {
        "id": "eVKP4pQ1WfY-"
      }
    },
    {
      "cell_type": "code",
      "source": [
        "#\n",
        "# Creates a pair plot for a high-level overview of key relationships\n",
        "#\n",
        "\n",
        "#\n",
        "# Select a few key numerical columns for the pair plot\n",
        "# Pair plots can be slow on large datasets with many columns\n",
        "#\n",
        "# pairColumns = df.select_dtypes(include = np.number).columns.to_list()\n",
        "pairColumns = ['price', 'squareMeters', 'numberOfRooms', 'floors', 'hasPool']\n",
        "\n",
        "#\n",
        "# Create Pair Plot\n",
        "#\n",
        "plt.figure(figsize = (10, 6))\n",
        "sns.pairplot(data = df[pairColumns])\n",
        "# plt.title('Pair Plot of Key Housing Features', fontsize=16)\n",
        "plt.suptitle('Pair Plot of Key Housing Features', y = 1.02, fontsize = 16)\n",
        "plt.show()"
      ],
      "metadata": {
        "id": "U47Nn2Debt1R"
      },
      "execution_count": null,
      "outputs": []
    },
    {
      "cell_type": "markdown",
      "source": [
        "# **Pie Charts**  \n",
        "\n",
        "### **As we have seen above the data set is absolutely artificial, any more charts is not going to add any values but for academic interest, let's do some Pie Charts**"
      ],
      "metadata": {
        "id": "-yYPwVz8RqXN"
      }
    },
    {
      "cell_type": "code",
      "source": [
        "#\n",
        "# Creates a Pie Chart to show Percentage of house that has pool or not\n",
        "#\n",
        "plt.figure(figsize = (10,6))\n",
        "plt.pie([df['hasPool'].value_counts().get(0, 0), df['hasPool'].value_counts().get(1, 0)], labels = ['No Pool', 'Has Pool'], autopct = '%1.1f%%')\n",
        "plt.title('Distribution of Houses with a Pool', fontsize = 16)\n",
        "plt.show()"
      ],
      "metadata": {
        "id": "SguSWfo2wpYw"
      },
      "execution_count": null,
      "outputs": []
    },
    {
      "cell_type": "code",
      "source": [
        "print(df['hasPool'].value_counts())\n",
        "print(df['hasPool'].value_counts().get(0, 0))\n",
        "print(df['hasPool'].value_counts().get(1, 0))"
      ],
      "metadata": {
        "id": "sMej2TkgTW4d"
      },
      "execution_count": null,
      "outputs": []
    },
    {
      "cell_type": "code",
      "source": [
        "#\n",
        "# Creates a Pie Chart to show the house category (Basic or Luxury)\n",
        "# Different way to the above\n",
        "#\n",
        "\n",
        "#\n",
        "# Count the occurrences for each category\n",
        "#\n",
        "catgoryCounts = df['category'].value_counts()\n",
        "\n",
        "#\n",
        "# Define labels and sizes for the pie chart\n",
        "#\n",
        "labels = catgoryCounts.index\n",
        "sizes  = catgoryCounts.values\n",
        "\n",
        "plt.figure(figsize=(8, 8))\n",
        "plt.pie(\n",
        "         sizes,\n",
        "         labels=labels,\n",
        "         autopct='%1.1f%%'\n",
        "       )\n",
        "plt.title('Distribution of Houses by Category', fontsize=16)\n",
        "plt.axis('equal')\n",
        "plt.show()"
      ],
      "metadata": {
        "id": "vKAolpymRg96"
      },
      "execution_count": null,
      "outputs": []
    }
  ]
}