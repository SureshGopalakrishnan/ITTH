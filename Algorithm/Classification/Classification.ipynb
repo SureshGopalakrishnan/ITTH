{
  "nbformat": 4,
  "nbformat_minor": 0,
  "metadata": {
    "colab": {
      "provenance": [],
      "toc_visible": true
    },
    "kernelspec": {
      "name": "python3",
      "display_name": "Python 3"
    },
    "language_info": {
      "name": "python"
    }
  },
  "cells": [
    {
      "cell_type": "markdown",
      "source": [
        "# **Classification Algorithm : Banking Churn Prediction**\n",
        "\n",
        "\n",
        "---\n",
        "\n",
        "\n",
        "## **Assignment Overview**\n",
        "\n",
        "The objective of this project is to build a **classification model** to predict whether a customer will **churn** (leave the bank) or not. This is a crucial business problem as retaining existing customers is often more cost-effective than acquiring new ones. We will use a dataset with various customer attributes to train a model that can identify customers at risk of churning, allowing for proactive intervention.\n",
        "\n",
        "The process will follow a standard machine learning workflow:\n",
        "1.  **Exploratory Data Analysis (EDA):** We'll start by exploring the data to understand the distribution of variables, identify any relationships, and check for imbalances in our target variable (`churn`).\n",
        "2.  **Data Pre-processing:** This is a critical step where we'll clean and transform the data. This includes handling missing values, encoding categorical variables, and scaling numerical features to prepare them for the model.\n",
        "3.  **Model Building:** We'll select and train a suitable classification algorithm (e.g., Logistic Regression, Decision Tree, Random Forest) on our prepared data.\n",
        "4.  **Evaluation:** We'll evaluate our model's performance using appropriate metrics like accuracy, precision, recall, and a confusion matrix to understand how well it predicts customer churn.\n",
        "\n",
        "**NOTE : We'll use `plotly` for data visualisations**\n",
        "\n",
        "---\n",
        "\n",
        "## **Column Specifications**\n",
        "\n",
        "Here is a detailed breakdown of the columns in the `Banking_churn_prediction.csv` dataset:\n",
        "\n",
        "| Column Name | Description | Data Type |\n",
        "| :--- | :--- | :--- |\n",
        "| **customer_id** | Unique identifier for each customer. | Numerical |\n",
        "| **vintage** | The number of days the customer has been with the bank. | Numerical |\n",
        "| **age** | The customer's age. | Numerical |\n",
        "| **gender** | The customer's gender. | Categorical |\n",
        "| **dependents** | Number of dependents the customer has. | Numerical |\n",
        "| **occupation** | The customer's occupation. | Categorical |\n",
        "| **city** | The city of the customer. | Categorical |\n",
        "| **customer_nw_category** | The net worth category of the customer (1, 2, or 3). | Categorical |\n",
        "| **branch_code** | The bank branch where the customer has an account. | Categorical |\n",
        "| **current_balance** | Current balance in the customer's account. | Numerical |\n",
        "| **previous_month_end_balance** | Balance at the end of the previous month. | Numerical |\n",
        "| **average_monthly_balance_prevQ** | Average monthly balance in the previous quarter. | Numerical |\n",
        "| **average_monthly_balance_prevQ2** | Average monthly balance in the quarter before the previous one. | Numerical |\n",
        "| **current_month_credit** | Total credit transactions in the current month. | Numerical |\n",
        "| **previous_month_credit** | Total credit transactions in the previous month. | Numerical |\n",
        "| **current_month_debit** | Total debit transactions in the current month. | Numerical |\n",
        "| **previous_month_debit** | Total debit transactions in the previous month. | Numerical |\n",
        "| **current_month_balance** | The current month's end balance. | Numerical |\n",
        "| **previous_month_balance** | The previous month's end balance. | Numerical |\n",
        "| **churn** | **Target Variable**: `0` for no churn, `1` for churn. | Categorical (Binary) |\n",
        "| **last_transaction** | Date of the last transaction. This may be a string and need to be converted to a date. | Categorical |"
      ],
      "metadata": {
        "id": "LSOWZxegObqw"
      }
    },
    {
      "cell_type": "markdown",
      "source": [
        "# **Initial Setup**"
      ],
      "metadata": {
        "id": "l-lA8bZ_XB89"
      }
    },
    {
      "cell_type": "code",
      "source": [
        "!pip install lifelines"
      ],
      "metadata": {
        "id": "rDlgFet5JfwA"
      },
      "execution_count": null,
      "outputs": []
    },
    {
      "cell_type": "code",
      "execution_count": null,
      "metadata": {
        "id": "DNIeSAYVLRKZ"
      },
      "outputs": [],
      "source": [
        "#\n",
        "# Import Libraries\n",
        "#\n",
        "import pandas as pd\n",
        "import numpy as np\n",
        "import matplotlib.pyplot as plt\n",
        "import seaborn as sns\n",
        "import plotly.express as px\n",
        "import plotly.graph_objects as go\n",
        "from lifelines import KaplanMeierFitter\n",
        "\n",
        "from sklearn.preprocessing import LabelEncoder, StandardScaler\n",
        "from sklearn.model_selection import train_test_split\n",
        "from sklearn.linear_model import LogisticRegression\n",
        "from sklearn.metrics import accuracy_score, precision_score, recall_score, f1_score, classification_report, confusion_matrix\n",
        "\n",
        "from google.colab import files\n",
        "\n",
        "#\n",
        "# Set Pandas display format for floats\n",
        "#\n",
        "pd.options.display.float_format = '{:.2f}'.format\n",
        "\n",
        "#\n",
        "# Set NumPy's print options to suppress scientific notation and set precision.\n",
        "# 'suppress  = True' - Prevents the use of scientific notation.\n",
        "# 'precision = 2'    - Sets the number of decimal places to display.\n",
        "#\n",
        "np.set_printoptions(suppress = True, precision = 2)"
      ]
    },
    {
      "cell_type": "code",
      "source": [
        "#\n",
        "# Upload the dataset 'Banking_churn_prediction.csv'\n",
        "#\n",
        "uploadOutput = files.upload()"
      ],
      "metadata": {
        "id": "uIXjUQH8Wt_t"
      },
      "execution_count": null,
      "outputs": []
    },
    {
      "cell_type": "markdown",
      "source": [
        "# **Load Data**"
      ],
      "metadata": {
        "id": "mijkAc8DXSoV"
      }
    },
    {
      "cell_type": "code",
      "source": [
        "df = pd.read_csv('Banking_churn_prediction.csv')\n",
        "df.head()"
      ],
      "metadata": {
        "id": "PIq7btLMXR3N"
      },
      "execution_count": null,
      "outputs": []
    },
    {
      "cell_type": "code",
      "source": [
        "print(\"Shape = {}\".format(df.shape))\n",
        "print(\"Size  = {}\".format(df.size))"
      ],
      "metadata": {
        "id": "fwxwdbeDXg65"
      },
      "execution_count": null,
      "outputs": []
    },
    {
      "cell_type": "code",
      "source": [
        "df.info()"
      ],
      "metadata": {
        "id": "JWVfM5QkX0tF"
      },
      "execution_count": null,
      "outputs": []
    },
    {
      "cell_type": "markdown",
      "source": [
        "**Found Missing Data on**\n",
        "* `gender`\n",
        "* `dependents`\n",
        "* `occupation`\n",
        "* `city`"
      ],
      "metadata": {
        "id": "eyj0ej4aYYyo"
      }
    },
    {
      "cell_type": "markdown",
      "source": [
        "# **Statistical Details**"
      ],
      "metadata": {
        "id": "uUomy2sGY_3E"
      }
    },
    {
      "cell_type": "code",
      "source": [
        "df.describe()"
      ],
      "metadata": {
        "id": "xjhc4KMsY65g"
      },
      "execution_count": null,
      "outputs": []
    },
    {
      "cell_type": "code",
      "source": [
        "df.describe().T"
      ],
      "metadata": {
        "id": "hcnN1Wd6ZZBd"
      },
      "execution_count": null,
      "outputs": []
    },
    {
      "cell_type": "code",
      "source": [
        "df.describe(include = 'all')"
      ],
      "metadata": {
        "id": "h6wGmBkFZdmU"
      },
      "execution_count": null,
      "outputs": []
    },
    {
      "cell_type": "markdown",
      "source": [
        "# **Pre-Processing**"
      ],
      "metadata": {
        "id": "BmXyw_kvZlOU"
      }
    },
    {
      "cell_type": "markdown",
      "source": [
        "## **Check Missing Values**"
      ],
      "metadata": {
        "id": "9DKWfYzKaguE"
      }
    },
    {
      "cell_type": "code",
      "source": [
        "#\n",
        "# Find only columns that has missing value\n",
        "#\n",
        "\n",
        "# df.isnull().sum().sort_values(ascending = False)\n",
        "df.isnull().sum()[df.isnull().sum() > 0].sort_values(ascending = False)"
      ],
      "metadata": {
        "id": "ahulgLaKZn1I"
      },
      "execution_count": null,
      "outputs": []
    },
    {
      "cell_type": "code",
      "source": [
        "#\n",
        "# Get the rows that has missing values\n",
        "#\n",
        "missing_value_rows = df[df.isnull().any(axis = 1)]\n",
        "# print(missing_value_rows) # Commented out print as the output is large"
      ],
      "metadata": {
        "id": "9O3asRoKaQL1"
      },
      "execution_count": null,
      "outputs": []
    },
    {
      "cell_type": "code",
      "source": [
        "#\n",
        "# Percentage of missing values\n",
        "#\n",
        "missingValueRows = df.isnull().sum()\n",
        "percentMissing   = ((df.isnull().sum() / df.shape[0]) * 100)\n",
        "\n",
        "missingValueRows = df.isnull().sum()[df.isnull().sum() > 0].sort_values(ascending = False)\n",
        "percentMissing   = ((df.isnull().sum()[df.isnull().sum() > 0].sort_values(ascending = False) / df.shape[0]) * 100)\n",
        "\n",
        "# print(\"Missig Values\")\n",
        "# print(\"=============\")\n",
        "# print(missingValueRows)\n",
        "\n",
        "# print(\"\")\n",
        "\n",
        "# print(\"Percent Missing\")\n",
        "# print(\"===============\")\n",
        "# print(percentMissing)\n",
        "\n",
        "missingData = {\n",
        "                'Missing Value Rows': missingValueRows,\n",
        "                'Missing Percentage': percentMissing\n",
        "              }\n",
        "missingDataFrame = pd.DataFrame(missingData)\n",
        "missingDataFrame"
      ],
      "metadata": {
        "id": "B5EtdPkDesfL"
      },
      "execution_count": null,
      "outputs": []
    },
    {
      "cell_type": "markdown",
      "source": [
        "## **Check Duplicates**"
      ],
      "metadata": {
        "id": "EU7ZZI5gq_H7"
      }
    },
    {
      "cell_type": "code",
      "source": [
        "#\n",
        "# Get Duplicate Count\n",
        "#\n",
        "df.duplicated().sum()"
      ],
      "metadata": {
        "id": "9A83GT_pgaQG"
      },
      "execution_count": null,
      "outputs": []
    },
    {
      "cell_type": "code",
      "source": [
        "#\n",
        "# Get Duplicate Row\n",
        "#\n",
        "duplicatedRows = df[df.duplicated()]\n",
        "print(duplicatedRows)"
      ],
      "metadata": {
        "id": "_VYHo25qquOM"
      },
      "execution_count": null,
      "outputs": []
    },
    {
      "cell_type": "markdown",
      "source": [
        "**No Duplicates**"
      ],
      "metadata": {
        "id": "i2WAFD-Vr-E3"
      }
    },
    {
      "cell_type": "markdown",
      "source": [
        "## **Check Negative Values**"
      ],
      "metadata": {
        "id": "ji5308tmsI8L"
      }
    },
    {
      "cell_type": "code",
      "source": [
        "#\n",
        "# Find Colums that has negative values\n",
        "#\n",
        "numericalColumns = df.select_dtypes(include = np.number).columns\n",
        "\n",
        "for col in numericalColumns:\n",
        "  if df[col].min() < 0:\n",
        "    print(f\"Column '{col}' has negative values. Min value: {df[col].min()}\")\n",
        "\n",
        "print(\"\")\n",
        "print(\"Negative Values Checks Done\")"
      ],
      "metadata": {
        "id": "baAVlsQSsC2H"
      },
      "execution_count": null,
      "outputs": []
    },
    {
      "cell_type": "markdown",
      "source": [
        "**Negative Values are all in Account Balance. Accpetable. No fix required.**"
      ],
      "metadata": {
        "id": "7iIDLfyUs8ih"
      }
    },
    {
      "cell_type": "code",
      "source": [
        "#\n",
        "# Take a copy of the dataframe before making any changes\n",
        "#\n",
        "dfCopied = df.copy()"
      ],
      "metadata": {
        "id": "xuew0JKKvzUz"
      },
      "execution_count": null,
      "outputs": []
    },
    {
      "cell_type": "markdown",
      "source": [
        "## **Data Imputation**"
      ],
      "metadata": {
        "id": "ZgSZlwhttG9-"
      }
    },
    {
      "cell_type": "markdown",
      "source": [
        "** Imputation Strategy**\n",
        "\n",
        "**dependents (Numerical, Count)**\n",
        "* **Imputation Method**  \n",
        "Impute with 0\n",
        "\n",
        "* **Why?**  \n",
        "Your assumption is a strong and logical one. Since this column represents the count of dependents, a missing value most likely means the customer either has no dependents or chose not to declare them. In either case, 0 is the most reasonable and practical value to fill in.\n",
        "\n",
        "**city (Categorical)**\n",
        "* **Imputation Method**  \n",
        "Impute with the **mode** (the most frequent city)\n",
        "\n",
        "* **Why?**  \n",
        "This is a key distinction. city is a categorical column, not a numerical one, even though the dataset shows city as a `float`, but its values, like **187 or 146**, are not **quantities**. They are likely **city codes that act as categorical labels**. We cannot use the median or mean, as those are statistical measures for numbers. The mode is the standard approach for imputing categorical data. By filling in the most common city, we are making a statistically sound assumption that is least likely to distort the original distribution of the data.\n",
        "\n",
        "**gender (Categorical)**\n",
        "* **Imputation Method**  \n",
        "Impute with the **mode** (the most frequent gender)\n",
        "\n",
        "* **Why?**  \n",
        "Like city, gender is a categorical variable. The mode is the correct statistical measure for this. Given the low percentage of missing values (1.85%), filling with the most frequent gender will have a minimal impact on our final model.\n",
        "\n",
        "**occupation (Categorical)**\n",
        "* **Imputation Method**  \n",
        "Impute with the **mode** (the most frequent occupation).\n",
        "\n",
        "* **Why?**  \n",
        "With only 0.28% of values missing, this is the least impactful imputation. Using the mode is the standard and most reliable way to handle missing values in a categorical feature."
      ],
      "metadata": {
        "id": "iFOg98nJtrmi"
      }
    },
    {
      "cell_type": "code",
      "source": [
        "df['city'].mode()"
      ],
      "metadata": {
        "id": "23T0wv_q1HR2"
      },
      "execution_count": null,
      "outputs": []
    },
    {
      "cell_type": "markdown",
      "source": [
        "**Converting `city`, `gender` and `occupation` as categorical columns **\n",
        "\n",
        "\n",
        "---\n",
        "\n",
        "**Somewhere from Google**\n",
        "\n",
        "It is a must in this case. Not converting those columns to the `object` (or categorical) data type will very likely cause issues down the line.\n",
        "\n",
        "Here's a detailed explanation of why it's necessary:\n",
        "\n",
        "**Why Data Types Matter**  \n",
        "When you load a CSV file into a Pandas DataFrame, Pandas automatically infers the data type for each column.\n",
        "\n",
        "* The `gender` and `occupation` columns contain text, so Pandas correctly interprets them as the `object` data type.\n",
        "\n",
        "* The `city` column, however, contains numbers. Because there are some `NaN` (missing) values, Pandas typically defaults to a `numeric` type that can handle floating-point numbers, such as `float64`. It treats the city codes `187`, `146`, etc., as numerical values, not as categorical labels.\n",
        "\n",
        "The issue arises when you get to the **model training** phase. Most machine learning models, especially those from libraries like Scikit-learn, require all input features to be numerical. You'll need to use a technique like **One-Hot Encoding** to convert these categorical columns into a numerical format that the model can understand.\n",
        "\n",
        "**The Problem with Not Converting `city`**  \n",
        "If you don't explicitly convert `city` to an `object` type, it will be treated as a numerical column. When you apply **One-Hot Encoding** to your features, you'll be telling the encoder to operate on the `gender` and `occupation` columns (which are correctly identified as categorical), but it will skip the city column because it's a float.\n",
        "\n",
        "The model will then see the city numbers as a continuous, ordered variable. For example, it might incorrectly assume that a city with a code of `500` is \"greater than\" a city with a code of `100`, and that this numerical difference has some predictive meaning. This is a fundamental misunderstanding of the data, as these codes are just arbitrary labels, not values.\n",
        "\n",
        "The code `df[col] = df[col].astype('object')` is a simple but crucial step to ensure Pandas correctly recognizes `city` as a categorical feature, allowing it to be handled properly during subsequent preprocessing steps like **One-Hot Encoding.**\n",
        "\n",
        "\n",
        "\n",
        "---\n",
        "\n",
        "\n",
        "**Why One-Hot Encoding is Needed for city**  \n",
        "If we didn't one-hot encode the `city` column, the model would interpret it as **continuous numerical data**. It might, for example, assign a higher weight to city codes with larger numbers, which makes no sense from a business or a data perspective. The model would think there's a **linear relationship** where there isn't one. This can lead to the model making incorrect predictions and can hurt its overall performance.\n",
        "\n",
        "One-hot encoding solves this problem by creating a new binary column for each unique city code. For example, instead of a single `city` column with values like `146` or `187`, you would get new columns like `city_146`, `city_187`, etc. A value of 1 in city_146 would indicate that the customer is from that city, and 0 otherwise.\n",
        "\n",
        "This tells the model that each city is a separate, independent category, which is the correct way to represent this information.\n",
        "\n",
        "\n",
        "---\n",
        "\n",
        "\n",
        "**Curse of dimensionality**  \n",
        "**One-hot encoding** the `city` column will create a large number of new features, one for each unique city code. This can potentially lead to a less efficient model and may cause issues like overfitting, where the model learns the training data too well but struggles to generalize to new, unseen data.\n",
        "\n",
        "However, despite this, it's a necessary step because the alternative is much worse. If we treat the `city` codes as a single numerical column, the model would assume that the distance between city `100` and `200` is the same as the distance between city `500` and `600`, which is not true. These numbers are just arbitrary labels. **One-hot encoding** avoids this fundamental and incorrect assumption by treating each city as a separate, distinct entity.\n",
        "\n",
        "For this assignment, the trade-off is worth it because it ensures the model correctly interprets the data. In more complex real-world scenarios with thousands of unique cities, you might explore techniques like **dimensionality reduction after one-hot encoding** to address the issue."
      ],
      "metadata": {
        "id": "lSNsZmPz4MGo"
      }
    },
    {
      "cell_type": "code",
      "source": [
        "#\n",
        "# Impute missing values\n",
        "# Using the strategy above\n",
        "#\n",
        "df['dependents'] = df['dependents'].fillna(0)\n",
        "\n",
        "#\n",
        "# Columns city, gender, occupation, customer_nw_category, branch_code\n",
        "#    These are categorical, even if 'city' is currently a float.\n",
        "#    First, ensure they are treated as categorical columns.\n",
        "#\n",
        "for col in ['city', 'gender', 'occupation', 'customer_nw_category', 'branch_code']:\n",
        "  df[col] = df[col].astype('category')\n",
        "\n",
        "#\n",
        "# Impute missing values for categorical columns\n",
        "# mode - Returns a series (see Above), so we need to specify the index [0]\n",
        "#\n",
        "df['city']       = df['city'].fillna(df['city'].mode()[0])\n",
        "df['gender']     = df['gender'].fillna(df['gender'].mode()[0])\n",
        "df['occupation'] = df['occupation'].fillna(df['occupation'].mode()[0])"
      ],
      "metadata": {
        "id": "ssK3CKiKtmJs"
      },
      "execution_count": null,
      "outputs": []
    },
    {
      "cell_type": "code",
      "source": [
        "df.info()"
      ],
      "metadata": {
        "id": "9lhlonj27dq1"
      },
      "execution_count": null,
      "outputs": []
    },
    {
      "cell_type": "code",
      "source": [
        "#\n",
        "# Check missing values again\n",
        "#\n",
        "df.isnull().sum()[df.isnull().sum() > 0].sort_values(ascending = False)"
      ],
      "metadata": {
        "id": "mKdMLOxG2Bn9"
      },
      "execution_count": null,
      "outputs": []
    },
    {
      "cell_type": "markdown",
      "source": [
        "**Imputation Done. No missing values now**"
      ],
      "metadata": {
        "id": "NcvJ3Ti42JsA"
      }
    },
    {
      "cell_type": "code",
      "source": [
        "#\n",
        "# Finally create churn_status Column\n",
        "#   0 = Retained\n",
        "#   1 = Churned\n",
        "#\n",
        "# We can use it charts for better readability\n",
        "#\n",
        "\n",
        "#\n",
        "# Convert the 'churn' column to a more descriptive string for plotting\n",
        "#\n",
        "# Create the new 'churn_status' column\n",
        "# df['churn_status'] = df['churn'].apply(lambda x: 'Churned' if x == 1 else 'Retained')\n",
        "df['churn_status'] = df['churn'].map({0: 'Retained', 1: 'Churned'})\n",
        "df.head()"
      ],
      "metadata": {
        "id": "rvXqhLH5mC0F"
      },
      "execution_count": null,
      "outputs": []
    },
    {
      "cell_type": "markdown",
      "source": [
        "# **Data Visualisation - Part 1**"
      ],
      "metadata": {
        "id": "TLreJqAI2dvU"
      }
    },
    {
      "cell_type": "markdown",
      "source": [
        "## **Distribution of Churn**"
      ],
      "metadata": {
        "id": "ftYdS7os9vIC"
      }
    },
    {
      "cell_type": "code",
      "source": [
        "#\n",
        "# Create an interactive histogram of the target variable 'churn'\n",
        "#\n",
        "# The 'churn' column is our target variable with values 0 (no churn) and 1 (churn).\n",
        "# We use px.histogram to count the occurrences of each value.\n",
        "#\n",
        "fig = px.histogram(\n",
        "                    df,\n",
        "                    x                  = 'churn_status',\n",
        "                    title              = 'Distribution of Churn',\n",
        "                    labels             = {'churn_status': 'Churn Status'},\n",
        "                    color              ='churn_status',\n",
        "                    color_discrete_map = {'Retained': 'blue', 'Churned': 'red'},\n",
        "                    nbins              = 2\n",
        "                  )\n",
        "\n",
        "#\n",
        "# Change y-axis label\n",
        "#\n",
        "fig.update_layout(\n",
        "                   yaxis_title     = 'Number of Customers',\n",
        "                   title_font_size = 20\n",
        "                 )\n",
        "\n",
        "fig.show()"
      ],
      "metadata": {
        "id": "XMtNjtSQ9y8H"
      },
      "execution_count": null,
      "outputs": []
    },
    {
      "cell_type": "markdown",
      "source": [
        "## **Observation**\n",
        "The most significant takeaway is the class **imbalance in our dataset**. The number of customers who did not churn (0) is overwhelmingly larger than the number of customers who did churn (1).\n",
        "\n",
        "This means our **model will have a lot more examples of non-churning customers to learn from than churning customers**. If we don't address this, a model could achieve high accuracy simply by predicting that no one ever churns. For example, if 95% of our customers did not churn, a model that always predicts \"no churn\" would be 95% accurate, but it would be useless for identifying at-risk customers."
      ],
      "metadata": {
        "id": "4g3K4fzv_Klp"
      }
    },
    {
      "cell_type": "markdown",
      "source": [
        "## **Churn by Gender**"
      ],
      "metadata": {
        "id": "a2mai0NCCSwZ"
      }
    },
    {
      "cell_type": "code",
      "source": [
        "#\n",
        "# Create a histogram to show the relationship between gender and churn.\n",
        "# The 'color' parameter automatically creates a grouped bar chart,\n",
        "# showing the counts of churn for each gender.\n",
        "#\n",
        "fig = px.histogram(\n",
        "                    df,\n",
        "                    x                  = 'gender',\n",
        "                    title              = 'Distribution of Churn by Gender',\n",
        "                    labels             = {\n",
        "                                           'gender'       : 'Gender',\n",
        "                                           'churn_status' : 'Churn Status'\n",
        "                                         },\n",
        "                    color              = 'churn_status',\n",
        "                    barmode            = 'group', # Use 'group' to place bars side-by-side for better comparison\n",
        "                    color_discrete_map = {'Retained': 'blue', 'Churned': 'red'},\n",
        "                    nbins              = 2\n",
        "                  )\n",
        "\n",
        "#\n",
        "# Change y-axis label\n",
        "#\n",
        "fig.update_layout(\n",
        "                   yaxis_title     = 'Number of Customers',\n",
        "                   title_font_size = 20\n",
        "                 )\n",
        "\n",
        "fig.show()"
      ],
      "metadata": {
        "id": "RMbhmEpKCXAp"
      },
      "execution_count": null,
      "outputs": []
    },
    {
      "cell_type": "markdown",
      "source": [
        "## **Observation**\n",
        "Looking at the raw counts, the number of males who churned  and the number of females who churned are quite close. So the difference in the raw number of churned customers isn't very large.\n",
        "\n",
        "However, to get a clearer picture, it's more useful to look at the churn rate, which is the percentage of customers in each group who churned.\n",
        "\n",
        "**Here's my observation**\n",
        "\n",
        "* **Total Customers**  \n",
        "There are more male customers overall than female customers in this dataset, as indicated by the much taller blue bar for males.\n",
        "* **Churn Rate**  \n",
        "When you calculate the percentage of customers who churned within each gender group, the churn rate for males is actually slightly higher than for females.\n",
        "\n",
        "So while the absolute numbers are similar, the data suggests that a male customer is slightly more likely to churn than a female customer. It's a subtle but important distinction that could be meaningful for the business."
      ],
      "metadata": {
        "id": "OSdWUkLsFEqh"
      }
    },
    {
      "cell_type": "markdown",
      "source": [
        "## **Churn by Gender - By Percentage**"
      ],
      "metadata": {
        "id": "cRwPnDptFFcU"
      }
    },
    {
      "cell_type": "code",
      "source": [
        "#\n",
        "# With a lot of help from the Internet\n",
        "#\n",
        "\n",
        "#\n",
        "# Ensure the 'gender' and 'churn' columns are clean and correctly typed\n",
        "#\n",
        "df['gender'] = df['gender'].str.strip()\n",
        "df['churn']  = df['churn'].astype(int)\n",
        "\n",
        "#\n",
        "# Calculate the counts for each gender and churn status\n",
        "#\n",
        "genderCounts   = df.groupby('gender')['churn'].count()\n",
        "retainedCounts = df[df['churn'] == 0].groupby('gender')['churn'].count()\n",
        "churnedCounts  = df[df['churn'] == 1].groupby('gender')['churn'].count()\n",
        "\n",
        "#\n",
        "# Calculate the churn and retention percentages\n",
        "#\n",
        "retainedPercent = (retainedCounts / genderCounts) * 100\n",
        "churnedPercent  = (churnedCounts / genderCounts) * 100\n",
        "\n",
        "#\n",
        "# Get total and gender-specific counts for the title\n",
        "#\n",
        "totalCustomers = len(df)\n",
        "maleCount      = genderCounts.get('Male', 0)\n",
        "femaleCount    = genderCounts.get('Female', 0)\n",
        "\n",
        "#\n",
        "# Create the figure with plotly.graph_objects\n",
        "#\n",
        "fig = go.Figure()\n",
        "\n",
        "#\n",
        "# Add a bar for retained customers with hover text showing counts\n",
        "#\n",
        "fig.add_trace(\n",
        "               go.Bar(\n",
        "                       x              = retainedPercent.index,\n",
        "                       y              = retainedPercent.values,\n",
        "                       name           = 'Retained',\n",
        "                       marker_color   = 'blue', # '#4C72B0', # A nice blue color\n",
        "                       text           = retainedPercent.round(2), # Add text labels to the bars\n",
        "                       textposition   = 'auto',\n",
        "                       insidetextfont = {'color': 'white'},\n",
        "                       hovertemplate  = '<b>%{x}</b><br>Retained: %{y:.2f}%<br>Count: ' + retainedCounts.astype(str) + '<extra></extra>'\n",
        "                     )\n",
        "             )\n",
        "\n",
        "#\n",
        "# Add a bar for churned customers with hover text showing counts\n",
        "#\n",
        "fig.add_trace(\n",
        "               go.Bar(\n",
        "                       x              = churnedPercent.index,\n",
        "                       y              = churnedPercent.values,\n",
        "                       name           = 'Churned',\n",
        "                       marker_color   = 'red', # '#E58686', # A nice red color\n",
        "                       text           = churnedPercent.round(2), # Add text labels to the bars\n",
        "                       textposition   = 'auto',\n",
        "                       insidetextfont = {'color': 'white'},\n",
        "                       hovertemplate  = '<b>%{x}</b><br>Churned: %{y:.2f}%<br>Count: ' + churnedCounts.astype(str) + '<extra></extra>'\n",
        "                     )\n",
        "             )\n",
        "\n",
        "#\n",
        "# Update the layout for a cleaner look\n",
        "#\n",
        "fig.update_layout(\n",
        "                   title_text      = f'Churn Percentage by Gender<br><sup>Total Customers: {totalCustomers} | Male: {maleCount} | Female: {femaleCount}</sup>',\n",
        "                   xaxis_title     = 'Gender',\n",
        "                   yaxis_title     = 'Percentage of Customers',\n",
        "                   barmode         = 'group',\n",
        "                   yaxis_range     = [0, 100], # Explicitly set y-axis range from 0 to 100%\n",
        "                   title_font_size = 20\n",
        "                 )\n",
        "\n",
        "fig.show()"
      ],
      "metadata": {
        "id": "waJBd6bdRKp4"
      },
      "execution_count": null,
      "outputs": []
    },
    {
      "cell_type": "markdown",
      "source": [
        "## **Observation**\n",
        "This re-iterates the point made in previous chart that the churning rate of a male customer is slightly more than a female customer"
      ],
      "metadata": {
        "id": "WUBVslM9W5G_"
      }
    },
    {
      "cell_type": "markdown",
      "source": [
        "## **Churn by Age**"
      ],
      "metadata": {
        "id": "vhB_wlVBXZif"
      }
    },
    {
      "cell_type": "code",
      "source": [
        "#\n",
        "# Create a violin plot to show the distribution of age for both churned and retained customers\n",
        "#\n",
        "fig = px.violin(\n",
        "                 df,\n",
        "                 x                  = 'churn_status',\n",
        "                 y                  = 'age',\n",
        "                 box                = True,  # Show a box plot inside the violin\n",
        "                 points             = 'all', # Show all data points\n",
        "                 color              = 'churn_status',\n",
        "                 color_discrete_map = {'Retained': 'blue', 'Churned': 'red'},\n",
        "                 labels             = {'churn_status': 'Churn Status', 'age': 'Age'},\n",
        "                 title              = 'Distribution of Age for Retained vs. Churned Customers'\n",
        "               )\n",
        "\n",
        "#\n",
        "# Update the layout for a cleaner look\n",
        "#\n",
        "fig.update_layout(\n",
        "                   xaxis_title     = 'Churn Status',\n",
        "                   yaxis_title     = 'Age',\n",
        "                   title_font_size = 20\n",
        "                 )\n",
        "\n",
        "fig.show()"
      ],
      "metadata": {
        "id": "Q3UqJcrnZzmG"
      },
      "execution_count": null,
      "outputs": []
    },
    {
      "cell_type": "markdown",
      "source": [
        "## **Observation**\n",
        "**Overall Shape (Density)**  \n",
        "Both distributions are spread across almost the full age range (0-90 years).\n",
        "The violin shape shows that most customers (both retained and churned) are concentrated around 30-60 years.\n",
        "\n",
        "**Median and Spread**  \n",
        "The median age for both retained and churned customers looks quite similar (around 40 years).\n",
        "The interquartile ranges (the box within each violin) also overlap significantly, suggesting no drastic age difference between the groups.\n",
        "\n",
        "**Slight Differences**  \n",
        "The churned customers (red) show a bit more density at slightly higher ages (40-60 range) compared to retained customers.\n",
        "The retained customers (blue) show a slightly broader spread with more younger customers (20-40) as well.\n",
        "\n",
        "**Outliers**  \n",
        "Both groups have customers across the full range, but younger and older customers exist in smaller proportions.\n",
        "\n",
        "**Conclusion**  \n",
        "Age does not appear to be a strong differentiating factor between retained and churned customers. Both groups show similar distributions centered around middle age (30-60). However, churn may be slightly more common among older customers compared to younger ones."
      ],
      "metadata": {
        "id": "Ccl_AMFcbS1O"
      }
    },
    {
      "cell_type": "markdown",
      "source": [
        "## **Churn by Occupation**"
      ],
      "metadata": {
        "id": "tzS8xP7BhDfS"
      }
    },
    {
      "cell_type": "code",
      "source": [
        "#\n",
        "# Create a histogram to show the relationship between occupation and churn.\n",
        "# The 'color' parameter automatically creates a grouped bar chart,\n",
        "# showing the counts of churn for each occupation.\n",
        "#\n",
        "fig = px.histogram(\n",
        "                    df,\n",
        "                    x                  = 'occupation',\n",
        "                    title              = 'Distribution of Churn by Occupation',\n",
        "                    labels             = {\n",
        "                                           'occupation'   : 'Occupation',\n",
        "                                           'churn_status' : 'Churn Status'\n",
        "                                         },\n",
        "                    color              = 'churn_status',\n",
        "                    barmode            = 'group', # Use 'group' to place bars side-by-side for better comparison\n",
        "                    color_discrete_map = {'Retained': 'blue', 'Churned': 'red'},\n",
        "                    nbins              = 2\n",
        "                  )\n",
        "\n",
        "#\n",
        "# Change y-axis label\n",
        "#\n",
        "fig.update_layout(\n",
        "                   yaxis_title     = 'Number of Customers',\n",
        "                   title_font_size = 20\n",
        "                 )\n",
        "\n",
        "fig.show()"
      ],
      "metadata": {
        "id": "OIeCUjOZlQwY"
      },
      "execution_count": null,
      "outputs": []
    },
    {
      "cell_type": "code",
      "source": [
        "#\n",
        "# Count the number of customers in each category and churn status\n",
        "#\n",
        "\n",
        "#\n",
        "# This is the key change: make 'churn_status' a categorical type with a specific order\n",
        "# This forces Plotly to order the bars inside each group as 'Retained' then 'Churned'\n",
        "#\n",
        "df['churn_status'] = pd.Categorical(\n",
        "                                     df['churn_status'],\n",
        "                                     categories = ['Retained', 'Churned'],\n",
        "                                     ordered    = True\n",
        "                                   )\n",
        "\n",
        "plotData = df.groupby(['occupation', 'churn_status']).size().reset_index(name='count')\n",
        "\n",
        "#\n",
        "# Sort the categories by the number of churned customers\n",
        "#\n",
        "churnedCounts = plotData[plotData['churn_status'] == 'Churned'].sort_values('count', ascending=False)\n",
        "sortedCategories = churnedCounts['occupation'].tolist()\n",
        "\n",
        "#\n",
        "# Create the interactive grouped bar chart using Plotly Express\n",
        "#\n",
        "fig = px.bar(\n",
        "              plotData,\n",
        "              x                  = 'occupation',\n",
        "              y                  = 'count',\n",
        "              color              = 'churn_status',\n",
        "              barmode            = 'group',\n",
        "              title              = 'Customer Churn by Occupation',\n",
        "              labels             = {'count': 'Number of Customers', 'occupation': 'Occupation', 'churn_status': 'Churn Status'},\n",
        "              color_discrete_map = {'Retained': 'blue', 'Churned': 'red'},\n",
        "              category_orders    = {'occupation': sortedCategories}  # Apply the custom sorting order\n",
        "            )\n",
        "\n",
        "#\n",
        "# Customize the layout for better readability and aesthetics\n",
        "#\n",
        "fig.update_layout(\n",
        "                   xaxis_title       = 'Occupation',\n",
        "                   yaxis_title       = 'Number of Customers',\n",
        "                   legend_title_text = 'Churn Status',\n",
        "                   # xaxis_tickangle   = -45,\n",
        "                   title_font_size   = 20\n",
        "                 )\n",
        "\n",
        "fig.show()"
      ],
      "metadata": {
        "id": "fxk-ZuTooCVJ"
      },
      "execution_count": null,
      "outputs": []
    },
    {
      "cell_type": "markdown",
      "source": [
        "## **Observation**\n",
        "* **Self-Employed and Salaried Customers**  \n",
        "These two groups have the largest number of customers overall. However, they also have the highest absolute number of churned customers, with the self-employed category showing the most significant churn.\n",
        "\n",
        "* **Student and Retired Customers**  \n",
        "These groups have the lowest number of total customers, and consequently, the lowest number of churned customers. Their total count is significantly smaller than the self-employed and salaried categories.\n",
        "\n",
        "* **Company Customers**  \n",
        "The \"company\" category shows a very low number of both retained and churned customers, indicating a minimal presence in the dataset.\n",
        "\n",
        "**Possible Inferences**\n",
        "While the chart provides a clear breakdown, it's important to think about the rate of churn, not just the raw numbers. For example, a group with a large number of churned customers might also have a very large number of total customers, making the churn rate proportionally lower than a smaller group.\n",
        "\n",
        "To get a more complete picture, a normalized view, like a stacked bar chart showing the percentage of churned versus retained customers within each occupation, would be very useful."
      ],
      "metadata": {
        "id": "XWyR4qTC6t4c"
      }
    },
    {
      "cell_type": "markdown",
      "source": [
        "## **Churn by Occupation - By Percentage**"
      ],
      "metadata": {
        "id": "KbNoVQs67LQg"
      }
    },
    {
      "cell_type": "code",
      "source": [
        "#\n",
        "# Group the data by 'occupation' and 'churn_status' to count the\n",
        "# number of customers in each group\n",
        "#\n",
        "plotData = df.groupby(['occupation', 'churn_status']).size().reset_index(name='count')\n",
        "\n",
        "#\n",
        "# Calculate the total number of customers for each occupation\n",
        "#\n",
        "totalCounts = plotData.groupby('occupation')['count'].transform('sum')\n",
        "\n",
        "#\n",
        "# Calculate the percentage of retained and churned customers within each occupation\n",
        "# by dividing the count by the total count for that occupation\n",
        "#\n",
        "plotData['percentage'] = plotData['count'] / totalCounts\n",
        "\n",
        "#\n",
        "# To sort the chart by churn rate, we need to create a temporary dataframe\n",
        "# of only the 'Churned' customers and sort it by percentage\n",
        "#\n",
        "churnedData = plotData[plotData['churn_status'] == 'Churned'].sort_values('percentage', ascending=False)\n",
        "sortedOccupations = churnedData['occupation'].tolist()\n",
        "\n",
        "#\n",
        "# Create the stacked bar chart. The 'barmode' is set to 'stack' to show\n",
        "# the percentage breakdown within each occupation\n",
        "#\n",
        "fig = px.bar(\n",
        "              plotData,\n",
        "              x                  = 'occupation',\n",
        "              y                  = 'percentage',\n",
        "              color              = 'churn_status',\n",
        "              title              = 'Customer Churn Percentage by Occupation',\n",
        "              labels             = {\n",
        "                                     'percentage'  : 'Percentage of Customers',\n",
        "                                     'occupation'  : 'Occupation',\n",
        "                                     'churn_status': 'Churn Status'\n",
        "                                   },\n",
        "              color_discrete_map = {'Retained': 'blue', 'Churned': 'red'},\n",
        "              barmode            = 'stack', # group\n",
        "              category_orders    = {'occupation': sortedOccupations},    # Apply the custom sorting order.\n",
        "              hover_data         = {'count': True, 'percentage': ':.2%'} # Show both the raw count and the percentage on hover.\n",
        "            )\n",
        "\n",
        "#\n",
        "# Format the y-axis to display values as percentages\n",
        "#\n",
        "fig.update_yaxes(tickformat=\".0%\")\n",
        "\n",
        "#\n",
        "# Customize the overall layout of the chart\n",
        "#\n",
        "fig.update_layout(\n",
        "                   xaxis_title       = 'Occupation',\n",
        "                   yaxis_title       = 'Percentage of Customers',\n",
        "                   legend_title_text = 'Churn Status',\n",
        "                   title_font_size   = 20\n",
        "                 )\n",
        "\n",
        "fig.show()"
      ],
      "metadata": {
        "id": "Ueb1tCLD7PJQ"
      },
      "execution_count": null,
      "outputs": []
    },
    {
      "cell_type": "markdown",
      "source": [
        "## **Observation**\n",
        "The chart is sorted from the highest churn rate to the lowest, which makes the trends very clear.\n",
        "\n",
        "* **Self-employed customers**  \n",
        "They have the highest churn rate. The red portion of the bar is the largest, indicating that they have the highest percentage of customers who have churned.\n",
        "\n",
        "* **Company**  \n",
        "This occupation group has the lowest churn rate. The red portion of their bar is significantly smaller than the others, showing that they are the most retained group of customers.\n",
        "\n",
        "* **Salaried, student, and retired customers**\n",
        "These have similar churn rates, all falling between the high churn of the \"self-employed\" and the low churn of the \"company\" group.\n",
        "\n",
        "This analysis provides a much more nuanced view than just looking at the total number of churned customers, as it shows the proportional risk of churn for each occupation type."
      ],
      "metadata": {
        "id": "ybX584tT7PzW"
      }
    },
    {
      "cell_type": "markdown",
      "source": [
        "## **Churn Rate Heatmap by Branch and Customer Network Category**"
      ],
      "metadata": {
        "id": "Xg07SkxH1KLH"
      }
    },
    {
      "cell_type": "code",
      "source": [
        "#\n",
        "# Group by branch and category for churned status\n",
        "#\n",
        "churnCounts = df[df['churn_status'] == 'Churned'].groupby(['branch_code', 'customer_nw_category']).size().reset_index(name='count')\n",
        "\n",
        "#\n",
        "# Create the interactive heatmap using Plotly Express\n",
        "#\n",
        "fig = go.Figure(\n",
        "                 data = go.Heatmap(\n",
        "                                    z          = churnCounts['count'],\n",
        "                                    x          = churnCounts['customer_nw_category'],\n",
        "                                    y          = churnCounts['branch_code'],\n",
        "                                    colorscale = 'viridis'\n",
        "                                  )\n",
        "               )\n",
        "\n",
        "#\n",
        "# Add titles and labels for clarity\n",
        "#\n",
        "fig.update_layout(\n",
        "                   title           = 'Churn Status Heatmap - Churned Only',\n",
        "                   xaxis_title     = 'Customer Net Worth Category',\n",
        "                   yaxis_title     = 'Branch Code',\n",
        "                   title_font_size = 20\n",
        "                 )\n",
        "\n",
        "fig.show()"
      ],
      "metadata": {
        "id": "1bMMQljlxHPv"
      },
      "execution_count": null,
      "outputs": []
    },
    {
      "cell_type": "code",
      "source": [
        "#\n",
        "# Dual Heatmap - For both 'Retained' and 'Churned' (as Rows)\n",
        "#\n",
        "\n",
        "#\n",
        "# Group by branch and category and count churn status\n",
        "#\n",
        "statusCounts = df.groupby(['branch_code', 'customer_nw_category', 'churn_status']).size().reset_index(name='count')\n",
        "\n",
        "#\n",
        "# Create a heatmap with churn as color\n",
        "#\n",
        "fig = px.density_heatmap(\n",
        "                          statusCounts,\n",
        "                          x                      = \"customer_nw_category\",\n",
        "                          y                      = \"branch_code\",\n",
        "                          z                      = \"count\",\n",
        "                          facet_row              = \"churn_status\",  # or facet_col if you prefer side-by-side\n",
        "                          color_continuous_scale = \"viridis\"\n",
        "                        )\n",
        "\n",
        "#\n",
        "# Add titles and labels for clarity\n",
        "#\n",
        "fig.update_layout(\n",
        "                   title           = 'Churn vs Retained Heatmap by Branch & Customer Net Worth Category',\n",
        "                   xaxis_title     = 'Customer Net Worth Category',\n",
        "                   title_font_size = 20\n",
        "                 )\n",
        "\n",
        "#\n",
        "# Add y-axis titles for each grid\n",
        "#\n",
        "fig.for_each_yaxis(lambda yaxis: yaxis.update(title=\"Branch Code\"))\n",
        "\n",
        "fig.show()"
      ],
      "metadata": {
        "id": "z1C07kT6hUk1"
      },
      "execution_count": null,
      "outputs": []
    },
    {
      "cell_type": "code",
      "source": [
        "#\n",
        "# Dual Heatmap - For both 'Retained' and 'Churned' (as Rows)\n",
        "#\n",
        "\n",
        "#\n",
        "# Group by branch and category and count churn status\n",
        "#\n",
        "statusCounts = df.groupby(['branch_code', 'customer_nw_category', 'churn_status']).size().reset_index(name='count')\n",
        "\n",
        "#\n",
        "# Create a heatmap with churn as color\n",
        "#\n",
        "fig = px.density_heatmap(\n",
        "                          statusCounts,\n",
        "                          x                      = \"customer_nw_category\",\n",
        "                          y                      = \"branch_code\",\n",
        "                          z                      = \"count\",\n",
        "                          facet_col              = \"churn_status\",  # or facet_row if you prefer one-by-one\n",
        "                          color_continuous_scale = \"viridis\"\n",
        "                        )\n",
        "\n",
        "#\n",
        "# Add titles and labels for clarity\n",
        "#\n",
        "fig.update_layout(\n",
        "                   title           = 'Churn vs Retained Heatmap by Branch & Customer Net Worth Category',\n",
        "                   yaxis_title     = 'Branch Code',\n",
        "                   title_font_size = 20\n",
        "                 )\n",
        "\n",
        "#\n",
        "# Add x-axis titles for each grid\n",
        "#\n",
        "fig.for_each_xaxis(lambda xaxis: xaxis.update(title=\"Customer Net Worth Category\"))\n",
        "\n",
        "\n",
        "fig.show()"
      ],
      "metadata": {
        "id": "Ktrd3o8v9jKh"
      },
      "execution_count": null,
      "outputs": []
    },
    {
      "cell_type": "markdown",
      "source": [
        "## **Observation**\n",
        "**1. Overall Customer Distribution**  \n",
        "The heatmap on the left, \"Retained Customers (Churn=0)\", reveals that the bank's retained customer base is not evenly distributed. Instead, it is highly concentrated in specific segments. The brightest yellow hotspots, indicating the highest customer counts, are primarily within customer_nw_category 2. This category represents the bank's core and most stable customer demographic, with particularly strong performance in some branches.\n",
        "\n",
        "**2. Churn Distribution**\n",
        "The \"Churned Customers (Churn Status = Churned)\" heatmap on the right presents a stark contrast. There are no large, bright hotspots. While some areas are darker than others, indicating a higher number of churned customers, the overall pattern is one of wide dispersion. The churn appears to be a consistent, low-to-moderate-level issue spread across many different branches and net worth categories.\n",
        "\n",
        "**3. Key Inferences from Comparison**  \n",
        "By comparing the two heatmaps, we can draw a critical inference:\n",
        "\n",
        "The bank's main customer base (customer_nw_category 2) is largely stable and retained.\n",
        "\n",
        "The bank's customer attrition is not caused by a single, catastrophic problem in one area. Instead, it seems to be a widespread problem of low-level dissatisfaction or external factors affecting a broad range of branches and customer segments.\n",
        "\n",
        "The data suggests that a solution to the churn problem may not be to fix a single branch or customer type, but to implement a more general strategy aimed at improving overall customer experience and increasing the perceived value of banking with this institution. This might include enhancing digital services, improving customer support, or offering more personalized financial products to a wider audience."
      ],
      "metadata": {
        "id": "CgOjTTsj_fuD"
      }
    },
    {
      "cell_type": "markdown",
      "source": [
        "## **Churn by Vintage**\n",
        "**Customer Survival Curve**"
      ],
      "metadata": {
        "id": "ICghH_ee_68d"
      }
    },
    {
      "cell_type": "code",
      "source": [
        "#\n",
        "# All from the Internet\n",
        "#\n",
        "\n",
        "#\n",
        "# Convert 'last_transaction' to datetime objects for accurate vintage calculation\n",
        "#\n",
        "df['last_transaction'] = pd.to_datetime(df['last_transaction'], format='%d/%m/%Y')\n",
        "\n",
        "#\n",
        "# We'll assume the vintage is in days since the first transaction\n",
        "#\n",
        "# Let's find the minimum date to act as the \"start date\" for all customers\n",
        "# for a rough vintage calculation. A more precise method would require a\n",
        "# customer start date column. For this example, we'll use the vintage column\n",
        "# as a proxy for time with the company in months, as is common in these datasets\n",
        "#\n",
        "# Let's assume the vintage is in days\n",
        "#\n",
        "T = df['vintage']\n",
        "\n",
        "#\n",
        "# 'churn' is our event variable (0 = Retained / 1 = Churned)\n",
        "#\n",
        "E = df['churn']\n",
        "\n",
        "#\n",
        "# Create a KaplanMeierFitter object\n",
        "#\n",
        "kmf = KaplanMeierFitter()\n",
        "\n",
        "#\n",
        "# Fit the model to the data\n",
        "#\n",
        "kmf.fit(T, event_observed=E)\n",
        "\n",
        "#\n",
        "# Plot the survival curve\n",
        "#\n",
        "plt.figure(figsize=(10, 6))\n",
        "kmf.plot_survival_function()\n",
        "\n",
        "#\n",
        "# Add labels and title\n",
        "#\n",
        "plt.title('Customer Survival Curve (Churn by Vintage)')\n",
        "plt.xlabel('Vintage (Days)')\n",
        "plt.ylabel('Probability of Customer Retention')\n",
        "plt.grid(True, which = 'both', linestyle = '--', linewidth = 0.5)\n",
        "\n",
        "#\n",
        "# Enhance the plot appearance\n",
        "#\n",
        "plt.style.use('seaborn-v0_8-whitegrid')\n",
        "plt.legend(['All Customers'])\n",
        "\n",
        "plt.show()"
      ],
      "metadata": {
        "id": "lgMPrjlb_6CJ"
      },
      "execution_count": null,
      "outputs": []
    },
    {
      "cell_type": "markdown",
      "source": [
        "## **Observation**\n",
        "My core observation is that the graph shows two very different kinds of drops.\n",
        "\n",
        "* **The Drop in the \"Early Days\" (Vintage 0 to 200)**  \n",
        "This is where you lose the highest percentage of your original customers. The line's slope is subtle (Enlarge the image to see the slight downward slope), but it represents the loss of 15% of your customer base. This is the period of highest churn rate.\n",
        "\n",
        "* **The Steep Drop You Identified (Vintage 1500+)**  \n",
        "At this point, very few customers remain. The line looks steep, but it represents a small number of people leaving. For example, if you started with 10,000 customers, this steep drop might only represent a handful of people out of the 500 or so who were still left.\n",
        "\n",
        "The main takeaway is that even though the line looks flatter at the start, it's the period of the most significant and rapid customer loss. The rate of churn is highest in the beginning, which is why these are called the \"early days\""
      ],
      "metadata": {
        "id": "13hhJgUJPFow"
      }
    },
    {
      "cell_type": "code",
      "source": [
        "df.columns"
      ],
      "metadata": {
        "id": "S0lHVsWJPmkW"
      },
      "execution_count": null,
      "outputs": []
    },
    {
      "cell_type": "markdown",
      "source": [
        "## **Churn by other Financial Variables**\n",
        "\n",
        "1.  current_balance\n",
        "2.  previous_month_end_balance\n",
        "3.  average_monthly_balance_prevQ\n",
        "4.  average_monthly_balance_prevQ2\n",
        "5.  current_month_credit\n",
        "6.  previous_month_credit\n",
        "7.  current_month_debit\n",
        "8.  previous_month_debit\n",
        "9.  current_month_balance\n",
        "10. previous_month_balance"
      ],
      "metadata": {
        "id": "ZiwiPvLqPgkE"
      }
    },
    {
      "cell_type": "code",
      "source": [
        "#\n",
        "# We'll select the financial columns you listed, plus the 'churn' column\n",
        "#\n",
        "columnsToAnalyze = [\n",
        "                     'current_balance',\n",
        "                     'previous_month_end_balance',\n",
        "                     'average_monthly_balance_prevQ',\n",
        "                     'average_monthly_balance_prevQ2',\n",
        "                     'current_month_credit',\n",
        "                     'previous_month_credit',\n",
        "                     'current_month_debit',\n",
        "                     'previous_month_debit',\n",
        "                     'current_month_balance',\n",
        "                     'previous_month_balance',\n",
        "                     'churn' # Needed to color the points by churn status\n",
        "                   ]\n",
        "\n",
        "#\n",
        "# Ensure all columns exist in the dataframe before proceeding\n",
        "#\n",
        "missingColumns = [col for col in columnsToAnalyze if col not in df.columns]\n",
        "if missingColumns:\n",
        "    print(f\"ERROR: The following columns were not found in the dataset: {missingColumns}\")\n",
        "    exit()\n",
        "\n",
        "#\n",
        "# Create the interactive pairplot using Plotly Express\n",
        "# px.scatter_matrix is the Plotly equivalent of sns.pairplot\n",
        "# The 'dimensions' parameter specifies which columns to include in the plot\n",
        "# 'color' is used to differentiate points based on a categorical variable,\n",
        "# in this case, 'churn'\n",
        "#\n",
        "print(\"Generating interactive pairplot... This may take a moment.\")\n",
        "fig = px.scatter_matrix(\n",
        "                         df,\n",
        "                         dimensions     = columnsToAnalyze[:-1], # Exclude the 'churn' column from the dimensions\n",
        "                         color          = 'churn',\n",
        "                         title          = 'Interactive Pairplot of Financial Metrics by Customer Churn',\n",
        "                         width          = 1500,      # Set a wider figure size\n",
        "                         height         = 1500       # Set a taller figure size\n",
        "                       )\n",
        "\n",
        "#\n",
        "# Add a little bit of styling here for better readability\n",
        "#\n",
        "fig.update_traces(diagonal_visible = False) # Hides the diagonal which isn't as useful here\n",
        "\n",
        "#\n",
        "# Show the plot\n",
        "# This will open a new browser tab or window with the interactive plot\n",
        "#\n",
        "fig.show()"
      ],
      "metadata": {
        "id": "brsnnMk6U2Ld"
      },
      "execution_count": null,
      "outputs": []
    },
    {
      "cell_type": "code",
      "source": [
        "#\n",
        "# The above plot is not clear at all.\n",
        "# That's a very common issue with real-world financial data, where a few very\n",
        "# large or very small values (outliers) can compress the rest of the data,\n",
        "# making the plot look like a solid block of color or a lot of data points\n",
        "# overlapping with each other.\n",
        "#\n",
        "# Also, the labels are overlapping with each other.\n",
        "#\n",
        "# The best way to make it clearer is to filter out the outliers.\n",
        "# By removing the most extreme values, we can get a much better view of where\n",
        "# the majority of the data lies\n",
        "#\n",
        "\n",
        "#\n",
        "# We'll select the financial columns you listed, plus the 'churn' column\n",
        "#\n",
        "columnsToAnalyze = [\n",
        "                     'current_balance',\n",
        "                     'previous_month_end_balance',\n",
        "                     'average_monthly_balance_prevQ',\n",
        "                     'average_monthly_balance_prevQ2',\n",
        "                     'current_month_credit',\n",
        "                     'previous_month_credit',\n",
        "                     'current_month_debit',\n",
        "                     'previous_month_debit',\n",
        "                     'current_month_balance',\n",
        "                     'previous_month_balance',\n",
        "                     'churn' # Needed to color the points by churn status\n",
        "                   ]\n",
        "#\n",
        "# Ensure all columns exist in the dataframe before proceeding\n",
        "#\n",
        "missingColumns = [col for col in columnsToAnalyze if col not in df.columns]\n",
        "if missingColumns:\n",
        "    print(f\"ERROR: The following columns were not found in the dataset: {missingColumns}\")\n",
        "    exit()\n",
        "\n",
        "financialColumns = columnsToAnalyze[:-1]\n",
        "\n",
        "#\n",
        "# Create a mapping from long column names to short, readable labels\n",
        "# This is key to making the pairplot less cluttered\n",
        "#\n",
        "labelsMap = {\n",
        "              'current_balance'                : 'curr_bal',\n",
        "              'previous_month_end_balance'     : 'prev_end_bal',\n",
        "              'average_monthly_balance_prevQ'  : 'avg_bal_prevQ',\n",
        "              'average_monthly_balance_prevQ2' : 'avg_bal_prevQ2',\n",
        "              'current_month_credit'           : 'curr_cred',\n",
        "              'previous_month_credit'          : 'prev_cred',\n",
        "              'current_month_debit'            : 'curr_deb',\n",
        "              'previous_month_debit'           : 'prev_deb',\n",
        "              'current_month_balance'          : 'curr_mon_bal',\n",
        "              'previous_month_balance'         : 'prev_mon_bal'\n",
        "            }\n",
        "\n",
        "#\n",
        "# Filter out outliers using the Z-score method (3 standard deviations)\n",
        "# We'll create a new, filtered dataframe to plot\n",
        "#\n",
        "filteredDF = df.copy()\n",
        "\n",
        "#\n",
        "# Filter out outliers\n",
        "# A common technique is to remove any data points that are more than a\n",
        "# certain number of standard deviations from the mean.\n",
        "#\n",
        "for col in financialColumns:\n",
        "  #\n",
        "  # Calculate the mean and standard deviation for the column\n",
        "  #\n",
        "  meanValue = filteredDF[col].mean()\n",
        "  stdDev    = filteredDF[col].std()\n",
        "\n",
        "  #\n",
        "  # Define the upper and lower bounds for the filter\n",
        "  #\n",
        "  lowerBound = meanValue - (3 * stdDev)\n",
        "  upperBound = meanValue + (3 * stdDev)\n",
        "\n",
        "  #\n",
        "  # Filter out rows where the value in the column is outside the bounds\n",
        "  #\n",
        "  filteredDF = filteredDF[(filteredDF[col] >= lowerBound) & (filteredDF[col] <= upperBound)]\n",
        "\n",
        "print(f\"Original number of rows: {len(df)}\")\n",
        "print(f\"Number of rows after outlier filtering: {len(filteredDF)}\")\n",
        "\n",
        "#\n",
        "# Create the interactive pairplot using Plotly Express\n",
        "# px.scatter_matrix is the Plotly equivalent of sns.pairplot\n",
        "# The 'dimensions' parameter specifies which columns to include in the plot\n",
        "# 'color' is used to differentiate points based on a categorical variable,\n",
        "# in this case, 'churn'\n",
        "#\n",
        "print(\"Generating interactive pairplot... This may take a moment.\")\n",
        "fig = px.scatter_matrix(\n",
        "                         filteredDF,\n",
        "                         dimensions      = financialColumns, # Exclude the 'churn' column from the dimensions\n",
        "                         color           = 'churn',\n",
        "                         title           = 'Filtered Interactive Pairplot of Financial Metrics by Customer Churn',\n",
        "                         labels          = labelsMap, # Apply the new, simplified labels\n",
        "                         width           = 1500,      # Set a wider figure size\n",
        "                         height          = 1500       # Set a taller figure size\n",
        "                       )\n",
        "\n",
        "#\n",
        "# Add a little bit of styling here for better readability\n",
        "#\n",
        "fig.update_traces(diagonal_visible = False) # Hides the diagonal which isn't as useful here\n",
        "\n",
        "fig.show()"
      ],
      "metadata": {
        "id": "e6dIKNOOWmvK"
      },
      "execution_count": null,
      "outputs": []
    },
    {
      "cell_type": "markdown",
      "source": [
        "## **Observation**\n",
        "Based on the pairplot, the most critical inference is that there is **no clear visual separation** between churned and non-churned customers using these financial metrics alone.\n",
        "\n",
        "**Main Observations**\n",
        "\n",
        "\n",
        "---\n",
        "\n",
        "\n",
        "**Overlapping Distributions**  \n",
        "For nearly every scatter plot, the orange dots (representing churned customers, `churn=1`) are completely mixed in with the blue dots (non-churned customers, `churn=0`). There's no distinct cluster of orange dots that stands out, and you can't easily draw a line on any of these plots to separate the two groups.\n",
        "\n",
        "**Strong Correlations**  \n",
        "Many of the variables show a very strong positive correlation with each other. For example, `curr_bal` is highly correlated with `prev_end_bal`, and `curr_cred` is highly correlated with `prev_cred`. This makes sense, as a customer's financial activity from one month to the next is usually consistent.\n",
        "\n",
        "**Churn is not a simple financial problem**  \n",
        "The fact that the churned customers are blended into the larger population of non-churned customers suggests that churn is not being driven by these basic financial metrics. It's not as simple as \"customers with low credit\" or \"customers with a specific balance range\" are churning. The reasons for churn must lie in other, unmeasured factors"
      ],
      "metadata": {
        "id": "v6wtF73bhqQS"
      }
    },
    {
      "cell_type": "markdown",
      "source": [],
      "metadata": {
        "id": "Zo4eRehRm2m_"
      }
    },
    {
      "cell_type": "markdown",
      "source": [
        "# **Label Encoding**"
      ],
      "metadata": {
        "id": "9iLRhwL5pdSg"
      }
    },
    {
      "cell_type": "code",
      "source": [
        "categoricalColumns = ['gender', 'occupation', 'city', 'customer_nw_category', 'branch_code']\n",
        "\n",
        "for col in categoricalColumns:\n",
        "  print('')\n",
        "  print(f\"Value Count for Column : {col}\")\n",
        "  print('---------------------------------------------')\n",
        "  print(df[col].value_counts())"
      ],
      "metadata": {
        "id": "-d1wNPZRprPj"
      },
      "execution_count": null,
      "outputs": []
    },
    {
      "cell_type": "markdown",
      "source": [
        "## **Encode Categorical Columns**"
      ],
      "metadata": {
        "id": "6ztXHicSpw_G"
      }
    },
    {
      "cell_type": "code",
      "source": [
        "categoricalColumns = ['gender', 'occupation', 'city', 'customer_nw_category', 'branch_code']\n",
        "\n",
        "#\n",
        "# Filter out columns that don't exist in the dataframe to prevent errors\n",
        "#\n",
        "existingCategoricalColumns = [col for col in categoricalColumns if col in df.columns]\n",
        "\n",
        "#\n",
        "# Perform label encoding\n",
        "#\n",
        "print('Existing Dataframe Info')\n",
        "print(df[existingCategoricalColumns].head())\n",
        "print('-' * 70)\n",
        "\n",
        "#\n",
        "# Create a dictionary to store the LabelEncoder for each column\n",
        "# This can be useful if we need to reverse the encoded column\n",
        "#\n",
        "dictEncoders = {}\n",
        "\n",
        "for col in existingCategoricalColumns:\n",
        "  #\n",
        "  # Innitialise label encoder\n",
        "  #\n",
        "  le = LabelEncoder()\n",
        "\n",
        "  #\n",
        "  # Fit and transform data\n",
        "  #\n",
        "  df[col] = le.fit_transform(df[col])\n",
        "\n",
        "  #\n",
        "  # Store the fitted encoder in the dictionary\n",
        "  #\n",
        "  dictEncoders[col] = le\n",
        "\n",
        "#\n",
        "# Display the results after encoding\n",
        "#\n",
        "print(\"DataFrame after label encoding:\")\n",
        "print(df[existingCategoricalColumns].head())\n",
        "print(\"You can see the categorical values have been converted to integers\")\n",
        "print(\"-\" * 70)"
      ],
      "metadata": {
        "id": "GjzTAHnppjDw"
      },
      "execution_count": null,
      "outputs": []
    },
    {
      "cell_type": "code",
      "source": [
        "# #\n",
        "# # Demonstrate how to reverse the encoding\n",
        "# #\n",
        "\n",
        "# #\n",
        "# # Create a copy to show the reversal without modifying the original encoded data\n",
        "# #\n",
        "# encodedDF = df[existingCategoricalColumns].copy()\n",
        "\n",
        "# #\n",
        "# # Use the stored encoders to transform the data back\n",
        "# #\n",
        "# for col in existingCategoricalColumns:\n",
        "#   #\n",
        "#   # Use the inverse_transform method to convert integers from the dictionary\n",
        "#   # above back to their original labels\n",
        "#   #\n",
        "#   encodedDF[col] = dictEncoders[col].inverse_transform(encodedDF[col])\n",
        "\n",
        "# #\n",
        "# # Display the results after encoding\n",
        "# #\n",
        "# print(\"DataFrame after reversing the encoding:\")\n",
        "# print(encodedDF.head())\n",
        "# print(\"-\" * 70)"
      ],
      "metadata": {
        "id": "ndS5n9FVmGCx"
      },
      "execution_count": null,
      "outputs": []
    },
    {
      "cell_type": "code",
      "source": [
        "print(df[existingCategoricalColumns].dtypes)"
      ],
      "metadata": {
        "id": "D3G0WsCYot7V"
      },
      "execution_count": null,
      "outputs": []
    },
    {
      "cell_type": "markdown",
      "source": [
        "# **Data Visualisation - Part 2**"
      ],
      "metadata": {
        "id": "SULfVPKmpXI-"
      }
    },
    {
      "cell_type": "markdown",
      "source": [
        "## **Correlation Heat Map**"
      ],
      "metadata": {
        "id": "0EWH0XG2pnYO"
      }
    },
    {
      "cell_type": "code",
      "source": [
        "#\n",
        "# Correlation Heat Map\n",
        "#\n",
        "\n",
        "#\n",
        "# Identify and select numerical columns\n",
        "#\n",
        "numericalColumns = df.select_dtypes(include = np.number).columns\n",
        "\n",
        "#\n",
        "# Compute correlation matrix\n",
        "#\n",
        "correlationMatrix = df[numericalColumns].corr()\n",
        "\n",
        "#\n",
        "# Create the correlation heatmap using Plotly Express\n",
        "#\n",
        "fig = px.imshow(\n",
        "                 correlationMatrix,\n",
        "                 text_auto              = True,     # Automatically display the correlation value on each cell\n",
        "                 color_continuous_scale = 'RdBu_r', # Use a diverging color scale (Try PiYG)\n",
        "                 aspect                 = \"auto\",   # Adjust aspect ratio to fit\n",
        "                 labels                 = dict(x = \"Numerical Columns\", y = \"Numerical Columns\", color = \"Correlation Coefficient\"),\n",
        "                 title                  = \"Correlation Heatmap of Numerical Columns\"\n",
        "               )\n",
        "\n",
        "#\n",
        "# Customize the layout for better readability and aesthetics\n",
        "#\n",
        "fig.update_layout(\n",
        "                   xaxis_nticks    = len(correlationMatrix.columns),\n",
        "                   yaxis_nticks    = len(correlationMatrix.columns),\n",
        "                   title_x         = 0.5, # Center the title\n",
        "                   height          = 800, # Set a fixed height to prevent crowding\n",
        "                   width           = 800, # Set a fixed width,\n",
        "                   title_font_size = 20,\n",
        "                   font=dict(\n",
        "                              family = 'Arial, sans-serif',\n",
        "                              size   = 10,\n",
        "                              color  = 'black' # '#333'\n",
        "                            )\n",
        "                 )\n",
        "\n",
        "fig.show()"
      ],
      "metadata": {
        "id": "v3yN8LfApS3G"
      },
      "execution_count": null,
      "outputs": []
    },
    {
      "cell_type": "markdown",
      "source": [
        "## **Observation**\n",
        "The **correlation coefficient** for `churn` with any of the other variables appears to be very close to zero, which is represented by the light color in the `churn` row and column. A value close to zero indicates that there is **no strong linear relationship** between the variables. This doesn't mean these features are irrelevant, but rather that a simple increase or decrease in `vintage` or `balance` doesn't directly predict whether a customer will churn."
      ],
      "metadata": {
        "id": "GsQjook-vMTw"
      }
    },
    {
      "cell_type": "markdown",
      "source": [
        "# **Train / Test Split**\n",
        "Since we haven't found a strong correlation with any single variable, it's crucial to include all (relevant) independent variables for the train/test split"
      ],
      "metadata": {
        "id": "UinUYRYAxF6n"
      }
    },
    {
      "cell_type": "code",
      "source": [
        "#\n",
        "# Identify features (X) and target (y)\n",
        "#\n",
        "\n",
        "#\n",
        "# Input / Independent Variable\n",
        "# 'last_transaction' and 'customer_id' are dropped as they are not useful\n",
        "# for prediction\n",
        "#\n",
        "X = df.drop(['customer_id', 'last_transaction', 'churn', 'churn_status' ], axis=1)\n",
        "X.head()"
      ],
      "metadata": {
        "id": "f0L4_7T6pVsc"
      },
      "execution_count": null,
      "outputs": []
    },
    {
      "cell_type": "code",
      "source": [
        "#\n",
        "# Output / Dependent Variable\n",
        "#\n",
        "y = df['churn']\n",
        "y.head()"
      ],
      "metadata": {
        "id": "9X11Li2d0SbW"
      },
      "execution_count": null,
      "outputs": []
    },
    {
      "cell_type": "markdown",
      "source": [
        "Since our's is an imbalanced dataset, we should add `stratify=y`\n",
        "\n",
        "\n",
        "---\n",
        "\n",
        "\n",
        "**NOTE - Here y is not a string but a variable name, the output / dependent variable, in our case `y = df['churn']`. That's why it's not enclosed within quotes**\n",
        "\n",
        "\n",
        "---\n",
        "\n",
        "\n",
        "**What `stratify=y` Does?**  \n",
        "The `stratify` parameter is used to create a **stratified sample**. This means that when `train_test_split` is dividing your data, it looks at the distribution of values in the `y` variable and makes sure that both the `X_train/y_train` and `X_test/y_test` sets have a representative proportion of each class.\n",
        "\n",
        "For example, in the banking churn dataset, let's say only 10% of customers `churn` (y=1) and 90% do not (y=0).\n",
        "\n",
        "If you use `stratify=y`, your `X_train` and `X_test` will both contain approximately 10% churners.\n",
        "\n",
        "If you don't use it, the split will be random. It's possible, though unlikely, that your test set ends up with a much lower or higher percentage of churners.\n",
        "\n",
        "**What Happens Without `stratify=y`?**  \n",
        "If you don't specify `stratify`, the split is entirely random. This can lead to a few problems, especially with imbalanced datasets like the one we're using:\n",
        "\n",
        "1. **Poor Model Training**  \n",
        "Your training set might not contain enough examples of the minority class (in this case, `churn=1`). The model will have a hard time learning the patterns associated with that class, which will result in poor predictions.\n",
        "\n",
        "2. **Unreliable Evaluation**  \n",
        "Your test set might not be representative of the real-world data. If you have an unusually high or low number of churners in your test set, your final accuracy score will not accurately reflect how the model would perform in a real-world scenario.\n",
        "\n",
        "3. **Complete Failure**  \n",
        "In extreme cases, if the minority class is very rare, a random split might result in your test set having zero instances of that class. You would then be unable to evaluate how well your model predicts that specific outcome.\n",
        "\n",
        "In short, using `stratify=y` adds an extra layer of robustness and reliability to your model evaluation. It's a simple step that helps ensure your training and testing sets are as representative of the overall data as possible."
      ],
      "metadata": {
        "id": "2pdRUeFz2kBN"
      }
    },
    {
      "cell_type": "code",
      "source": [
        "X_train, X_test, y_train, y_test = train_test_split(X, y, test_size=0.2, random_state=42, stratify=y)\n",
        "\n",
        "print(f\"Shape of X_train : {X_train.shape}\")\n",
        "print(f\"Shape of X_test  : {X_test.shape} \")\n",
        "print(f\"Shape of y_train : {y_train.shape}\")\n",
        "print(f\"Shape of y_test  : {y_test.shape} \")"
      ],
      "metadata": {
        "id": "UUSWTMEA2J0C"
      },
      "execution_count": null,
      "outputs": []
    },
    {
      "cell_type": "code",
      "source": [
        "X_train.head()"
      ],
      "metadata": {
        "id": "3tt20tFK5mcb"
      },
      "execution_count": null,
      "outputs": []
    },
    {
      "cell_type": "code",
      "source": [
        "y_train.head()"
      ],
      "metadata": {
        "id": "9waqm7Yz5n6x"
      },
      "execution_count": null,
      "outputs": []
    },
    {
      "cell_type": "code",
      "source": [
        "X_test.head()"
      ],
      "metadata": {
        "id": "PjrgOw0S5sfe"
      },
      "execution_count": null,
      "outputs": []
    },
    {
      "cell_type": "code",
      "source": [
        "y_test.head()"
      ],
      "metadata": {
        "id": "6M8GYwkI5uWT"
      },
      "execution_count": null,
      "outputs": []
    },
    {
      "cell_type": "markdown",
      "source": [
        "# **Standardisation**"
      ],
      "metadata": {
        "id": "NBKEiqmV58r3"
      }
    },
    {
      "cell_type": "markdown",
      "source": [
        "**We are not standardizing the target variable `churn`.**\n",
        "\n",
        "The reason for this comes down to the fundamental difference between **regression and classification**.\n",
        "\n",
        "**The `churn` Variable (Classification)**  \n",
        "The `churn` variable is a **categorical variable**. It represents a class or a label, not a numerical quantity. The values are either 0 (customer did not churn) or 1 (customer churned).\n",
        "\n",
        "When we perform a classification task, our goal is to predict the correct label. Standardizing these values would change them from `0` and `1` to something like `-1.5` and `0.7`, which would completely remove their meaning as discrete categories. The model would no longer be trying to predict `0` or `1`; it would be trying to predict a continuous number, which is a different problem entirely.\n",
        "\n",
        "\n",
        "---\n",
        "\n",
        "* **Classification**  \n",
        "The target variable is a label or category. **Do not standardize** it.\n",
        "\n",
        "* **Regression**  \n",
        "The target variable is a continuous quantity. **Standardizing** it is often a good practice to help the model."
      ],
      "metadata": {
        "id": "w4aWfZhQ7CD3"
      }
    },
    {
      "cell_type": "code",
      "source": [
        "#\n",
        "# Initialize the StandardScaler\n",
        "# Create the scaler and fit it on the TRAINING data ONLY\n",
        "# The scaler learns the mean and standard deviation from the training data\n",
        "#\n",
        "sc = StandardScaler()\n",
        "\n",
        "#\n",
        "# Fit the scaler on the training data and transform both training and testing data\n",
        "# We normally do it 2 steps below but this let's use .fit and .transform\n",
        "#\n",
        "\n",
        "# X_train_scaled = sc.fit_transform(X_train)\n",
        "# X_test_scaled  = sc.transform(X_test)\n",
        "\n",
        "X_train_scaled = sc.fit(X_train)\n",
        "\n",
        "print(\"Scaler Fitted on Training Data\")\n",
        "print(\"==============================\")\n",
        "print(\"Scaler's learned mean\")\n",
        "print(\"---------------------\")\n",
        "print(sc.mean_)\n",
        "print(\"\")\n",
        "print(\"Scaler's learned standard deviation\")\n",
        "print(\"-----------------------------------\")\n",
        "print(np.sqrt(sc.var_))\n",
        "\n",
        "#\n",
        "# Transform both the training and test sets using the FITTED scaler\n",
        "# The test data is transformed using the mean and standard deviation learned\n",
        "# from the training data, ensuring no information from the test set leaks into\n",
        "# the scaling process\n",
        "#\n",
        "X_train_scaled = sc.transform(X_train)\n",
        "X_test_scaled  = sc.transform(X_test)\n",
        "\n",
        "print(\"\")\n",
        "print(\"Data Transformed\")\n",
        "print(\"================\")\n",
        "print(\"Scaled Training Data (X_train_scaled)\")\n",
        "print(\"-------------------------------------\")\n",
        "print(X_train_scaled)\n",
        "print(\"\")\n",
        "print(\"Scaled Test Data (X_test_scaled)\")\n",
        "print(\"--------------------------------\")\n",
        "print(X_test_scaled )\n",
        "\n",
        "#\n",
        "# Verify that the scaling is correct by seeing that the mean\n",
        "# of the scaled training data is now approximately 0\n",
        "#\n",
        "print(\"\")\n",
        "print(\"\\nMean of Scaled Training Data\")\n",
        "print(\"------------------------------\")\n",
        "print(X_train_scaled.mean(axis = 0))\n",
        "\n",
        "#\n",
        "# Note that the mean of the scaled test data is NOT necessarily 0,\n",
        "# because it's being scaled by the training data's parameters.\n",
        "#\n",
        "print(\"\")\n",
        "print(\"Mean of Scaled Test Data :\")\n",
        "print(X_test_scaled.mean(axis = 0))"
      ],
      "metadata": {
        "id": "QvhoalGZ5-RC"
      },
      "execution_count": null,
      "outputs": []
    },
    {
      "cell_type": "code",
      "source": [
        "sns.boxplot(data = X)"
      ],
      "metadata": {
        "id": "M3jw_u4MX2vj"
      },
      "execution_count": null,
      "outputs": []
    },
    {
      "cell_type": "code",
      "source": [
        "sns.boxplot(data = X_train_scaled)"
      ],
      "metadata": {
        "id": "npeOZmVvX4q1"
      },
      "execution_count": null,
      "outputs": []
    },
    {
      "cell_type": "code",
      "source": [
        "sns.boxplot(data = X_test_scaled)"
      ],
      "metadata": {
        "id": "whhCmtzJX954"
      },
      "execution_count": null,
      "outputs": []
    },
    {
      "cell_type": "markdown",
      "source": [
        "# **Model Building**\n",
        "We will use Logistic Regress for this Assingment\n",
        "\n",
        "\n",
        "---\n",
        "\n",
        "\n",
        "<font size=\"+1\">**From Internet**<font>  \n",
        "The best approach is to use a combination of **resampling techniques (like SMOTE)** with a robust model like **XGBoost or Random Forest**, and evaluate its performance using metrics like the **F1-Score and AUC-ROC**"
      ],
      "metadata": {
        "id": "GmyVPZalYU6n"
      }
    },
    {
      "cell_type": "code",
      "source": [
        "#\n",
        "# Define List for Model Name and Accuracy Score to be plotted later\n",
        "#\n",
        "listModelName     = []\n",
        "listAccuracyScore = []\n",
        "\n",
        "#\n",
        "# Import the Logistic Regression model\n",
        "#\n",
        "lrModel = LogisticRegression(random_state = 42)\n",
        "\n",
        "#\n",
        "# Build Model\n",
        "#\n",
        "lrModel.fit(X_train_scaled, y_train)\n",
        "\n",
        "#\n",
        "# Predict the values\n",
        "#\n",
        "y_predicted_lr = lrModel.predict(X_test_scaled)\n",
        "\n",
        "print(\"Predicted Values\")\n",
        "print(y_predicted_lr)"
      ],
      "metadata": {
        "id": "b1kqmWxXahsw"
      },
      "execution_count": null,
      "outputs": []
    },
    {
      "cell_type": "markdown",
      "source": [
        "# **Model Evaluation**"
      ],
      "metadata": {
        "id": "pi33DAXiyIa-"
      }
    },
    {
      "cell_type": "markdown",
      "source": [
        "## **Evaluation Metrics**\n",
        "**Model Performance**\n",
        "* Accuracy Score\n",
        "* Precision Score\n",
        "* Recall Score\n",
        "* F1 Score\n",
        "* Classification Report\n",
        "* Confusion Matrix\n",
        "\n",
        "\n",
        "---\n",
        "\n",
        "\n",
        "**Metrics Explained**\n",
        "\n",
        "1. **Accuracy**\n",
        "   * Measures the proportion of total predictions that were correct.\n",
        "   * Can be misleading if your dataset is imbalanced (e.g., far more retained than churned customers).\n",
        "\n",
        "2. **Precision**\n",
        "   * Out of all customers the model predicted as “churn,” how many actually churned?\n",
        "   * High precision = fewer false positives (not wrongly flagging loyal customers as churned).\n",
        "\n",
        "3. **Recall (Sensitivity)**\n",
        "   * Out of all actual churners, how many did the model correctly identify?\n",
        "   * High recall = fewer false negatives (not missing actual churners).\n",
        "\n",
        "4. **F1-Score**\n",
        "   * Harmonic mean of precision and recall.\n",
        "   * Useful when you want a balance between catching churners (recall) and avoiding false alarms (precision)"
      ],
      "metadata": {
        "id": "yWh-wiexCSY_"
      }
    },
    {
      "cell_type": "markdown",
      "source": [
        "### **Metrics Scores**"
      ],
      "metadata": {
        "id": "cZp54AjhyRSc"
      }
    },
    {
      "cell_type": "code",
      "source": [
        "accuracyScore_LR  = accuracy_score(y_test, y_predicted_lr)\n",
        "precisionScore_LR = precision_score(y_test, y_predicted_lr)\n",
        "recallScore_LR    = recall_score(y_test, y_predicted_lr)\n",
        "f1Score_LR        = f1_score(y_test, y_predicted_lr)\n",
        "\n",
        "print(\"Logistic Regression Model Performance\")\n",
        "print(\"=====================================\")\n",
        "print(f\"Accuracy  : {accuracyScore_LR:.4f}\")\n",
        "print(f\"Precision : {precisionScore_LR:.4f}\")\n",
        "print(f\"Recall    : {recallScore_LR:.4f}\")\n",
        "print(f\"F1-Score  : {f1Score_LR:.4f}\")\n",
        "\n",
        "listModelName.append(\"Logistic Regression\")\n",
        "listAccuracyScore.append(accuracyScore_LR)"
      ],
      "metadata": {
        "id": "cKd8k3dZwOHF"
      },
      "execution_count": null,
      "outputs": []
    },
    {
      "cell_type": "markdown",
      "source": [
        "### **Observation**\n",
        "Logistic Regression model mostly predicts `retained` to achieve high accuracy. It correctly flags `churners` only 5% of the time, which makes it weak for real churn prevention. We will need to rebalance the dataset and tune thresholds to improve recall (catch more churners), even if precision drops slightly\n",
        "\n",
        "* **Accuracy = 0.8194 (82%)**\n",
        "At first glance, this looks good, but since the dataset is imbalanced (likely far more retained than churned customers), accuracy is misleading. The model could predict “retained” most of the time and still get >80%.\n",
        "\n",
        "* **Precision = 0.6709 (~67%)**\n",
        "When the model predicts a customer will churn, it is correct about 2 out of 3 times. That’s decent — not too many false positives.\n",
        "\n",
        "* **Recall = 0.0504 (5%)**\n",
        "Extremely low. Out of all actual churners, the model only catches about 1 in 20. This means it’s missing almost all the customers who actually churn.\n",
        "\n",
        "* **F1-Score = 0.0937 (~9%)**\n",
        "Since F1 balances precision and recall, the very low recall drags this score down. This indicates the model is not effective at churn detection.\n",
        "\n",
        "**Verdict**\n",
        "* The model is biased toward predicting the majority class (retained customers).\n",
        "* It performs well at avoiding false positives (good precision) but fails badly at identifying churners (poor recall).\n",
        "* In churn prediction, recall is usually more important than precision, because missing churners (false negatives) means you don’t intervene and risk losing those customers."
      ],
      "metadata": {
        "id": "WrJHI6Se7IhE"
      }
    },
    {
      "cell_type": "markdown",
      "source": [
        "### **Classification Report**"
      ],
      "metadata": {
        "id": "EZTMHHsy-Ti3"
      }
    },
    {
      "cell_type": "code",
      "source": [
        "#\n",
        "# Classification report for Logistic Regression\n",
        "#\n",
        "print(\"Classification Report for Logistic Regression\")\n",
        "print(\"=============================================\")\n",
        "print(classification_report(y_test, y_predicted_lr))"
      ],
      "metadata": {
        "id": "54X2hN0ExUN_"
      },
      "execution_count": null,
      "outputs": []
    },
    {
      "cell_type": "markdown",
      "source": [
        "### **Observation**\n",
        "* **Class 0 (Retained)**  \n",
        "Excellent performance (precision 0.82, recall 0.99, F1 = 0.90). The model is very good at identifying retained customers\n",
        "* **Class 1 (Churned)**  \n",
        "Very poor recall (0.05) despite decent precision (0.67). It catches only a tiny fraction of churners, so most churners are missed\n",
        "* **Overall Accuracy (0.82)**  \n",
        "Looks high, but it’s driven by the majority class (retained)\n",
        "* **Macro Avg (0.52 recall, 0.50 F1)**  \n",
        "Shows poor balance across classes\n",
        "* **Weighted Avg (0.75 F1)**  \n",
        "Still pulled up by the majority class\n",
        "\n",
        "The model is heavily biased toward predicting `retained` due to class imbalance. It's reliable for identifying non-churners but fails at detecting churners, which is the key business goal in churn modeling.\n",
        "\n",
        "We'll need to rebalance the data (class weights, resampling) or adjust thresholds to improve recall for churners"
      ],
      "metadata": {
        "id": "N7xkAa4g_0A6"
      }
    },
    {
      "cell_type": "code",
      "source": [
        "y_test.shape"
      ],
      "metadata": {
        "id": "cGOQKU3h_P09"
      },
      "execution_count": null,
      "outputs": []
    },
    {
      "cell_type": "markdown",
      "source": [
        "### **Confusion Matrix**"
      ],
      "metadata": {
        "id": "f7ujxG7AA8r_"
      }
    },
    {
      "cell_type": "code",
      "source": [
        "#\n",
        "# Confusion Matrix for Logistic Regression\n",
        "#\n",
        "confusionMatrix_LR = confusion_matrix(y_test, y_predicted_lr)\n",
        "\n",
        "plt.figure(figsize = (6, 6))\n",
        "\n",
        "sns.heatmap(\n",
        "             confusionMatrix_LR,\n",
        "             annot = True,\n",
        "             fmt   = 'd', # 'd' ensures integers, not scientific notation\n",
        "             cmap  = 'coolwarm'\n",
        "           )\n",
        "\n",
        "plt.title('Logistic Regression Confusion Matrix')\n",
        "plt.ylabel('Actual Label')\n",
        "plt.xlabel('Predicted Label')\n",
        "\n",
        "plt.show()"
      ],
      "metadata": {
        "id": "ko1ANn18A_JA"
      },
      "execution_count": null,
      "outputs": []
    },
    {
      "cell_type": "markdown",
      "source": [
        "### **Observation**\n",
        "The model is biased toward the majority class (retained). It performs well on retained customers but fails to identify churners, which are the business-critical cases. In practice, this means many churners would slip through unnoticed.\n",
        "\n",
        "**Confusion Matrix Breakdown**\n",
        "\n",
        "* **Class 0 (Retained customers)**\n",
        "  * True Negatives (4599): Correctly identified as retained\n",
        "  * False Positives (20): Incorrectly flagged as churn when actually retained\n",
        "\n",
        "* **Class 1 (Churned customers)**\n",
        "  * False Negatives (999): Actual churners the model missed (predicted as retained)\n",
        "  * True Positives (53): Correctly identified as churn\n",
        "\n",
        "**Summary**\n",
        "1. The model is very good at predicting retained customers (99.6% accuracy for class 0).\n",
        "2. It is very poor at predicting churners — it only caught 53 out of 1052 actual churners (recall ~5%).\n",
        "3. The small number of false positives (20) shows the model is conservative: it rarely predicts churn, but when it does, it’s often correct.\n",
        "4. The imbalance in predictions (model heavily favoring \"retained\") is clear — it almost always predicts customers will stay."
      ],
      "metadata": {
        "id": "KmRSkrfSCgu0"
      }
    },
    {
      "cell_type": "markdown",
      "source": [
        "# **Predict New Input**"
      ],
      "metadata": {
        "id": "twJoD_r5GbQq"
      }
    },
    {
      "cell_type": "code",
      "source": [
        "X.head()"
      ],
      "metadata": {
        "id": "XsLC0EvlGdBK"
      },
      "execution_count": null,
      "outputs": []
    },
    {
      "cell_type": "code",
      "source": [
        "y.head()"
      ],
      "metadata": {
        "id": "LoNr1_ooGoqS"
      },
      "execution_count": null,
      "outputs": []
    },
    {
      "cell_type": "code",
      "source": [
        "#\n",
        "# Get postive or negative cases\n",
        "# 1 = Positive (Ex. 3)\n",
        "# 0 = Negative (Ex. 2)\n",
        "#\n",
        "conditionValue = 0\n",
        "y[y == conditionValue]"
      ],
      "metadata": {
        "id": "tRLjhKs7J-QH"
      },
      "execution_count": null,
      "outputs": []
    },
    {
      "cell_type": "code",
      "source": [
        "locationIndex = 2 # 2 # 3\n",
        "X.loc[locationIndex]"
      ],
      "metadata": {
        "id": "K0-QxLUKKLDN"
      },
      "execution_count": null,
      "outputs": []
    },
    {
      "cell_type": "code",
      "source": [
        "y.loc[locationIndex] # Use the same location index as above"
      ],
      "metadata": {
        "id": "5KaISk68LM8p"
      },
      "execution_count": null,
      "outputs": []
    },
    {
      "cell_type": "code",
      "source": [
        "X.columns"
      ],
      "metadata": {
        "id": "Dq2mc2KJLfi5"
      },
      "execution_count": null,
      "outputs": []
    },
    {
      "cell_type": "code",
      "source": [
        "#\n",
        "# x Input\n",
        "# vintage, age, gender, dependents, occupation, city,\n",
        "# customer_nw_category, branch_code, current_balance,\n",
        "# previous_month_end_balance, average_monthly_balance_prevQ,\n",
        "# average_monthly_balance_prevQ2, current_month_credit,\n",
        "# previous_month_credit, current_month_debit, previous_month_debit,\n",
        "# current_month_balance, previous_month_balance\n",
        "#\n",
        "\n",
        "# newData = np.array(\n",
        "#                     [\n",
        "#                       [\n",
        "#                         2329.00, 90.00, 1.00, 0.00, 3.00, 992.00, 1.00, 530.00,\n",
        "#                         2291.91, 2291.91, 2084.54, 1006.54, 0.47, 0.47, 0.47,\n",
        "#                         2143.33, 2291.91, 1669.79\n",
        "#                       ]\n",
        "#                     ]\n",
        "#                   ) # Positive Case\n",
        "\n",
        "newData = np.array(\n",
        "                    [\n",
        "                      [\n",
        "                        2194.00, 31.00, 1.00, 0.00, 2.00, 142.00, 1.00, 40.00,\n",
        "                        3913.16, 5815.29, 4910.17, 2815.94, 0.61, 0.61, 6046.73,\n",
        "                        259.23, 5006.28, 5070.14\n",
        "                      ]\n",
        "                    ]\n",
        "                  ) # Negative Case\n",
        "\n",
        "#\n",
        "# Do Standardisation\n",
        "#\n",
        "newDataScaled = sc.transform(newData)\n",
        "\n",
        "#\n",
        "# Predict the class (Chrun / Retain) for the new data\n",
        "#\n",
        "predictedInsuranceCharges = lrModel.predict(newDataScaled)\n",
        "print(\"Prediction for New Input:\", predictedInsuranceCharges)\n",
        "print(f\"Prediction for New Input: {predictedInsuranceCharges[0]:.2f}\")"
      ],
      "metadata": {
        "id": "wMw7K8BdLaye"
      },
      "execution_count": null,
      "outputs": []
    },
    {
      "cell_type": "markdown",
      "source": [
        "# **Alternative Models**\n",
        "**Purely for academic interest only. We won't be evaluating models in-depth or do much hyperparameter tuning**"
      ],
      "metadata": {
        "id": "FILfS3jTOGk7"
      }
    },
    {
      "cell_type": "markdown",
      "source": [
        "## **Logistic Regression (Fine Tuned)**"
      ],
      "metadata": {
        "id": "nUY1vl5hOggZ"
      }
    },
    {
      "cell_type": "code",
      "source": [
        "lrModelBalanced = LogisticRegression(class_weight = 'balanced', random_state = 42)\n",
        "lrModelBalanced.fit(X_train_scaled, y_train)\n",
        "y_predicted_lr = lrModel.predict(X_test_scaled)"
      ],
      "metadata": {
        "id": "HQgqUCXaOZGO"
      },
      "execution_count": null,
      "outputs": []
    },
    {
      "cell_type": "code",
      "source": [
        "accuracyScore_LR_Balanced  = accuracy_score(y_test, y_predicted_lr)\n",
        "precisionScore_LR_Balanced = precision_score(y_test, y_predicted_lr)\n",
        "recallScore_LR_Balanced    = recall_score(y_test, y_predicted_lr)\n",
        "f1Score_LR_Balanced        = f1_score(y_test, y_predicted_lr)\n",
        "\n",
        "print(\"Logistic Regression Model Performance (Class Weight = Balanced)\")\n",
        "print(\"===============================================================\")\n",
        "print(f\"Accuracy  : {accuracyScore_LR_Balanced:.4f}\")\n",
        "print(f\"Precision : {precisionScore_LR_Balanced:.4f}\")\n",
        "print(f\"Recall    : {recallScore_LR_Balanced:.4f}\")\n",
        "print(f\"F1-Score  : {f1Score_LR_Balanced:.4f}\")\n",
        "\n",
        "listModelName.append(\"Logistic Regression (Fine Tuned)\")\n",
        "listAccuracyScore.append(accuracyScore_LR_Balanced)"
      ],
      "metadata": {
        "id": "JM0N1fNwO3O5"
      },
      "execution_count": null,
      "outputs": []
    },
    {
      "cell_type": "code",
      "source": [
        "#\n",
        "# Classification report for Logistic Regression\n",
        "#\n",
        "print(\"Classification Report for Logistic Regression\")\n",
        "print(\"=============================================\")\n",
        "print(classification_report(y_test, y_predicted_lr))"
      ],
      "metadata": {
        "id": "Hrs9mj2MO_F1"
      },
      "execution_count": null,
      "outputs": []
    },
    {
      "cell_type": "code",
      "source": [
        "#\n",
        "# Confusion Matrix for Logistic Regression\n",
        "#\n",
        "confusionMatrix_LR = confusion_matrix(y_test, y_predicted_lr)\n",
        "\n",
        "plt.figure(figsize = (6, 6))\n",
        "\n",
        "sns.heatmap(\n",
        "             confusionMatrix_LR,\n",
        "             annot = True,\n",
        "             fmt   = 'd', # 'd' ensures integers, not scientific notation\n",
        "             cmap  = 'coolwarm'\n",
        "           )\n",
        "\n",
        "plt.title('Logistic Regression Confusion Matrix')\n",
        "plt.ylabel('Actual Label')\n",
        "plt.xlabel('Predicted Label')\n",
        "\n",
        "plt.show()"
      ],
      "metadata": {
        "id": "a1bEMWDoPWmJ"
      },
      "execution_count": null,
      "outputs": []
    },
    {
      "cell_type": "markdown",
      "source": [
        "## **KNN Classifier**"
      ],
      "metadata": {
        "id": "e-6PYsjAnE7A"
      }
    },
    {
      "cell_type": "code",
      "source": [
        "from sklearn.neighbors import KNeighborsClassifier"
      ],
      "metadata": {
        "id": "_HcHu-EgIQnC"
      },
      "execution_count": null,
      "outputs": []
    },
    {
      "cell_type": "code",
      "source": [
        "knnModel = KNeighborsClassifier()\n",
        "knnModel.fit(X_train_scaled, y_train)\n",
        "y_predicted_knn = knnModel.predict(X_test_scaled)"
      ],
      "metadata": {
        "id": "xCV4Ce-eIqqv"
      },
      "execution_count": null,
      "outputs": []
    },
    {
      "cell_type": "code",
      "source": [
        "accuracyScore_KNN  = accuracy_score(y_test, y_predicted_lr)\n",
        "\n",
        "print(\"k-Nearest Neighbors Model Performance\")\n",
        "print(\"=====================================\")\n",
        "print(f\"Accuracy  : {accuracyScore_KNN:.4f}\")\n",
        "\n",
        "listModelName.append(\"k-Nearest Neighbors\")\n",
        "listAccuracyScore.append(accuracyScore_KNN)"
      ],
      "metadata": {
        "id": "mpeqkWOGJ0D6"
      },
      "execution_count": null,
      "outputs": []
    },
    {
      "cell_type": "markdown",
      "source": [
        "## **Decision Tree**"
      ],
      "metadata": {
        "id": "xN5nGSzJKGsZ"
      }
    },
    {
      "cell_type": "markdown",
      "source": [
        "![image.png](data:image/png;base64,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)"
      ],
      "metadata": {
        "id": "Bj2OYo3_KN-5"
      }
    },
    {
      "cell_type": "code",
      "source": [
        "from sklearn.tree import DecisionTreeClassifier"
      ],
      "metadata": {
        "id": "dmF5LDD6Iqne"
      },
      "execution_count": null,
      "outputs": []
    },
    {
      "cell_type": "code",
      "source": [
        "dtModel = DecisionTreeClassifier(random_state = 42)\n",
        "dtModel.fit(X_train_scaled, y_train)\n",
        "y_predicted_dt = dtModel.predict(X_test_scaled)"
      ],
      "metadata": {
        "id": "cb5yN_vpIqkC"
      },
      "execution_count": null,
      "outputs": []
    },
    {
      "cell_type": "code",
      "source": [
        "accuracyScore_DT = accuracy_score(y_test, y_predicted_dt)\n",
        "\n",
        "print(\"Decision Tree Model Performance\")\n",
        "print(\"===============================\")\n",
        "print(f\"Accuracy  : {accuracyScore_DT:.4f}\")\n",
        "\n",
        "listModelName.append(\"Decision Tree\")\n",
        "listAccuracyScore.append(accuracyScore_DT)"
      ],
      "metadata": {
        "id": "sh_XDzY_Iqgn"
      },
      "execution_count": null,
      "outputs": []
    },
    {
      "cell_type": "markdown",
      "source": [
        "## **Decision Tree (Fine Tuned)**"
      ],
      "metadata": {
        "id": "D8BuyZxnODV4"
      }
    },
    {
      "cell_type": "code",
      "source": [
        "#\n",
        "# Example of Hyper-Parameter Tuning\n",
        "# Produced slightly better results\n",
        "#\n",
        "dtModel_FT = DecisionTreeClassifier(max_depth = 4, random_state = 42) # Tuned Hyper-Parameter max_depth\n",
        "dtModel_FT.fit(X_train_scaled, y_train)\n",
        "y_predicted_dt_ft = dtModel_FT.predict(X_test_scaled)"
      ],
      "metadata": {
        "id": "6tt9B3zyLtTE"
      },
      "execution_count": null,
      "outputs": []
    },
    {
      "cell_type": "code",
      "source": [
        "accuracyScore_DT_FT = accuracy_score(y_test, y_predicted_dt_ft)\n",
        "\n",
        "print(\"Decision Tree Model Performance (Max Depth = 4)\")\n",
        "print(\"===============================================\")\n",
        "print(f\"Accuracy  : {accuracyScore_DT_FT:.4f}\")\n",
        "\n",
        "listModelName.append(\"Decision Tree (Fine Tuned)\")\n",
        "listAccuracyScore.append(accuracyScore_DT_FT)"
      ],
      "metadata": {
        "id": "j_KeJdjvMzXR"
      },
      "execution_count": null,
      "outputs": []
    },
    {
      "cell_type": "code",
      "source": [
        "#\n",
        "# Exporting Tree\n",
        "# Decision Tree Fine Tuned Model taken for example\n",
        "#\n",
        "# Class (Targt Variable) = 0 (Negative - Not having COVID)\n",
        "# Class (Targt Variable) = 1 (Positive - Having COVID)\n",
        "#\n",
        "from sklearn import tree\n",
        "treeText = tree.export_text(dtModel_FT)\n",
        "print(treeText)"
      ],
      "metadata": {
        "id": "dp_Iy5DTLZWW"
      },
      "execution_count": null,
      "outputs": []
    },
    {
      "cell_type": "code",
      "source": [
        "#\n",
        "# Writing the Tree structure to a File\n",
        "# File Path = /content/DecisionTree_FineTuned.log\n",
        "#\n",
        "with open('DecisionTree_FineTuned.log', 'w') as outFile:\n",
        "  outFile.write(treeText)"
      ],
      "metadata": {
        "id": "v2Q4SHlnODQq"
      },
      "execution_count": null,
      "outputs": []
    },
    {
      "cell_type": "code",
      "source": [
        "X.columns"
      ],
      "metadata": {
        "id": "CVT8uygDJash"
      },
      "execution_count": null,
      "outputs": []
    },
    {
      "cell_type": "code",
      "source": [
        "#\n",
        "# Visualising tree structure\n",
        "# Plot using tree\n",
        "#\n",
        "features = X.columns\n",
        "target   = ['0','1'] # Output. Class 0 = Retained, Class 1 = Chruned\n",
        "\n",
        "fig  = plt.figure(figsize=(20,30))\n",
        "plot = tree.plot_tree(dtModel_FT,feature_names=features,class_names=target)\n",
        "\n",
        "fig.savefig('DecisionTree_FineTuned.png')"
      ],
      "metadata": {
        "id": "MBuFwoybJ1g6"
      },
      "execution_count": null,
      "outputs": []
    },
    {
      "cell_type": "markdown",
      "source": [
        "## **Random Forest**\n",
        "**More number of decision trees. Using Bagging**"
      ],
      "metadata": {
        "id": "kbDMKn-ULRzB"
      }
    },
    {
      "cell_type": "markdown",
      "source": [
        "![image.png](data:image/png;base64,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)"
      ],
      "metadata": {
        "id": "T_6jt7EULa0T"
      }
    },
    {
      "cell_type": "code",
      "source": [
        "from sklearn.ensemble import RandomForestClassifier"
      ],
      "metadata": {
        "id": "EHy_tREVIqcd"
      },
      "execution_count": null,
      "outputs": []
    },
    {
      "cell_type": "code",
      "source": [
        "rfModel = RandomForestClassifier(random_state = 42)\n",
        "rfModel.fit(X_train_scaled, y_train)\n",
        "y_predicted_rf = rfModel.predict(X_test_scaled)"
      ],
      "metadata": {
        "id": "HnHlCgSTIqWB"
      },
      "execution_count": null,
      "outputs": []
    },
    {
      "cell_type": "code",
      "source": [
        "accuracyScore_RF = accuracy_score(y_test, y_predicted_dt_ft)\n",
        "\n",
        "print(\"Random Forest Model Performance\")\n",
        "print(\"===============================\")\n",
        "print(f\"Accuracy  : {accuracyScore_RF:.4f}\")\n",
        "\n",
        "listModelName.append(\"Random Forest\")\n",
        "listAccuracyScore.append(accuracyScore_RF)"
      ],
      "metadata": {
        "id": "qgeCfINCIqFh"
      },
      "execution_count": null,
      "outputs": []
    },
    {
      "cell_type": "markdown",
      "source": [
        "## **Random Forest (Fine Tuned)**"
      ],
      "metadata": {
        "id": "BQeqCFoHPfIe"
      }
    },
    {
      "cell_type": "code",
      "source": [
        "rfModel_FT = RandomForestClassifier(n_estimators = 150, random_state = 42)\n",
        "rfModel_FT.fit(X_train_scaled, y_train)\n",
        "y_predicted_RF_FT = rfModel.predict(X_test_scaled)"
      ],
      "metadata": {
        "id": "Q03Jw8a0Pf3Y"
      },
      "execution_count": null,
      "outputs": []
    },
    {
      "cell_type": "code",
      "source": [
        "accuracyScore_RF_FT = accuracy_score(y_test, y_predicted_dt_ft)\n",
        "\n",
        "print(\"Random Forest Model Performance (Number of Estimators = 150)\")\n",
        "print(\"============================================================\")\n",
        "print(f\"Accuracy  : {accuracyScore_RF_FT:.4f}\")\n",
        "\n",
        "listModelName.append(\"Random Forest (Fine Tuned)\")\n",
        "listAccuracyScore.append(accuracyScore_RF_FT)"
      ],
      "metadata": {
        "id": "t_ojNA20Pgol"
      },
      "execution_count": null,
      "outputs": []
    },
    {
      "cell_type": "markdown",
      "source": [
        "## **Gradient Boosting**"
      ],
      "metadata": {
        "id": "3KKrV35kRJy-"
      }
    },
    {
      "cell_type": "code",
      "source": [
        "from sklearn.ensemble import GradientBoostingClassifier"
      ],
      "metadata": {
        "id": "MK4YVonOPieJ"
      },
      "execution_count": null,
      "outputs": []
    },
    {
      "cell_type": "code",
      "source": [
        "gbModel = GradientBoostingClassifier(random_state = 42)\n",
        "gbModel.fit(X_train_scaled, y_train)\n",
        "y_predicted_gb = gbModel.predict(X_test_scaled)"
      ],
      "metadata": {
        "id": "4x-pTsUPPhf_"
      },
      "execution_count": null,
      "outputs": []
    },
    {
      "cell_type": "code",
      "source": [
        "accuracyScore_GB = accuracy_score(y_test, y_predicted_dt_ft)\n",
        "\n",
        "print(\"Gradient Booster Model Performance\")\n",
        "print(\"==================================\")\n",
        "print(f\"Accuracy  : {accuracyScore_GB:.4f}\")\n",
        "\n",
        "listModelName.append(\"Gradient Booster\")\n",
        "listAccuracyScore.append(accuracyScore_GB)"
      ],
      "metadata": {
        "id": "oaPDfvUeR_e-"
      },
      "execution_count": null,
      "outputs": []
    },
    {
      "cell_type": "markdown",
      "source": [
        "## **XG Boosting (Extreme Boosting)**"
      ],
      "metadata": {
        "id": "W1osY0KcS4tL"
      }
    },
    {
      "cell_type": "code",
      "source": [
        "from xgboost import XGBClassifier\n",
        "xgbModel = XGBClassifier(random_state = 42)\n",
        "xgbModel.fit(X_train_scaled, y_train)\n",
        "y_predicted_xgb = xgbModel.predict(X_test_scaled)"
      ],
      "metadata": {
        "id": "s7KXI4RAR_aP"
      },
      "execution_count": null,
      "outputs": []
    },
    {
      "cell_type": "code",
      "source": [
        "accuracyScore_XGB = accuracy_score(y_test, y_predicted_xgb)\n",
        "\n",
        "print(\"XG Booster Model Performance\")\n",
        "print(\"============================\")\n",
        "print(f\"Accuracy  : {accuracyScore_XGB:.4f}\")\n",
        "\n",
        "listModelName.append(\"XG Booster\")\n",
        "listAccuracyScore.append(accuracyScore_XGB)"
      ],
      "metadata": {
        "id": "oaz6wkrOR_LX"
      },
      "execution_count": null,
      "outputs": []
    },
    {
      "cell_type": "markdown",
      "source": [
        "## **Support Vector Machines**"
      ],
      "metadata": {
        "id": "JuimxeSJmkxQ"
      }
    },
    {
      "cell_type": "code",
      "source": [
        "from sklearn import svm\n",
        "svmModel = svm.SVC(random_state = 42)\n",
        "svmModel.fit(X_train_scaled, y_train)\n",
        "y_predicted_svm = svmModel.predict(X_test_scaled)"
      ],
      "metadata": {
        "id": "HS2UvF6Qm3FF"
      },
      "execution_count": null,
      "outputs": []
    },
    {
      "cell_type": "code",
      "source": [
        "accuracyScore_SVM = accuracy_score(y_test, y_predicted_svm)\n",
        "\n",
        "print(\"Support Vector Machines Model Performance\")\n",
        "print(\"=========================================\")\n",
        "print(f\"Accuracy  : {accuracyScore_SVM:.4f}\")\n",
        "\n",
        "listModelName.append(\"Support Vector Machines\")\n",
        "listAccuracyScore.append(accuracyScore_SVM)"
      ],
      "metadata": {
        "id": "qIrlYM4hoFwR"
      },
      "execution_count": null,
      "outputs": []
    },
    {
      "cell_type": "markdown",
      "source": [
        "# **Model Comparison**"
      ],
      "metadata": {
        "id": "Mbl9PvYOIkxJ"
      }
    },
    {
      "cell_type": "markdown",
      "source": [
        "## **Model Comparison Visualisation**"
      ],
      "metadata": {
        "id": "BhbYJV_oYwHQ"
      }
    },
    {
      "cell_type": "code",
      "source": [
        "#\n",
        "# Set Pandas display format for floats\n",
        "#\n",
        "pd.options.display.float_format = '{:.4f}'.format\n",
        "\n",
        "#\n",
        "# Model Comparison Data\n",
        "#\n",
        "dictModelComparisonData = {\n",
        "                            \"Model Name\"     : listModelName,\n",
        "                            \"Accuracy Score\" : listAccuracyScore\n",
        "                          }\n",
        "\n",
        "#\n",
        "# Convert the Dictionary into a DataFrame\n",
        "#\n",
        "dfModelComparisonData = pd.DataFrame(dictModelComparisonData)\n",
        "dfModelComparisonData = dfModelComparisonData.sort_values(\n",
        "                                                           by        = ['Accuracy Score', 'Model Name'],\n",
        "                                                           ascending = [False, True]\n",
        "                                                         )\n",
        "# print(dfModelComparisonData)\n",
        "\n",
        "#\n",
        "# Bar Plot\n",
        "#\n",
        "plt.figure(figsize = (13,6))\n",
        "sns.barplot(\n",
        "             x       = \"Accuracy Score\",\n",
        "             y       = \"Model Name\",\n",
        "             data    = dfModelComparisonData,\n",
        "             hue     = \"Model Name\", # To supress warning\n",
        "             palette = \"coolwarm\" # \"Blues_r\"\n",
        "           )\n",
        "\n",
        "#\n",
        "# Titles and labels\n",
        "#\n",
        "plt.title(\"Model Accuracy Comparison\", fontsize = 18, weight = 'bold')\n",
        "plt.xlabel(\"Accuracy Score\", fontsize = 12)\n",
        "plt.ylabel(\"Model Name\", fontsize = 12)\n",
        "\n",
        "#\n",
        "# Show values on bars\n",
        "#\n",
        "for index, value in enumerate(dfModelComparisonData[\"Accuracy Score\"]):\n",
        "  plt.text(value + 0.002, index, f\"{value:.4f}\", va='center')\n",
        "\n",
        "plt.show()"
      ],
      "metadata": {
        "id": "b4oGDSZ-Ys8c"
      },
      "execution_count": null,
      "outputs": []
    }
  ]
}