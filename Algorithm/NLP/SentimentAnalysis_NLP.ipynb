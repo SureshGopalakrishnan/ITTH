{
  "nbformat": 4,
  "nbformat_minor": 0,
  "metadata": {
    "colab": {
      "provenance": [],
      "toc_visible": true
    },
    "kernelspec": {
      "name": "python3",
      "display_name": "Python 3"
    },
    "language_info": {
      "name": "python"
    }
  },
  "cells": [
    {
      "cell_type": "markdown",
      "source": [
        "# **NLP Classification Assignment: Toxicity Detection**\n",
        "\n",
        "## **Assignment Context**\n",
        "This assignment is a **practical introduction to NLP and Machine Learning Classification**.  \n",
        "The goal is to build and evaluate models that distinguish between **toxic** and **non-toxic** social media content.  \n",
        "\n",
        "This task is highly relevant for:\n",
        "- Platform moderation  \n",
        "- Content filtering  \n",
        "- Maintaining healthy online communities  \n",
        "\n",
        "---\n",
        "\n",
        "## **Workflow (Data Science Pipeline)**\n",
        "\n",
        "1. **Data Loading & Cleaning**  \n",
        "   - Preparing raw text for machine learning.  \n",
        "\n",
        "2. **Exploratory Data Analysis (EDA)**  \n",
        "   - Understanding distributions and biases (e.g., class imbalance).  \n",
        "\n",
        "3. **Feature Engineering**  \n",
        "   - Converting text into numerical features (vectorization).  \n",
        "\n",
        "4. **Model Training & Evaluation**  \n",
        "   - Comparing multiple algorithms using relevant metrics.  \n",
        "\n",
        "---\n",
        "\n",
        "## **Dataset Overview: `twitter.csv`**\n",
        "\n",
        "| Column Name | Description |\n",
        "|-------------|-------------|\n",
        "| **id**      | A unique identifier for the tweet |\n",
        "| **label**   | Target variable: `0 = Non-Toxic`, `1 = Toxic/Hate Speech` |\n",
        "| **tweet**   | The raw text content of the tweet |\n",
        "\n",
        "### **Key Characteristic: Class Imbalance**\n",
        "- Majority class = `0 (Non-Toxic)`  \n",
        "- Minority class = `1 (Toxic)`  \n",
        "- Because of this imbalance, **Accuracy is unreliable** → must use **F1-Score** for evaluation.\n",
        "\n",
        "---\n",
        "\n",
        "## **Assignment Objectives**\n",
        "\n",
        "- **Robust Preprocessing**  \n",
        "  - Noise removal (mentions, links)  \n",
        "  - Stemming, lemmatization, stopword removal  \n",
        "\n",
        "- **Feature Representation**  \n",
        "  - Convert cleaned text → numerical features using **Count Vectorizer (BoW - Bag of Words)**  \n",
        "  - (Optional: TF-IDF for future exploration)  \n",
        "\n",
        "- **Comparative Modeling**  \n",
        "  - Train at least 3 models:  \n",
        "    - Logistic Regression  \n",
        "    - Multinomial Naive Bayes  \n",
        "    - Gaussian Naive Bayes  \n",
        "\n",
        "- **Critical Evaluation**  \n",
        "  - Select the **best model based on F1-Score** for label = 1 (Toxic)  \n",
        "  - Understand **why F1 is crucial for imbalanced data**  \n",
        "\n",
        "---\n",
        "\n",
        "## **Key Concepts and Techniques**\n",
        "\n",
        "### **Natural Language Processing (NLP)**\n",
        "- **Tokenization**: Split text into words/tokens  \n",
        "- **Stopword Removal**: Remove common words like \"the\", \"is\", \"a\"  \n",
        "- **Stemming**: Reduce words to their root (e.g., *running → run*)  \n",
        "- **Lemmatization**: Reduce words to dictionary form (e.g., *better → good*)  \n",
        "\n",
        "### **Feature Engineering**\n",
        "- **Bag-of-Words (BoW)**: Represent text as unordered word counts  \n",
        "- **Count Vectorizer**: Implements BoW (word frequency counts)  \n",
        "- **TF-IDF**: Weighs words by frequency in document vs across all documents  \n",
        "\n",
        "### **Machine Learning Models**\n",
        "- **Logistic Regression**: Linear binary classifier (probabilistic)  \n",
        "- **Naive Bayes (Multinomial & Gaussian)**: Probabilistic classifiers based on Bayes’ Theorem, fast & effective for text  \n",
        "\n",
        "---\n",
        "\n",
        "## **Model Evaluation Metrics**\n",
        "\n",
        "- **Confusion Matrix**  \n",
        "  - Summarizes predictions:  \n",
        "    - TP (True Positive)  \n",
        "    - TN (True Negative)  \n",
        "    - FP (False Positive)  \n",
        "    - FN (False Negative)  \n",
        "\n",
        "- **F1-Score**  \n",
        "  - Harmonic mean of **Precision** and **Recall**  \n",
        "  - Best for **imbalanced data**  \n",
        "\n",
        "- **Precision (PPV)**  \n",
        "  - Out of predicted Toxic tweets, how many are correct?  \n",
        "  - Formula: $Precision = \\frac{TP}{TP+FP}$  \n",
        "\n",
        "- **Recall (Sensitivity)**  \n",
        "  - Out of all actual Toxic tweets, how many did the model catch?  \n",
        "  - Formula: $Recall = \\frac{TP}{TP+FN}$  "
      ],
      "metadata": {
        "id": "-I9tuTDfoky4"
      }
    },
    {
      "cell_type": "markdown",
      "source": [
        "# **Initial Setup**"
      ],
      "metadata": {
        "id": "2-JVaVbAuDG_"
      }
    },
    {
      "cell_type": "code",
      "source": [
        "!pip install ipython-autotime"
      ],
      "metadata": {
        "id": "Dnjc8CSQw9cQ"
      },
      "execution_count": null,
      "outputs": []
    },
    {
      "cell_type": "code",
      "source": [
        "#\n",
        "# Magic command to get the elpased time for each cell\n",
        "#\n",
        "%load_ext autotime"
      ],
      "metadata": {
        "id": "ba-fDyYHw9P5"
      },
      "execution_count": null,
      "outputs": []
    },
    {
      "cell_type": "code",
      "execution_count": 77,
      "metadata": {
        "colab": {
          "base_uri": "https://localhost:8080/"
        },
        "id": "MndGVDOCmaFy",
        "outputId": "985515fe-3eae-4a5d-df23-9a19ff82f792"
      },
      "outputs": [
        {
          "output_type": "stream",
          "name": "stdout",
          "text": [
            "time: 2.05 ms (started: 2025-09-30 15:53:10 +00:00)\n"
          ]
        }
      ],
      "source": [
        "#\n",
        "# Import Libraries\n",
        "#\n",
        "import pandas as pd\n",
        "import numpy as np\n",
        "import matplotlib.pyplot as plt\n",
        "import seaborn as sns\n",
        "import re\n",
        "from collections import Counter                                               # Added for Word Frequency Analysis\n",
        "\n",
        "import nltk\n",
        "from nltk.corpus import stopwords\n",
        "from nltk.stem import PorterStemmer, WordNetLemmatizer\n",
        "\n",
        "from sklearn.model_selection import train_test_split                          # To split data into training and testing sets\n",
        "from sklearn.feature_extraction.text import CountVectorizer                   # To get a frequency count of each word in a provided text\n",
        "from sklearn.feature_extraction.text import TfidfVectorizer                   # To convert text into numerical features\n",
        "from sklearn.linear_model import LogisticRegression                           # The Logistic Regression classifier model\n",
        "from sklearn.naive_bayes import MultinomialNB, GaussianNB                     # The Naive Bayes classifier models\n",
        "from sklearn.metrics import (\n",
        "                              #\n",
        "                              # Import all necessary metrics\n",
        "                              #\n",
        "                              classification_report,\n",
        "                              confusion_matrix,\n",
        "                              f1_score,\n",
        "                              accuracy_score,\n",
        "                              precision_score,\n",
        "                              recall_score\n",
        "                            )\n",
        "\n",
        "from google.colab import files\n",
        "\n",
        "#\n",
        "# Suppress the UserWarning\n",
        "#\n",
        "import warnings\n",
        "warnings.filterwarnings(\"ignore\", category = UserWarning)\n",
        "warnings.filterwarnings(\"ignore\", category = FutureWarning)"
      ]
    },
    {
      "cell_type": "code",
      "source": [
        "#\n",
        "# Ensure NLTK downloads are complete by catching LookupError\n",
        "#\n",
        "try:\n",
        "  nltk.data.find('corpora/stopwords')\n",
        "except LookupError:\n",
        "  print(\"Downloading NLTK stopwords...\")\n",
        "  nltk.download('stopwords')\n",
        "\n",
        "try:\n",
        "  nltk.data.find('corpora/wordnet')\n",
        "except LookupError:\n",
        "  print(\"Downloading NLTK wordnet...\")\n",
        "  nltk.download('wordnet')"
      ],
      "metadata": {
        "colab": {
          "base_uri": "https://localhost:8080/"
        },
        "id": "8XWZR8u22RPQ",
        "outputId": "bd0f1a66-3ea7-4263-9692-cd010a8afcf7"
      },
      "execution_count": 78,
      "outputs": [
        {
          "output_type": "stream",
          "name": "stdout",
          "text": [
            "Downloading NLTK wordnet...\n",
            "time: 100 ms (started: 2025-09-30 15:53:17 +00:00)\n"
          ]
        },
        {
          "output_type": "stream",
          "name": "stderr",
          "text": [
            "[nltk_data] Downloading package wordnet to /root/nltk_data...\n",
            "[nltk_data]   Package wordnet is already up-to-date!\n"
          ]
        }
      ]
    },
    {
      "cell_type": "code",
      "source": [
        "#\n",
        "# Set Pandas display format for floats\n",
        "#\n",
        "pd.options.display.float_format = '{:.2f}'.format\n",
        "\n",
        "#\n",
        "# Set NumPy's print options to suppress scientific notation and set precision.\n",
        "#   'suppress  = True' - Prevents the use of scientific notation.\n",
        "#   'precision = 2'    - Sets the number of decimal places to display.\n",
        "#\n",
        "np.set_printoptions(suppress = True, precision = 2)"
      ],
      "metadata": {
        "colab": {
          "base_uri": "https://localhost:8080/"
        },
        "id": "kYwQ0zQSsPrC",
        "outputId": "c592bbd8-1403-4874-8d0b-64a6b7da5d8b"
      },
      "execution_count": 79,
      "outputs": [
        {
          "output_type": "stream",
          "name": "stdout",
          "text": [
            "time: 1.24 ms (started: 2025-09-30 15:53:21 +00:00)\n"
          ]
        }
      ]
    },
    {
      "cell_type": "code",
      "source": [
        "#\n",
        "# Set plotting style for better visualization aesthetics\n",
        "#\n",
        "sns.set_style('whitegrid')"
      ],
      "metadata": {
        "colab": {
          "base_uri": "https://localhost:8080/"
        },
        "id": "YSg3J-0VwZYt",
        "outputId": "b872b105-a621-4be6-eaed-bd7e0cdbcdab"
      },
      "execution_count": 80,
      "outputs": [
        {
          "output_type": "stream",
          "name": "stdout",
          "text": [
            "time: 1.44 ms (started: 2025-09-30 15:53:24 +00:00)\n"
          ]
        }
      ]
    },
    {
      "cell_type": "code",
      "source": [
        "#\n",
        "# Upload the dataset 'twitter.csv'\n",
        "#\n",
        "uploadOutput = files.upload()"
      ],
      "metadata": {
        "colab": {
          "base_uri": "https://localhost:8080/",
          "height": 55
        },
        "id": "8fn2eXvtxI7Y",
        "outputId": "9a56b287-e293-4f66-fa5a-c87931af9e93"
      },
      "execution_count": 81,
      "outputs": [
        {
          "output_type": "display_data",
          "data": {
            "text/plain": [
              "<IPython.core.display.HTML object>"
            ],
            "text/html": [
              "\n",
              "     <input type=\"file\" id=\"files-62ddca8e-7714-46c2-bb7d-400cdfcde996\" name=\"files[]\" multiple disabled\n",
              "        style=\"border:none\" />\n",
              "     <output id=\"result-62ddca8e-7714-46c2-bb7d-400cdfcde996\">\n",
              "      Upload widget is only available when the cell has been executed in the\n",
              "      current browser session. Please rerun this cell to enable.\n",
              "      </output>\n",
              "      <script>// Copyright 2017 Google LLC\n",
              "//\n",
              "// Licensed under the Apache License, Version 2.0 (the \"License\");\n",
              "// you may not use this file except in compliance with the License.\n",
              "// You may obtain a copy of the License at\n",
              "//\n",
              "//      http://www.apache.org/licenses/LICENSE-2.0\n",
              "//\n",
              "// Unless required by applicable law or agreed to in writing, software\n",
              "// distributed under the License is distributed on an \"AS IS\" BASIS,\n",
              "// WITHOUT WARRANTIES OR CONDITIONS OF ANY KIND, either express or implied.\n",
              "// See the License for the specific language governing permissions and\n",
              "// limitations under the License.\n",
              "\n",
              "/**\n",
              " * @fileoverview Helpers for google.colab Python module.\n",
              " */\n",
              "(function(scope) {\n",
              "function span(text, styleAttributes = {}) {\n",
              "  const element = document.createElement('span');\n",
              "  element.textContent = text;\n",
              "  for (const key of Object.keys(styleAttributes)) {\n",
              "    element.style[key] = styleAttributes[key];\n",
              "  }\n",
              "  return element;\n",
              "}\n",
              "\n",
              "// Max number of bytes which will be uploaded at a time.\n",
              "const MAX_PAYLOAD_SIZE = 100 * 1024;\n",
              "\n",
              "function _uploadFiles(inputId, outputId) {\n",
              "  const steps = uploadFilesStep(inputId, outputId);\n",
              "  const outputElement = document.getElementById(outputId);\n",
              "  // Cache steps on the outputElement to make it available for the next call\n",
              "  // to uploadFilesContinue from Python.\n",
              "  outputElement.steps = steps;\n",
              "\n",
              "  return _uploadFilesContinue(outputId);\n",
              "}\n",
              "\n",
              "// This is roughly an async generator (not supported in the browser yet),\n",
              "// where there are multiple asynchronous steps and the Python side is going\n",
              "// to poll for completion of each step.\n",
              "// This uses a Promise to block the python side on completion of each step,\n",
              "// then passes the result of the previous step as the input to the next step.\n",
              "function _uploadFilesContinue(outputId) {\n",
              "  const outputElement = document.getElementById(outputId);\n",
              "  const steps = outputElement.steps;\n",
              "\n",
              "  const next = steps.next(outputElement.lastPromiseValue);\n",
              "  return Promise.resolve(next.value.promise).then((value) => {\n",
              "    // Cache the last promise value to make it available to the next\n",
              "    // step of the generator.\n",
              "    outputElement.lastPromiseValue = value;\n",
              "    return next.value.response;\n",
              "  });\n",
              "}\n",
              "\n",
              "/**\n",
              " * Generator function which is called between each async step of the upload\n",
              " * process.\n",
              " * @param {string} inputId Element ID of the input file picker element.\n",
              " * @param {string} outputId Element ID of the output display.\n",
              " * @return {!Iterable<!Object>} Iterable of next steps.\n",
              " */\n",
              "function* uploadFilesStep(inputId, outputId) {\n",
              "  const inputElement = document.getElementById(inputId);\n",
              "  inputElement.disabled = false;\n",
              "\n",
              "  const outputElement = document.getElementById(outputId);\n",
              "  outputElement.innerHTML = '';\n",
              "\n",
              "  const pickedPromise = new Promise((resolve) => {\n",
              "    inputElement.addEventListener('change', (e) => {\n",
              "      resolve(e.target.files);\n",
              "    });\n",
              "  });\n",
              "\n",
              "  const cancel = document.createElement('button');\n",
              "  inputElement.parentElement.appendChild(cancel);\n",
              "  cancel.textContent = 'Cancel upload';\n",
              "  const cancelPromise = new Promise((resolve) => {\n",
              "    cancel.onclick = () => {\n",
              "      resolve(null);\n",
              "    };\n",
              "  });\n",
              "\n",
              "  // Wait for the user to pick the files.\n",
              "  const files = yield {\n",
              "    promise: Promise.race([pickedPromise, cancelPromise]),\n",
              "    response: {\n",
              "      action: 'starting',\n",
              "    }\n",
              "  };\n",
              "\n",
              "  cancel.remove();\n",
              "\n",
              "  // Disable the input element since further picks are not allowed.\n",
              "  inputElement.disabled = true;\n",
              "\n",
              "  if (!files) {\n",
              "    return {\n",
              "      response: {\n",
              "        action: 'complete',\n",
              "      }\n",
              "    };\n",
              "  }\n",
              "\n",
              "  for (const file of files) {\n",
              "    const li = document.createElement('li');\n",
              "    li.append(span(file.name, {fontWeight: 'bold'}));\n",
              "    li.append(span(\n",
              "        `(${file.type || 'n/a'}) - ${file.size} bytes, ` +\n",
              "        `last modified: ${\n",
              "            file.lastModifiedDate ? file.lastModifiedDate.toLocaleDateString() :\n",
              "                                    'n/a'} - `));\n",
              "    const percent = span('0% done');\n",
              "    li.appendChild(percent);\n",
              "\n",
              "    outputElement.appendChild(li);\n",
              "\n",
              "    const fileDataPromise = new Promise((resolve) => {\n",
              "      const reader = new FileReader();\n",
              "      reader.onload = (e) => {\n",
              "        resolve(e.target.result);\n",
              "      };\n",
              "      reader.readAsArrayBuffer(file);\n",
              "    });\n",
              "    // Wait for the data to be ready.\n",
              "    let fileData = yield {\n",
              "      promise: fileDataPromise,\n",
              "      response: {\n",
              "        action: 'continue',\n",
              "      }\n",
              "    };\n",
              "\n",
              "    // Use a chunked sending to avoid message size limits. See b/62115660.\n",
              "    let position = 0;\n",
              "    do {\n",
              "      const length = Math.min(fileData.byteLength - position, MAX_PAYLOAD_SIZE);\n",
              "      const chunk = new Uint8Array(fileData, position, length);\n",
              "      position += length;\n",
              "\n",
              "      const base64 = btoa(String.fromCharCode.apply(null, chunk));\n",
              "      yield {\n",
              "        response: {\n",
              "          action: 'append',\n",
              "          file: file.name,\n",
              "          data: base64,\n",
              "        },\n",
              "      };\n",
              "\n",
              "      let percentDone = fileData.byteLength === 0 ?\n",
              "          100 :\n",
              "          Math.round((position / fileData.byteLength) * 100);\n",
              "      percent.textContent = `${percentDone}% done`;\n",
              "\n",
              "    } while (position < fileData.byteLength);\n",
              "  }\n",
              "\n",
              "  // All done.\n",
              "  yield {\n",
              "    response: {\n",
              "      action: 'complete',\n",
              "    }\n",
              "  };\n",
              "}\n",
              "\n",
              "scope.google = scope.google || {};\n",
              "scope.google.colab = scope.google.colab || {};\n",
              "scope.google.colab._files = {\n",
              "  _uploadFiles,\n",
              "  _uploadFilesContinue,\n",
              "};\n",
              "})(self);\n",
              "</script> "
            ]
          },
          "metadata": {}
        },
        {
          "output_type": "stream",
          "name": "stdout",
          "text": [
            "time: 2.49 s (started: 2025-09-30 15:53:30 +00:00)\n"
          ]
        }
      ]
    },
    {
      "cell_type": "markdown",
      "source": [
        "# **Load Data**"
      ],
      "metadata": {
        "id": "JacyCvPFxssy"
      }
    },
    {
      "cell_type": "code",
      "source": [
        "datasetFileName = 'twitter.csv'\n",
        "try:\n",
        "  # IMPORTANT: This script relies on the uploaded 'twitter.csv' file.\n",
        "  df = pd.read_csv(datasetFileName)\n",
        "except FileNotFoundError:\n",
        "  print(\"Error: '{}' not found. Exiting.\".format(datasetFileName))\n",
        "  exit()"
      ],
      "metadata": {
        "colab": {
          "base_uri": "https://localhost:8080/"
        },
        "id": "WLie6cdwxsWB",
        "outputId": "db9d50ac-0daa-4de7-ba97-85fd4bc4cfd7"
      },
      "execution_count": 82,
      "outputs": [
        {
          "output_type": "stream",
          "name": "stdout",
          "text": [
            "time: 74.7 ms (started: 2025-09-30 15:53:33 +00:00)\n"
          ]
        }
      ]
    },
    {
      "cell_type": "code",
      "source": [
        "print(df.shape)\n",
        "print(df.size)"
      ],
      "metadata": {
        "colab": {
          "base_uri": "https://localhost:8080/"
        },
        "id": "97uAQoRw0b4J",
        "outputId": "5aeaa337-d09d-4b44-96be-d0e381230bbf"
      },
      "execution_count": 83,
      "outputs": [
        {
          "output_type": "stream",
          "name": "stdout",
          "text": [
            "(31962, 3)\n",
            "95886\n",
            "time: 957 µs (started: 2025-09-30 15:53:33 +00:00)\n"
          ]
        }
      ]
    },
    {
      "cell_type": "code",
      "source": [
        "df.info()"
      ],
      "metadata": {
        "colab": {
          "base_uri": "https://localhost:8080/"
        },
        "id": "JB1KNhgB0jR6",
        "outputId": "85e72785-a138-40e5-d957-fb18d775dbf9"
      },
      "execution_count": 84,
      "outputs": [
        {
          "output_type": "stream",
          "name": "stdout",
          "text": [
            "<class 'pandas.core.frame.DataFrame'>\n",
            "RangeIndex: 31962 entries, 0 to 31961\n",
            "Data columns (total 3 columns):\n",
            " #   Column  Non-Null Count  Dtype \n",
            "---  ------  --------------  ----- \n",
            " 0   id      31962 non-null  int64 \n",
            " 1   label   31962 non-null  int64 \n",
            " 2   tweet   31962 non-null  object\n",
            "dtypes: int64(2), object(1)\n",
            "memory usage: 749.2+ KB\n",
            "time: 16.3 ms (started: 2025-09-30 15:53:33 +00:00)\n"
          ]
        }
      ]
    },
    {
      "cell_type": "markdown",
      "source": [
        "# **Statistical Analysis**"
      ],
      "metadata": {
        "id": "t0A2hP3q0rnF"
      }
    },
    {
      "cell_type": "code",
      "source": [
        "df.describe()"
      ],
      "metadata": {
        "colab": {
          "base_uri": "https://localhost:8080/",
          "height": 318
        },
        "id": "Iw0-jwJZ0suZ",
        "outputId": "6eb58606-3ba4-43dc-ff43-f96698c574dd"
      },
      "execution_count": 85,
      "outputs": [
        {
          "output_type": "execute_result",
          "data": {
            "text/plain": [
              "            id    label\n",
              "count 31962.00 31962.00\n",
              "mean  15981.50     0.07\n",
              "std    9226.78     0.26\n",
              "min       1.00     0.00\n",
              "25%    7991.25     0.00\n",
              "50%   15981.50     0.00\n",
              "75%   23971.75     0.00\n",
              "max   31962.00     1.00"
            ],
            "text/html": [
              "\n",
              "  <div id=\"df-dfff0e13-3495-4d7e-877d-dc30043f824d\" class=\"colab-df-container\">\n",
              "    <div>\n",
              "<style scoped>\n",
              "    .dataframe tbody tr th:only-of-type {\n",
              "        vertical-align: middle;\n",
              "    }\n",
              "\n",
              "    .dataframe tbody tr th {\n",
              "        vertical-align: top;\n",
              "    }\n",
              "\n",
              "    .dataframe thead th {\n",
              "        text-align: right;\n",
              "    }\n",
              "</style>\n",
              "<table border=\"1\" class=\"dataframe\">\n",
              "  <thead>\n",
              "    <tr style=\"text-align: right;\">\n",
              "      <th></th>\n",
              "      <th>id</th>\n",
              "      <th>label</th>\n",
              "    </tr>\n",
              "  </thead>\n",
              "  <tbody>\n",
              "    <tr>\n",
              "      <th>count</th>\n",
              "      <td>31962.00</td>\n",
              "      <td>31962.00</td>\n",
              "    </tr>\n",
              "    <tr>\n",
              "      <th>mean</th>\n",
              "      <td>15981.50</td>\n",
              "      <td>0.07</td>\n",
              "    </tr>\n",
              "    <tr>\n",
              "      <th>std</th>\n",
              "      <td>9226.78</td>\n",
              "      <td>0.26</td>\n",
              "    </tr>\n",
              "    <tr>\n",
              "      <th>min</th>\n",
              "      <td>1.00</td>\n",
              "      <td>0.00</td>\n",
              "    </tr>\n",
              "    <tr>\n",
              "      <th>25%</th>\n",
              "      <td>7991.25</td>\n",
              "      <td>0.00</td>\n",
              "    </tr>\n",
              "    <tr>\n",
              "      <th>50%</th>\n",
              "      <td>15981.50</td>\n",
              "      <td>0.00</td>\n",
              "    </tr>\n",
              "    <tr>\n",
              "      <th>75%</th>\n",
              "      <td>23971.75</td>\n",
              "      <td>0.00</td>\n",
              "    </tr>\n",
              "    <tr>\n",
              "      <th>max</th>\n",
              "      <td>31962.00</td>\n",
              "      <td>1.00</td>\n",
              "    </tr>\n",
              "  </tbody>\n",
              "</table>\n",
              "</div>\n",
              "    <div class=\"colab-df-buttons\">\n",
              "\n",
              "  <div class=\"colab-df-container\">\n",
              "    <button class=\"colab-df-convert\" onclick=\"convertToInteractive('df-dfff0e13-3495-4d7e-877d-dc30043f824d')\"\n",
              "            title=\"Convert this dataframe to an interactive table.\"\n",
              "            style=\"display:none;\">\n",
              "\n",
              "  <svg xmlns=\"http://www.w3.org/2000/svg\" height=\"24px\" viewBox=\"0 -960 960 960\">\n",
              "    <path d=\"M120-120v-720h720v720H120Zm60-500h600v-160H180v160Zm220 220h160v-160H400v160Zm0 220h160v-160H400v160ZM180-400h160v-160H180v160Zm440 0h160v-160H620v160ZM180-180h160v-160H180v160Zm440 0h160v-160H620v160Z\"/>\n",
              "  </svg>\n",
              "    </button>\n",
              "\n",
              "  <style>\n",
              "    .colab-df-container {\n",
              "      display:flex;\n",
              "      gap: 12px;\n",
              "    }\n",
              "\n",
              "    .colab-df-convert {\n",
              "      background-color: #E8F0FE;\n",
              "      border: none;\n",
              "      border-radius: 50%;\n",
              "      cursor: pointer;\n",
              "      display: none;\n",
              "      fill: #1967D2;\n",
              "      height: 32px;\n",
              "      padding: 0 0 0 0;\n",
              "      width: 32px;\n",
              "    }\n",
              "\n",
              "    .colab-df-convert:hover {\n",
              "      background-color: #E2EBFA;\n",
              "      box-shadow: 0px 1px 2px rgba(60, 64, 67, 0.3), 0px 1px 3px 1px rgba(60, 64, 67, 0.15);\n",
              "      fill: #174EA6;\n",
              "    }\n",
              "\n",
              "    .colab-df-buttons div {\n",
              "      margin-bottom: 4px;\n",
              "    }\n",
              "\n",
              "    [theme=dark] .colab-df-convert {\n",
              "      background-color: #3B4455;\n",
              "      fill: #D2E3FC;\n",
              "    }\n",
              "\n",
              "    [theme=dark] .colab-df-convert:hover {\n",
              "      background-color: #434B5C;\n",
              "      box-shadow: 0px 1px 3px 1px rgba(0, 0, 0, 0.15);\n",
              "      filter: drop-shadow(0px 1px 2px rgba(0, 0, 0, 0.3));\n",
              "      fill: #FFFFFF;\n",
              "    }\n",
              "  </style>\n",
              "\n",
              "    <script>\n",
              "      const buttonEl =\n",
              "        document.querySelector('#df-dfff0e13-3495-4d7e-877d-dc30043f824d button.colab-df-convert');\n",
              "      buttonEl.style.display =\n",
              "        google.colab.kernel.accessAllowed ? 'block' : 'none';\n",
              "\n",
              "      async function convertToInteractive(key) {\n",
              "        const element = document.querySelector('#df-dfff0e13-3495-4d7e-877d-dc30043f824d');\n",
              "        const dataTable =\n",
              "          await google.colab.kernel.invokeFunction('convertToInteractive',\n",
              "                                                    [key], {});\n",
              "        if (!dataTable) return;\n",
              "\n",
              "        const docLinkHtml = 'Like what you see? Visit the ' +\n",
              "          '<a target=\"_blank\" href=https://colab.research.google.com/notebooks/data_table.ipynb>data table notebook</a>'\n",
              "          + ' to learn more about interactive tables.';\n",
              "        element.innerHTML = '';\n",
              "        dataTable['output_type'] = 'display_data';\n",
              "        await google.colab.output.renderOutput(dataTable, element);\n",
              "        const docLink = document.createElement('div');\n",
              "        docLink.innerHTML = docLinkHtml;\n",
              "        element.appendChild(docLink);\n",
              "      }\n",
              "    </script>\n",
              "  </div>\n",
              "\n",
              "\n",
              "    <div id=\"df-c4833459-18e9-4b1f-b25c-c8ec09d3cefa\">\n",
              "      <button class=\"colab-df-quickchart\" onclick=\"quickchart('df-c4833459-18e9-4b1f-b25c-c8ec09d3cefa')\"\n",
              "                title=\"Suggest charts\"\n",
              "                style=\"display:none;\">\n",
              "\n",
              "<svg xmlns=\"http://www.w3.org/2000/svg\" height=\"24px\"viewBox=\"0 0 24 24\"\n",
              "     width=\"24px\">\n",
              "    <g>\n",
              "        <path d=\"M19 3H5c-1.1 0-2 .9-2 2v14c0 1.1.9 2 2 2h14c1.1 0 2-.9 2-2V5c0-1.1-.9-2-2-2zM9 17H7v-7h2v7zm4 0h-2V7h2v10zm4 0h-2v-4h2v4z\"/>\n",
              "    </g>\n",
              "</svg>\n",
              "      </button>\n",
              "\n",
              "<style>\n",
              "  .colab-df-quickchart {\n",
              "      --bg-color: #E8F0FE;\n",
              "      --fill-color: #1967D2;\n",
              "      --hover-bg-color: #E2EBFA;\n",
              "      --hover-fill-color: #174EA6;\n",
              "      --disabled-fill-color: #AAA;\n",
              "      --disabled-bg-color: #DDD;\n",
              "  }\n",
              "\n",
              "  [theme=dark] .colab-df-quickchart {\n",
              "      --bg-color: #3B4455;\n",
              "      --fill-color: #D2E3FC;\n",
              "      --hover-bg-color: #434B5C;\n",
              "      --hover-fill-color: #FFFFFF;\n",
              "      --disabled-bg-color: #3B4455;\n",
              "      --disabled-fill-color: #666;\n",
              "  }\n",
              "\n",
              "  .colab-df-quickchart {\n",
              "    background-color: var(--bg-color);\n",
              "    border: none;\n",
              "    border-radius: 50%;\n",
              "    cursor: pointer;\n",
              "    display: none;\n",
              "    fill: var(--fill-color);\n",
              "    height: 32px;\n",
              "    padding: 0;\n",
              "    width: 32px;\n",
              "  }\n",
              "\n",
              "  .colab-df-quickchart:hover {\n",
              "    background-color: var(--hover-bg-color);\n",
              "    box-shadow: 0 1px 2px rgba(60, 64, 67, 0.3), 0 1px 3px 1px rgba(60, 64, 67, 0.15);\n",
              "    fill: var(--button-hover-fill-color);\n",
              "  }\n",
              "\n",
              "  .colab-df-quickchart-complete:disabled,\n",
              "  .colab-df-quickchart-complete:disabled:hover {\n",
              "    background-color: var(--disabled-bg-color);\n",
              "    fill: var(--disabled-fill-color);\n",
              "    box-shadow: none;\n",
              "  }\n",
              "\n",
              "  .colab-df-spinner {\n",
              "    border: 2px solid var(--fill-color);\n",
              "    border-color: transparent;\n",
              "    border-bottom-color: var(--fill-color);\n",
              "    animation:\n",
              "      spin 1s steps(1) infinite;\n",
              "  }\n",
              "\n",
              "  @keyframes spin {\n",
              "    0% {\n",
              "      border-color: transparent;\n",
              "      border-bottom-color: var(--fill-color);\n",
              "      border-left-color: var(--fill-color);\n",
              "    }\n",
              "    20% {\n",
              "      border-color: transparent;\n",
              "      border-left-color: var(--fill-color);\n",
              "      border-top-color: var(--fill-color);\n",
              "    }\n",
              "    30% {\n",
              "      border-color: transparent;\n",
              "      border-left-color: var(--fill-color);\n",
              "      border-top-color: var(--fill-color);\n",
              "      border-right-color: var(--fill-color);\n",
              "    }\n",
              "    40% {\n",
              "      border-color: transparent;\n",
              "      border-right-color: var(--fill-color);\n",
              "      border-top-color: var(--fill-color);\n",
              "    }\n",
              "    60% {\n",
              "      border-color: transparent;\n",
              "      border-right-color: var(--fill-color);\n",
              "    }\n",
              "    80% {\n",
              "      border-color: transparent;\n",
              "      border-right-color: var(--fill-color);\n",
              "      border-bottom-color: var(--fill-color);\n",
              "    }\n",
              "    90% {\n",
              "      border-color: transparent;\n",
              "      border-bottom-color: var(--fill-color);\n",
              "    }\n",
              "  }\n",
              "</style>\n",
              "\n",
              "      <script>\n",
              "        async function quickchart(key) {\n",
              "          const quickchartButtonEl =\n",
              "            document.querySelector('#' + key + ' button');\n",
              "          quickchartButtonEl.disabled = true;  // To prevent multiple clicks.\n",
              "          quickchartButtonEl.classList.add('colab-df-spinner');\n",
              "          try {\n",
              "            const charts = await google.colab.kernel.invokeFunction(\n",
              "                'suggestCharts', [key], {});\n",
              "          } catch (error) {\n",
              "            console.error('Error during call to suggestCharts:', error);\n",
              "          }\n",
              "          quickchartButtonEl.classList.remove('colab-df-spinner');\n",
              "          quickchartButtonEl.classList.add('colab-df-quickchart-complete');\n",
              "        }\n",
              "        (() => {\n",
              "          let quickchartButtonEl =\n",
              "            document.querySelector('#df-c4833459-18e9-4b1f-b25c-c8ec09d3cefa button');\n",
              "          quickchartButtonEl.style.display =\n",
              "            google.colab.kernel.accessAllowed ? 'block' : 'none';\n",
              "        })();\n",
              "      </script>\n",
              "    </div>\n",
              "\n",
              "    </div>\n",
              "  </div>\n"
            ],
            "application/vnd.google.colaboratory.intrinsic+json": {
              "type": "dataframe",
              "summary": "{\n  \"name\": \"df\",\n  \"rows\": 8,\n  \"fields\": [\n    {\n      \"column\": \"id\",\n      \"properties\": {\n        \"dtype\": \"number\",\n        \"std\": 11518.954640550184,\n        \"min\": 1.0,\n        \"max\": 31962.0,\n        \"num_unique_values\": 6,\n        \"samples\": [\n          31962.0,\n          15981.5,\n          23971.75\n        ],\n        \"semantic_type\": \"\",\n        \"description\": \"\"\n      }\n    },\n    {\n      \"column\": \"label\",\n      \"properties\": {\n        \"dtype\": \"number\",\n        \"std\": 11300.206525320391,\n        \"min\": 0.0,\n        \"max\": 31962.0,\n        \"num_unique_values\": 5,\n        \"samples\": [\n          0.07014579813528565,\n          1.0,\n          0.2553965659892095\n        ],\n        \"semantic_type\": \"\",\n        \"description\": \"\"\n      }\n    }\n  ]\n}"
            }
          },
          "metadata": {},
          "execution_count": 85
        },
        {
          "output_type": "stream",
          "name": "stdout",
          "text": [
            "time: 17.5 ms (started: 2025-09-30 15:53:33 +00:00)\n"
          ]
        }
      ]
    },
    {
      "cell_type": "code",
      "source": [
        "df.describe().T"
      ],
      "metadata": {
        "colab": {
          "base_uri": "https://localhost:8080/",
          "height": 129
        },
        "id": "gZlGmbX90xwY",
        "outputId": "b92bcf69-36eb-4700-f738-8abfeebcf027"
      },
      "execution_count": 86,
      "outputs": [
        {
          "output_type": "execute_result",
          "data": {
            "text/plain": [
              "         count     mean     std  min     25%      50%      75%      max\n",
              "id    31962.00 15981.50 9226.78 1.00 7991.25 15981.50 23971.75 31962.00\n",
              "label 31962.00     0.07    0.26 0.00    0.00     0.00     0.00     1.00"
            ],
            "text/html": [
              "\n",
              "  <div id=\"df-f47d6a2e-2faa-44c8-816d-a04dda672984\" class=\"colab-df-container\">\n",
              "    <div>\n",
              "<style scoped>\n",
              "    .dataframe tbody tr th:only-of-type {\n",
              "        vertical-align: middle;\n",
              "    }\n",
              "\n",
              "    .dataframe tbody tr th {\n",
              "        vertical-align: top;\n",
              "    }\n",
              "\n",
              "    .dataframe thead th {\n",
              "        text-align: right;\n",
              "    }\n",
              "</style>\n",
              "<table border=\"1\" class=\"dataframe\">\n",
              "  <thead>\n",
              "    <tr style=\"text-align: right;\">\n",
              "      <th></th>\n",
              "      <th>count</th>\n",
              "      <th>mean</th>\n",
              "      <th>std</th>\n",
              "      <th>min</th>\n",
              "      <th>25%</th>\n",
              "      <th>50%</th>\n",
              "      <th>75%</th>\n",
              "      <th>max</th>\n",
              "    </tr>\n",
              "  </thead>\n",
              "  <tbody>\n",
              "    <tr>\n",
              "      <th>id</th>\n",
              "      <td>31962.00</td>\n",
              "      <td>15981.50</td>\n",
              "      <td>9226.78</td>\n",
              "      <td>1.00</td>\n",
              "      <td>7991.25</td>\n",
              "      <td>15981.50</td>\n",
              "      <td>23971.75</td>\n",
              "      <td>31962.00</td>\n",
              "    </tr>\n",
              "    <tr>\n",
              "      <th>label</th>\n",
              "      <td>31962.00</td>\n",
              "      <td>0.07</td>\n",
              "      <td>0.26</td>\n",
              "      <td>0.00</td>\n",
              "      <td>0.00</td>\n",
              "      <td>0.00</td>\n",
              "      <td>0.00</td>\n",
              "      <td>1.00</td>\n",
              "    </tr>\n",
              "  </tbody>\n",
              "</table>\n",
              "</div>\n",
              "    <div class=\"colab-df-buttons\">\n",
              "\n",
              "  <div class=\"colab-df-container\">\n",
              "    <button class=\"colab-df-convert\" onclick=\"convertToInteractive('df-f47d6a2e-2faa-44c8-816d-a04dda672984')\"\n",
              "            title=\"Convert this dataframe to an interactive table.\"\n",
              "            style=\"display:none;\">\n",
              "\n",
              "  <svg xmlns=\"http://www.w3.org/2000/svg\" height=\"24px\" viewBox=\"0 -960 960 960\">\n",
              "    <path d=\"M120-120v-720h720v720H120Zm60-500h600v-160H180v160Zm220 220h160v-160H400v160Zm0 220h160v-160H400v160ZM180-400h160v-160H180v160Zm440 0h160v-160H620v160ZM180-180h160v-160H180v160Zm440 0h160v-160H620v160Z\"/>\n",
              "  </svg>\n",
              "    </button>\n",
              "\n",
              "  <style>\n",
              "    .colab-df-container {\n",
              "      display:flex;\n",
              "      gap: 12px;\n",
              "    }\n",
              "\n",
              "    .colab-df-convert {\n",
              "      background-color: #E8F0FE;\n",
              "      border: none;\n",
              "      border-radius: 50%;\n",
              "      cursor: pointer;\n",
              "      display: none;\n",
              "      fill: #1967D2;\n",
              "      height: 32px;\n",
              "      padding: 0 0 0 0;\n",
              "      width: 32px;\n",
              "    }\n",
              "\n",
              "    .colab-df-convert:hover {\n",
              "      background-color: #E2EBFA;\n",
              "      box-shadow: 0px 1px 2px rgba(60, 64, 67, 0.3), 0px 1px 3px 1px rgba(60, 64, 67, 0.15);\n",
              "      fill: #174EA6;\n",
              "    }\n",
              "\n",
              "    .colab-df-buttons div {\n",
              "      margin-bottom: 4px;\n",
              "    }\n",
              "\n",
              "    [theme=dark] .colab-df-convert {\n",
              "      background-color: #3B4455;\n",
              "      fill: #D2E3FC;\n",
              "    }\n",
              "\n",
              "    [theme=dark] .colab-df-convert:hover {\n",
              "      background-color: #434B5C;\n",
              "      box-shadow: 0px 1px 3px 1px rgba(0, 0, 0, 0.15);\n",
              "      filter: drop-shadow(0px 1px 2px rgba(0, 0, 0, 0.3));\n",
              "      fill: #FFFFFF;\n",
              "    }\n",
              "  </style>\n",
              "\n",
              "    <script>\n",
              "      const buttonEl =\n",
              "        document.querySelector('#df-f47d6a2e-2faa-44c8-816d-a04dda672984 button.colab-df-convert');\n",
              "      buttonEl.style.display =\n",
              "        google.colab.kernel.accessAllowed ? 'block' : 'none';\n",
              "\n",
              "      async function convertToInteractive(key) {\n",
              "        const element = document.querySelector('#df-f47d6a2e-2faa-44c8-816d-a04dda672984');\n",
              "        const dataTable =\n",
              "          await google.colab.kernel.invokeFunction('convertToInteractive',\n",
              "                                                    [key], {});\n",
              "        if (!dataTable) return;\n",
              "\n",
              "        const docLinkHtml = 'Like what you see? Visit the ' +\n",
              "          '<a target=\"_blank\" href=https://colab.research.google.com/notebooks/data_table.ipynb>data table notebook</a>'\n",
              "          + ' to learn more about interactive tables.';\n",
              "        element.innerHTML = '';\n",
              "        dataTable['output_type'] = 'display_data';\n",
              "        await google.colab.output.renderOutput(dataTable, element);\n",
              "        const docLink = document.createElement('div');\n",
              "        docLink.innerHTML = docLinkHtml;\n",
              "        element.appendChild(docLink);\n",
              "      }\n",
              "    </script>\n",
              "  </div>\n",
              "\n",
              "\n",
              "    <div id=\"df-5a365fe9-3f9c-4f1a-97bd-15d1848ebe89\">\n",
              "      <button class=\"colab-df-quickchart\" onclick=\"quickchart('df-5a365fe9-3f9c-4f1a-97bd-15d1848ebe89')\"\n",
              "                title=\"Suggest charts\"\n",
              "                style=\"display:none;\">\n",
              "\n",
              "<svg xmlns=\"http://www.w3.org/2000/svg\" height=\"24px\"viewBox=\"0 0 24 24\"\n",
              "     width=\"24px\">\n",
              "    <g>\n",
              "        <path d=\"M19 3H5c-1.1 0-2 .9-2 2v14c0 1.1.9 2 2 2h14c1.1 0 2-.9 2-2V5c0-1.1-.9-2-2-2zM9 17H7v-7h2v7zm4 0h-2V7h2v10zm4 0h-2v-4h2v4z\"/>\n",
              "    </g>\n",
              "</svg>\n",
              "      </button>\n",
              "\n",
              "<style>\n",
              "  .colab-df-quickchart {\n",
              "      --bg-color: #E8F0FE;\n",
              "      --fill-color: #1967D2;\n",
              "      --hover-bg-color: #E2EBFA;\n",
              "      --hover-fill-color: #174EA6;\n",
              "      --disabled-fill-color: #AAA;\n",
              "      --disabled-bg-color: #DDD;\n",
              "  }\n",
              "\n",
              "  [theme=dark] .colab-df-quickchart {\n",
              "      --bg-color: #3B4455;\n",
              "      --fill-color: #D2E3FC;\n",
              "      --hover-bg-color: #434B5C;\n",
              "      --hover-fill-color: #FFFFFF;\n",
              "      --disabled-bg-color: #3B4455;\n",
              "      --disabled-fill-color: #666;\n",
              "  }\n",
              "\n",
              "  .colab-df-quickchart {\n",
              "    background-color: var(--bg-color);\n",
              "    border: none;\n",
              "    border-radius: 50%;\n",
              "    cursor: pointer;\n",
              "    display: none;\n",
              "    fill: var(--fill-color);\n",
              "    height: 32px;\n",
              "    padding: 0;\n",
              "    width: 32px;\n",
              "  }\n",
              "\n",
              "  .colab-df-quickchart:hover {\n",
              "    background-color: var(--hover-bg-color);\n",
              "    box-shadow: 0 1px 2px rgba(60, 64, 67, 0.3), 0 1px 3px 1px rgba(60, 64, 67, 0.15);\n",
              "    fill: var(--button-hover-fill-color);\n",
              "  }\n",
              "\n",
              "  .colab-df-quickchart-complete:disabled,\n",
              "  .colab-df-quickchart-complete:disabled:hover {\n",
              "    background-color: var(--disabled-bg-color);\n",
              "    fill: var(--disabled-fill-color);\n",
              "    box-shadow: none;\n",
              "  }\n",
              "\n",
              "  .colab-df-spinner {\n",
              "    border: 2px solid var(--fill-color);\n",
              "    border-color: transparent;\n",
              "    border-bottom-color: var(--fill-color);\n",
              "    animation:\n",
              "      spin 1s steps(1) infinite;\n",
              "  }\n",
              "\n",
              "  @keyframes spin {\n",
              "    0% {\n",
              "      border-color: transparent;\n",
              "      border-bottom-color: var(--fill-color);\n",
              "      border-left-color: var(--fill-color);\n",
              "    }\n",
              "    20% {\n",
              "      border-color: transparent;\n",
              "      border-left-color: var(--fill-color);\n",
              "      border-top-color: var(--fill-color);\n",
              "    }\n",
              "    30% {\n",
              "      border-color: transparent;\n",
              "      border-left-color: var(--fill-color);\n",
              "      border-top-color: var(--fill-color);\n",
              "      border-right-color: var(--fill-color);\n",
              "    }\n",
              "    40% {\n",
              "      border-color: transparent;\n",
              "      border-right-color: var(--fill-color);\n",
              "      border-top-color: var(--fill-color);\n",
              "    }\n",
              "    60% {\n",
              "      border-color: transparent;\n",
              "      border-right-color: var(--fill-color);\n",
              "    }\n",
              "    80% {\n",
              "      border-color: transparent;\n",
              "      border-right-color: var(--fill-color);\n",
              "      border-bottom-color: var(--fill-color);\n",
              "    }\n",
              "    90% {\n",
              "      border-color: transparent;\n",
              "      border-bottom-color: var(--fill-color);\n",
              "    }\n",
              "  }\n",
              "</style>\n",
              "\n",
              "      <script>\n",
              "        async function quickchart(key) {\n",
              "          const quickchartButtonEl =\n",
              "            document.querySelector('#' + key + ' button');\n",
              "          quickchartButtonEl.disabled = true;  // To prevent multiple clicks.\n",
              "          quickchartButtonEl.classList.add('colab-df-spinner');\n",
              "          try {\n",
              "            const charts = await google.colab.kernel.invokeFunction(\n",
              "                'suggestCharts', [key], {});\n",
              "          } catch (error) {\n",
              "            console.error('Error during call to suggestCharts:', error);\n",
              "          }\n",
              "          quickchartButtonEl.classList.remove('colab-df-spinner');\n",
              "          quickchartButtonEl.classList.add('colab-df-quickchart-complete');\n",
              "        }\n",
              "        (() => {\n",
              "          let quickchartButtonEl =\n",
              "            document.querySelector('#df-5a365fe9-3f9c-4f1a-97bd-15d1848ebe89 button');\n",
              "          quickchartButtonEl.style.display =\n",
              "            google.colab.kernel.accessAllowed ? 'block' : 'none';\n",
              "        })();\n",
              "      </script>\n",
              "    </div>\n",
              "\n",
              "    </div>\n",
              "  </div>\n"
            ],
            "application/vnd.google.colaboratory.intrinsic+json": {
              "type": "dataframe",
              "summary": "{\n  \"name\": \"df\",\n  \"rows\": 2,\n  \"fields\": [\n    {\n      \"column\": \"count\",\n      \"properties\": {\n        \"dtype\": \"number\",\n        \"std\": 0.0,\n        \"min\": 31962.0,\n        \"max\": 31962.0,\n        \"num_unique_values\": 1,\n        \"samples\": [\n          31962.0\n        ],\n        \"semantic_type\": \"\",\n        \"description\": \"\"\n      }\n    },\n    {\n      \"column\": \"mean\",\n      \"properties\": {\n        \"dtype\": \"number\",\n        \"std\": 11300.577422963275,\n        \"min\": 0.07014579813528565,\n        \"max\": 15981.5,\n        \"num_unique_values\": 2,\n        \"samples\": [\n          0.07014579813528565\n        ],\n        \"semantic_type\": \"\",\n        \"description\": \"\"\n      }\n    },\n    {\n      \"column\": \"std\",\n      \"properties\": {\n        \"dtype\": \"number\",\n        \"std\": 6524.137398533612,\n        \"min\": 0.2553965659892095,\n        \"max\": 9226.778988357746,\n        \"num_unique_values\": 2,\n        \"samples\": [\n          0.2553965659892095\n        ],\n        \"semantic_type\": \"\",\n        \"description\": \"\"\n      }\n    },\n    {\n      \"column\": \"min\",\n      \"properties\": {\n        \"dtype\": \"number\",\n        \"std\": 0.7071067811865476,\n        \"min\": 0.0,\n        \"max\": 1.0,\n        \"num_unique_values\": 2,\n        \"samples\": [\n          0.0\n        ],\n        \"semantic_type\": \"\",\n        \"description\": \"\"\n      }\n    },\n    {\n      \"column\": \"25%\",\n      \"properties\": {\n        \"dtype\": \"number\",\n        \"std\": 5650.6670651569975,\n        \"min\": 0.0,\n        \"max\": 7991.25,\n        \"num_unique_values\": 2,\n        \"samples\": [\n          0.0\n        ],\n        \"semantic_type\": \"\",\n        \"description\": \"\"\n      }\n    },\n    {\n      \"column\": \"50%\",\n      \"properties\": {\n        \"dtype\": \"number\",\n        \"std\": 11300.627023532808,\n        \"min\": 0.0,\n        \"max\": 15981.5,\n        \"num_unique_values\": 2,\n        \"samples\": [\n          0.0\n        ],\n        \"semantic_type\": \"\",\n        \"description\": \"\"\n      }\n    },\n    {\n      \"column\": \"75%\",\n      \"properties\": {\n        \"dtype\": \"number\",\n        \"std\": 16950.586981908622,\n        \"min\": 0.0,\n        \"max\": 23971.75,\n        \"num_unique_values\": 2,\n        \"samples\": [\n          0.0\n        ],\n        \"semantic_type\": \"\",\n        \"description\": \"\"\n      }\n    },\n    {\n      \"column\": \"max\",\n      \"properties\": {\n        \"dtype\": \"number\",\n        \"std\": 22599.839833503247,\n        \"min\": 1.0,\n        \"max\": 31962.0,\n        \"num_unique_values\": 2,\n        \"samples\": [\n          1.0\n        ],\n        \"semantic_type\": \"\",\n        \"description\": \"\"\n      }\n    }\n  ]\n}"
            }
          },
          "metadata": {},
          "execution_count": 86
        },
        {
          "output_type": "stream",
          "name": "stdout",
          "text": [
            "time: 26.2 ms (started: 2025-09-30 15:53:33 +00:00)\n"
          ]
        }
      ]
    },
    {
      "cell_type": "code",
      "source": [
        "df.describe(include = 'all')"
      ],
      "metadata": {
        "colab": {
          "base_uri": "https://localhost:8080/",
          "height": 412
        },
        "id": "x_NSY-4800PJ",
        "outputId": "b0a33483-97de-43ac-df9a-8a295d086aa1"
      },
      "execution_count": 87,
      "outputs": [
        {
          "output_type": "execute_result",
          "data": {
            "text/plain": [
              "             id    label                                              tweet\n",
              "count  31962.00 31962.00                                              31962\n",
              "unique      NaN      NaN                                              29530\n",
              "top         NaN      NaN  #model   i love u take with u all the time in ...\n",
              "freq        NaN      NaN                                                319\n",
              "mean   15981.50     0.07                                                NaN\n",
              "std     9226.78     0.26                                                NaN\n",
              "min        1.00     0.00                                                NaN\n",
              "25%     7991.25     0.00                                                NaN\n",
              "50%    15981.50     0.00                                                NaN\n",
              "75%    23971.75     0.00                                                NaN\n",
              "max    31962.00     1.00                                                NaN"
            ],
            "text/html": [
              "\n",
              "  <div id=\"df-d50cf5b0-64b4-4b9d-815d-fc2e505a0c83\" class=\"colab-df-container\">\n",
              "    <div>\n",
              "<style scoped>\n",
              "    .dataframe tbody tr th:only-of-type {\n",
              "        vertical-align: middle;\n",
              "    }\n",
              "\n",
              "    .dataframe tbody tr th {\n",
              "        vertical-align: top;\n",
              "    }\n",
              "\n",
              "    .dataframe thead th {\n",
              "        text-align: right;\n",
              "    }\n",
              "</style>\n",
              "<table border=\"1\" class=\"dataframe\">\n",
              "  <thead>\n",
              "    <tr style=\"text-align: right;\">\n",
              "      <th></th>\n",
              "      <th>id</th>\n",
              "      <th>label</th>\n",
              "      <th>tweet</th>\n",
              "    </tr>\n",
              "  </thead>\n",
              "  <tbody>\n",
              "    <tr>\n",
              "      <th>count</th>\n",
              "      <td>31962.00</td>\n",
              "      <td>31962.00</td>\n",
              "      <td>31962</td>\n",
              "    </tr>\n",
              "    <tr>\n",
              "      <th>unique</th>\n",
              "      <td>NaN</td>\n",
              "      <td>NaN</td>\n",
              "      <td>29530</td>\n",
              "    </tr>\n",
              "    <tr>\n",
              "      <th>top</th>\n",
              "      <td>NaN</td>\n",
              "      <td>NaN</td>\n",
              "      <td>#model   i love u take with u all the time in ...</td>\n",
              "    </tr>\n",
              "    <tr>\n",
              "      <th>freq</th>\n",
              "      <td>NaN</td>\n",
              "      <td>NaN</td>\n",
              "      <td>319</td>\n",
              "    </tr>\n",
              "    <tr>\n",
              "      <th>mean</th>\n",
              "      <td>15981.50</td>\n",
              "      <td>0.07</td>\n",
              "      <td>NaN</td>\n",
              "    </tr>\n",
              "    <tr>\n",
              "      <th>std</th>\n",
              "      <td>9226.78</td>\n",
              "      <td>0.26</td>\n",
              "      <td>NaN</td>\n",
              "    </tr>\n",
              "    <tr>\n",
              "      <th>min</th>\n",
              "      <td>1.00</td>\n",
              "      <td>0.00</td>\n",
              "      <td>NaN</td>\n",
              "    </tr>\n",
              "    <tr>\n",
              "      <th>25%</th>\n",
              "      <td>7991.25</td>\n",
              "      <td>0.00</td>\n",
              "      <td>NaN</td>\n",
              "    </tr>\n",
              "    <tr>\n",
              "      <th>50%</th>\n",
              "      <td>15981.50</td>\n",
              "      <td>0.00</td>\n",
              "      <td>NaN</td>\n",
              "    </tr>\n",
              "    <tr>\n",
              "      <th>75%</th>\n",
              "      <td>23971.75</td>\n",
              "      <td>0.00</td>\n",
              "      <td>NaN</td>\n",
              "    </tr>\n",
              "    <tr>\n",
              "      <th>max</th>\n",
              "      <td>31962.00</td>\n",
              "      <td>1.00</td>\n",
              "      <td>NaN</td>\n",
              "    </tr>\n",
              "  </tbody>\n",
              "</table>\n",
              "</div>\n",
              "    <div class=\"colab-df-buttons\">\n",
              "\n",
              "  <div class=\"colab-df-container\">\n",
              "    <button class=\"colab-df-convert\" onclick=\"convertToInteractive('df-d50cf5b0-64b4-4b9d-815d-fc2e505a0c83')\"\n",
              "            title=\"Convert this dataframe to an interactive table.\"\n",
              "            style=\"display:none;\">\n",
              "\n",
              "  <svg xmlns=\"http://www.w3.org/2000/svg\" height=\"24px\" viewBox=\"0 -960 960 960\">\n",
              "    <path d=\"M120-120v-720h720v720H120Zm60-500h600v-160H180v160Zm220 220h160v-160H400v160Zm0 220h160v-160H400v160ZM180-400h160v-160H180v160Zm440 0h160v-160H620v160ZM180-180h160v-160H180v160Zm440 0h160v-160H620v160Z\"/>\n",
              "  </svg>\n",
              "    </button>\n",
              "\n",
              "  <style>\n",
              "    .colab-df-container {\n",
              "      display:flex;\n",
              "      gap: 12px;\n",
              "    }\n",
              "\n",
              "    .colab-df-convert {\n",
              "      background-color: #E8F0FE;\n",
              "      border: none;\n",
              "      border-radius: 50%;\n",
              "      cursor: pointer;\n",
              "      display: none;\n",
              "      fill: #1967D2;\n",
              "      height: 32px;\n",
              "      padding: 0 0 0 0;\n",
              "      width: 32px;\n",
              "    }\n",
              "\n",
              "    .colab-df-convert:hover {\n",
              "      background-color: #E2EBFA;\n",
              "      box-shadow: 0px 1px 2px rgba(60, 64, 67, 0.3), 0px 1px 3px 1px rgba(60, 64, 67, 0.15);\n",
              "      fill: #174EA6;\n",
              "    }\n",
              "\n",
              "    .colab-df-buttons div {\n",
              "      margin-bottom: 4px;\n",
              "    }\n",
              "\n",
              "    [theme=dark] .colab-df-convert {\n",
              "      background-color: #3B4455;\n",
              "      fill: #D2E3FC;\n",
              "    }\n",
              "\n",
              "    [theme=dark] .colab-df-convert:hover {\n",
              "      background-color: #434B5C;\n",
              "      box-shadow: 0px 1px 3px 1px rgba(0, 0, 0, 0.15);\n",
              "      filter: drop-shadow(0px 1px 2px rgba(0, 0, 0, 0.3));\n",
              "      fill: #FFFFFF;\n",
              "    }\n",
              "  </style>\n",
              "\n",
              "    <script>\n",
              "      const buttonEl =\n",
              "        document.querySelector('#df-d50cf5b0-64b4-4b9d-815d-fc2e505a0c83 button.colab-df-convert');\n",
              "      buttonEl.style.display =\n",
              "        google.colab.kernel.accessAllowed ? 'block' : 'none';\n",
              "\n",
              "      async function convertToInteractive(key) {\n",
              "        const element = document.querySelector('#df-d50cf5b0-64b4-4b9d-815d-fc2e505a0c83');\n",
              "        const dataTable =\n",
              "          await google.colab.kernel.invokeFunction('convertToInteractive',\n",
              "                                                    [key], {});\n",
              "        if (!dataTable) return;\n",
              "\n",
              "        const docLinkHtml = 'Like what you see? Visit the ' +\n",
              "          '<a target=\"_blank\" href=https://colab.research.google.com/notebooks/data_table.ipynb>data table notebook</a>'\n",
              "          + ' to learn more about interactive tables.';\n",
              "        element.innerHTML = '';\n",
              "        dataTable['output_type'] = 'display_data';\n",
              "        await google.colab.output.renderOutput(dataTable, element);\n",
              "        const docLink = document.createElement('div');\n",
              "        docLink.innerHTML = docLinkHtml;\n",
              "        element.appendChild(docLink);\n",
              "      }\n",
              "    </script>\n",
              "  </div>\n",
              "\n",
              "\n",
              "    <div id=\"df-21b65a51-03e7-4baa-9156-9b89aa32b5da\">\n",
              "      <button class=\"colab-df-quickchart\" onclick=\"quickchart('df-21b65a51-03e7-4baa-9156-9b89aa32b5da')\"\n",
              "                title=\"Suggest charts\"\n",
              "                style=\"display:none;\">\n",
              "\n",
              "<svg xmlns=\"http://www.w3.org/2000/svg\" height=\"24px\"viewBox=\"0 0 24 24\"\n",
              "     width=\"24px\">\n",
              "    <g>\n",
              "        <path d=\"M19 3H5c-1.1 0-2 .9-2 2v14c0 1.1.9 2 2 2h14c1.1 0 2-.9 2-2V5c0-1.1-.9-2-2-2zM9 17H7v-7h2v7zm4 0h-2V7h2v10zm4 0h-2v-4h2v4z\"/>\n",
              "    </g>\n",
              "</svg>\n",
              "      </button>\n",
              "\n",
              "<style>\n",
              "  .colab-df-quickchart {\n",
              "      --bg-color: #E8F0FE;\n",
              "      --fill-color: #1967D2;\n",
              "      --hover-bg-color: #E2EBFA;\n",
              "      --hover-fill-color: #174EA6;\n",
              "      --disabled-fill-color: #AAA;\n",
              "      --disabled-bg-color: #DDD;\n",
              "  }\n",
              "\n",
              "  [theme=dark] .colab-df-quickchart {\n",
              "      --bg-color: #3B4455;\n",
              "      --fill-color: #D2E3FC;\n",
              "      --hover-bg-color: #434B5C;\n",
              "      --hover-fill-color: #FFFFFF;\n",
              "      --disabled-bg-color: #3B4455;\n",
              "      --disabled-fill-color: #666;\n",
              "  }\n",
              "\n",
              "  .colab-df-quickchart {\n",
              "    background-color: var(--bg-color);\n",
              "    border: none;\n",
              "    border-radius: 50%;\n",
              "    cursor: pointer;\n",
              "    display: none;\n",
              "    fill: var(--fill-color);\n",
              "    height: 32px;\n",
              "    padding: 0;\n",
              "    width: 32px;\n",
              "  }\n",
              "\n",
              "  .colab-df-quickchart:hover {\n",
              "    background-color: var(--hover-bg-color);\n",
              "    box-shadow: 0 1px 2px rgba(60, 64, 67, 0.3), 0 1px 3px 1px rgba(60, 64, 67, 0.15);\n",
              "    fill: var(--button-hover-fill-color);\n",
              "  }\n",
              "\n",
              "  .colab-df-quickchart-complete:disabled,\n",
              "  .colab-df-quickchart-complete:disabled:hover {\n",
              "    background-color: var(--disabled-bg-color);\n",
              "    fill: var(--disabled-fill-color);\n",
              "    box-shadow: none;\n",
              "  }\n",
              "\n",
              "  .colab-df-spinner {\n",
              "    border: 2px solid var(--fill-color);\n",
              "    border-color: transparent;\n",
              "    border-bottom-color: var(--fill-color);\n",
              "    animation:\n",
              "      spin 1s steps(1) infinite;\n",
              "  }\n",
              "\n",
              "  @keyframes spin {\n",
              "    0% {\n",
              "      border-color: transparent;\n",
              "      border-bottom-color: var(--fill-color);\n",
              "      border-left-color: var(--fill-color);\n",
              "    }\n",
              "    20% {\n",
              "      border-color: transparent;\n",
              "      border-left-color: var(--fill-color);\n",
              "      border-top-color: var(--fill-color);\n",
              "    }\n",
              "    30% {\n",
              "      border-color: transparent;\n",
              "      border-left-color: var(--fill-color);\n",
              "      border-top-color: var(--fill-color);\n",
              "      border-right-color: var(--fill-color);\n",
              "    }\n",
              "    40% {\n",
              "      border-color: transparent;\n",
              "      border-right-color: var(--fill-color);\n",
              "      border-top-color: var(--fill-color);\n",
              "    }\n",
              "    60% {\n",
              "      border-color: transparent;\n",
              "      border-right-color: var(--fill-color);\n",
              "    }\n",
              "    80% {\n",
              "      border-color: transparent;\n",
              "      border-right-color: var(--fill-color);\n",
              "      border-bottom-color: var(--fill-color);\n",
              "    }\n",
              "    90% {\n",
              "      border-color: transparent;\n",
              "      border-bottom-color: var(--fill-color);\n",
              "    }\n",
              "  }\n",
              "</style>\n",
              "\n",
              "      <script>\n",
              "        async function quickchart(key) {\n",
              "          const quickchartButtonEl =\n",
              "            document.querySelector('#' + key + ' button');\n",
              "          quickchartButtonEl.disabled = true;  // To prevent multiple clicks.\n",
              "          quickchartButtonEl.classList.add('colab-df-spinner');\n",
              "          try {\n",
              "            const charts = await google.colab.kernel.invokeFunction(\n",
              "                'suggestCharts', [key], {});\n",
              "          } catch (error) {\n",
              "            console.error('Error during call to suggestCharts:', error);\n",
              "          }\n",
              "          quickchartButtonEl.classList.remove('colab-df-spinner');\n",
              "          quickchartButtonEl.classList.add('colab-df-quickchart-complete');\n",
              "        }\n",
              "        (() => {\n",
              "          let quickchartButtonEl =\n",
              "            document.querySelector('#df-21b65a51-03e7-4baa-9156-9b89aa32b5da button');\n",
              "          quickchartButtonEl.style.display =\n",
              "            google.colab.kernel.accessAllowed ? 'block' : 'none';\n",
              "        })();\n",
              "      </script>\n",
              "    </div>\n",
              "\n",
              "    </div>\n",
              "  </div>\n"
            ],
            "application/vnd.google.colaboratory.intrinsic+json": {
              "type": "dataframe",
              "summary": "{\n  \"name\": \"df\",\n  \"rows\": 11,\n  \"fields\": [\n    {\n      \"column\": \"id\",\n      \"properties\": {\n        \"dtype\": \"number\",\n        \"std\": 11518.954640550184,\n        \"min\": 1.0,\n        \"max\": 31962.0,\n        \"num_unique_values\": 6,\n        \"samples\": [\n          31962.0,\n          15981.5,\n          23971.75\n        ],\n        \"semantic_type\": \"\",\n        \"description\": \"\"\n      }\n    },\n    {\n      \"column\": \"label\",\n      \"properties\": {\n        \"dtype\": \"number\",\n        \"std\": 11300.206525320391,\n        \"min\": 0.0,\n        \"max\": 31962.0,\n        \"num_unique_values\": 5,\n        \"samples\": [\n          0.07014579813528565,\n          1.0,\n          0.2553965659892095\n        ],\n        \"semantic_type\": \"\",\n        \"description\": \"\"\n      }\n    },\n    {\n      \"column\": \"tweet\",\n      \"properties\": {\n        \"dtype\": \"category\",\n        \"num_unique_values\": 4,\n        \"samples\": [\n          29530,\n          \"319\",\n          \"31962\"\n        ],\n        \"semantic_type\": \"\",\n        \"description\": \"\"\n      }\n    }\n  ]\n}"
            }
          },
          "metadata": {},
          "execution_count": 87
        },
        {
          "output_type": "stream",
          "name": "stdout",
          "text": [
            "time: 45.7 ms (started: 2025-09-30 15:53:33 +00:00)\n"
          ]
        }
      ]
    },
    {
      "cell_type": "markdown",
      "source": [
        "# **Simple Pre-Processing**"
      ],
      "metadata": {
        "id": "BXBGCoIR1Zs1"
      }
    },
    {
      "cell_type": "markdown",
      "source": [
        "## **Check Missing Values**"
      ],
      "metadata": {
        "id": "RAjJjnAt1bto"
      }
    },
    {
      "cell_type": "code",
      "source": [
        "#\n",
        "# Find only columns that has missing value\n",
        "#\n",
        "\n",
        "# df.isnull().sum().sort_values(ascending = False)\n",
        "df.isnull().sum()[df.isnull().sum() > 0].sort_values(ascending = False)"
      ],
      "metadata": {
        "colab": {
          "base_uri": "https://localhost:8080/",
          "height": 101
        },
        "id": "bh84jRbc1a5g",
        "outputId": "9de737bc-4dad-472c-aaa1-5256226fc7dc"
      },
      "execution_count": 88,
      "outputs": [
        {
          "output_type": "execute_result",
          "data": {
            "text/plain": [
              "Series([], dtype: int64)"
            ],
            "text/html": [
              "<div>\n",
              "<style scoped>\n",
              "    .dataframe tbody tr th:only-of-type {\n",
              "        vertical-align: middle;\n",
              "    }\n",
              "\n",
              "    .dataframe tbody tr th {\n",
              "        vertical-align: top;\n",
              "    }\n",
              "\n",
              "    .dataframe thead th {\n",
              "        text-align: right;\n",
              "    }\n",
              "</style>\n",
              "<table border=\"1\" class=\"dataframe\">\n",
              "  <thead>\n",
              "    <tr style=\"text-align: right;\">\n",
              "      <th></th>\n",
              "      <th>0</th>\n",
              "    </tr>\n",
              "  </thead>\n",
              "  <tbody>\n",
              "  </tbody>\n",
              "</table>\n",
              "</div><br><label><b>dtype:</b> int64</label>"
            ]
          },
          "metadata": {},
          "execution_count": 88
        },
        {
          "output_type": "stream",
          "name": "stdout",
          "text": [
            "time: 13.8 ms (started: 2025-09-30 15:53:33 +00:00)\n"
          ]
        }
      ]
    },
    {
      "cell_type": "code",
      "source": [
        "#\n",
        "# Get the rows that has missing values\n",
        "#\n",
        "missing_value_rows = df[df.isnull().any(axis = 1)]\n",
        "print(missing_value_rows) # Commented out, if print as the output is large"
      ],
      "metadata": {
        "colab": {
          "base_uri": "https://localhost:8080/"
        },
        "id": "wmFJRlIW1khA",
        "outputId": "51aebe28-5309-422a-a3de-1844a04c806e"
      },
      "execution_count": 89,
      "outputs": [
        {
          "output_type": "stream",
          "name": "stdout",
          "text": [
            "Empty DataFrame\n",
            "Columns: [id, label, tweet]\n",
            "Index: []\n",
            "time: 6.73 ms (started: 2025-09-30 15:53:33 +00:00)\n"
          ]
        }
      ]
    },
    {
      "cell_type": "code",
      "source": [
        "#\n",
        "# Percentage of missing values\n",
        "#\n",
        "missingValueRows = df.isnull().sum()\n",
        "percentMissing   = ((df.isnull().sum() / df.shape[0]) * 100)\n",
        "\n",
        "missingValueRows = df.isnull().sum()[df.isnull().sum() > 0].sort_values(ascending = False)\n",
        "percentMissing   = ((df.isnull().sum()[df.isnull().sum() > 0].sort_values(ascending = False) / df.shape[0]) * 100)\n",
        "\n",
        "# print(\"Missig Values\")\n",
        "# print(\"=============\")\n",
        "# print(missingValueRows)\n",
        "\n",
        "# print(\"\")\n",
        "\n",
        "# print(\"Percent Missing\")\n",
        "# print(\"===============\")\n",
        "# print(percentMissing)\n",
        "\n",
        "missingData = {\n",
        "                'Missing Value Rows': missingValueRows,\n",
        "                'Missing Percentage': percentMissing\n",
        "              }\n",
        "missingDataFrame = pd.DataFrame(missingData)\n",
        "missingDataFrame"
      ],
      "metadata": {
        "colab": {
          "base_uri": "https://localhost:8080/",
          "height": 106
        },
        "id": "gE-kI7zw1tXs",
        "outputId": "1844dfa5-34e2-490e-9485-522173974568"
      },
      "execution_count": 90,
      "outputs": [
        {
          "output_type": "execute_result",
          "data": {
            "text/plain": [
              "Empty DataFrame\n",
              "Columns: [Missing Value Rows, Missing Percentage]\n",
              "Index: []"
            ],
            "text/html": [
              "\n",
              "  <div id=\"df-2a537fb4-ae87-4f55-8205-531efb333782\" class=\"colab-df-container\">\n",
              "    <div>\n",
              "<style scoped>\n",
              "    .dataframe tbody tr th:only-of-type {\n",
              "        vertical-align: middle;\n",
              "    }\n",
              "\n",
              "    .dataframe tbody tr th {\n",
              "        vertical-align: top;\n",
              "    }\n",
              "\n",
              "    .dataframe thead th {\n",
              "        text-align: right;\n",
              "    }\n",
              "</style>\n",
              "<table border=\"1\" class=\"dataframe\">\n",
              "  <thead>\n",
              "    <tr style=\"text-align: right;\">\n",
              "      <th></th>\n",
              "      <th>Missing Value Rows</th>\n",
              "      <th>Missing Percentage</th>\n",
              "    </tr>\n",
              "  </thead>\n",
              "  <tbody>\n",
              "  </tbody>\n",
              "</table>\n",
              "</div>\n",
              "    <div class=\"colab-df-buttons\">\n",
              "\n",
              "  <div class=\"colab-df-container\">\n",
              "    <button class=\"colab-df-convert\" onclick=\"convertToInteractive('df-2a537fb4-ae87-4f55-8205-531efb333782')\"\n",
              "            title=\"Convert this dataframe to an interactive table.\"\n",
              "            style=\"display:none;\">\n",
              "\n",
              "  <svg xmlns=\"http://www.w3.org/2000/svg\" height=\"24px\" viewBox=\"0 -960 960 960\">\n",
              "    <path d=\"M120-120v-720h720v720H120Zm60-500h600v-160H180v160Zm220 220h160v-160H400v160Zm0 220h160v-160H400v160ZM180-400h160v-160H180v160Zm440 0h160v-160H620v160ZM180-180h160v-160H180v160Zm440 0h160v-160H620v160Z\"/>\n",
              "  </svg>\n",
              "    </button>\n",
              "\n",
              "  <style>\n",
              "    .colab-df-container {\n",
              "      display:flex;\n",
              "      gap: 12px;\n",
              "    }\n",
              "\n",
              "    .colab-df-convert {\n",
              "      background-color: #E8F0FE;\n",
              "      border: none;\n",
              "      border-radius: 50%;\n",
              "      cursor: pointer;\n",
              "      display: none;\n",
              "      fill: #1967D2;\n",
              "      height: 32px;\n",
              "      padding: 0 0 0 0;\n",
              "      width: 32px;\n",
              "    }\n",
              "\n",
              "    .colab-df-convert:hover {\n",
              "      background-color: #E2EBFA;\n",
              "      box-shadow: 0px 1px 2px rgba(60, 64, 67, 0.3), 0px 1px 3px 1px rgba(60, 64, 67, 0.15);\n",
              "      fill: #174EA6;\n",
              "    }\n",
              "\n",
              "    .colab-df-buttons div {\n",
              "      margin-bottom: 4px;\n",
              "    }\n",
              "\n",
              "    [theme=dark] .colab-df-convert {\n",
              "      background-color: #3B4455;\n",
              "      fill: #D2E3FC;\n",
              "    }\n",
              "\n",
              "    [theme=dark] .colab-df-convert:hover {\n",
              "      background-color: #434B5C;\n",
              "      box-shadow: 0px 1px 3px 1px rgba(0, 0, 0, 0.15);\n",
              "      filter: drop-shadow(0px 1px 2px rgba(0, 0, 0, 0.3));\n",
              "      fill: #FFFFFF;\n",
              "    }\n",
              "  </style>\n",
              "\n",
              "    <script>\n",
              "      const buttonEl =\n",
              "        document.querySelector('#df-2a537fb4-ae87-4f55-8205-531efb333782 button.colab-df-convert');\n",
              "      buttonEl.style.display =\n",
              "        google.colab.kernel.accessAllowed ? 'block' : 'none';\n",
              "\n",
              "      async function convertToInteractive(key) {\n",
              "        const element = document.querySelector('#df-2a537fb4-ae87-4f55-8205-531efb333782');\n",
              "        const dataTable =\n",
              "          await google.colab.kernel.invokeFunction('convertToInteractive',\n",
              "                                                    [key], {});\n",
              "        if (!dataTable) return;\n",
              "\n",
              "        const docLinkHtml = 'Like what you see? Visit the ' +\n",
              "          '<a target=\"_blank\" href=https://colab.research.google.com/notebooks/data_table.ipynb>data table notebook</a>'\n",
              "          + ' to learn more about interactive tables.';\n",
              "        element.innerHTML = '';\n",
              "        dataTable['output_type'] = 'display_data';\n",
              "        await google.colab.output.renderOutput(dataTable, element);\n",
              "        const docLink = document.createElement('div');\n",
              "        docLink.innerHTML = docLinkHtml;\n",
              "        element.appendChild(docLink);\n",
              "      }\n",
              "    </script>\n",
              "  </div>\n",
              "\n",
              "\n",
              "  <div id=\"id_f5f34ce6-a6d9-4c70-b8c4-033702b80e0b\">\n",
              "    <style>\n",
              "      .colab-df-generate {\n",
              "        background-color: #E8F0FE;\n",
              "        border: none;\n",
              "        border-radius: 50%;\n",
              "        cursor: pointer;\n",
              "        display: none;\n",
              "        fill: #1967D2;\n",
              "        height: 32px;\n",
              "        padding: 0 0 0 0;\n",
              "        width: 32px;\n",
              "      }\n",
              "\n",
              "      .colab-df-generate:hover {\n",
              "        background-color: #E2EBFA;\n",
              "        box-shadow: 0px 1px 2px rgba(60, 64, 67, 0.3), 0px 1px 3px 1px rgba(60, 64, 67, 0.15);\n",
              "        fill: #174EA6;\n",
              "      }\n",
              "\n",
              "      [theme=dark] .colab-df-generate {\n",
              "        background-color: #3B4455;\n",
              "        fill: #D2E3FC;\n",
              "      }\n",
              "\n",
              "      [theme=dark] .colab-df-generate:hover {\n",
              "        background-color: #434B5C;\n",
              "        box-shadow: 0px 1px 3px 1px rgba(0, 0, 0, 0.15);\n",
              "        filter: drop-shadow(0px 1px 2px rgba(0, 0, 0, 0.3));\n",
              "        fill: #FFFFFF;\n",
              "      }\n",
              "    </style>\n",
              "    <button class=\"colab-df-generate\" onclick=\"generateWithVariable('missingDataFrame')\"\n",
              "            title=\"Generate code using this dataframe.\"\n",
              "            style=\"display:none;\">\n",
              "\n",
              "  <svg xmlns=\"http://www.w3.org/2000/svg\" height=\"24px\"viewBox=\"0 0 24 24\"\n",
              "       width=\"24px\">\n",
              "    <path d=\"M7,19H8.4L18.45,9,17,7.55,7,17.6ZM5,21V16.75L18.45,3.32a2,2,0,0,1,2.83,0l1.4,1.43a1.91,1.91,0,0,1,.58,1.4,1.91,1.91,0,0,1-.58,1.4L9.25,21ZM18.45,9,17,7.55Zm-12,3A5.31,5.31,0,0,0,4.9,8.1,5.31,5.31,0,0,0,1,6.5,5.31,5.31,0,0,0,4.9,4.9,5.31,5.31,0,0,0,6.5,1,5.31,5.31,0,0,0,8.1,4.9,5.31,5.31,0,0,0,12,6.5,5.46,5.46,0,0,0,6.5,12Z\"/>\n",
              "  </svg>\n",
              "    </button>\n",
              "    <script>\n",
              "      (() => {\n",
              "      const buttonEl =\n",
              "        document.querySelector('#id_f5f34ce6-a6d9-4c70-b8c4-033702b80e0b button.colab-df-generate');\n",
              "      buttonEl.style.display =\n",
              "        google.colab.kernel.accessAllowed ? 'block' : 'none';\n",
              "\n",
              "      buttonEl.onclick = () => {\n",
              "        google.colab.notebook.generateWithVariable('missingDataFrame');\n",
              "      }\n",
              "      })();\n",
              "    </script>\n",
              "  </div>\n",
              "\n",
              "    </div>\n",
              "  </div>\n"
            ],
            "application/vnd.google.colaboratory.intrinsic+json": {
              "type": "dataframe",
              "variable_name": "missingDataFrame",
              "summary": "{\n  \"name\": \"missingDataFrame\",\n  \"rows\": 0,\n  \"fields\": [\n    {\n      \"column\": \"Missing Value Rows\",\n      \"properties\": {\n        \"dtype\": \"number\",\n        \"std\": null,\n        \"min\": null,\n        \"max\": null,\n        \"num_unique_values\": 0,\n        \"samples\": [],\n        \"semantic_type\": \"\",\n        \"description\": \"\"\n      }\n    },\n    {\n      \"column\": \"Missing Percentage\",\n      \"properties\": {\n        \"dtype\": \"number\",\n        \"std\": null,\n        \"min\": null,\n        \"max\": null,\n        \"num_unique_values\": 0,\n        \"samples\": [],\n        \"semantic_type\": \"\",\n        \"description\": \"\"\n      }\n    }\n  ]\n}"
            }
          },
          "metadata": {},
          "execution_count": 90
        },
        {
          "output_type": "stream",
          "name": "stdout",
          "text": [
            "time: 37 ms (started: 2025-09-30 15:53:33 +00:00)\n"
          ]
        }
      ]
    },
    {
      "cell_type": "markdown",
      "source": [
        "## **Check Duplicates**"
      ],
      "metadata": {
        "id": "dXL4PyRQ10K9"
      }
    },
    {
      "cell_type": "code",
      "source": [
        "#\n",
        "# Get Duplicate Count\n",
        "#\n",
        "df.duplicated().sum()"
      ],
      "metadata": {
        "colab": {
          "base_uri": "https://localhost:8080/"
        },
        "id": "4HfPXXtM11Dx",
        "outputId": "8d64d0bb-1581-4eab-8a70-aaaf16027ff9"
      },
      "execution_count": 91,
      "outputs": [
        {
          "output_type": "execute_result",
          "data": {
            "text/plain": [
              "np.int64(0)"
            ]
          },
          "metadata": {},
          "execution_count": 91
        },
        {
          "output_type": "stream",
          "name": "stdout",
          "text": [
            "time: 30.2 ms (started: 2025-09-30 15:53:33 +00:00)\n"
          ]
        }
      ]
    },
    {
      "cell_type": "code",
      "source": [
        "#\n",
        "# Get Duplicate Row\n",
        "#\n",
        "duplicatedRows = df[df.duplicated()]\n",
        "print(duplicatedRows)"
      ],
      "metadata": {
        "colab": {
          "base_uri": "https://localhost:8080/"
        },
        "id": "WQKdj4Ia15P8",
        "outputId": "12443c26-82ce-4c5a-891c-a839acbb0c9d"
      },
      "execution_count": 92,
      "outputs": [
        {
          "output_type": "stream",
          "name": "stdout",
          "text": [
            "Empty DataFrame\n",
            "Columns: [id, label, tweet]\n",
            "Index: []\n",
            "time: 19.8 ms (started: 2025-09-30 15:53:33 +00:00)\n"
          ]
        }
      ]
    },
    {
      "cell_type": "markdown",
      "source": [
        "# **Data Cleanse / Pre-Processing**"
      ],
      "metadata": {
        "id": "ukTRuKvT4F2p"
      }
    },
    {
      "cell_type": "code",
      "source": [
        "#\n",
        "# Initialize the Lemmatizer and Stemmer\n",
        "#\n",
        "# NOTE: We use Lemmatization only in the current pipeline as it is generally\n",
        "#       preferred for accuracy (reduces to dictionary words)\n",
        "#\n",
        "lemmatizer = WordNetLemmatizer() # Initializing the WordNetLemmatizer\n",
        "stemmer    = PorterStemmer()     # Initializing the PorterStemmer"
      ],
      "metadata": {
        "colab": {
          "base_uri": "https://localhost:8080/"
        },
        "id": "kmemAk5C6vMi",
        "outputId": "bdd920f6-8eea-485e-93f1-f8e79b8505f1"
      },
      "execution_count": 93,
      "outputs": [
        {
          "output_type": "stream",
          "name": "stdout",
          "text": [
            "time: 1.22 ms (started: 2025-09-30 15:53:33 +00:00)\n"
          ]
        }
      ]
    },
    {
      "cell_type": "code",
      "source": [
        "stopWords = set(stopwords.words('english'))"
      ],
      "metadata": {
        "colab": {
          "base_uri": "https://localhost:8080/"
        },
        "id": "IeD6M41F_LZX",
        "outputId": "3e98c858-bdb5-41e6-de79-30c2f2eed060"
      },
      "execution_count": 94,
      "outputs": [
        {
          "output_type": "stream",
          "name": "stdout",
          "text": [
            "time: 1.68 ms (started: 2025-09-30 15:53:33 +00:00)\n"
          ]
        }
      ]
    },
    {
      "cell_type": "code",
      "source": [
        "#\n",
        "# Function to cleanse the text column\n",
        "#\n",
        "def cleanTweet(text):\n",
        "  #\n",
        "  # Performs a multi-step cleaning process on raw tweet text.\n",
        "  #\n",
        "  # Steps include:\n",
        "  #   1. Removing Twitter user mentions (@...) and URLs (http/https).\n",
        "  #   2. Removing special characters and isolated punctuation.\n",
        "  #   3. Lowercasing, tokenizing, and filtering out common stopwords.\n",
        "  #   4. Filtering out single-character tokens (e.g., 'a', 'i', or noise artifacts).\n",
        "  #   5. Re-joining the final list of clean words into a single string.\n",
        "  #\n",
        "\n",
        "  #\n",
        "  # Remove @mentions and URLs\n",
        "  #\n",
        "  text = re.sub(r'@[A-Za-z0-9_]+|https?://\\S+|www\\.\\S+', '', text)\n",
        "\n",
        "  #\n",
        "  # Remove hashtags and convert all text to lower case\n",
        "  #\n",
        "  text = re.sub(r'#', '', text)\n",
        "\n",
        "  #\n",
        "  # Remove miscellaneous non-alphanumeric characters (including emojis/encoding noise)\n",
        "  # This keeps only letters and spaces\n",
        "  #\n",
        "  text = re.sub(r'[^a-zA-Z\\s]', ' ', text)\n",
        "\n",
        "  #\n",
        "  # Convert to lower case and tokenize (split into a list of words)\n",
        "  #\n",
        "  words = text.lower().split()\n",
        "\n",
        "  #\n",
        "  # Filter the list of words:\n",
        "  #   a) Remove NLTK stopwords (e.g., 'the', 'is', 'and')\n",
        "  #   b) Remove single-character artifacts (e.g., 'i', 'a', or random noise)\n",
        "  #\n",
        "  #\n",
        "  # Filter the list of words (remove stopwords and single characters)\n",
        "  #\n",
        "\n",
        "  filteredWords = [\n",
        "                    word for word in words\n",
        "                    if word not in stopWords and len(word) > 1\n",
        "                  ]\n",
        "  #\n",
        "  # Apply Lemmatization (reduces words to dictionary form)\n",
        "  #\n",
        "  normalizedWords = [lemmatizer.lemmatize(word) for word in filteredWords]\n",
        "\n",
        "  #\n",
        "  # Apply Stemming (aggressively reduces words to their root)\n",
        "  #\n",
        "  # NOTE: To test Stemming, you would replace the above line with\n",
        "  #\n",
        "  # normalizedWords = [stemmer.stem(word) for word in filteredWords]\n",
        "\n",
        "  #\n",
        "  # Re-join the list of clean words into a single string (The line in question!)\n",
        "  # This is necessary because 'cleaned_words' is a list, and we need a string for the model\n",
        "  #\n",
        "  text = ' '.join(normalizedWords)\n",
        "\n",
        "  return text"
      ],
      "metadata": {
        "colab": {
          "base_uri": "https://localhost:8080/"
        },
        "id": "WD0dq-mi4Jl4",
        "outputId": "bbfa8dea-fd5e-4016-f914-e89e0418dd46"
      },
      "execution_count": 95,
      "outputs": [
        {
          "output_type": "stream",
          "name": "stdout",
          "text": [
            "time: 1.42 ms (started: 2025-09-30 15:53:33 +00:00)\n"
          ]
        }
      ]
    },
    {
      "cell_type": "code",
      "source": [
        "#\n",
        "# Clean tweet\n",
        "#\n",
        "df['cleaned_tweet'] = df['tweet'].apply(cleanTweet)\n",
        "\n",
        "#\n",
        "# Calculate word count *after* cleaning to get meaningful length\n",
        "#\n",
        "df['word_count'] = df['cleaned_tweet'].apply(lambda x: len(x.split()))\n",
        "\n",
        "df.head()"
      ],
      "metadata": {
        "colab": {
          "base_uri": "https://localhost:8080/",
          "height": 224
        },
        "id": "VQWe2Q1P4d7b",
        "outputId": "e692e042-c175-4291-f567-5d1b79784cbb"
      },
      "execution_count": 96,
      "outputs": [
        {
          "output_type": "execute_result",
          "data": {
            "text/plain": [
              "   id  label                                              tweet  \\\n",
              "0   1      0   @user when a father is dysfunctional and is s...   \n",
              "1   2      0  @user @user thanks for #lyft credit i can't us...   \n",
              "2   3      0                                bihday your majesty   \n",
              "3   4      0  #model   i love u take with u all the time in ...   \n",
              "4   5      0             factsguide: society now    #motivation   \n",
              "\n",
              "                                       cleaned_tweet  word_count  \n",
              "0  father dysfunctional selfish drag kid dysfunct...           7  \n",
              "1  thanks lyft credit use cause offer wheelchair ...          11  \n",
              "2                                     bihday majesty           2  \n",
              "3                            model love take time ur           5  \n",
              "4                      factsguide society motivation           3  "
            ],
            "text/html": [
              "\n",
              "  <div id=\"df-4219e86f-fd32-4f48-8b6d-0530e6a8ad09\" class=\"colab-df-container\">\n",
              "    <div>\n",
              "<style scoped>\n",
              "    .dataframe tbody tr th:only-of-type {\n",
              "        vertical-align: middle;\n",
              "    }\n",
              "\n",
              "    .dataframe tbody tr th {\n",
              "        vertical-align: top;\n",
              "    }\n",
              "\n",
              "    .dataframe thead th {\n",
              "        text-align: right;\n",
              "    }\n",
              "</style>\n",
              "<table border=\"1\" class=\"dataframe\">\n",
              "  <thead>\n",
              "    <tr style=\"text-align: right;\">\n",
              "      <th></th>\n",
              "      <th>id</th>\n",
              "      <th>label</th>\n",
              "      <th>tweet</th>\n",
              "      <th>cleaned_tweet</th>\n",
              "      <th>word_count</th>\n",
              "    </tr>\n",
              "  </thead>\n",
              "  <tbody>\n",
              "    <tr>\n",
              "      <th>0</th>\n",
              "      <td>1</td>\n",
              "      <td>0</td>\n",
              "      <td>@user when a father is dysfunctional and is s...</td>\n",
              "      <td>father dysfunctional selfish drag kid dysfunct...</td>\n",
              "      <td>7</td>\n",
              "    </tr>\n",
              "    <tr>\n",
              "      <th>1</th>\n",
              "      <td>2</td>\n",
              "      <td>0</td>\n",
              "      <td>@user @user thanks for #lyft credit i can't us...</td>\n",
              "      <td>thanks lyft credit use cause offer wheelchair ...</td>\n",
              "      <td>11</td>\n",
              "    </tr>\n",
              "    <tr>\n",
              "      <th>2</th>\n",
              "      <td>3</td>\n",
              "      <td>0</td>\n",
              "      <td>bihday your majesty</td>\n",
              "      <td>bihday majesty</td>\n",
              "      <td>2</td>\n",
              "    </tr>\n",
              "    <tr>\n",
              "      <th>3</th>\n",
              "      <td>4</td>\n",
              "      <td>0</td>\n",
              "      <td>#model   i love u take with u all the time in ...</td>\n",
              "      <td>model love take time ur</td>\n",
              "      <td>5</td>\n",
              "    </tr>\n",
              "    <tr>\n",
              "      <th>4</th>\n",
              "      <td>5</td>\n",
              "      <td>0</td>\n",
              "      <td>factsguide: society now    #motivation</td>\n",
              "      <td>factsguide society motivation</td>\n",
              "      <td>3</td>\n",
              "    </tr>\n",
              "  </tbody>\n",
              "</table>\n",
              "</div>\n",
              "    <div class=\"colab-df-buttons\">\n",
              "\n",
              "  <div class=\"colab-df-container\">\n",
              "    <button class=\"colab-df-convert\" onclick=\"convertToInteractive('df-4219e86f-fd32-4f48-8b6d-0530e6a8ad09')\"\n",
              "            title=\"Convert this dataframe to an interactive table.\"\n",
              "            style=\"display:none;\">\n",
              "\n",
              "  <svg xmlns=\"http://www.w3.org/2000/svg\" height=\"24px\" viewBox=\"0 -960 960 960\">\n",
              "    <path d=\"M120-120v-720h720v720H120Zm60-500h600v-160H180v160Zm220 220h160v-160H400v160Zm0 220h160v-160H400v160ZM180-400h160v-160H180v160Zm440 0h160v-160H620v160ZM180-180h160v-160H180v160Zm440 0h160v-160H620v160Z\"/>\n",
              "  </svg>\n",
              "    </button>\n",
              "\n",
              "  <style>\n",
              "    .colab-df-container {\n",
              "      display:flex;\n",
              "      gap: 12px;\n",
              "    }\n",
              "\n",
              "    .colab-df-convert {\n",
              "      background-color: #E8F0FE;\n",
              "      border: none;\n",
              "      border-radius: 50%;\n",
              "      cursor: pointer;\n",
              "      display: none;\n",
              "      fill: #1967D2;\n",
              "      height: 32px;\n",
              "      padding: 0 0 0 0;\n",
              "      width: 32px;\n",
              "    }\n",
              "\n",
              "    .colab-df-convert:hover {\n",
              "      background-color: #E2EBFA;\n",
              "      box-shadow: 0px 1px 2px rgba(60, 64, 67, 0.3), 0px 1px 3px 1px rgba(60, 64, 67, 0.15);\n",
              "      fill: #174EA6;\n",
              "    }\n",
              "\n",
              "    .colab-df-buttons div {\n",
              "      margin-bottom: 4px;\n",
              "    }\n",
              "\n",
              "    [theme=dark] .colab-df-convert {\n",
              "      background-color: #3B4455;\n",
              "      fill: #D2E3FC;\n",
              "    }\n",
              "\n",
              "    [theme=dark] .colab-df-convert:hover {\n",
              "      background-color: #434B5C;\n",
              "      box-shadow: 0px 1px 3px 1px rgba(0, 0, 0, 0.15);\n",
              "      filter: drop-shadow(0px 1px 2px rgba(0, 0, 0, 0.3));\n",
              "      fill: #FFFFFF;\n",
              "    }\n",
              "  </style>\n",
              "\n",
              "    <script>\n",
              "      const buttonEl =\n",
              "        document.querySelector('#df-4219e86f-fd32-4f48-8b6d-0530e6a8ad09 button.colab-df-convert');\n",
              "      buttonEl.style.display =\n",
              "        google.colab.kernel.accessAllowed ? 'block' : 'none';\n",
              "\n",
              "      async function convertToInteractive(key) {\n",
              "        const element = document.querySelector('#df-4219e86f-fd32-4f48-8b6d-0530e6a8ad09');\n",
              "        const dataTable =\n",
              "          await google.colab.kernel.invokeFunction('convertToInteractive',\n",
              "                                                    [key], {});\n",
              "        if (!dataTable) return;\n",
              "\n",
              "        const docLinkHtml = 'Like what you see? Visit the ' +\n",
              "          '<a target=\"_blank\" href=https://colab.research.google.com/notebooks/data_table.ipynb>data table notebook</a>'\n",
              "          + ' to learn more about interactive tables.';\n",
              "        element.innerHTML = '';\n",
              "        dataTable['output_type'] = 'display_data';\n",
              "        await google.colab.output.renderOutput(dataTable, element);\n",
              "        const docLink = document.createElement('div');\n",
              "        docLink.innerHTML = docLinkHtml;\n",
              "        element.appendChild(docLink);\n",
              "      }\n",
              "    </script>\n",
              "  </div>\n",
              "\n",
              "\n",
              "    <div id=\"df-cf33b8ae-2eaa-45f6-bee8-0a2ee57bcb72\">\n",
              "      <button class=\"colab-df-quickchart\" onclick=\"quickchart('df-cf33b8ae-2eaa-45f6-bee8-0a2ee57bcb72')\"\n",
              "                title=\"Suggest charts\"\n",
              "                style=\"display:none;\">\n",
              "\n",
              "<svg xmlns=\"http://www.w3.org/2000/svg\" height=\"24px\"viewBox=\"0 0 24 24\"\n",
              "     width=\"24px\">\n",
              "    <g>\n",
              "        <path d=\"M19 3H5c-1.1 0-2 .9-2 2v14c0 1.1.9 2 2 2h14c1.1 0 2-.9 2-2V5c0-1.1-.9-2-2-2zM9 17H7v-7h2v7zm4 0h-2V7h2v10zm4 0h-2v-4h2v4z\"/>\n",
              "    </g>\n",
              "</svg>\n",
              "      </button>\n",
              "\n",
              "<style>\n",
              "  .colab-df-quickchart {\n",
              "      --bg-color: #E8F0FE;\n",
              "      --fill-color: #1967D2;\n",
              "      --hover-bg-color: #E2EBFA;\n",
              "      --hover-fill-color: #174EA6;\n",
              "      --disabled-fill-color: #AAA;\n",
              "      --disabled-bg-color: #DDD;\n",
              "  }\n",
              "\n",
              "  [theme=dark] .colab-df-quickchart {\n",
              "      --bg-color: #3B4455;\n",
              "      --fill-color: #D2E3FC;\n",
              "      --hover-bg-color: #434B5C;\n",
              "      --hover-fill-color: #FFFFFF;\n",
              "      --disabled-bg-color: #3B4455;\n",
              "      --disabled-fill-color: #666;\n",
              "  }\n",
              "\n",
              "  .colab-df-quickchart {\n",
              "    background-color: var(--bg-color);\n",
              "    border: none;\n",
              "    border-radius: 50%;\n",
              "    cursor: pointer;\n",
              "    display: none;\n",
              "    fill: var(--fill-color);\n",
              "    height: 32px;\n",
              "    padding: 0;\n",
              "    width: 32px;\n",
              "  }\n",
              "\n",
              "  .colab-df-quickchart:hover {\n",
              "    background-color: var(--hover-bg-color);\n",
              "    box-shadow: 0 1px 2px rgba(60, 64, 67, 0.3), 0 1px 3px 1px rgba(60, 64, 67, 0.15);\n",
              "    fill: var(--button-hover-fill-color);\n",
              "  }\n",
              "\n",
              "  .colab-df-quickchart-complete:disabled,\n",
              "  .colab-df-quickchart-complete:disabled:hover {\n",
              "    background-color: var(--disabled-bg-color);\n",
              "    fill: var(--disabled-fill-color);\n",
              "    box-shadow: none;\n",
              "  }\n",
              "\n",
              "  .colab-df-spinner {\n",
              "    border: 2px solid var(--fill-color);\n",
              "    border-color: transparent;\n",
              "    border-bottom-color: var(--fill-color);\n",
              "    animation:\n",
              "      spin 1s steps(1) infinite;\n",
              "  }\n",
              "\n",
              "  @keyframes spin {\n",
              "    0% {\n",
              "      border-color: transparent;\n",
              "      border-bottom-color: var(--fill-color);\n",
              "      border-left-color: var(--fill-color);\n",
              "    }\n",
              "    20% {\n",
              "      border-color: transparent;\n",
              "      border-left-color: var(--fill-color);\n",
              "      border-top-color: var(--fill-color);\n",
              "    }\n",
              "    30% {\n",
              "      border-color: transparent;\n",
              "      border-left-color: var(--fill-color);\n",
              "      border-top-color: var(--fill-color);\n",
              "      border-right-color: var(--fill-color);\n",
              "    }\n",
              "    40% {\n",
              "      border-color: transparent;\n",
              "      border-right-color: var(--fill-color);\n",
              "      border-top-color: var(--fill-color);\n",
              "    }\n",
              "    60% {\n",
              "      border-color: transparent;\n",
              "      border-right-color: var(--fill-color);\n",
              "    }\n",
              "    80% {\n",
              "      border-color: transparent;\n",
              "      border-right-color: var(--fill-color);\n",
              "      border-bottom-color: var(--fill-color);\n",
              "    }\n",
              "    90% {\n",
              "      border-color: transparent;\n",
              "      border-bottom-color: var(--fill-color);\n",
              "    }\n",
              "  }\n",
              "</style>\n",
              "\n",
              "      <script>\n",
              "        async function quickchart(key) {\n",
              "          const quickchartButtonEl =\n",
              "            document.querySelector('#' + key + ' button');\n",
              "          quickchartButtonEl.disabled = true;  // To prevent multiple clicks.\n",
              "          quickchartButtonEl.classList.add('colab-df-spinner');\n",
              "          try {\n",
              "            const charts = await google.colab.kernel.invokeFunction(\n",
              "                'suggestCharts', [key], {});\n",
              "          } catch (error) {\n",
              "            console.error('Error during call to suggestCharts:', error);\n",
              "          }\n",
              "          quickchartButtonEl.classList.remove('colab-df-spinner');\n",
              "          quickchartButtonEl.classList.add('colab-df-quickchart-complete');\n",
              "        }\n",
              "        (() => {\n",
              "          let quickchartButtonEl =\n",
              "            document.querySelector('#df-cf33b8ae-2eaa-45f6-bee8-0a2ee57bcb72 button');\n",
              "          quickchartButtonEl.style.display =\n",
              "            google.colab.kernel.accessAllowed ? 'block' : 'none';\n",
              "        })();\n",
              "      </script>\n",
              "    </div>\n",
              "\n",
              "    </div>\n",
              "  </div>\n"
            ],
            "application/vnd.google.colaboratory.intrinsic+json": {
              "type": "dataframe",
              "variable_name": "df",
              "summary": "{\n  \"name\": \"df\",\n  \"rows\": 31962,\n  \"fields\": [\n    {\n      \"column\": \"id\",\n      \"properties\": {\n        \"dtype\": \"number\",\n        \"std\": 9226,\n        \"min\": 1,\n        \"max\": 31962,\n        \"num_unique_values\": 31962,\n        \"samples\": [\n          12228,\n          14710,\n          19320\n        ],\n        \"semantic_type\": \"\",\n        \"description\": \"\"\n      }\n    },\n    {\n      \"column\": \"label\",\n      \"properties\": {\n        \"dtype\": \"number\",\n        \"std\": 0,\n        \"min\": 0,\n        \"max\": 1,\n        \"num_unique_values\": 2,\n        \"samples\": [\n          1,\n          0\n        ],\n        \"semantic_type\": \"\",\n        \"description\": \"\"\n      }\n    },\n    {\n      \"column\": \"tweet\",\n      \"properties\": {\n        \"dtype\": \"string\",\n        \"num_unique_values\": 29530,\n        \"samples\": [\n          \"\\\"even if you like #windows 10, you should be   at #microsoft\\\" #computer #spam #spyware #unreliable #os #ms #win \",\n          \"the countdown begins! 10 hours till the musical! \\u00f0\\u009f\\u0098\\u008a\\u00f0\\u009f\\u0098\\u0084\\u00f0\\u009f\\u0098\\u0085 #itsthefinalcountdown #youngcarers #rctcbc #rctcouncil #rct #carersweek   \\u00f0\\u009f\\u0098\\u0081\"\n        ],\n        \"semantic_type\": \"\",\n        \"description\": \"\"\n      }\n    },\n    {\n      \"column\": \"cleaned_tweet\",\n      \"properties\": {\n        \"dtype\": \"string\",\n        \"num_unique_values\": 28181,\n        \"samples\": [\n          \"life meaningless find purpose fax\",\n          \"friday xoxosamantha via\"\n        ],\n        \"semantic_type\": \"\",\n        \"description\": \"\"\n      }\n    },\n    {\n      \"column\": \"word_count\",\n      \"properties\": {\n        \"dtype\": \"number\",\n        \"std\": 3,\n        \"min\": 0,\n        \"max\": 37,\n        \"num_unique_values\": 23,\n        \"samples\": [\n          1,\n          9\n        ],\n        \"semantic_type\": \"\",\n        \"description\": \"\"\n      }\n    }\n  ]\n}"
            }
          },
          "metadata": {},
          "execution_count": 96
        },
        {
          "output_type": "stream",
          "name": "stdout",
          "text": [
            "time: 1.58 s (started: 2025-09-30 15:53:33 +00:00)\n"
          ]
        }
      ]
    },
    {
      "cell_type": "code",
      "source": [
        "#\n",
        "# Display a comparison of the first 5 tweets\n",
        "#\n",
        "print(\"Cleaning Results\")\n",
        "print(\"================\")\n",
        "\n",
        "for i in range(5):\n",
        "  print(\"-\" * 135)\n",
        "  print(f\"Original : {df['tweet'].iloc[i]}\")\n",
        "  print(f\"Cleaned  : {df['cleaned_tweet'].iloc[i]}\")"
      ],
      "metadata": {
        "colab": {
          "base_uri": "https://localhost:8080/"
        },
        "id": "C82qFInJ_6ek",
        "outputId": "d1fc076f-debe-42d2-e35d-7c8bdd4ca3f8"
      },
      "execution_count": 97,
      "outputs": [
        {
          "output_type": "stream",
          "name": "stdout",
          "text": [
            "Cleaning Results\n",
            "================\n",
            "---------------------------------------------------------------------------------------------------------------------------------------\n",
            "Original :  @user when a father is dysfunctional and is so selfish he drags his kids into his dysfunction.   #run\n",
            "Cleaned  : father dysfunctional selfish drag kid dysfunction run\n",
            "---------------------------------------------------------------------------------------------------------------------------------------\n",
            "Original : @user @user thanks for #lyft credit i can't use cause they don't offer wheelchair vans in pdx.    #disapointed #getthanked\n",
            "Cleaned  : thanks lyft credit use cause offer wheelchair van pdx disapointed getthanked\n",
            "---------------------------------------------------------------------------------------------------------------------------------------\n",
            "Original :   bihday your majesty\n",
            "Cleaned  : bihday majesty\n",
            "---------------------------------------------------------------------------------------------------------------------------------------\n",
            "Original : #model   i love u take with u all the time in urð±!!! ððððð¦ð¦ð¦  \n",
            "Cleaned  : model love take time ur\n",
            "---------------------------------------------------------------------------------------------------------------------------------------\n",
            "Original :  factsguide: society now    #motivation\n",
            "Cleaned  : factsguide society motivation\n",
            "time: 1.1 ms (started: 2025-09-30 15:53:35 +00:00)\n"
          ]
        }
      ]
    },
    {
      "cell_type": "code",
      "source": [
        "df['word_count'].value_counts().sort_values(ascending = False)"
      ],
      "metadata": {
        "colab": {
          "base_uri": "https://localhost:8080/",
          "height": 854
        },
        "id": "n7qylOwjMnON",
        "outputId": "85f5281f-f352-4e7f-c9bd-f26c7d1d6c90"
      },
      "execution_count": 98,
      "outputs": [
        {
          "output_type": "execute_result",
          "data": {
            "text/plain": [
              "word_count\n",
              "8     3581\n",
              "7     3486\n",
              "9     3455\n",
              "10    3236\n",
              "6     3179\n",
              "5     2962\n",
              "11    2576\n",
              "4     2390\n",
              "3     2031\n",
              "12    1585\n",
              "2     1150\n",
              "13     891\n",
              "14     509\n",
              "1      350\n",
              "15     281\n",
              "16     172\n",
              "17      60\n",
              "0       38\n",
              "19      15\n",
              "18       9\n",
              "21       3\n",
              "20       2\n",
              "37       1\n",
              "Name: count, dtype: int64"
            ],
            "text/html": [
              "<div>\n",
              "<style scoped>\n",
              "    .dataframe tbody tr th:only-of-type {\n",
              "        vertical-align: middle;\n",
              "    }\n",
              "\n",
              "    .dataframe tbody tr th {\n",
              "        vertical-align: top;\n",
              "    }\n",
              "\n",
              "    .dataframe thead th {\n",
              "        text-align: right;\n",
              "    }\n",
              "</style>\n",
              "<table border=\"1\" class=\"dataframe\">\n",
              "  <thead>\n",
              "    <tr style=\"text-align: right;\">\n",
              "      <th></th>\n",
              "      <th>count</th>\n",
              "    </tr>\n",
              "    <tr>\n",
              "      <th>word_count</th>\n",
              "      <th></th>\n",
              "    </tr>\n",
              "  </thead>\n",
              "  <tbody>\n",
              "    <tr>\n",
              "      <th>8</th>\n",
              "      <td>3581</td>\n",
              "    </tr>\n",
              "    <tr>\n",
              "      <th>7</th>\n",
              "      <td>3486</td>\n",
              "    </tr>\n",
              "    <tr>\n",
              "      <th>9</th>\n",
              "      <td>3455</td>\n",
              "    </tr>\n",
              "    <tr>\n",
              "      <th>10</th>\n",
              "      <td>3236</td>\n",
              "    </tr>\n",
              "    <tr>\n",
              "      <th>6</th>\n",
              "      <td>3179</td>\n",
              "    </tr>\n",
              "    <tr>\n",
              "      <th>5</th>\n",
              "      <td>2962</td>\n",
              "    </tr>\n",
              "    <tr>\n",
              "      <th>11</th>\n",
              "      <td>2576</td>\n",
              "    </tr>\n",
              "    <tr>\n",
              "      <th>4</th>\n",
              "      <td>2390</td>\n",
              "    </tr>\n",
              "    <tr>\n",
              "      <th>3</th>\n",
              "      <td>2031</td>\n",
              "    </tr>\n",
              "    <tr>\n",
              "      <th>12</th>\n",
              "      <td>1585</td>\n",
              "    </tr>\n",
              "    <tr>\n",
              "      <th>2</th>\n",
              "      <td>1150</td>\n",
              "    </tr>\n",
              "    <tr>\n",
              "      <th>13</th>\n",
              "      <td>891</td>\n",
              "    </tr>\n",
              "    <tr>\n",
              "      <th>14</th>\n",
              "      <td>509</td>\n",
              "    </tr>\n",
              "    <tr>\n",
              "      <th>1</th>\n",
              "      <td>350</td>\n",
              "    </tr>\n",
              "    <tr>\n",
              "      <th>15</th>\n",
              "      <td>281</td>\n",
              "    </tr>\n",
              "    <tr>\n",
              "      <th>16</th>\n",
              "      <td>172</td>\n",
              "    </tr>\n",
              "    <tr>\n",
              "      <th>17</th>\n",
              "      <td>60</td>\n",
              "    </tr>\n",
              "    <tr>\n",
              "      <th>0</th>\n",
              "      <td>38</td>\n",
              "    </tr>\n",
              "    <tr>\n",
              "      <th>19</th>\n",
              "      <td>15</td>\n",
              "    </tr>\n",
              "    <tr>\n",
              "      <th>18</th>\n",
              "      <td>9</td>\n",
              "    </tr>\n",
              "    <tr>\n",
              "      <th>21</th>\n",
              "      <td>3</td>\n",
              "    </tr>\n",
              "    <tr>\n",
              "      <th>20</th>\n",
              "      <td>2</td>\n",
              "    </tr>\n",
              "    <tr>\n",
              "      <th>37</th>\n",
              "      <td>1</td>\n",
              "    </tr>\n",
              "  </tbody>\n",
              "</table>\n",
              "</div><br><label><b>dtype:</b> int64</label>"
            ]
          },
          "metadata": {},
          "execution_count": 98
        },
        {
          "output_type": "stream",
          "name": "stdout",
          "text": [
            "time: 7.61 ms (started: 2025-09-30 15:53:35 +00:00)\n"
          ]
        }
      ]
    },
    {
      "cell_type": "code",
      "source": [
        "df['word_count'].max()"
      ],
      "metadata": {
        "colab": {
          "base_uri": "https://localhost:8080/"
        },
        "id": "5MpP26eoNAYm",
        "outputId": "b87cc407-164d-4938-d0d7-28f27f96d0f3"
      },
      "execution_count": 99,
      "outputs": [
        {
          "output_type": "execute_result",
          "data": {
            "text/plain": [
              "37"
            ]
          },
          "metadata": {},
          "execution_count": 99
        },
        {
          "output_type": "stream",
          "name": "stdout",
          "text": [
            "time: 2.39 ms (started: 2025-09-30 15:53:35 +00:00)\n"
          ]
        }
      ]
    },
    {
      "cell_type": "markdown",
      "source": [
        "# **Exploratory Data Analysis**"
      ],
      "metadata": {
        "id": "fsPrZ6BIBq3M"
      }
    },
    {
      "cell_type": "markdown",
      "source": [
        "## **Distribution of Target Label**"
      ],
      "metadata": {
        "id": "jMQ8NPwgFJoC"
      }
    },
    {
      "cell_type": "code",
      "source": [
        "#\n",
        "# Visualise the distribution of the target label\n",
        "#\n",
        "plt.figure(figsize = (7, 5))\n",
        "\n",
        "ax = sns.countplot(\n",
        "                    x       = 'label',\n",
        "                    data    = df,\n",
        "                    palette = ['blue', 'red']\n",
        "                    # palette = ['#1f77b4', '#ff7f0e']\n",
        "                  )\n",
        "\n",
        "#\n",
        "# Add counts above the bars\n",
        "#\n",
        "for p in ax.patches:\n",
        "  ax.annotate(\n",
        "               f'{p.get_height()}',\n",
        "               (p.get_x() + p.get_width() / 2., p.get_height()),\n",
        "               ha         = 'center',\n",
        "               va         = 'center',\n",
        "               xytext     = (0, 7.5),\n",
        "               textcoords = 'offset points'\n",
        "             )\n",
        "\n",
        "plt.title('Distribution of Tweet Labels (0 = Non-Toxic, 1 = Toxic)', fontsize = 18)\n",
        "plt.xlabel('Label', fontsize = 12)\n",
        "plt.ylabel('Count', fontsize = 12)\n",
        "plt.xticks([0, 1], ['Non-Toxic (0)', 'Toxic (1)'])\n",
        "\n",
        "plt.show()"
      ],
      "metadata": {
        "colab": {
          "base_uri": "https://localhost:8080/",
          "height": 513
        },
        "id": "JWvhSqRkCAOX",
        "outputId": "52a6a906-3f2a-4cf9-91ea-eb2883cf7f00"
      },
      "execution_count": 100,
      "outputs": [
        {
          "output_type": "display_data",
          "data": {
            "text/plain": [
              "<Figure size 700x500 with 1 Axes>"
            ],
            "image/png": "[encoded data removed]"
          },
          "metadata": {}
        },
        {
          "output_type": "stream",
          "name": "stdout",
          "text": [
            "time: 214 ms (started: 2025-09-30 15:53:35 +00:00)\n"
          ]
        }
      ]
    },
    {
      "cell_type": "markdown",
      "source": [
        "## **Observation**\n",
        "1. **Severe Class Imbalance**  \n",
        "The most critical finding is the severe class imbalance between the two labels:\n",
        "\n",
        "    * **Non-Toxic (Label 0):** Dominates the dataset with a count of **29,720**.\n",
        "    * **Toxic (Label 1):** Is the minority class, representing only **2,242** tweets.\n",
        "\n",
        "2. **Quantitative Disparity**  \n",
        "The Non-Toxic class is approximately **13 times larger** than the Toxic class (≈29,720/2,242).\n",
        "\n",
        "3. **Implications for Model Training**\n",
        "This imbalance presents a major challenge for classification:\n",
        "\n",
        "    * **Model Bias:** A machine learning model trained on this data will be heavily biased towards the Non-Toxic class. It will likely achieve a very high overall accuracy simply by predicting \"Non-Toxic\" for almost every tweet.\n",
        "\n",
        "    * **Poor Generalization:** The model will struggle to correctly identify the minority class (Toxic tweets). Metrics like Precision, Recall, and F1-Score for the Toxic class will likely be very low, meaning the model is functionally poor at its main task (finding toxicity).\n",
        "\n",
        "\n",
        "---\n",
        "\n",
        "\n",
        "**Recommendation**  \n",
        "Before training a final model, it is highly recommended to address this imbalance using techniques such as:\n",
        "\n",
        "* **Oversampling:** Increasing the number of samples in the minority class (e.g., using SMOTE).\n",
        "\n",
        "* **Undersampling:** Decreasing the number of samples in the majority class (must be used carefully to avoid losing crucial data).\n",
        "\n",
        "* **Class Weighting:** Adjusting the loss function during training (e.g., in a Neural Network or certain Scikit-learn models) to penalize mis-classifications of the minority class more heavily."
      ],
      "metadata": {
        "id": "gmtdmqdEFXhp"
      }
    },
    {
      "cell_type": "markdown",
      "source": [
        "## **Tweet length Distribution**\n",
        "**Visualizes the word count distribution for both classes**"
      ],
      "metadata": {
        "id": "z7alk3XmGk4h"
      }
    },
    {
      "cell_type": "code",
      "source": [
        "#\n",
        "# Visualizes the word count distribution for both classes\n",
        "#\n",
        "plt.figure(figsize = (10, 6))\n",
        "\n",
        "sns.histplot(\n",
        "              data    = df,\n",
        "              x       ='word_count',\n",
        "              hue     = 'label',\n",
        "              kde     = True,\n",
        "              palette = ['blue', 'red']\n",
        "              # palette = ['#1f77b4', '#ff7f0e'],\n",
        "              # bins    = 30\n",
        "            )\n",
        "\n",
        "plt.title('Tweet Length Distribution by Class (0 = Non-Toxic, 1 = Toxic)', fontsize = 18)\n",
        "plt.xlabel('Number of Words (Word Count)', fontsize = 12)\n",
        "plt.ylabel('Frequency', fontsize = 12)\n",
        "plt.legend(title = 'Label', labels = ['Toxic (1)', 'Non-Toxic (0)'])\n",
        "# plt.legend(title = 'Label', labels = ['Non-Toxic (0)', 'Toxic (1)'])\n",
        "\n",
        "plt.show()"
      ],
      "metadata": {
        "colab": {
          "base_uri": "https://localhost:8080/",
          "height": 590
        },
        "id": "QLspl786H-nt",
        "outputId": "ffda1326-66a0-45b0-a4ac-dd3b1da9e807"
      },
      "execution_count": 101,
      "outputs": [
        {
          "output_type": "display_data",
          "data": {
            "text/plain": [
              "<Figure size 1000x600 with 1 Axes>"
            ],
            "image/png": "[encoded data removed]"
          },
          "metadata": {}
        },
        {
          "output_type": "stream",
          "name": "stdout",
          "text": [
            "time: 840 ms (started: 2025-09-30 15:53:35 +00:00)\n"
          ]
        }
      ]
    },
    {
      "cell_type": "markdown",
      "source": [
        "## **Observation**\n",
        "The chart shows the distribution of tweet lengths (word counts) for **Toxic (red)** vs **Non-Toxic (blue)** tweets.\n",
        "\n",
        "---\n",
        "\n",
        "## **Key Points**\n",
        "\n",
        "1. **Non-Toxic Tweets Dominate**  \n",
        "   - The **blue curve (non-toxic)** is much higher across all word counts.  \n",
        "   - Confirms a **class imbalance**: many more non-toxic tweets compared to toxic ones.  \n",
        "\n",
        "2. **Typical Tweet Lengths**  \n",
        "   - Both toxic and non-toxic tweets are generally **short (5-12 words)**.  \n",
        "   - **Non-toxic tweets** peak around **8-10 words** (above 3000 frequency).  \n",
        "   - **Toxic tweets** (red) also peak around 7-10 words but remain much fewer (well below 500).  \n",
        "\n",
        "3. **Long Tweets Are Rare**  \n",
        "   - Very few tweets exceed **15 words**, especially in the toxic class.  \n",
        "   - Distribution tails off sharply after ~15 words for both classes.  \n",
        "\n",
        "4. **Class Separation**  \n",
        "   - The **shapes of the two distributions are similar** (short tweets are common in both classes).  \n",
        "   - The **main difference is volume** — far more non-toxic tweets exist in the dataset.  \n",
        "\n",
        "---\n",
        "\n",
        "## **Summary**\n",
        "- Tweets are mostly short (under 12 words).  \n",
        "- The dataset is **heavily imbalanced toward non-toxic tweets**.  \n",
        "- Toxic and non-toxic tweets share similar length patterns.  \n",
        "- **Tweet length alone is not a strong feature** for predicting toxicity.  "
      ],
      "metadata": {
        "id": "CEgucWprJYqX"
      }
    },
    {
      "cell_type": "markdown",
      "source": [
        "## **Top Word Frequency Analysis**\n",
        "**Visualizes the top n most frequent words in the Toxic and Non-Toxic classes after cleaning.  \n",
        "This helps identify the key features (words) driving each class, which is crucial for interpreting the model's performance and choosing vectorization parameters**"
      ],
      "metadata": {
        "id": "-z_m9VwrQ-aI"
      }
    },
    {
      "cell_type": "code",
      "source": [
        "#\n",
        "# Define Top N\n",
        "#\n",
        "TOP_N = 15"
      ],
      "metadata": {
        "colab": {
          "base_uri": "https://localhost:8080/"
        },
        "id": "kEG4bZ5dvK_E",
        "outputId": "94b5f5f7-39e7-474b-c8e0-25d62e1c216e"
      },
      "execution_count": 102,
      "outputs": [
        {
          "output_type": "stream",
          "name": "stdout",
          "text": [
            "time: 572 µs (started: 2025-09-30 15:53:36 +00:00)\n"
          ]
        }
      ]
    },
    {
      "cell_type": "code",
      "source": [
        "#\n",
        "# Helper function to get top N words\n",
        "#\n",
        "def get_top_n_words(corpus, topN = None):\n",
        "  #\n",
        "  # Flattens a list of *cleaned* tweets into a list of words and returns the top N most common words.\n",
        "  #\n",
        "  # Parameters:\n",
        "  #   corpus (list)     : List of cleaned tweet strings for a specific class\n",
        "  #   n (int, optional) : The number of top words to return.\n",
        "  #                       Defaults to 15 by the calling function\n",
        "  #\n",
        "  # Returns:\n",
        "  #   pd.DataFrame: DataFrame containing 'Word' and 'Count'.\n",
        "  #\n",
        "  words = []\n",
        "\n",
        "  #\n",
        "  # Since the corpus is the 'cleaned_tweet' column, we just split and count\n",
        "  #\n",
        "  for tweet in corpus:\n",
        "    words.extend(tweet.split())\n",
        "\n",
        "  topWords = Counter(words).most_common(topN)\n",
        "\n",
        "  topWordsDF = pd.DataFrame(topWords, columns = ['Word', 'Count'])\n",
        "  return topWordsDF"
      ],
      "metadata": {
        "colab": {
          "base_uri": "https://localhost:8080/"
        },
        "id": "BS4QQvIJojK9",
        "outputId": "b8efa7aa-3f44-446a-8e2f-f0a244a93111"
      },
      "execution_count": 103,
      "outputs": [
        {
          "output_type": "stream",
          "name": "stdout",
          "text": [
            "time: 1.36 ms (started: 2025-09-30 15:53:36 +00:00)\n"
          ]
        }
      ]
    },
    {
      "cell_type": "code",
      "source": [
        "#\n",
        "# Plots the top N most common words for Toxic (1) and Non-Toxic (0) tweets\n",
        "#\n",
        "\n",
        "#\n",
        "# Separate the corpus by label using the *cleaned* column\n",
        "#\n",
        "corpusNonToxic = df[df['label'] == 0]['cleaned_tweet'].tolist()\n",
        "corpusToxic    = df[df['label'] == 1]['cleaned_tweet'].tolist()\n",
        "\n",
        "#\n",
        "# Get top N words for each class\n",
        "#\n",
        "topNonToxicWords = get_top_n_words(corpusNonToxic, TOP_N)\n",
        "topToxicWords    = get_top_n_words(corpusToxic,    TOP_N)\n",
        "\n",
        "#\n",
        "# Create the plots\n",
        "#\n",
        "fig, axes = plt.subplots(1, 2, figsize=(16, 8))\n",
        "fig.suptitle(f'Top {TOP_N} Most Frequent Words by Class (After Pre-Processing)', fontsize = 18)\n",
        "\n",
        "#\n",
        "# Plot Non-Toxic (Label 0)\n",
        "#\n",
        "sns.barplot(\n",
        "             ax    = axes[0],\n",
        "             x     = 'Count',\n",
        "             y     = 'Word',\n",
        "             data  = topNonToxicWords,\n",
        "             color = 'blue'\n",
        "           )\n",
        "axes[0].set_title('Non-Toxic Tweets (Label 0)', fontsize = 14)\n",
        "axes[0].set_xlabel('Frequency Count', fontsize = 12)\n",
        "axes[0].set_ylabel('Word', fontsize = 12)\n",
        "\n",
        "#\n",
        "# Plot Toxic (Label 1)\n",
        "#\n",
        "sns.barplot(\n",
        "             ax    = axes[1],\n",
        "             x     = 'Count',\n",
        "             y     = 'Word',\n",
        "             data  = topToxicWords,\n",
        "             color = 'red'\n",
        "           )\n",
        "axes[1].set_title('Toxic Tweets (Label 1)', fontsize = 14)\n",
        "axes[1].set_xlabel('Frequency Count', fontsize = 12)\n",
        "axes[1].set_ylabel('Word', fontsize = 12)\n",
        "\n",
        "plt.tight_layout(rect = [0, 0.03, 1, 0.95])\n",
        "plt.show()"
      ],
      "metadata": {
        "colab": {
          "base_uri": "https://localhost:8080/",
          "height": 581
        },
        "id": "54vjlxfZrNEl",
        "outputId": "e5f7a4e1-cb5d-4a33-ab52-4cad1161635e"
      },
      "execution_count": 104,
      "outputs": [
        {
          "output_type": "display_data",
          "data": {
            "text/plain": [
              "<Figure size 1600x800 with 2 Axes>"
            ],
            "image/png": "[encoded data removed]"
          },
          "metadata": {}
        },
        {
          "output_type": "stream",
          "name": "stdout",
          "text": [
            "time: 950 ms (started: 2025-09-30 15:53:36 +00:00)\n"
          ]
        }
      ]
    },
    {
      "cell_type": "markdown",
      "source": [
        "## **Observation**\n",
        "This dual visualization allows for immediate qualitative comparison:\n",
        "\n",
        "* **Non-Toxic Keywords:** These words are generally positive, neutral, or related to generic daily activities, such as 'love', 'day', 'good', and various common hashtags.\n",
        "* **Toxic Keywords:** These are the critical features. This word cloud will show slurs, derogatory terms, and highly negative words specific to the hate speech in the dataset. These words will be the most powerful features for the eventual classifier model.\n",
        "\n",
        "Note the significant difference in **Count** magnitude between the two plots due to the severe class imbalance observed earlier."
      ],
      "metadata": {
        "id": "nwOe9Cz7xvxF"
      }
    },
    {
      "cell_type": "markdown",
      "source": [
        "# **Feature Engineering**"
      ],
      "metadata": {
        "id": "HJSN8mG3x6Cp"
      }
    },
    {
      "cell_type": "markdown",
      "source": [
        "## **Data Splitting**"
      ],
      "metadata": {
        "id": "ZwQU87pAwDX1"
      }
    },
    {
      "cell_type": "markdown",
      "source": [
        "Splitting the data into features (X) and target (y), then further into training (80%) and testing (20%) sets.\n",
        "We use `stratify=y` to ensure both the train and test sets have the same proportion of toxic/non-toxic tweets, which is vital due to the severe class imbalance"
      ],
      "metadata": {
        "id": "Yjunu9l5wLWo"
      }
    },
    {
      "cell_type": "code",
      "source": [
        "#\n",
        "# Define Features (X) and Target (y)\n",
        "#\n",
        "X = df['cleaned_tweet'] # Features : The cleaned text\n",
        "y = df['label']         # Target   : The toxicity label (0 or 1)"
      ],
      "metadata": {
        "colab": {
          "base_uri": "https://localhost:8080/"
        },
        "id": "ZurXJl0r_h8l",
        "outputId": "fa1e509f-e6e0-4816-a317-e781010afd88"
      },
      "execution_count": 105,
      "outputs": [
        {
          "output_type": "stream",
          "name": "stdout",
          "text": [
            "time: 860 µs (started: 2025-09-30 15:53:37 +00:00)\n"
          ]
        }
      ]
    },
    {
      "cell_type": "code",
      "source": [
        "#\n",
        "# Split data into training and testing sets\n",
        "# Test size    = 20%\n",
        "# random_state = 42  - For reproducibility\n",
        "# stratify     = y   - Crucial for imbalanced data.\n",
        "#                      Ensures balanced distribution of the minority class\n",
        "#                      in both sets\n",
        "#\n",
        "X_train, X_test, y_train, y_test = train_test_split(\n",
        "                                                     X,\n",
        "                                                     y,\n",
        "                                                     random_state = 42,\n",
        "                                                     stratify     = y   # It's not a flag\n",
        "                                                   )\n",
        "\n",
        "print(f\"Total samples : {len(X)}\")\n",
        "print(\"==========================\")\n",
        "print(f\"X_train size : {len(X_train)} (80%)\")\n",
        "print(f\"X_test size  : {len(X_test)}  (20%)\")"
      ],
      "metadata": {
        "colab": {
          "base_uri": "https://localhost:8080/"
        },
        "id": "ba15rlkSxLKS",
        "outputId": "b692b607-02bb-4334-ad8b-96c57a24e295"
      },
      "execution_count": 106,
      "outputs": [
        {
          "output_type": "stream",
          "name": "stdout",
          "text": [
            "Total samples : 31962\n",
            "==========================\n",
            "X_train size : 23971 (80%)\n",
            "X_test size  : 7991  (20%)\n",
            "time: 40.3 ms (started: 2025-09-30 15:53:37 +00:00)\n"
          ]
        }
      ]
    },
    {
      "cell_type": "markdown",
      "source": [
        "## **Vectorization (Bag-of-Words)**\n",
        "We use the CountVectorizer to convert text into a matrix of token (word) counts. This creates the **vocabulary** based only on the training data.\n",
        "\n",
        "A key parameter is `max_features`: by setting this, we limit the vocabulary size to the most common words, which helps manage computational complexity and reduces noise from extremely rare words.\n"
      ],
      "metadata": {
        "id": "WiuHHf4r2-lc"
      }
    },
    {
      "cell_type": "code",
      "source": [
        "#\n",
        "# Initialise max_features parameter value\n",
        "#\n",
        "MAX_FEATURES = 10000"
      ],
      "metadata": {
        "colab": {
          "base_uri": "https://localhost:8080/"
        },
        "id": "go1cSZgR8cMr",
        "outputId": "9831e48f-bf32-4992-cdc1-69d740521245"
      },
      "execution_count": 107,
      "outputs": [
        {
          "output_type": "stream",
          "name": "stdout",
          "text": [
            "time: 509 µs (started: 2025-09-30 15:53:37 +00:00)\n"
          ]
        }
      ]
    },
    {
      "cell_type": "code",
      "source": [
        "#\n",
        "# Active Vectorizer: CountVectorizer (Bag-of-Words)\n",
        "#\n",
        "\n",
        "#\n",
        "# Initialize the Count Vectorizer\n",
        "#\n",
        "vectorizer = CountVectorizer(max_features = MAX_FEATURES)\n",
        "\n",
        "#\n",
        "# Fit and transform the training data using Count Vectorizer\n",
        "#\n",
        "X_train_bow = vectorizer.fit_transform(X_train)\n",
        "\n",
        "#\n",
        "# Transform the testing data using Count Vectorizer\n",
        "#\n",
        "X_test_bow  = vectorizer.transform(X_test)\n",
        "\n",
        "# print(X_train_bow.toarray())\n",
        "# print(X_test_bow.toarray())"
      ],
      "metadata": {
        "colab": {
          "base_uri": "https://localhost:8080/"
        },
        "id": "bWEVUtST241W",
        "outputId": "48f4bb3f-b858-40e4-b8d5-ea455a61fc50"
      },
      "execution_count": 108,
      "outputs": [
        {
          "output_type": "stream",
          "name": "stdout",
          "text": [
            "time: 619 ms (started: 2025-09-30 15:53:37 +00:00)\n"
          ]
        }
      ]
    },
    {
      "cell_type": "code",
      "source": [
        "# #\n",
        "# # Alternative Vectorizer: TfidfVectorizer (Commented Out for Testing)\n",
        "# #\n",
        "\n",
        "# #\n",
        "# # Initialize the Tfidf Vectorizer\n",
        "# #\n",
        "# tfidf_vectorizer = TfidfVectorizer(max_features = MAX_FEATURES)\n",
        "\n",
        "# #\n",
        "# # Fit and Transform the training data using TF-IDF\n",
        "# #\n",
        "# X_train_tfidf = tfidf_vectorizer.fit_transform(X_train)\n",
        "\n",
        "# #\n",
        "# # Transform the testing data using TF-IDF\n",
        "# #\n",
        "# X_test_tfidf = tfidf_vectorizer.transform(X_test)\n",
        "\n",
        "# # print(X_train_tfidf.toarray())\n",
        "# # print(X_test_tfidf.toarray())"
      ],
      "metadata": {
        "colab": {
          "base_uri": "https://localhost:8080/"
        },
        "id": "k475t7gQ8FsZ",
        "outputId": "120424d8-0701-4acb-f02f-d18cdd0eda24"
      },
      "execution_count": 109,
      "outputs": [
        {
          "output_type": "stream",
          "name": "stdout",
          "text": [
            "time: 639 µs (started: 2025-09-30 15:53:38 +00:00)\n"
          ]
        }
      ]
    },
    {
      "cell_type": "code",
      "source": [
        "#\n",
        "# IMPORTANT: Use the final vectorized features for the models\n",
        "# Currently using CountVectorizer features (BoW)\n",
        "#\n",
        "X_train_final = X_train_bow\n",
        "X_test_final  = X_test_bow"
      ],
      "metadata": {
        "colab": {
          "base_uri": "https://localhost:8080/"
        },
        "id": "UwKQTEG59j1N",
        "outputId": "a6436d32-2820-4aac-8aca-1ae7b85faebc"
      },
      "execution_count": 110,
      "outputs": [
        {
          "output_type": "stream",
          "name": "stdout",
          "text": [
            "time: 1.35 ms (started: 2025-09-30 15:53:38 +00:00)\n"
          ]
        }
      ]
    },
    {
      "cell_type": "code",
      "source": [
        "# #\n",
        "# # TO SWITCH TO TF-IDF, UNCOMMENT THE FOLLOWING LINES AND COMMENT THE ABOVE BLOCK\n",
        "# #\n",
        "# X_train_final = X_train_tfidf\n",
        "# X_test_final  = X_test_tfidf"
      ],
      "metadata": {
        "colab": {
          "base_uri": "https://localhost:8080/"
        },
        "id": "y1ccTvn5BNmf",
        "outputId": "f22cecea-c962-49cd-fe76-d7a3344bf4c7"
      },
      "execution_count": 111,
      "outputs": [
        {
          "output_type": "stream",
          "name": "stdout",
          "text": [
            "time: 421 µs (started: 2025-09-30 15:53:38 +00:00)\n"
          ]
        }
      ]
    },
    {
      "cell_type": "code",
      "source": [
        "#\n",
        "# Convert sparse matrices to arrays for easier model consumption\n",
        "# if needed (for GaussianNB)\n",
        "#\n",
        "X_train_array = X_train_final.toarray()\n",
        "X_test_array  = X_test_final.toarray()\n",
        "\n",
        "#\n",
        "# Display the resulting shapes\n",
        "#\n",
        "print(\"Vectorization Results (Bag-of-Words)\")\n",
        "print(\"====================================\")\n",
        "print(f\"X_train_bow shape (rows, features) : {X_train_final.shape}\")\n",
        "print(f\"X_test_bow shape  (rows, features) : {X_test_final.shape}\")\n",
        "print(f\"Vocabulary size   (max_features)   : {len(vectorizer.get_feature_names_out())}\")"
      ],
      "metadata": {
        "colab": {
          "base_uri": "https://localhost:8080/"
        },
        "id": "97cdDy0hCmFe",
        "outputId": "fab1f933-9384-4a0f-a2d8-07354651de0d"
      },
      "execution_count": 112,
      "outputs": [
        {
          "output_type": "stream",
          "name": "stdout",
          "text": [
            "Vectorization Results (Bag-of-Words)\n",
            "====================================\n",
            "X_train_bow shape (rows, features) : (23971, 10000)\n",
            "X_test_bow shape  (rows, features) : (7991, 10000)\n",
            "Vocabulary size   (max_features)   : 10000\n",
            "time: 1.83 s (started: 2025-09-30 15:53:38 +00:00)\n"
          ]
        }
      ]
    },
    {
      "cell_type": "markdown",
      "source": [
        "# **Models Building**"
      ],
      "metadata": {
        "id": "0hpm3SOkeQ5N"
      }
    },
    {
      "cell_type": "markdown",
      "source": [
        "## **Model Training and Evaluation**\n",
        "Now that the data is split and vectorized, we are ready to train and **compare the performance of multiple classification models**\n"
      ],
      "metadata": {
        "id": "29EFAvTZDOvo"
      }
    },
    {
      "cell_type": "markdown",
      "source": [
        "**The reason we initially focused on the F1-Score for Label 1 (Toxic) is due to the severe Class Imbalance in the dataset**\n",
        "\n",
        "Here's a breakdown of why that specific metric is prioritized and the updated code showing all the key metrics in the final summary.**\n",
        "\n",
        "\n",
        "---\n",
        "\n",
        "\n",
        "**Why F1-Score for Label 1 is Critical**  \n",
        "In our dataset, there are roughly **13× more Non-Toxic (Label 0) tweets than Toxic (Label 1) tweets**.  \n",
        "This class imbalance makes traditional metrics like Accuracy misleading.\n",
        "\n",
        "---\n",
        "\n",
        "**The Problem with Accuracy**  \n",
        "- If a model simply predicted **\"Non-Toxic\" for every tweet**, it would still achieve:  \n",
        "  - **Accuracy ≈ 93%** (≈29,720 / 31,962).  \n",
        "- Despite the high score, this model would be **completely useless** because it would **miss every single toxic tweet**.\n",
        "\n",
        "---\n",
        "\n",
        "**The Role of F1-Score**  \n",
        "- The **F1-Score** is the harmonic mean of **Precision** and **Recall**.  \n",
        "- By focusing on **F1-Score for Label 1 (Toxic)**, we force the model to:\n",
        "  - Perform well on the **difficult minority class**  \n",
        "  - Avoid over-prioritizing one aspect (e.g., high Recall but poor Precision, or vice versa).  \n",
        "\n",
        "---\n",
        "\n",
        "**Metric Focus for Toxicity Detection**  \n",
        "\n",
        "| Metric (Label 1)  | What It Means | Why It Matters |\n",
        "|-------------------|---------------|----------------|\n",
        "| **Precision**     | Of all tweets predicted as **Toxic**, how many were actually Toxic? | Avoids **False Alarms** |\n",
        "| **Recall**        | Of all tweets that were actually **Toxic**, how many did the model catch? | Avoids **Missed Toxicity** |\n",
        "| **F1-Score**      | Harmonic mean of Precision and Recall | Balances the two → the **true measure of success** |\n",
        "\n",
        "---\n",
        "\n",
        "**Updated Code: Comprehensive Metric Summary**\n",
        "- Added calculation of **Accuracy, Precision (Toxic), Recall (Toxic), and F1-Score (Toxic)** for each model.  \n",
        "- Final results are shown in a **comprehensive summary table**, not just accuracy.  \n",
        "- This provides a **much clearer picture** of how each model performs against the **most challenging part of the task**: detecting Toxic tweets."
      ],
      "metadata": {
        "id": "L7ZcE5bMRnQG"
      }
    },
    {
      "cell_type": "markdown",
      "source": [
        "\n",
        "\n",
        "---\n",
        "\n",
        "\n",
        "<font size=\"+2\">**Why Metrics for Label 0 (Non-Toxic) Are Less Important**<font>\n",
        "\n",
        "In **Toxicity Detection**, Label 0 = Non-Toxic (majority class, negative class).  \n",
        "Here’s why its metrics don’t require the same level of focus:\n",
        "\n",
        "---\n",
        "\n",
        "**The Metrics Are Inherently High**\n",
        "\n",
        "- **Recall (Non-Toxic):**  \n",
        "  - *“Out of all truly Non-Toxic tweets, how many did the model correctly label as Non-Toxic?”*  \n",
        "  - Since the dataset is **93% Non-Toxic**, recall for Label 0 will almost always be close to **1.0**.  \n",
        "  - Provides little insight into model performance on the challenging class.  \n",
        "\n",
        "- **Precision (Non-Toxic):**  \n",
        "  - *“Out of all tweets the model predicted as Non-Toxic, how many were actually Non-Toxic?”*  \n",
        "  - Because Toxic tweets are rare, most Non-Toxic predictions will be correct → artificially high precision.  \n",
        "  - Again, not very informative.  \n",
        "\n",
        "---\n",
        "\n",
        "**The Cost of Error is Asymmetrical**\n",
        "\n",
        "| Error Type        | Meaning                                      | Impact |\n",
        "|-------------------|----------------------------------------------|--------|\n",
        "| **False Negative (FN)** | Model misses a Toxic tweet (Predicts 0, Actual 1) | ❌ **High Cost**: Harmful content remains on the platform (must be avoided). |\n",
        "| **False Positive (FP)** | Model flags a Non-Toxic tweet (Predicts 1, Actual 0) | ⚠️ Lower Cost: A harmless tweet is flagged for review. Annoying, but not dangerous. |\n",
        "\n",
        "---\n",
        "\n",
        "**Summary**\n",
        "\n",
        "We focus on **Label 1 (Toxic)** metrics because:\n",
        "\n",
        "- Label 0 metrics are **inflated** by class size and are misleading.  \n",
        "- The **highest cost of failure** is missing toxic tweets (False Negatives).  \n",
        "- Success must be measured by **Recall (1)** and **F1-Score (1)**, not by how well the model handles the abundant easy class."
      ],
      "metadata": {
        "id": "2awZ9uGfYv1Q"
      }
    },
    {
      "cell_type": "code",
      "source": [
        "#\n",
        "# The Role of solver in Logistic Regression\n",
        "# In sklearn, the solver parameter specifies the algorithm used to find the\n",
        "# optimal coefficients (weights) that minimize the cost function of the\n",
        "# Logistic Regression model\n",
        "#\n",
        "# Logistic Regression is an optimization problem, and the \"solver\" is the\n",
        "# method used to perform that optimization.\n",
        "# Different solvers have different strengths, weaknesses, and requirements\n",
        "#\n",
        "# What is 'liblinear'?\n",
        "# The 'liblinear' solver is a popular choice for Logistic Regression because\n",
        "#\n",
        "# Good for Small to Medium Datasets\n",
        "#   It is efficient and works well for the size of our Twitter dataset\n",
        "#   (around 32,000 samples).\n",
        "#\n",
        "# Handles L1/L2 Regularization\n",
        "#   It natively supports both L1 and L2 penalty types, which are techniques\n",
        "#   used to prevent overfitting.\n",
        "#\n",
        "# Good for Binary Classification\n",
        "#   It is particularly optimized for binary classification problems, like our\n",
        "#   task of classifying tweets as either Toxic (1) or Non-Toxic (0).\n",
        "#\n",
        "# Handles Sparse Data\n",
        "#   Crucially for NLP, it is excellent at handling sparse matrices, which is\n",
        "#   exactly what we get from the CountVectorizer or TfidfVectorizer\n",
        "#   (a matrix where most values are zero).\n",
        "#\n",
        "# Is it Mandatory?\n",
        "# No, it is not mandatory to set the solver. If you omit it, Scikit-learn uses\n",
        "# a default solver, which changes depending on the version and the complexity\n",
        "# of the problem.\n",
        "#\n",
        "# Why we used it here:\n",
        "# We specified solver = 'liblinear' for two primary reasons:\n",
        "#\n",
        "# To Silence Warnings\n",
        "#   If you don't specify a solver, sklearn often throws a UserWarning suggesting\n",
        "#   you explicitly select one, especially if the default choice isn't optimal\n",
        "#   for the current regularization setting or dataset size.\n",
        "#   Specifying it prevents this warning and ensures stable behavior.\n",
        "#\n",
        "# Compatibility with Sparse Matrices\n",
        "#   While newer solvers like lbfgs or sag are often faster for larger,\n",
        "#   dense datasets, 'liblinear' is reliably robust and efficient when dealing\n",
        "#   with the high-dimensional, sparse feature matrices generated by our\n",
        "#   text vectorizers.\n",
        "#\n",
        "# If we had a much larger dataset (millions of samples) or were dealing with\n",
        "# multi-class classification, we might swap to a different solver like saga or lbfgs\n",
        "# But for our purposes, 'liblinear' is the optimal and safest choice.\n",
        "#\n",
        "\n",
        "#\n",
        "# Store models and their performance metrics\n",
        "#\n",
        "dictModels = {\n",
        "               \"Logistic Regression\"     : LogisticRegression(random_state = 42, solver = 'liblinear'),\n",
        "               \"Multinomial Naive Bayes\" : MultinomialNB(),\n",
        "               # Note: GaussianNB requires dense input (array), not sparse matrix.\n",
        "               \"Gaussian Naive Bayes\"    : GaussianNB()\n",
        "             }\n",
        "\n",
        "#\n",
        "# Initialize dictionary to store the results of F1 score\n",
        "#\n",
        "# modelResultsDict = {}\n",
        "\n",
        "#\n",
        "# Change results storage to hold a dictionary of all metrics\n",
        "#\n",
        "modelResultsList = []\n",
        "\n",
        "# print(\"Model Training & Evaluation (F1-Score for Toxic Class)\")\n",
        "# print(\"======================================================\")\n",
        "\n",
        "print(\"Model Training & Evaluation\")\n",
        "print(\"===========================\")\n",
        "\n",
        "for modelName, model in dictModels.items():\n",
        "  print(f\"\\nTraining {modelName}...\")\n",
        "  print(\"-----------------------------------\")\n",
        "  print(\"\")\n",
        "\n",
        "  #\n",
        "  # Handle the input data type difference between\n",
        "  # MNB/LR (sparse) and GNB (dense array)\n",
        "  #\n",
        "  if modelName == \"Gaussian Naive Bayes\":\n",
        "    model.fit(X_train_array, y_train)\n",
        "    y_pred = model.predict(X_test_array)\n",
        "  else:\n",
        "    model.fit(X_train_final, y_train)\n",
        "    y_pred = model.predict(X_test_final)\n",
        "\n",
        "  #\n",
        "  # Calculate the F1-Score for the minority class (Label 1: Toxic)\n",
        "  # This is the primary evaluation metric for this imbalanced problem\n",
        "  #\n",
        "  # toxicF1Score = f1_score(y_test, y_pred, pos_label = 1)\n",
        "  # modelResultsDict[modelName] = toxicF1Score\n",
        "\n",
        "  #\n",
        "  # Calculate the comprehensive metrics\n",
        "  #\n",
        "  accuracyScore = accuracy_score(y_test, y_pred)\n",
        "\n",
        "  #\n",
        "  # Use 'pos_label=1' to explicitly calculate metrics for the minority (Toxic) class\n",
        "  #\n",
        "  toxicF1Score   = f1_score(y_test, y_pred, pos_label = 1)\n",
        "  toxicPrecision = precision_score(y_test, y_pred, pos_label = 1)\n",
        "  toxicRecall    = recall_score(y_test, y_pred, pos_label = 1)\n",
        "\n",
        "  modelResultsList.append(\n",
        "                           {\n",
        "                             'Model'             : modelName,\n",
        "                             'Accuracy'          : accuracyScore,\n",
        "                             'F1-Score (Toxic)'  : toxicF1Score,\n",
        "                             'Precision (Toxic)' : toxicPrecision,\n",
        "                             'Recall (Toxic)'    : toxicRecall\n",
        "                           }\n",
        "                         )\n",
        "\n",
        "  print(f\"-> F1-Score (Toxic, Label 1): {toxicF1Score:.4f}\")\n",
        "\n",
        "  #\n",
        "  # Print the full classification report for detailed analysis\n",
        "  #\n",
        "  print(\"\")\n",
        "  print(\"Classification Report (Test Set)\")\n",
        "  print(\"--------------------------------\")\n",
        "  print(classification_report(y_test, y_pred))\n",
        "\n",
        "  #\n",
        "  # Print the Confusion Matrix\n",
        "  #\n",
        "  # confusionMatrix = confusion_matrix(y_test, y_pred)\n",
        "  # print(\"\")\n",
        "  # print(\"Confusion Matrix\")\n",
        "  # print(\"----------------\")\n",
        "  # print(confusionMatrix)\n",
        "\n",
        "  #\n",
        "  # Plot the Confusion Matrix\n",
        "  #\n",
        "  confusionMatrix = confusion_matrix(y_test, y_pred)\n",
        "\n",
        "  plt.figure(figsize = (6, 6))\n",
        "\n",
        "  sns.heatmap(\n",
        "               confusionMatrix,\n",
        "               annot      = True,\n",
        "               fmt        = 'd', # 'd' ensures integers, not scientific notation\n",
        "               linewidths = 0.5,\n",
        "               cmap       = 'coolwarm'\n",
        "             )\n",
        "\n",
        "  plt.title(modelName + ' Confusion Matrix')\n",
        "  plt.ylabel('Actual Label')\n",
        "  plt.xlabel('Predicted Label')\n",
        "\n",
        "  plt.show()"
      ],
      "metadata": {
        "colab": {
          "base_uri": "https://localhost:8080/",
          "height": 1000
        },
        "id": "ZP-pvnV1DbaZ",
        "outputId": "55d638db-0307-453d-edb9-a678436fdb96"
      },
      "execution_count": 113,
      "outputs": [
        {
          "output_type": "stream",
          "name": "stdout",
          "text": [
            "Model Training & Evaluation\n",
            "===========================\n",
            "\n",
            "Training Logistic Regression...\n",
            "-----------------------------------\n",
            "\n",
            "-> F1-Score (Toxic, Label 1): 0.6394\n",
            "\n",
            "Classification Report (Test Set)\n",
            "--------------------------------\n",
            "              precision    recall  f1-score   support\n",
            "\n",
            "           0       0.96      0.99      0.98      7430\n",
            "           1       0.84      0.52      0.64       561\n",
            "\n",
            "    accuracy                           0.96      7991\n",
            "   macro avg       0.90      0.75      0.81      7991\n",
            "weighted avg       0.96      0.96      0.95      7991\n",
            "\n"
          ]
        },
        {
          "output_type": "display_data",
          "data": {
            "text/plain": [
              "<Figure size 600x600 with 2 Axes>"
            ],
            "image/png": "[encoded data removed]"
          },
          "metadata": {}
        },
        {
          "output_type": "stream",
          "name": "stdout",
          "text": [
            "\n",
            "Training Multinomial Naive Bayes...\n",
            "-----------------------------------\n",
            "\n",
            "-> F1-Score (Toxic, Label 1): 0.6525\n",
            "\n",
            "Classification Report (Test Set)\n",
            "--------------------------------\n",
            "              precision    recall  f1-score   support\n",
            "\n",
            "           0       0.97      0.98      0.97      7430\n",
            "           1       0.68      0.63      0.65       561\n",
            "\n",
            "    accuracy                           0.95      7991\n",
            "   macro avg       0.82      0.80      0.81      7991\n",
            "weighted avg       0.95      0.95      0.95      7991\n",
            "\n"
          ]
        },
        {
          "output_type": "display_data",
          "data": {
            "text/plain": [
              "<Figure size 600x600 with 2 Axes>"
            ],
            "image/png": "[encoded data removed]"
          },
          "metadata": {}
        },
        {
          "output_type": "stream",
          "name": "stdout",
          "text": [
            "\n",
            "Training Gaussian Naive Bayes...\n",
            "-----------------------------------\n",
            "\n",
            "-> F1-Score (Toxic, Label 1): 0.3230\n",
            "\n",
            "Classification Report (Test Set)\n",
            "--------------------------------\n",
            "              precision    recall  f1-score   support\n",
            "\n",
            "           0       0.97      0.82      0.89      7430\n",
            "           1       0.22      0.65      0.32       561\n",
            "\n",
            "    accuracy                           0.81      7991\n",
            "   macro avg       0.59      0.73      0.61      7991\n",
            "weighted avg       0.92      0.81      0.85      7991\n",
            "\n"
          ]
        },
        {
          "output_type": "display_data",
          "data": {
            "text/plain": [
              "<Figure size 600x600 with 2 Axes>"
            ],
            "image/png": "[encoded data removed]"
          },
          "metadata": {}
        },
        {
          "output_type": "stream",
          "name": "stdout",
          "text": [
            "time: 9.1 s (started: 2025-09-30 15:53:40 +00:00)\n"
          ]
        }
      ]
    },
    {
      "cell_type": "code",
      "source": [
        "#\n",
        "# Print all of the metrics, order by highest F1-Score for Toxic Label\n",
        "#\n",
        "\n",
        "#\n",
        "# Manual sorting is still necessary for the best display\n",
        "#\n",
        "modelResultsListSorted = sorted(\n",
        "                                 modelResultsList,\n",
        "                                 key     = lambda x: x['F1-Score (Toxic)'],\n",
        "                                 reverse = True\n",
        "                               )\n",
        "\n",
        "#\n",
        "# Define the headers and column widths (manual estimation)\n",
        "#\n",
        "displayHeader    = \"{:<25} {:>10} {:>10} {:>10} {:>10}\"\n",
        "displayseparator = \"-\" * 69\n",
        "\n",
        "print(displayHeader.format('Model', 'Accuracy', 'F1-Score', 'Precision', 'Recall'))\n",
        "print(displayseparator)\n",
        "\n",
        "#\n",
        "# Iterate and print each row using the same format string\n",
        "#\n",
        "for modelResult in modelResultsListSorted:\n",
        "    print(\n",
        "           displayHeader.format(\n",
        "                                 modelResult['Model'],\n",
        "                                 f\"{modelResult['Accuracy']:.2f}\",\n",
        "                                 f\"{modelResult['F1-Score (Toxic)']:.2f}\",\n",
        "                                 f\"{modelResult['Precision (Toxic)']:.2f}\",\n",
        "                                 f\"{modelResult['Recall (Toxic)']:.2f}\"\n",
        "                                )\n",
        "         )\n",
        "\n",
        "print(displayseparator)"
      ],
      "metadata": {
        "colab": {
          "base_uri": "https://localhost:8080/"
        },
        "id": "s7TWxOXpdphF",
        "outputId": "8d098f87-21e8-487f-f9bc-a5fde1912cc4"
      },
      "execution_count": 114,
      "outputs": [
        {
          "output_type": "stream",
          "name": "stdout",
          "text": [
            "Model                       Accuracy   F1-Score  Precision     Recall\n",
            "---------------------------------------------------------------------\n",
            "Multinomial Naive Bayes         0.95       0.65       0.68       0.63\n",
            "Logistic Regression             0.96       0.64       0.84       0.52\n",
            "Gaussian Naive Bayes            0.81       0.32       0.22       0.65\n",
            "---------------------------------------------------------------------\n",
            "time: 5.51 ms (started: 2025-09-30 15:53:49 +00:00)\n"
          ]
        }
      ]
    },
    {
      "cell_type": "code",
      "source": [
        "#\n",
        "# Convert results list to a DataFrame for easy comparison\n",
        "#\n",
        "modelResultsDF = pd.DataFrame(modelResultsList)\n",
        "\n",
        "#\n",
        "# Sort by the most important metric: F1-Score for the Toxic class\n",
        "#\n",
        "modelResultsDF = modelResultsDF.sort_values(by = 'F1-Score (Toxic)', ascending = False)\n",
        "\n",
        "#\n",
        "# Display the comprehensive table\n",
        "#\n",
        "print(modelResultsDF.to_string(index = False)) # <-- This is the key line!"
      ],
      "metadata": {
        "colab": {
          "base_uri": "https://localhost:8080/"
        },
        "id": "OSNXSV9uew3s",
        "outputId": "7c50339f-435b-4988-d9bb-a874d3c630fe"
      },
      "execution_count": 115,
      "outputs": [
        {
          "output_type": "stream",
          "name": "stdout",
          "text": [
            "                  Model  Accuracy  F1-Score (Toxic)  Precision (Toxic)  Recall (Toxic)\n",
            "Multinomial Naive Bayes      0.95              0.65               0.68            0.63\n",
            "    Logistic Regression      0.96              0.64               0.84            0.52\n",
            "   Gaussian Naive Bayes      0.81              0.32               0.22            0.65\n",
            "time: 10.3 ms (started: 2025-09-30 15:53:49 +00:00)\n"
          ]
        }
      ]
    },
    {
      "cell_type": "markdown",
      "source": [
        "##**Observation**\n",
        "**Revised Analysis of Model Performance**\n",
        "\n",
        "---\n",
        "\n",
        "**1️⃣ Multinomial Naive Bayes (MNB)**\n",
        "\n",
        "| Metric     | Score | Observation |\n",
        "|------------|-------|-------------|\n",
        "| **F1-Score** | 0.652 | Best overall balanced performance. Highest F1-Score → best compromise between Precision and Recall. |\n",
        "| **Precision** | 0.678 | When it says **\"Toxic\"**, it’s right 67.8% of the time. |\n",
        "| **Recall**    | 0.629 | Catches 62.9% of all actual toxic tweets. |  \n",
        "\n",
        "**Conclusion**  \n",
        "✅ This is the **winning model for deployment** because its F1-Score shows it is the most reliable at identifying the minority class **without creating excessive false alarms**.\n",
        "\n",
        "---\n",
        "\n",
        "**2️⃣ Logistic Regression (LR)**\n",
        "\n",
        "| Metric     | Score | Observation |\n",
        "|------------|-------|-------------|\n",
        "| **F1-Score** | 0.639 | A close second to MNB. Pulled down by its lower Recall. |\n",
        "| **Precision** | 0.843 | Highest Precision. Highly accurate when it flags content, avoiding False Positives. |\n",
        "| **Recall**    | 0.515 | Lowest Recall. Misses almost half (48.5%) of true toxic tweets (False Negatives). |\n",
        "\n",
        "**Conclusion:**  \n",
        "⚠️ This model is **overly cautious**. If avoiding false accusations is the top priority, this model is useful. But it **sacrifices too much Recall**, missing many toxic tweets.\n",
        "\n",
        "---\n",
        "\n",
        "**3️⃣ Gaussian Naive Bayes (GNB)**\n",
        "\n",
        "| Metric     | Score | Observation |\n",
        "|------------|-------|-------------|\n",
        "| **F1-Score** | 0.323 | Worst performance. Extremely low F1 → ineffective for this task. |\n",
        "| **Recall**    | 0.647 | Highest Recall. Catches the most toxic tweets. |\n",
        "| **Precision** | 0.215 | Worst Precision. Only 1 in 5 “Toxic” predictions is correct. |\n",
        "\n",
        "**Conclusion:**  \n",
        "❌ This model is **far too aggressive**. It achieves high Recall by **flagging almost everything**, causing an explosion of False Positives. The F1-Score collapses due to poor Precision.\n",
        "\n",
        "---\n",
        "\n",
        "**The Path Forward**\n",
        "\n",
        "- **Best performer:** Multinomial Naive Bayes (F1 = 0.652)  \n",
        "- But this score shows there is still **room for improvement**.  \n",
        "\n",
        "Next steps to improve performance:\n",
        "- Enhance feature engineering (TF-IDF, n-grams)  \n",
        "- Apply class imbalance techniques (resampling, class weights)  \n",
        "- Explore advanced models (SVMs, ensemble methods, deep learning)  \n",
        "\n",
        "The key challenge is to help the model better learn the patterns of the **minority class (Toxic tweets)**."
      ],
      "metadata": {
        "id": "KSyjSDZufchn"
      }
    },
    {
      "cell_type": "markdown",
      "source": [
        "# **Final Summary and Best Model Selection**"
      ],
      "metadata": {
        "id": "glMQdDgfBXlz"
      }
    },
    {
      "cell_type": "code",
      "source": [
        "#\n",
        "# Convert results list to a DataFrame for easy comparison\n",
        "#\n",
        "modelResultsDF = pd.DataFrame(modelResultsList)\n",
        "\n",
        "#\n",
        "# Sort by the most important metric: F1-Score for the Toxic class\n",
        "#\n",
        "modelResultsDF = modelResultsDF.sort_values(by = 'F1-Score (Toxic)', ascending = False)\n",
        "\n",
        "print(\"=========================================================================================\")\n",
        "print(\"                           COMPREHENSIVE MODEL PERFORMANCE SUMMARY                       \")\n",
        "print(\"=========================================================================================\")\n",
        "\n",
        "#\n",
        "# Display the comprehensive table\n",
        "#\n",
        "print(modelResultsDF.to_string(index = False)) # <-- This is the key line!\n",
        "\n",
        "print(\"=========================================================================================\")"
      ],
      "metadata": {
        "colab": {
          "base_uri": "https://localhost:8080/"
        },
        "id": "bZxumHzFC4lP",
        "outputId": "c3939a61-0252-4efb-c1a9-075318ba800c"
      },
      "execution_count": 116,
      "outputs": [
        {
          "output_type": "stream",
          "name": "stdout",
          "text": [
            "=========================================================================================\n",
            "                           COMPREHENSIVE MODEL PERFORMANCE SUMMARY                       \n",
            "=========================================================================================\n",
            "                  Model  Accuracy  F1-Score (Toxic)  Precision (Toxic)  Recall (Toxic)\n",
            "Multinomial Naive Bayes      0.95              0.65               0.68            0.63\n",
            "    Logistic Regression      0.96              0.64               0.84            0.52\n",
            "   Gaussian Naive Bayes      0.81              0.32               0.22            0.65\n",
            "=========================================================================================\n",
            "time: 9.99 ms (started: 2025-09-30 15:53:49 +00:00)\n"
          ]
        }
      ]
    },
    {
      "cell_type": "code",
      "source": [
        "#\n",
        "# Identify the best performing model based on F1-Score (Toxic)\n",
        "#\n",
        "bestModelName = modelResultsDF['Model'].iloc[0]\n",
        "bestF1Score   = modelResultsDF['F1-Score (Toxic)'].iloc[0]\n",
        "\n",
        "print(f\"✅ The BEST MODEL is: {bestModelName} with an F1-Score of {bestF1Score:.4f} for the Toxic class.\")\n",
        "print(\"\")\n",
        "print(\"Interpretation\")\n",
        "print(\"--------------\")\n",
        "print(f\"The {bestModelName} model currently provides the best balance between Precision and Recall for identifying Toxic content.\")\n",
        "print(\"Notice how the 'Accuracy' metric is high for all models, highlighting why it's unreliable for this imbalanced dataset.\")\n"
      ],
      "metadata": {
        "colab": {
          "base_uri": "https://localhost:8080/"
        },
        "id": "pa9Io3WyDdxc",
        "outputId": "3fce17b8-3dab-4334-ce3b-802d73b987f7"
      },
      "execution_count": 117,
      "outputs": [
        {
          "output_type": "stream",
          "name": "stdout",
          "text": [
            "✅ The BEST MODEL is: Multinomial Naive Bayes with an F1-Score of 0.6525 for the Toxic class.\n",
            "\n",
            "Interpretation\n",
            "--------------\n",
            "The Multinomial Naive Bayes model currently provides the best balance between Precision and Recall for identifying Toxic content.\n",
            "Notice how the 'Accuracy' metric is high for all models, highlighting why it's unreliable for this imbalanced dataset.\n",
            "time: 4.26 ms (started: 2025-09-30 15:53:49 +00:00)\n"
          ]
        }
      ]
    },
    {
      "cell_type": "markdown",
      "source": [
        "# **Predict on New Input**"
      ],
      "metadata": {
        "id": "tqbz9DY6EsLM"
      }
    },
    {
      "cell_type": "code",
      "source": [
        "#\n",
        "# Select the best performing model (e.g., the one with the highest F1-Score on the test set)\n",
        "# Note: We rely on the 'best_model_name' determined in the previous step\n",
        "#\n",
        "bestModel = dictModels[bestModelName]\n",
        "\n",
        "#\n",
        "# Define example new tweets\n",
        "#\n",
        "newTweets = [\n",
        "              \"I had a truly fantastic day, everything went well!\",                    # Non-Toxic    (Expected 0)\n",
        "              \"You are a total idiot and should just shut up forever.\",                # Highly Toxic (Expected 1)\n",
        "              \"This is a great assignment, I learned so much about NLP.\",              # Non-Toxic    (Expected 0)\n",
        "              \"Why don't you go away and never come back, you useless waste of space.\" # Toxic        (Expected 1)\n",
        "            ]\n",
        "\n",
        "print(\"=\" * 90)\n",
        "print(f\"PREDICTION ON NEW INPUT USING {bestModelName}\".center(90))\n",
        "print(\"=\" * 90)\n",
        "\n",
        "#\n",
        "# Process and Predict each new tweet\n",
        "#\n",
        "for tweet in newTweets:\n",
        "  #\n",
        "  # Clean the new tweet using the same pre-processing function\n",
        "  #\n",
        "  cleanedTweet = cleanTweet(tweet)\n",
        "\n",
        "  #\n",
        "  # Vectorize the cleaned tweet using the *trained* vectorizer\n",
        "  #\n",
        "  # NOTE : Must be in a list/iterable for the vectorizer\n",
        "  #        We use the original 'vectorizer' trained on X_train\n",
        "  #\n",
        "  # fit_transform vs. transform\n",
        "  # The fit_transform() method tells the vectorizer to:\n",
        "  #\n",
        "  #    Fit       : Learn a new vocabulary from the input text\n",
        "  #                (which is just one tweet).\n",
        "  #    Transform : Convert that text based on the new, tiny vocabulary\n",
        "  #                (which in this case resulted in only 6 features).\n",
        "  #\n",
        "  # Since our bestModel (the Multinomial Naive Bayes model) was trained on a\n",
        "  # matrix with 10,000 features (your full training vocabulary), it rejects the\n",
        "  # new input with only 6 features\n",
        "  #\n",
        "  newInput = vectorizer.transform([cleanedTweet]) # Use transform(), NOT fit_transform()\n",
        "\n",
        "  #\n",
        "  # Predict using the best model\n",
        "  #\n",
        "  # Predict the vectorized sparse matrix\n",
        "  # (MultinomialNB/LR/SVC can handle sparse matrix)\n",
        "  # The [0] is necessary to extract the single prediction value from the\n",
        "  # resulting array.\n",
        "  #\n",
        "  if bestModelName == \"Gaussian Naive Bayes\":\n",
        "    newInputArray = newInput.toarray()\n",
        "    newPrediction = bestModel.predict(newInputArray)[0]\n",
        "  else:\n",
        "    newPrediction = bestModel.predict(newInput)[0]\n",
        "\n",
        "  #\n",
        "  # Display the result\n",
        "  #\n",
        "  predictedSentiment = \"TOXIC (1) 😠\" if newPrediction == 1 else \"Non-Toxic (0) 😊\"\n",
        "\n",
        "  print(\"\")\n",
        "  print(f\"   Original   : {tweet}\")\n",
        "  print(f\"   Cleaned    : {cleanedTweet}\")\n",
        "  print(f\"-> Prediction : {predictedSentiment}\")\n",
        "\n",
        "  print(\"=\" * 90)"
      ],
      "metadata": {
        "colab": {
          "base_uri": "https://localhost:8080/"
        },
        "id": "cwDb6tdCEyjG",
        "outputId": "c9262f62-7498-48bc-9f17-ed0d7c688996"
      },
      "execution_count": 133,
      "outputs": [
        {
          "output_type": "stream",
          "name": "stdout",
          "text": [
            "==========================================================================================\n",
            "                  PREDICTION ON NEW INPUT USING Multinomial Naive Bayes                   \n",
            "==========================================================================================\n",
            "\n",
            "   Original   : I had a truly fantastic day, everything went well!\n",
            "   Cleaned    : truly fantastic day everything went well\n",
            "-> Prediction : Non-Toxic (0) 😊\n",
            "==========================================================================================\n",
            "\n",
            "   Original   : You are a total idiot and should just shut up forever.\n",
            "   Cleaned    : total idiot shut forever\n",
            "-> Prediction : Non-Toxic (0) 😊\n",
            "==========================================================================================\n",
            "\n",
            "   Original   : This is a great assignment, I learned so much about NLP.\n",
            "   Cleaned    : great assignment learned much nlp\n",
            "-> Prediction : Non-Toxic (0) 😊\n",
            "==========================================================================================\n",
            "\n",
            "   Original   : Why don't you go away and never come back, you useless waste of space.\n",
            "   Cleaned    : go away never come back useless waste space\n",
            "-> Prediction : Non-Toxic (0) 😊\n",
            "==========================================================================================\n",
            "time: 5.65 ms (started: 2025-09-30 16:17:37 +00:00)\n"
          ]
        }
      ]
    },
    {
      "cell_type": "markdown",
      "source": [
        "**Observation: The Model is Biased**\n",
        "\n",
        "When the **Multinomial Naive Bayes** model is trained on a dataset where, for example:  \n",
        "- **92% = Non-Toxic (Label 0)**  \n",
        "- **8% = Toxic (Label 1)**  \n",
        "\n",
        "…it learns a simple (but flawed) rule:  \n",
        "\n",
        "> *“If I predict Non-Toxic (0) every single time, I’ll be right 92% of the time.”*  \n",
        "\n",
        "---\n",
        "\n",
        "**Why This Happens**\n",
        "- The model only cares about **maximizing overall Accuracy**.  \n",
        "- Because Accuracy is dominated by the majority class, the model can ignore the minority class (Toxic) and still look “good.”  \n",
        "- This is why **Accuracy is misleading** in imbalanced datasets.  \n",
        "\n",
        "Correct evaluation requires focusing on **F1-Score (Label 1)** instead of Accuracy.  \n",
        "\n",
        "---\n",
        "\n",
        "**The Problem in Numbers**\n",
        "- Accuracy may appear **high (≈0.92)**  \n",
        "- But the **F1-Score for Toxic class often drops below 0.5**  \n",
        "- This mismatch shows the model is not truly learning to identify Toxic tweets.  \n",
        "\n",
        "---\n",
        "\n",
        "**The Solution: Implement SMOTE**\n",
        "\n",
        "To fix this imbalance, we need to **force the model to learn Toxic class patterns** by balancing the training data.\n",
        "\n",
        "- **SMOTE (Synthetic Minority Over-sampling Technique):**  \n",
        "  - Creates **synthetic examples** of Toxic tweets.  \n",
        "  - Generates new data points based on existing minority class examples.  \n",
        "  - Balances the dataset so the model cannot ignore Toxic tweets.  \n",
        "\n",
        "With SMOTE, the model is trained on a more balanced dataset, improving its ability to identify the minority class.  "
      ],
      "metadata": {
        "id": "ndRqsGv_YeUi"
      }
    },
    {
      "cell_type": "markdown",
      "source": [
        "# **Conclusion**\n",
        "The analysis confirms the need to prioritize the F1-Score for the minority class (Toxic, Label 1) due to the severe data imbalance. The results show how well each model handles the trade-off between:\n",
        "- **Precision:** Avoiding false positives (labeling non-toxic tweets as toxic).\n",
        "- **Recall:** Avoiding false negatives (missing actual toxic tweets).\n",
        "\n",
        "The model with the highest F1-Score is the current best choice for this specific classification task."
      ],
      "metadata": {
        "id": "kZNrNeJpY1n1"
      }
    }
  ]
}