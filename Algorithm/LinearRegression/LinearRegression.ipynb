{
  "nbformat": 4,
  "nbformat_minor": 0,
  "metadata": {
    "colab": {
      "provenance": [],
      "toc_visible": true
    },
    "kernelspec": {
      "name": "python3",
      "display_name": "Python 3"
    },
    "language_info": {
      "name": "python"
    }
  },
  "cells": [
    {
      "cell_type": "markdown",
      "source": [
        "# **Linear Regression: Insurance Charges Prediction**\n",
        "\n",
        "---\n",
        "\n",
        "## **Assignment Overview**\n",
        "\n",
        "The primary objective of this project is to build a **Linear Regression model** to predict insurance costs (`charges`) based on various personal attributes of a beneficiary. This is a classic supervised machine learning problem where we will use a set of features (age, sex, BMI, etc.) to predict a continuous target variable (`charges`).\n",
        "\n",
        "The process will involve:\n",
        "1.  **Exploratory Data Analysis (EDA):** Understanding the distribution of our data and identifying relationships between variables.\n",
        "2.  **Data Preprocessing:** Handling categorical variables and preparing the data for the model.\n",
        "3.  **Model Training:** Splitting the data and training a Linear Regression model.\n",
        "4.  **Evaluation:** Assessing the model's performance to see how well it predicts insurance charges.\n",
        "\n",
        "---\n",
        "\n",
        "## **Column Specifications**\n",
        "\n",
        "Here is a detailed breakdown of the columns in the `insurance.csv` dataset:\n",
        "\n",
        "| Column Name | Description | Data Type |\n",
        "| :--- | :--- | :--- |\n",
        "| **age** | The age of the primary beneficiary. | Numerical |\n",
        "| **sex** | The gender of the beneficiary (`male`, `female`). | Categorical |\n",
        "| **bmi** | Body Mass Index, providing a measure of body fat. A higher BMI often indicates being overweight or obese. | Numerical |\n",
        "| **children** | The number of children covered by the health insurance. | Numerical |\n",
        "| **smoker** | Indicates whether the beneficiary is a smoker (`yes`, `no`). This is expected to be a strong predictor of costs. | Categorical |\n",
        "| **region** | The beneficiary's residential area in the US, divided into four geographical regions (`southwest`, `southeast`, `northwest`, `northeast`). | Categorical |\n",
        "| **charges** | The cost billed to the health insurance. This is our **target variable** to predict. | Numerical |\n",
        "\n",
        "---"
      ],
      "metadata": {
        "id": "Q7YuaoTK0uVS"
      }
    },
    {
      "cell_type": "markdown",
      "source": [
        "# **Initial Setup**"
      ],
      "metadata": {
        "id": "ovKFVNrGSWvR"
      }
    },
    {
      "cell_type": "code",
      "execution_count": null,
      "metadata": {
        "id": "JeMJNPeV0nIl"
      },
      "outputs": [],
      "source": [
        "#\n",
        "# Import Libraries\n",
        "#\n",
        "import pandas as pd\n",
        "import numpy as np\n",
        "import matplotlib.pyplot as plt\n",
        "import seaborn as sns\n",
        "\n",
        "from sklearn.model_selection import train_test_split\n",
        "from sklearn.preprocessing import LabelEncoder, StandardScaler\n",
        "from sklearn.linear_model import LinearRegression\n",
        "from sklearn.metrics import mean_squared_error, mean_absolute_error, root_mean_squared_error, r2_score\n",
        "\n",
        "from google.colab import files"
      ]
    },
    {
      "cell_type": "code",
      "source": [
        "#\n",
        "# Upload the data set 'insurance.csv'\n",
        "#\n",
        "uploadOutput = files.upload()"
      ],
      "metadata": {
        "id": "jUKWN_GaSJES"
      },
      "execution_count": null,
      "outputs": []
    },
    {
      "cell_type": "markdown",
      "source": [
        "# **Load Data**"
      ],
      "metadata": {
        "id": "F0PvRXUkSUnm"
      }
    },
    {
      "cell_type": "code",
      "source": [
        "df = pd.read_csv('insurance.csv')\n",
        "df.head()"
      ],
      "metadata": {
        "id": "8KG0tp5tSh_-"
      },
      "execution_count": null,
      "outputs": []
    },
    {
      "cell_type": "code",
      "source": [
        "print(f\"Shape = {df.shape}\")\n",
        "print(f\"Size  = {df.size}\")"
      ],
      "metadata": {
        "id": "C-_EcnQoS0yF"
      },
      "execution_count": null,
      "outputs": []
    },
    {
      "cell_type": "code",
      "source": [
        "df.info()"
      ],
      "metadata": {
        "id": "4U0ryxaYTJfh"
      },
      "execution_count": null,
      "outputs": []
    },
    {
      "cell_type": "markdown",
      "source": [
        "**No Missing Data**"
      ],
      "metadata": {
        "id": "_vTYGPflTPhz"
      }
    },
    {
      "cell_type": "markdown",
      "source": [
        "# **Statistical Details**"
      ],
      "metadata": {
        "id": "e1vSKMZoTU1g"
      }
    },
    {
      "cell_type": "code",
      "source": [
        "df.describe()"
      ],
      "metadata": {
        "id": "y-UOn1Y_TOdS"
      },
      "execution_count": null,
      "outputs": []
    },
    {
      "cell_type": "code",
      "source": [
        "df.describe(include = 'all')"
      ],
      "metadata": {
        "id": "0Yf3aGofTgPa"
      },
      "execution_count": null,
      "outputs": []
    },
    {
      "cell_type": "markdown",
      "source": [
        "# **Pre-Processing**"
      ],
      "metadata": {
        "id": "SHCF7tv2T4Ea"
      }
    },
    {
      "cell_type": "markdown",
      "source": [
        "## **Check Missing Values**"
      ],
      "metadata": {
        "id": "cFShS6SxT_9E"
      }
    },
    {
      "cell_type": "code",
      "source": [
        "#\n",
        "# Get only the columns that has missing values\n",
        "#\n",
        "df.columns[df.isnull().sum() > 0]"
      ],
      "metadata": {
        "id": "c3eYC-u9T64k"
      },
      "execution_count": null,
      "outputs": []
    },
    {
      "cell_type": "code",
      "source": [
        "#\n",
        "# Get only the columns that has missing values\n",
        "#\n",
        "df.isnull().sum()[df.isnull().sum() > 0].sort_values(ascending = False)"
      ],
      "metadata": {
        "id": "ZrKL6LOhUSQE"
      },
      "execution_count": null,
      "outputs": []
    },
    {
      "cell_type": "code",
      "source": [
        "#\n",
        "# Get the rows that has missing values\n",
        "#\n",
        "missing_value_rows = df[df.isnull().any(axis = 1)]\n",
        "print(missing_value_rows)"
      ],
      "metadata": {
        "id": "bm7RIpiEVJ30"
      },
      "execution_count": null,
      "outputs": []
    },
    {
      "cell_type": "markdown",
      "source": [
        "## **Check and Fix Duplicates**"
      ],
      "metadata": {
        "id": "E6HgECn7Uo6h"
      }
    },
    {
      "cell_type": "code",
      "source": [
        "#\n",
        "# Get Duplicate Count\n",
        "#\n",
        "df.duplicated().sum()"
      ],
      "metadata": {
        "id": "GyiScRLTUsPm"
      },
      "execution_count": null,
      "outputs": []
    },
    {
      "cell_type": "code",
      "source": [
        "#\n",
        "# Get Duplicate Row\n",
        "#\n",
        "duplicatedRows = df[df.duplicated()]\n",
        "print(duplicatedRows)"
      ],
      "metadata": {
        "id": "xoc25UQKU21s"
      },
      "execution_count": null,
      "outputs": []
    },
    {
      "cell_type": "code",
      "source": [
        "#\n",
        "# Copy the Data Frame before Deleting Duplicates\n",
        "#\n",
        "df_copy = df.copy()"
      ],
      "metadata": {
        "id": "4a_KC1wXU7uc"
      },
      "execution_count": null,
      "outputs": []
    },
    {
      "cell_type": "code",
      "source": [
        "#\n",
        "# Drop Duplicates\n",
        "#\n",
        "df = df.drop_duplicates()"
      ],
      "metadata": {
        "id": "_53FpgL0VBbU"
      },
      "execution_count": null,
      "outputs": []
    },
    {
      "cell_type": "code",
      "source": [
        "duplicatedRows = df[df.duplicated()]\n",
        "print(duplicatedRows)"
      ],
      "metadata": {
        "id": "sHcvola-VuoZ"
      },
      "execution_count": null,
      "outputs": []
    },
    {
      "cell_type": "code",
      "source": [
        "#\n",
        "# Find Colums that has negative values\n",
        "#\n",
        "numericalColumns = df.select_dtypes(include = np.number).columns\n",
        "\n",
        "for col in numericalColumns:\n",
        "  if df[col].min() < 0:\n",
        "    print(f\"Column '{col}' has negative values. Min value: {df[col].min()}\")\n",
        "\n",
        "print(\"Negative Values Checks Done\")# Set a clean visual style for all plots\n",
        "sns.set_style(\"whitegrid\")"
      ],
      "metadata": {
        "id": "60H_dFPSWnzR"
      },
      "execution_count": null,
      "outputs": []
    },
    {
      "cell_type": "markdown",
      "source": [
        "# **Data Visualisation - Part 1**"
      ],
      "metadata": {
        "id": "-AYwwocLdsPl"
      }
    },
    {
      "cell_type": "markdown",
      "source": [
        "## **Typical Workflow**\n",
        "<font size=\"+1\">**The Best Time to Encode Your Data**  <font>\n",
        "\n",
        "\n",
        "---\n",
        "\n",
        "\n",
        "The most effective approach in data analysis is to **visualize your data first, and then perform any necessary encoding**\n",
        "\n",
        "**Here’s the reason why this workflow is so effective**  \n",
        "\n",
        "* **Human-Readable Insights**  \n",
        "Visualizations are designed to help you, the analyst, understand the data. When you plot your data with categorical labels like `male`, `female`, `yes`, `no`, or `northeast`, the charts are intuitive. You can instantly see patterns, distributions, and potential relationships between different categories and your target variable. If you encode the data first, you would be looking at a chart of 0s and 1s or other numerical representations, which makes it much more difficult to interpret quickly and naturally.\n",
        "\n",
        "* **Crucial for Exploratory Data Analysis (EDA)**  \n",
        "The main goal of EDA is to explore and uncover relationships in your data. By visualizing the raw, un-encoded data, you can spot key insights and outliers that might be obscured by numerical encoding. For example, a bar chart of `region` vs. `charges` would immediately reveal if people in one region have significantly higher charges. This is a vital piece of information for feature engineering and for making informed decisions about your model, and it's something you might miss if you encode first.\n",
        "\n",
        "This is the typical, and most effective, data science workflow\n",
        "\n",
        "1) **Exploratory Data Analysis (EDA)**  \n",
        "Use the raw, human-readable data to visualize distributions and relationships.\n",
        "\n",
        "2) **Data Preprocessing**  \n",
        "Based on your insights from EDA, you then decide how to handle missing values, outliers, and finally, how to encode your categorical data.\n",
        "\n",
        "3) **Model Training**  \n",
        "Use the preprocessed and encoded data to train your machine learning model."
      ],
      "metadata": {
        "id": "IzwqA9nhbyB8"
      }
    },
    {
      "cell_type": "code",
      "source": [
        "#\n",
        "# Set a clean visual style for all plots\n",
        "#\n",
        "sns.set_style(\"whitegrid\")"
      ],
      "metadata": {
        "id": "PJfqOKlBeCn_"
      },
      "execution_count": null,
      "outputs": []
    },
    {
      "cell_type": "markdown",
      "source": [
        "## **Distribution of Charges**"
      ],
      "metadata": {
        "id": "6no_EAePfSjB"
      }
    },
    {
      "cell_type": "code",
      "source": [
        "#\n",
        "# We start by looking at the distribution of our target variable, 'charges'\n",
        "# A histogram reveals if the data is skewed, bimodal, or normally distributed\n",
        "#\n",
        "plt.figure(figsize = (10,6))\n",
        "\n",
        "sns.histplot(df['charges'], kde = True, bins = 30)\n",
        "\n",
        "plt.title('Distribution of Insurance Charges', fontsize = 18)\n",
        "plt.xlabel('Charges', fontsize = 12)\n",
        "plt.ylabel('Frequency', fontsize = 12)\n",
        "\n",
        "plt.show()"
      ],
      "metadata": {
        "id": "b9K10lIqfR-r"
      },
      "execution_count": null,
      "outputs": []
    },
    {
      "cell_type": "markdown",
      "source": [
        "## **Observation**\n",
        "\n",
        "**Right-Skewed Distribution**  \n",
        "The most prominent feature is that the data is heavily right-skewed. This means the vast majority of people have relatively low insurance charges, while a small number of people incur very high costs. The long tail on the right side of the graph represents these outliers with significant expenses.\n",
        "\n",
        "**Multimodal Nature**  \n",
        "The distribution appears to be multimodal, meaning it has more than one peak. While the first peak at a low charge amount is the highest, there are two other distinct, smaller peaks at higher values.\n",
        "\n",
        "The first major peak is in the **0 to 5,000 range.** This likely represents the general population with standard medical needs.\n",
        "\n",
        "The second peak is around the **10,000 to 20,000 range.**\n",
        "\n",
        "The third, and most interesting, peak is between **30,000 and 40,000.** This suggests there is a specific subgroup within the data that consistently faces much higher charges.\n",
        "\n",
        "This multimodal distribution strongly suggests that a single variable is causing a major split in the dataset, creating distinct charge groups. Given the nature of the data, this is very likely the `smoker` variable, where non-smokers form the lower-cost groups and smokers form the high-cost group. We'll see it the forth coming charts"
      ],
      "metadata": {
        "id": "wyzbNNWLjG6f"
      }
    },
    {
      "cell_type": "markdown",
      "source": [
        "## **Charges by Smoker Status**"
      ],
      "metadata": {
        "id": "jHpbO-RskMnZ"
      }
    },
    {
      "cell_type": "code",
      "source": [
        "#\n",
        "# Create the box plot\n",
        "# x       = 'smoker'  - Sets the x-axis to the bmi\n",
        "# y       = 'charges' - Sets the y-axis to the insurance charges\n",
        "# hue     = 'smoker'  - Creates a different color for each category\n",
        "# palette = 'viridis' - Gives a nice color scheme\n",
        "#\n",
        "plt.figure(figsize = (10, 6))\n",
        "\n",
        "sns.boxplot(\n",
        "             x       = 'smoker',\n",
        "             y       = 'charges',\n",
        "             data    = df,\n",
        "             hue     = 'smoker',\n",
        "             palette = 'viridis'\n",
        "           )\n",
        "\n",
        "plt.title('Insurance Charges by Smoker Status', fontsize = 18)\n",
        "plt.xlabel('Smoker', fontsize = 12)\n",
        "plt.ylabel('Charges', fontsize = 12)\n",
        "\n",
        "plt.show()"
      ],
      "metadata": {
        "id": "-qJwRSW4fR7u"
      },
      "execution_count": null,
      "outputs": []
    },
    {
      "cell_type": "markdown",
      "source": [
        "## **Observation**\n",
        "Based on the box plot, here are the key inferences regarding the relationship between insurance charges and smoker status.\n",
        "\n",
        "The plot confirms the initial hypothesis that **smoking is the single most significant factor in determining insurance charges.** The chart clearly shows two distinct groups with vastly different cost distributions.\n",
        "\n",
        "* **Smokers**  \n",
        "The box for smokers is much higher on the y-axis, indicating that the charges for this group are significantly greater. The **median charge for smokers appears to be over $35,000.** The lowest charges for smokers are still higher than the median for non-smokers, and the charges for smokers are also much more widely spread out. The long upper whisker shows that a number of smokers have exceptionally high insurance costs.\n",
        "* **Non-Smokers**  \n",
        "The box for non-smokers is narrow and located at the lower end of the y-axis. The median charge for this group is very low, likely around **7,000 to 9,000.** The entire distribution, including **most of the outliers**, is contained below the median for smokers.\n",
        "\n",
        "In conclusion, the two-part, multimodal distribution we observed in the initial histogram is primarily explained by the smoker variable. This highlights the immense financial impact of a single lifestyle choice on healthcare costs."
      ],
      "metadata": {
        "id": "YFxEb4_8m11T"
      }
    },
    {
      "cell_type": "markdown",
      "source": [
        "## **Charges vs BMI by Smoker Status**"
      ],
      "metadata": {
        "id": "2i3UVmQfoxeC"
      }
    },
    {
      "cell_type": "code",
      "source": [
        "#\n",
        "# Create the scatter plot\n",
        "# x       = 'bmi'     - Sets the x-axis to the bmi\n",
        "# y       = 'charges' - Sets the y-axis to the insurance charges\n",
        "# hue     = 'smoker'  - Creates a different color for each category\n",
        "# palette = 'viridis' - Gives a nice color scheme\n",
        "#\n",
        "plt.figure(figsize = (10, 6))\n",
        "\n",
        "sns.scatterplot(\n",
        "                 x       = 'bmi',\n",
        "                 y       = 'charges',\n",
        "                 data    = df,\n",
        "                 hue     = 'smoker',  # This is the key to our analysis, coloring points by smoker status\n",
        "                 style   = 'smoker',\n",
        "                 palette = 'viridis',\n",
        "                 s       = 100,       # Adjust point size for better visibility\n",
        "                 alpha   = 0.7        # Add transparency to see overlapping points\n",
        "               )\n",
        "\n",
        "plt.title('Insurance Charges vs. BMI, by Smoker Status', fontsize = 18)\n",
        "plt.xlabel('BMI', fontsize = 12)\n",
        "plt.ylabel('Charges', fontsize = 12)\n",
        "\n",
        "plt.show()"
      ],
      "metadata": {
        "id": "-LqWV9SofR45"
      },
      "execution_count": null,
      "outputs": []
    },
    {
      "cell_type": "markdown",
      "source": [
        "## **Observation**\n",
        "Based on the scatter plot, it appears that the relationship between BMI and insurance charges is heavily influenced by whether or not an individual is a smoker.\n",
        "\n",
        "Here's an analysis of the graph's key insights:\n",
        "\n",
        "* **Smokers (Blue Data Points)**  \n",
        "This group is responsible for the dramatic, higher-end insurance charges. The graph reveals a **strong positive correlation** between BMI and cost for smokers. As their BMI increases, their insurance charges escalate significantly, with many data points reaching over 30,000. This demonstrates that for smokers, both BMI and their smoking habit combine to drive up costs considerably.\n",
        "* **Non-Smokers (Green Data Points)**  \n",
        "In stark contrast, this group is clustered at the lower end of the cost spectrum. The green data points show consistently lower insurance charges, rarely exceeding 15,000. While there might be a slight upward trend in costs as BMI increases, the effect is minor compared to the impact of smoking.\n",
        "\n",
        "In summary, the graph illustrates a clear divide between the two groups. The non-smokers have relatively stable, low insurance costs, while the smokers face significantly higher and more volatile charges, especially as their BMI rises. The simple fact of being a smoker appears to be a major determinant of insurance cost."
      ],
      "metadata": {
        "id": "wcOfcsOSoyc9"
      }
    },
    {
      "cell_type": "markdown",
      "source": [
        "## **Charges vs Age by Smoker Status**"
      ],
      "metadata": {
        "id": "gIYTbzspvC0Z"
      }
    },
    {
      "cell_type": "code",
      "source": [
        "#\n",
        "# Create the scatter plot\n",
        "# x       = 'age'     - Sets the x-axis to the age\n",
        "# y       = 'charges' - Sets the y-axis to the insurance charges\n",
        "# hue     = 'smoker'  - Creates a different color for each category\n",
        "# palette = 'viridis' - Gives a nice color scheme\n",
        "#\n",
        "plt.figure(figsize = (10, 6))\n",
        "\n",
        "sns.scatterplot(\n",
        "                 x       = 'age',\n",
        "                 y       = 'charges',\n",
        "                 data    = df,\n",
        "                 hue     = 'smoker',  # This is the key to our analysis, coloring points by smoker status\n",
        "                 style   = 'smoker',\n",
        "                 palette = 'viridis',\n",
        "                 s       = 100,       # Adjust point size for better visibility\n",
        "                 alpha   = 0.7        # Add transparency to see overlapping points\n",
        "               )\n",
        "\n",
        "plt.title('Insurance Charges vs. Age, by Smoker Status', fontsize = 18)\n",
        "plt.xlabel('Age', fontsize = 12)\n",
        "plt.ylabel('Charges', fontsize = 12)\n",
        "\n",
        "plt.show()"
      ],
      "metadata": {
        "id": "OG0yG7szfR2F"
      },
      "execution_count": null,
      "outputs": []
    },
    {
      "cell_type": "markdown",
      "source": [
        "## **Observation**\n",
        "This scatter plot effectively illustrates how both age and smoking status influence insurance charges. The data forms two distinct bands, one for smokers and one for non-smokers, making the impact of smoking immediately clear.\n",
        "\n",
        "* **Non-smokers (Green Data Points)**\n",
        "Show a clear and **consistent positive correlation** between age and insurance charges. As a person gets older, their insurance costs tend to increase in a relatively smooth, predictable fashion. The charges for this group generally remain below 15,000, even for older individuals.\n",
        "\n",
        "* **Smokers (Blue Data Points)**\n",
        "Follow a similar **positive correlation** with age, but at a significantly higher level. The insurance charges for this group are substantially higher across all ages, with the costs rising steeply with each passing year. For older smokers, charges can reach over 40,000.\n",
        "\n",
        "In conclusion, the data demonstrates that both age and smoking contribute to higher insurance charges. However, smoking status appears to be the primary factor, as it shifts the entire cost curve upward, resulting in a much larger financial impact than age alone."
      ],
      "metadata": {
        "id": "JMtXMEeTvFJp"
      }
    },
    {
      "cell_type": "markdown",
      "source": [
        "## **PairPlot for Numerical Variables**"
      ],
      "metadata": {
        "id": "V3M2OebCw3_R"
      }
    },
    {
      "cell_type": "code",
      "source": [
        "#\n",
        "# A pairplot is an excellent tool for a quick, comprehensive overview of relationships\n",
        "# between all numerical variables. We'll use 'smoker' as a hue to see how this\n",
        "# categorical variable impacts the relationships.\n",
        "#\n",
        "numericalColumns = ['age', 'bmi', 'children', 'charges']\n",
        "\n",
        "plt.figure(figsize = (20, 20))\n",
        "\n",
        "sns.pairplot(data = df, vars = numericalColumns, hue = 'smoker', palette = 'viridis')\n",
        "\n",
        "plt.suptitle('Relationships Between Numerical Features and Charges', y = 1.02, fontsize = 18)\n",
        "\n",
        "plt.show()"
      ],
      "metadata": {
        "id": "EPsJ3CGlfRzG"
      },
      "execution_count": null,
      "outputs": []
    },
    {
      "cell_type": "markdown",
      "source": [
        "## **Observation**\n",
        "Looking at the plots where `charges` are on the y-axis, a clear division emerges between the two groups. The blue data points (Smokers) form a distinct cluster that is consistently positioned in the upper range of charges. In contrast, the green data points (Non-Smokers) occupy the lower half of the plot, showing significantly lower charges across the board.\n",
        "\n",
        "* The relationship between `charges` and `age` is particularly revealing. For both smokers and non-smokers, charges generally increase with age. However, the charges for smokers are so much higher that their data points exist in a completely different financial bracket from non-smokers of the same age.\n",
        "* Similarly, while a positive correlation exists between `charges` and `bmi`, it's the smoking status that causes the most dramatic difference. A non-smoker with a high BMI still pays far less in insurance premiums than a smoker with a low or average BMI.\n",
        "\n",
        "In essence, the pair plot confirms that while Age and BMI are contributing factors, a person's smoking status is the primary driver of their insurance charges. It creates a clear and unmissable financial divide in the dataset."
      ],
      "metadata": {
        "id": "fRf5Vj8ow44C"
      }
    },
    {
      "cell_type": "markdown",
      "source": [
        "## **Charges by Gender**"
      ],
      "metadata": {
        "id": "jZPumxXD4vZD"
      }
    },
    {
      "cell_type": "code",
      "source": [
        "#\n",
        "# Box plots are perfect for comparing the distribution of a continuous variable\n",
        "# across different categories.\n",
        "# This shows us the median, quartiles, and outliers\n",
        "#\n",
        "\n",
        "#\n",
        "# Box plot for charges by 'sex' status\n",
        "#\n",
        "plt.figure(figsize = (10, 6))\n",
        "\n",
        "sns.boxplot(\n",
        "             x       = 'sex',\n",
        "             y       = 'charges',\n",
        "             data    = df,\n",
        "             hue     = 'sex',\n",
        "             palette = 'viridis'\n",
        "           )\n",
        "\n",
        "plt.title('Insurance Charges by Gender', fontsize = 18)\n",
        "plt.xlabel('Sex', fontsize = 12)\n",
        "plt.ylabel('Charges', fontsize = 12)\n",
        "\n",
        "plt.show()"
      ],
      "metadata": {
        "id": "0mm9clbgw6ZJ"
      },
      "execution_count": null,
      "outputs": []
    },
    {
      "cell_type": "markdown",
      "source": [
        "## **Observation**\n",
        "Based on the box plot, the distribution of charges for both **males** and **females** appears to be remarkably similar.\n",
        "\n",
        "* **Median Charges**  \n",
        "The horizontal line inside each box, which represents the median charge, is at almost the exact same level for both sexes. This indicates that the typical charge for a male is nearly identical to the typical charge for a female.\n",
        "\n",
        "* **Spread of Data**  \n",
        "The boxes, which represent the middle 50% of the data, and the whiskers, which show the overall spread, are very similar in size and position but **interquartile range (the middle 50% of data)** is wider for males. This suggests while the lowest charges are similar, the middle range of charges shows greater variability for males than for females.\n",
        "\n",
        "* **Outliers**  \n",
        "Both box plots show a significant number of outliers, representing individuals with very high charges. The number and distribution of these outliers appear to be consistent between males and females.\n",
        "\n",
        "My inference is that, unlike smoking status, a person's gender does not seem to have a major influence on their insurance charges. While there may be small differences, the overall pattern and distribution of costs are essentially the same for both males and females in this dataset."
      ],
      "metadata": {
        "id": "jZS6jrYI488b"
      }
    },
    {
      "cell_type": "markdown",
      "source": [
        "## **Charges by Region**"
      ],
      "metadata": {
        "id": "b6DQm8G37wGm"
      }
    },
    {
      "cell_type": "code",
      "source": [
        "#\n",
        "# Box plot for charges by 'region'\n",
        "#\n",
        "plt.figure(figsize = (10, 6))\n",
        "\n",
        "# sns.boxplot(x='region', y='charges', y_order=df['region'].value_counts().index)\n",
        "sns.boxplot(\n",
        "             x       = 'region',\n",
        "             y       = 'charges',\n",
        "             data    = df,\n",
        "             hue     = 'region',\n",
        "             palette = 'viridis'\n",
        "           )\n",
        "\n",
        "plt.title('Insurance Charges by Region', fontsize = 18)\n",
        "plt.xlabel('Region', fontsize = 12)\n",
        "plt.ylabel('Charges', fontsize = 12)\n",
        "\n",
        "plt.show()"
      ],
      "metadata": {
        "id": "i87sDzBG7vWF"
      },
      "execution_count": null,
      "outputs": []
    },
    {
      "cell_type": "code",
      "source": [
        "#\n",
        "# Box plot for charges by 'region'\n",
        "#\n",
        "\n",
        "#\n",
        "# Sorts the X-Axis in the Descending Order of Median Values of the Region's Charges\n",
        "#\n",
        "regionOrder = df.groupby('region')['charges'].median().sort_values(ascending=False).index\n",
        "\n",
        "plt.figure(figsize=(10, 6))\n",
        "sns.boxplot(\n",
        "             x       = 'region',\n",
        "             y       = 'charges',\n",
        "             data    = df,\n",
        "             hue     = 'region',\n",
        "             palette = 'viridis',\n",
        "             order   = regionOrder\n",
        "           )\n",
        "\n",
        "plt.title('Insurance Charges by Region', fontsize = 18)\n",
        "plt.xlabel('Region', fontsize = 12)\n",
        "plt.ylabel('Charges', fontsize = 12)\n",
        "plt.xticks(rotation = 0) # Ensure region labels are not rotated for better readability\n",
        "\n",
        "plt.show()"
      ],
      "metadata": {
        "id": "MMY059zC-r9F"
      },
      "execution_count": null,
      "outputs": []
    },
    {
      "cell_type": "markdown",
      "source": [
        "## **Observation**\n",
        "The box plot, sorted by median charge, provides a clear visual hierarchy of insurance costs across the four regions\n",
        "\n",
        "* **The Northeast region has the highest median charge.** Its median line sits higher than all the others. The box for this region is also fairly wide, showing a broad range of charges for the middle 50% of the data.\n",
        "* **The Southeast region has the second-highest median charge.** While its median is slightly lower than the Northeast, it has a significant number of high-value outliers and an even wider box, suggesting a greater spread and more extreme cases.\n",
        "* **The Northwest region is in the middle.** Its median is lower than both the Northeast and Southeast but higher than the Southwest. The overall distribution is more condensed than the top two regions.\n",
        "* **The Southwest region has the lowest median charge.** This region has the most compact box and the lowest median, indicating that charges are generally less expensive and less variable here than in any of the other regions.\n",
        "\n",
        "The plot makes it clear that while all regions have a range of costs, there are significant regional differences in the typical cost of insurance."
      ],
      "metadata": {
        "id": "kI1RerZLCsBg"
      }
    },
    {
      "cell_type": "markdown",
      "source": [
        "# **Label Encoding**"
      ],
      "metadata": {
        "id": "LpjSnPEYYBR3"
      }
    },
    {
      "cell_type": "code",
      "source": [
        "df.columns"
      ],
      "metadata": {
        "id": "wfRHKVcwWotY"
      },
      "execution_count": null,
      "outputs": []
    },
    {
      "cell_type": "code",
      "source": [
        "df['sex'].value_counts()"
      ],
      "metadata": {
        "id": "8BTWkvTrYN2-"
      },
      "execution_count": null,
      "outputs": []
    },
    {
      "cell_type": "code",
      "source": [
        "df['smoker'].value_counts()"
      ],
      "metadata": {
        "id": "t9P-SJNhYTcP"
      },
      "execution_count": null,
      "outputs": []
    },
    {
      "cell_type": "code",
      "source": [
        "df['region'].value_counts()"
      ],
      "metadata": {
        "id": "wYECZCsSYWiT"
      },
      "execution_count": null,
      "outputs": []
    },
    {
      "cell_type": "markdown",
      "source": [
        "### **Encode Categorical Columns**"
      ],
      "metadata": {
        "id": "h_5HAQWOFpCE"
      }
    },
    {
      "cell_type": "code",
      "source": [
        "#\n",
        "# Take a copy of the dataframe before encoding.\n",
        "# Once encoding is done, querying the dataframe could confuse due to binary data\n",
        "#   Use the encoded dataframe for model building, and\n",
        "#   Use the non-encoded dataframe for our exploration\n",
        "#\n",
        "df_before_encode = df.copy()\n",
        "df_before_encode.head()"
      ],
      "metadata": {
        "id": "t8oAv24qFdrw"
      },
      "execution_count": null,
      "outputs": []
    },
    {
      "cell_type": "code",
      "source": [
        "#\n",
        "# Use .replace() to encode 'sex' and 'smoker' columns\n",
        "#\n",
        "# We normally use .map() but we have done that quite a few times before\n",
        "# so we'll try .replace() this time\n",
        "#\n",
        "\n",
        "#\n",
        "# Encode 'sex' column\n",
        "# male   = 0\n",
        "# female = 1\n",
        "#\n",
        "df['sex'] = df['sex'].replace({'male' : 0, 'female' : 1})\n",
        "\n",
        "#\n",
        "# Encode 'smoker' column\n",
        "# yes = 1\n",
        "# no  = 0\n",
        "#\n",
        "df['smoker'] = df['smoker'].replace({'yes' : 1, 'no' : 0})\n",
        "\n",
        "#\n",
        "# One-Hot Encoding\n",
        "# Use .get_dummies() to encode 'region' columns\n",
        "#\n",
        "# df = pd.get_dummies(df, columns = 'region')\n",
        "#\n",
        "# The 'drop_first = True' argument drops one of the generated columns\n",
        "# This is a common practice to avoid multicollinearity\n",
        "#\n",
        "df = pd.get_dummies(df, columns = ['region'], drop_first = True)\n",
        "df.head()\n",
        "\n",
        "#\n",
        "# While the values display as True and False, they are actually stored as the\n",
        "# numerical values 1 and 0 respectively.\n",
        "# This makes them perfectly suitable for machine learning models, which require\n",
        "# numerical input.\n",
        "# Pandas simply uses the more memory-efficient bool type to represent these\n",
        "# binary categories\n",
        "#"
      ],
      "metadata": {
        "id": "13XLi5XeF3AA"
      },
      "execution_count": null,
      "outputs": []
    },
    {
      "cell_type": "code",
      "source": [
        "'''\n",
        "#\n",
        "# ANOTHER METHOD - USING LABELENCODER\n",
        "#\n",
        "\n",
        "#\n",
        "# Initialize LabelEncoder\n",
        "#\n",
        "le = LabelEncoder()\n",
        "\n",
        "#\n",
        "# Perform label encoding on 'sex', 'smoker', and 'region'\n",
        "#\n",
        "df['sex'] = le.fit_transform(df['sex'])\n",
        "df['smoker'] = le.fit_transform(df['smoker'])\n",
        "df['region'] = le.fit_transform(df['region'])\n",
        "\n",
        "print(df_encoded.head())\n",
        "'''"
      ],
      "metadata": {
        "id": "U41BF9xhMNKi"
      },
      "execution_count": null,
      "outputs": []
    },
    {
      "cell_type": "code",
      "source": [
        "print(df[['sex', 'smoker', 'region_northwest', 'region_southeast', 'region_southwest']].dtypes)"
      ],
      "metadata": {
        "id": "JL8T-vlkPfPD"
      },
      "execution_count": null,
      "outputs": []
    },
    {
      "cell_type": "code",
      "source": [
        "#\n",
        "# Check for missing values again\n",
        "#\n",
        "df.isnull().sum().sort_values(ascending = False)"
      ],
      "metadata": {
        "id": "2bwZDqUgam9V"
      },
      "execution_count": null,
      "outputs": []
    },
    {
      "cell_type": "code",
      "source": [
        "#\n",
        "# Check for duplicate rows again\n",
        "#\n",
        "df.duplicated().sum()"
      ],
      "metadata": {
        "id": "YKXM5-WOavP4"
      },
      "execution_count": null,
      "outputs": []
    },
    {
      "cell_type": "markdown",
      "source": [
        "# **Data Visualisation - Part 2**"
      ],
      "metadata": {
        "id": "15muwjiVb2eD"
      }
    },
    {
      "cell_type": "markdown",
      "source": [
        "## **Correlation Heat Map**"
      ],
      "metadata": {
        "id": "yV2bxxBPb9ZQ"
      }
    },
    {
      "cell_type": "code",
      "source": [
        "#\n",
        "# Correlation Heat Map\n",
        "#\n",
        "\n",
        "#\n",
        "# Compute correlation matrix\n",
        "#\n",
        "correlationMatrix = df.corr()\n",
        "\n",
        "plt.figure(figsize = (10, 10))\n",
        "\n",
        "sns.heatmap(\n",
        "             correlationMatrix,\n",
        "             annot      = True,\n",
        "             fmt        = '.2f',\n",
        "             linewidths = 0.5,\n",
        "             cmap       = 'coolwarm',\n",
        "             cbar_kws   = {'label' : 'Correlation Coefficient'}\n",
        "           )\n",
        "\n",
        "plt.title('Correlation Heatmap of Insurance Data')\n",
        "\n",
        "plt.show()\n",
        "\n",
        "#\n",
        "# Print the correlations with the 'charges' column\n",
        "#\n",
        "print(\"\")\n",
        "print(\"Correlation with 'charges' column\")\n",
        "print(\"=================================\")\n",
        "print(correlationMatrix['charges'].sort_values(ascending=False))"
      ],
      "metadata": {
        "id": "_c6KJ1iycDc-"
      },
      "execution_count": null,
      "outputs": []
    },
    {
      "cell_type": "markdown",
      "source": [
        "## **Observation**\n",
        "The heatmap provides a clear and intuitive view of the relationships between the features and the charges we are trying to predict.\n",
        "\n",
        "**Here's what stands out**\n",
        "\n",
        "* **The Strongest Predictor**  \n",
        "The most significant observation is the very strong positive correlation between `smoker` and `charges`. With a **correlation coefficient of 0.79**, this is by far the most influential feature. This makes perfect sense, as insurance costs for smokers are typically much higher.\n",
        "* **Other Key Predictors**  \n",
        "The next strongest correlations are with **age (0.30) and bmi (0.20)**. These are both positive relationships, meaning as a person's age or BMI increases, their insurance charges tend to increase as well. These three variables — `smoker`, `age`, and `bmi` — are the core features that will form the basis of our predictive model.\n",
        "* **Weak or Negligible Relationships**  \n",
        "All other variables show a very weak or almost non-existent correlation with charges. The coefficients for children, sex_male, and all the region dummy variables are close to zero. While we will still include these in our model to capture any subtle effects, we don't expect them to have a significant impact on the final predictions.\n",
        "\n",
        "In summary, the heatmap confirms our intuition that being a smoker, being older, and having a higher BMI are the most critical factors when predicting insurance charges."
      ],
      "metadata": {
        "id": "BWn-lycCl7IK"
      }
    },
    {
      "cell_type": "markdown",
      "source": [
        "# **Train / Test Split**"
      ],
      "metadata": {
        "id": "1K15WO8ymw_C"
      }
    },
    {
      "cell_type": "code",
      "source": [
        "df.columns"
      ],
      "metadata": {
        "id": "m-16FgV2v23q"
      },
      "execution_count": null,
      "outputs": []
    },
    {
      "cell_type": "code",
      "source": [
        "#\n",
        "# Input / Independent Variable\n",
        "#\n",
        "X = df[['smoker', 'age', 'bmi']]\n",
        "X.head()"
      ],
      "metadata": {
        "id": "xBOVDmuCvymk"
      },
      "execution_count": null,
      "outputs": []
    },
    {
      "cell_type": "code",
      "source": [
        "#\n",
        "# Output / Dependent Variable\n",
        "#\n",
        "y = df[['charges']]\n",
        "y.head()"
      ],
      "metadata": {
        "id": "QHqUnN-twTHK"
      },
      "execution_count": null,
      "outputs": []
    },
    {
      "cell_type": "code",
      "source": [
        "#\n",
        "# Train Test Split\n",
        "#   Test Size  = 0.2 (20%), which makes\n",
        "#   Train Size = 0.8 (80%)\n",
        "#\n",
        "#   Random State, we pass 1 but industry standard is 42\n",
        "#\n",
        "# Using the standard naming convention\n",
        "#\n",
        "X_train, X_test, y_train, y_test = train_test_split(X, y, test_size = 0.2, random_state = 42)\n",
        "\n",
        "print(f\"Shape of X_train : {X_train.shape}\")\n",
        "print(f\"Shape of X_test  : {X_test.shape} \")\n",
        "print(f\"Shape of y_train : {y_train.shape}\")\n",
        "print(f\"Shape of y_test  : {y_test.shape} \")"
      ],
      "metadata": {
        "id": "MzmSWyPNwYEq"
      },
      "execution_count": null,
      "outputs": []
    },
    {
      "cell_type": "code",
      "source": [
        "X_train.head()"
      ],
      "metadata": {
        "id": "IdtX96sqw_f7"
      },
      "execution_count": null,
      "outputs": []
    },
    {
      "cell_type": "code",
      "source": [
        "y_train.head()"
      ],
      "metadata": {
        "id": "vOEoaLfkx8rK"
      },
      "execution_count": null,
      "outputs": []
    },
    {
      "cell_type": "code",
      "source": [
        "X_test.head()"
      ],
      "metadata": {
        "id": "59aV8tTwyAvO"
      },
      "execution_count": null,
      "outputs": []
    },
    {
      "cell_type": "code",
      "source": [
        "y_test.head()"
      ],
      "metadata": {
        "id": "-JGIp5XeyDnr"
      },
      "execution_count": null,
      "outputs": []
    },
    {
      "cell_type": "markdown",
      "source": [
        "# **Standardisation**"
      ],
      "metadata": {
        "id": "-49V4A-YyXdq"
      }
    },
    {
      "cell_type": "markdown",
      "source": [
        "We generally overwrite `X_train` and `X_test` when do the standarisation but for this assignment, we'll stick with the more robust approach of creating new variables to keep our process clear and easy to follow.\n",
        "\n",
        "Creating a new variable like `X_train_scaled` is generally considered a best practice for a couple of reasons\n",
        "\n",
        "* **Readability**  \n",
        "It makes your code more self-documenting. Anyone reading your script, including your future self, can see at a glance that `X_train_scaled` contains the data after a scaling operation has been applied. In contrast, simply overwriting `X_train` forces the reader to track the code line-by-line to know what state the data is in.\n",
        "\n",
        "* **Safety and Debugging**  \n",
        "By keeping the original `X_train`, you have a backup of the unscaled data. If you need to go back and check the original feature distributions, or if a later part of your code needs the unscaled data for some reason, you haven't permanently lost it.\n",
        "\n",
        "\n",
        "\n",
        "---\n",
        "\n",
        "\n",
        "<font size=\"+1\">**We do NOT scale the target variable (y) in linear regression, as we want to predict the original charges values**<font>\n",
        "\n",
        "The reason we don't scale the dependent variable is because of the fundamental goal of our model: we want to predict the output in its original, real-world units.\n",
        "\n",
        "**The Purpose of Scaling**  \n",
        "When we scale the independent variables (X), our primary goal is to standardize their influence on the model. This is especially important for algorithms like linear regression that use an optimization process to find the best-fitting line. Scaling ensures that all features contribute equally to the cost function, preventing a feature with a large scale from dominating the training process.\n",
        "\n",
        "\n",
        "---\n",
        "\n",
        "\n",
        "**Why the Dependent Variable is Different**  \n",
        "The dependent variable (`y`), however, represents the actual value we are trying to predict. If we scaled `y`, our model would output a scaled value, which would be completely uninterpretable. For example, a **prediction of 0.5** would have no direct meaning. To make it meaningful, we would have to \"un-scale\" the prediction back to its original units.\n",
        "\n",
        "Keeping the dependent variable in its original units simplifies the entire process. The model's predictions are directly comparable to the real-world values, and the model's coefficients are immediately interpretable. For instance, the coefficient for a feature like `age` tells us exactly how much the predicted `charges` change for each year of `age`, assuming all other factors are constant."
      ],
      "metadata": {
        "id": "g0_K0Gml0dsy"
      }
    },
    {
      "cell_type": "code",
      "source": [
        "#\n",
        "# Initialize the StandardScaler\n",
        "# It will learn the mean and standard deviation from the training data\n",
        "#\n",
        "sc = StandardScaler()\n",
        "\n",
        "#\n",
        "# Fit the scaler on the training data and transform both training and testing data\n",
        "# We only fit on X_train to prevent data leakage from the test set\n",
        "#\n",
        "X_train_scaled = sc.fit_transform(X_train)\n",
        "X_test_scaled  = sc.transform(X_test)\n",
        "\n",
        "#\n",
        "# The above command raises the following Warning. To workaround that use .values\n",
        "# (see below)\n",
        "# /usr/local/lib/python3.12/dist-packages/sklearn/utils/validation.py:2732: UserWarning: X has feature names, but StandardScaler was fitted without feature names\n",
        "#  warnings.warn(\n",
        "#\n",
        "#\n",
        "# X_train_scaled = sc.fit_transform(X_train.values)\n",
        "# X_test_scaled  = sc.transform(X_test.values)\n",
        "#"
      ],
      "metadata": {
        "id": "J9OlNWMrybXn"
      },
      "execution_count": null,
      "outputs": []
    },
    {
      "cell_type": "code",
      "source": [
        "#\n",
        "# Print a summary of the scaled data to see the effect\n",
        "#\n",
        "pd.options.display.float_format = '{:.2f}'.format\n",
        "\n",
        "print(\"Original X_train values\")\n",
        "print(X_train.describe())\n",
        "\n",
        "print(\"\")\n",
        "\n",
        "#\n",
        "# Cannot directly do Pandas describe() or head() as the X_train_scaled\n",
        "# is an NumPy array.\n",
        "#\n",
        "# Change it to a dataframe\n",
        "#\n",
        "print(\"Scaled X_train values (note the mean is 0 (or close to it) and std 1 (or close to it))\")\n",
        "print(pd.DataFrame(X_train_scaled, columns = X_train.columns).describe())\n",
        "\n",
        "#\n",
        "# Same for X_test\n",
        "#\n",
        "print(\"\")\n",
        "\n",
        "print(\"Original X_test values\")\n",
        "print(X_test.describe())\n",
        "\n",
        "print(\"\")\n",
        "\n",
        "print(\"Scaled X_test values (note the mean is 0 (or close to it) and std 1 (or close to it))\")\n",
        "print(pd.DataFrame(X_test_scaled, columns = X_test.columns).describe())"
      ],
      "metadata": {
        "id": "tRVcXAtV1JSV"
      },
      "execution_count": null,
      "outputs": []
    },
    {
      "cell_type": "code",
      "source": [
        "sns.boxplot(X)"
      ],
      "metadata": {
        "id": "2KyKsmBr-kj8"
      },
      "execution_count": null,
      "outputs": []
    },
    {
      "cell_type": "code",
      "source": [
        "sns.boxplot(X_train_scaled)"
      ],
      "metadata": {
        "id": "f6EBBFAo-qR_"
      },
      "execution_count": null,
      "outputs": []
    },
    {
      "cell_type": "code",
      "source": [
        "sns.boxplot(X_test_scaled)"
      ],
      "metadata": {
        "id": "oqQRC79u-12D"
      },
      "execution_count": null,
      "outputs": []
    },
    {
      "cell_type": "markdown",
      "source": [
        "# **Model Building**\n",
        "**Use Linear Model (Multiple Linear Regression)**"
      ],
      "metadata": {
        "id": "axWrrdX4_kdx"
      }
    },
    {
      "cell_type": "code",
      "source": [
        "#\n",
        "# Initialize the Linear Regression model\n",
        "#\n",
        "lrModel = LinearRegression()\n",
        "\n",
        "#\n",
        "# Fit the model to the scaled training data\n",
        "#\n",
        "lrModel.fit(X_train_scaled, y_train)\n",
        "\n",
        "#\n",
        "# Make Predictions\n",
        "#\n",
        "y_predicted = lrModel.predict(X_test_scaled)\n",
        "# y_predicted"
      ],
      "metadata": {
        "id": "tmDaZhMN_npC"
      },
      "execution_count": null,
      "outputs": []
    },
    {
      "cell_type": "code",
      "source": [
        "#\n",
        "# Check residual errors\n",
        "#\n",
        "residualErrors = y_predicted - y_test\n",
        "print(residualErrors)\n",
        "print('Type of residual errors =', type(residualErrors))"
      ],
      "metadata": {
        "id": "hi0IZytWCPy8"
      },
      "execution_count": null,
      "outputs": []
    },
    {
      "cell_type": "markdown",
      "source": [
        "# **Model Evaluation**"
      ],
      "metadata": {
        "id": "Il5TeLIKCwB7"
      }
    },
    {
      "cell_type": "markdown",
      "source": [
        "## **Evaluation Metrics**"
      ],
      "metadata": {
        "id": "xZ1sTQMBDBNY"
      }
    },
    {
      "cell_type": "code",
      "source": [
        "mean_squared_error(y_test, y_predicted)"
      ],
      "metadata": {
        "id": "mXxhrAMiDGEC"
      },
      "execution_count": null,
      "outputs": []
    },
    {
      "cell_type": "code",
      "source": [
        "mean_absolute_error(y_test, y_predicted)"
      ],
      "metadata": {
        "id": "o_b3oQSpDR74"
      },
      "execution_count": null,
      "outputs": []
    },
    {
      "cell_type": "code",
      "source": [
        "root_mean_squared_error(y_test, y_predicted)"
      ],
      "metadata": {
        "id": "TM1TD3cUDdSv"
      },
      "execution_count": null,
      "outputs": []
    },
    {
      "cell_type": "code",
      "source": [
        "r2_score(y_test, y_predicted)"
      ],
      "metadata": {
        "id": "5R0aFqrFDkQj"
      },
      "execution_count": null,
      "outputs": []
    },
    {
      "cell_type": "markdown",
      "source": [
        "## **Observation**\n",
        "**Our model accuracy is 80.05%**"
      ],
      "metadata": {
        "id": "c0HVkxKDIO-t"
      }
    },
    {
      "cell_type": "markdown",
      "source": [
        "## **Plot Residual Errors**"
      ],
      "metadata": {
        "id": "guJggIegIcAZ"
      }
    },
    {
      "cell_type": "code",
      "source": [
        "#\n",
        "# Use Scatter Plot from plt\n",
        "#\n",
        "plt.figure(figsize = (10, 6))\n",
        "\n",
        "plt.scatter(x = y_predicted, y = residualErrors)\n",
        "\n",
        "plt.axhline(y=0, color='r', linestyle='--') # Add a horizontal line at y = 0 for reference\n",
        "plt.title('Predicted vs. Residual Errors', fontsize = 18)\n",
        "plt.xlabel('Predicated Insurance Charges', fontsize = 12)\n",
        "plt.ylabel('Residiual Errors', fontsize = 12)\n",
        "\n",
        "plt.show()"
      ],
      "metadata": {
        "id": "kape3El3InHm"
      },
      "execution_count": null,
      "outputs": []
    },
    {
      "cell_type": "markdown",
      "source": [
        "## **Observations**\n",
        "**The Model is Performing Well for Lower Charges**  \n",
        "The cluster of data points on the left side of the graph, corresponding to lower predicted charges, is tightly grouped around the red dashed line (the zero error line). This indicates that for most of your predictions, especially for individuals with lower insurance costs, your model's errors are small and close to zero. The predictions are quite accurate in this range.\n",
        "\n",
        "**A Clear Pattern of Errors Exists**  \n",
        "The graph is not a random scatter. You can clearly see distinct clusters of errors above and below the zero line. This suggests that the linear regression model isn't capturing everything.\n",
        "* **Positive Errors**  \n",
        "The cluster of points far above the zero line (e.g., predicted charges between $25,000 and $40,000) indicates that for some high-cost individuals, the model is consistently underestimating their charges. The model is predicting a lower charge than what the actual value is, leading to a large positive error.\n",
        "* **Negative Errors**  \n",
        "Similarly, the cluster of points below the zero line shows that for other individuals, the model is consistently overestimating their charges.\n",
        "\n",
        "**The Underlying Cause**  \n",
        "The most likely explanation for these distinct clusters of errors could be **Outliers**. We have seen outliers in our visualisations and we haven't handled it. **This can be a significant cause of large residual errors and a key reason why your model might not be performing as well as it could.**"
      ],
      "metadata": {
        "id": "WdEVmOJHNntD"
      }
    },
    {
      "cell_type": "markdown",
      "source": [
        "# **Predict New Inputs**"
      ],
      "metadata": {
        "id": "ibNtYuDBPlWy"
      }
    },
    {
      "cell_type": "code",
      "source": [
        "X.loc[900]"
      ],
      "metadata": {
        "id": "zWDmVCjPPfHl"
      },
      "execution_count": null,
      "outputs": []
    },
    {
      "cell_type": "code",
      "source": [
        "y.loc[900]"
      ],
      "metadata": {
        "id": "MAU4Fp3CPjYc"
      },
      "execution_count": null,
      "outputs": []
    },
    {
      "cell_type": "code",
      "source": [
        "#\n",
        "# X Input - smoker, age, bmi\n",
        "#\n",
        "newData = np.array([[0.00, 49.00, 22.52]])\n",
        "\n",
        "#\n",
        "# Standardize/Scale - As we did it while training the model\n",
        "#\n",
        "newDataScaled = sc.transform(newData)\n",
        "\n",
        "#\n",
        "# Predict the Insurance Charges for the new data\n",
        "# For the input\n",
        "#   smoker   0.00\n",
        "#   age     49.00\n",
        "#   bmi     22.52\n",
        "#\n",
        "# Expect the predicted value\n",
        "#   charges 8688.86\n",
        "#\n",
        "newDataPredicted = lrModel.predict(newDataScaled)\n",
        "print(\"Prediction for New Input:\", newDataPredicted)\n",
        "print(f\"Prediction for New Input: {newDataPredicted[0][0]:.2f}\")\n",
        "#\n",
        "# The predicted value 8435.20 does not match with expected 8688.86\n",
        "# Need to improve the model\n",
        "#"
      ],
      "metadata": {
        "id": "OqThLQ4eQT4e"
      },
      "execution_count": null,
      "outputs": []
    }
  ]
}